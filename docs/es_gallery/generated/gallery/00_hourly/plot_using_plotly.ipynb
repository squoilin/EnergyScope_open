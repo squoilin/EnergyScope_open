{
  "cells": [
    {
      "cell_type": "code",
      "execution_count": null,
      "metadata": {
        "collapsed": false
      },
      "outputs": [],
      "source": [
        "%matplotlib inline"
      ]
    },
    {
      "cell_type": "markdown",
      "metadata": {},
      "source": [
        "\nPlotly example\n===================================\n\nThis is an example using plotly.\n"
      ]
    },
    {
      "cell_type": "code",
      "execution_count": null,
      "metadata": {
        "collapsed": false
      },
      "outputs": [],
      "source": [
        "import plotly.express as px\nimport numpy as np\n# mkdocs_gallery_thumbnail_path = '_static/newplot.png'\n# The comment above is to set the thumbnail picture from a previously saved figure.\n# This is required for plotly figures.\n\n\n\ndf = px.data.gapminder().query(\"year == 2007\")\n\n# Create a sunburst chart using Plotly\nfig = px.sunburst(df, path=['continent', 'country'], values='pop',\n                         color='lifeExp', hover_data=['iso_alpha'],\n                         color_continuous_scale='RdBu',\n                         color_continuous_midpoint=np.average(df['lifeExp'], weights=df['pop']))\n\n#fig.update_layout(title_text='Life expectancy of countries and continents')\nfig.show(renderer=\"notebook\")"
      ]
    }
  ],
  "metadata": {
    "kernelspec": {
      "display_name": "Python 3",
      "language": "python",
      "name": "python3"
    },
    "language_info": {
      "codemirror_mode": {
        "name": "ipython",
        "version": 3
      },
      "file_extension": ".py",
      "mimetype": "text/x-python",
      "name": "python",
      "nbconvert_exporter": "python",
      "pygments_lexer": "ipython3",
      "version": "3.12.7"
    }
  },
  "nbformat": 4,
  "nbformat_minor": 0
}