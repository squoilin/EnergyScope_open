{
  "cells": [
    {
      "cell_type": "code",
      "execution_count": null,
      "metadata": {
        "collapsed": false
      },
      "outputs": [],
      "source": [
        "%matplotlib inline"
      ]
    },
    {
      "cell_type": "markdown",
      "metadata": {},
      "source": [
        "\nInstalled  Capacity\n===================================\n\nThis is a general example.\n"
      ]
    },
    {
      "cell_type": "code",
      "execution_count": null,
      "metadata": {
        "collapsed": false
      },
      "outputs": [],
      "source": [
        "import matplotlib.pyplot as plt\nfrom energyscope.energyscope import Energyscope\nfrom energyscope.models import infrastructure_ch_2050, Model\nfrom energyscope.result import postprocessing"
      ]
    },
    {
      "cell_type": "code",
      "execution_count": null,
      "metadata": {
        "collapsed": false
      },
      "outputs": [],
      "source": [
        "thresh = 1e-1\nfigsize = (10, 6)"
      ]
    },
    {
      "cell_type": "markdown",
      "metadata": {},
      "source": [
        "Create a model and calculate the results\n\n"
      ]
    },
    {
      "cell_type": "code",
      "execution_count": null,
      "metadata": {
        "collapsed": false
      },
      "outputs": [],
      "source": [
        "es_infra_ch = Energyscope(model=infrastructure_ch_2050)\nresults_ch = es_infra_ch.calc()\nresults_ch = postprocessing(results_ch)"
      ]
    },
    {
      "cell_type": "code",
      "execution_count": null,
      "metadata": {
        "collapsed": false
      },
      "outputs": [],
      "source": [
        "plt.figure(figsize=figsize)\nF_Mult = results_ch.variables[\"F_Mult\"]\nF_mult = F_Mult[F_Mult.values[:,0]>thresh] # filter out values smaller than threshold\nF_mult = F_mult.sort_values(by=F_Mult.columns[0], ascending=False) # sort by installed capacity\n\nplt.bar(x=range(len(F_mult)),height=F_mult.values[:,0])\n#plt.yscale('log')\nplt.xticks(range(len(F_mult)), F_mult.index, rotation=90)\n\nplt.ylabel('Installed capacity for Technologies [GW]\\n and Storages [GWh]')\nplt.xlim(-1, len(F_mult))\nplt.ylim(0,20)\nplt.show()"
      ]
    }
  ],
  "metadata": {
    "kernelspec": {
      "display_name": "Python 3",
      "language": "python",
      "name": "python3"
    },
    "language_info": {
      "codemirror_mode": {
        "name": "ipython",
        "version": 3
      },
      "file_extension": ".py",
      "mimetype": "text/x-python",
      "name": "python",
      "nbconvert_exporter": "python",
      "pygments_lexer": "ipython3",
      "version": "3.12.7"
    }
  },
  "nbformat": 4,
  "nbformat_minor": 0
}