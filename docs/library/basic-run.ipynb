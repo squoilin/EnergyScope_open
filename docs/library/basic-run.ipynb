{
 "cells": [
  {
   "cell_type": "markdown",
   "metadata": {},
   "source": [
    "# Basic run"
   ]
  },
  {
   "cell_type": "markdown",
   "metadata": {},
   "source": [
    "First, we import the essential libraries and modules that will be used throughout this tutorial:\n",
    "\n",
    "- `pickle`: Used for saving and loading Python objects to and from files.\n",
    "- `Energyscope` from `energyscope.energyscope`: The main class for initializing and running the EnergyScope model.\n",
    "- `infrastructure_ch_2050`, `Model` from `energyscope.models`: The specific model configuration we will use, which focuses on energy infrastructure. And the object Model to create your own model from external files.\n",
    "- `postprocessing` from `energyscope.result`: Functions for processing and analyzing the results after optimization.\n",
    "- `plot_sankey` from `energyscope.plots`: A function to generate Sankey diagrams for visualizing energy flows."
   ]
  },
  {
   "cell_type": "code",
   "execution_count": 1,
   "metadata": {
    "tags": [
     "hide_code"
    ]
   },
   "outputs": [
    {
     "data": {
      "text/html": [
       "\n",
       "<div style=\"text-align: center;\">\n",
       "<button onclick=\"openMultipleLinks()\" \n",
       "        style='padding: 10px 20px; background-color: #4CAF50; color: white; \n",
       "               border: none; border-radius: 4px; cursor: pointer;'>\n",
       "  Download AMPL files\n",
       "</button>\n",
       "\n",
       "<script>\n",
       "  function openMultipleLinks() {\n",
       "    // List of URLs you want to open\n",
       "    var urls = [\n",
       "      'https://gitlab.com/energyscope/energyscope/-/raw/19-documentation-add-tuto-direct-download-link-for-ipynb-and-ampl-files/src/energyscope/data/models/infrastructure/switzerland/ses_main.mod?inline=false',\n",
       "      'https://gitlab.com/energyscope/energyscope/-/raw/19-documentation-add-tuto-direct-download-link-for-ipynb-and-ampl-files/src/energyscope/data/datasets/infrastructure/switzerland/2050/data.dat?inline=false',\n",
       "      'https://gitlab.com/energyscope/energyscope/-/raw/19-documentation-add-tuto-direct-download-link-for-ipynb-and-ampl-files/src/energyscope/data/datasets/infrastructure/switzerland/2050/techs.dat?inline=false'\n",
       "    ];\n",
       "    \n",
       "    // Open each URL with a 300ms delay between them\n",
       "    for (var i = 0; i < urls.length; i++) {\n",
       "      setTimeout(function(url) {\n",
       "        window.open(url, '_blank');\n",
       "      }, i * 300, urls[i]);\n",
       "    }\n",
       "  }\n",
       "</script>\n"
      ],
      "text/plain": [
       "<IPython.core.display.HTML object>"
      ]
     },
     "execution_count": 1,
     "metadata": {},
     "output_type": "execute_result"
    }
   ],
   "source": [
    "# This cell serves only to display a button that allows the user to download the AMPL files used in this tutorial. You can discard it if you run the .ipynb file locally.\n",
    "\n",
    "from IPython.display import HTML\n",
    "\n",
    "button_html = \"\"\"\n",
    "<div style=\"text-align: center;\">\n",
    "<button onclick=\"openMultipleLinks()\" \n",
    "        style='padding: 10px 20px; background-color: #4CAF50; color: white; \n",
    "               border: none; border-radius: 4px; cursor: pointer;'>\n",
    "  Download AMPL files\n",
    "</button>\n",
    "\n",
    "<script>\n",
    "  function openMultipleLinks() {\n",
    "    // List of URLs you want to open\n",
    "    var urls = [\n",
    "      'https://gitlab.com/energyscope/energyscope/-/raw/19-documentation-add-tuto-direct-download-link-for-ipynb-and-ampl-files/src/energyscope/data/models/infrastructure/switzerland/ses_main.mod?inline=false',\n",
    "      'https://gitlab.com/energyscope/energyscope/-/raw/19-documentation-add-tuto-direct-download-link-for-ipynb-and-ampl-files/src/energyscope/data/datasets/infrastructure/switzerland/2050/data.dat?inline=false',\n",
    "      'https://gitlab.com/energyscope/energyscope/-/raw/19-documentation-add-tuto-direct-download-link-for-ipynb-and-ampl-files/src/energyscope/data/datasets/infrastructure/switzerland/2050/techs.dat?inline=false'\n",
    "    ];\n",
    "    \n",
    "    // Open each URL with a 300ms delay between them\n",
    "    for (var i = 0; i < urls.length; i++) {\n",
    "      setTimeout(function(url) {\n",
    "        window.open(url, '_blank');\n",
    "      }, i * 300, urls[i]);\n",
    "    }\n",
    "  }\n",
    "</script>\n",
    "\"\"\"\n",
    "\n",
    "HTML(button_html)\n"
   ]
  },
  {
   "cell_type": "code",
   "execution_count": 2,
   "metadata": {
    "ExecuteTime": {
     "end_time": "2025-03-17T14:51:17.569162Z",
     "start_time": "2025-03-17T14:51:17.350512Z"
    }
   },
   "outputs": [],
   "source": [
    "import pickle\n",
    "from energyscope.energyscope import Energyscope\n",
    "from energyscope.models import infrastructure_ch_2050, Model\n",
    "from energyscope.result import postprocessing\n",
    "from energyscope.plots import plot_sankey"
   ]
  },
  {
   "cell_type": "markdown",
   "metadata": {},
   "source": [
    "---\n",
    "## Initialize and Run the Model\n",
    "\n",
    "In this section, we initialize the EnergyScope model using the infrastructure dataset and perform a single optimization run.\n",
    "\n",
    "### Initialize the Model\n",
    "\n",
    "Create an instance of the `Energyscope` class with the `infrastructure` model. This sets up the model with predefined parameters and datasets."
   ]
  },
  {
   "cell_type": "code",
   "execution_count": 3,
   "metadata": {
    "ExecuteTime": {
     "end_time": "2025-03-17T14:51:17.571675Z",
     "start_time": "2025-03-17T14:51:17.569991Z"
    }
   },
   "outputs": [],
   "source": [
    "es_infra_ch = Energyscope(model=infrastructure_ch_2050)"
   ]
  },
  {
   "cell_type": "markdown",
   "metadata": {},
   "source": [
    "### Export Model to AMPL and GLPK\n",
    "\n",
    "For compatibility and further analysis, we export the model files in both AMPL and GLPK formats."
   ]
  },
  {
   "cell_type": "code",
   "execution_count": 4,
   "metadata": {
    "ExecuteTime": {
     "end_time": "2025-03-17T14:51:18.385735Z",
     "start_time": "2025-03-17T14:51:17.572310Z"
    }
   },
   "outputs": [],
   "source": [
    "# Export model to AMPL\n",
    "es_infra_ch.export_ampl(mod_filename='tutorial_output/AMPL_infrastructure_ch_2050.mod',dat_filename='tutorial_output/AMPL_infrastructure_ch_2050.dat')\n",
    "\n",
    "# Export model to GLPK\n",
    "es_infra_ch.export_glpk(mod_filename='tutorial_output/GLPK_infrastructure_ch_2050.mod',dat_filename='tutorial_output/GLPK_infrastructure_ch_2050.dat')"
   ]
  },
  {
   "cell_type": "markdown",
   "metadata": {},
   "source": [
    "### Load External AMPL files\n",
    "\n",
    "To load external files from AMPL you need to create a new Model as follow."
   ]
  },
  {
   "cell_type": "code",
   "execution_count": 5,
   "metadata": {
    "ExecuteTime": {
     "end_time": "2025-03-17T14:51:18.389413Z",
     "start_time": "2025-03-17T14:51:18.386760Z"
    }
   },
   "outputs": [],
   "source": [
    "# Create you own Model object from imported AMPL files\n",
    "Model_es_infra_ch = Model([\n",
    "    ('mod', \"tutorial_output/AMPL_infrastructure_ch_2050.mod\"),\n",
    "    ('dat', \"tutorial_output/AMPL_infrastructure_ch_2050.dat\")\n",
    "])\n",
    "\n",
    "# Create an instance of the Energyscope class with your own model.\n",
    "es_infra_ch = Energyscope(model=Model_es_infra_ch)"
   ]
  },
  {
   "cell_type": "markdown",
   "metadata": {},
   "source": [
    "### Solve the Model\n",
    "Perform the optimization calculation. This step runs the solver and computes the optimal configuration based on the model."
   ]
  },
  {
   "cell_type": "code",
   "execution_count": 6,
   "metadata": {
    "ExecuteTime": {
     "end_time": "2025-03-17T14:51:19.366227Z",
     "start_time": "2025-03-17T14:51:18.390355Z"
    }
   },
   "outputs": [
    {
     "name": "stdout",
     "output_type": "stream",
     "text": [
      "Gurobi 11.0.0:Gurobi 11.0.0: optimal solution; objective 9229.741872\n",
      "5670 simplex iteration(s)\n",
      "1 branching node(s)\n"
     ]
    }
   ],
   "source": [
    "results_ch = es_infra_ch.calc()"
   ]
  },
  {
   "cell_type": "markdown",
   "metadata": {},
   "source": [
    "\n",
    "### Post-Process Results\n",
    "After obtaining the raw results, we apply post-processing to compute Key Performance Indicators (KPIs) and prepare the data for visualization."
   ]
  },
  {
   "cell_type": "code",
   "execution_count": 7,
   "metadata": {
    "ExecuteTime": {
     "end_time": "2025-03-17T14:51:19.391788Z",
     "start_time": "2025-03-17T14:51:19.366970Z"
    }
   },
   "outputs": [
    {
     "data": {
      "application/vnd.microsoft.datawrangler.viewer.v0+json": {
       "columns": [
        {
         "name": "Run",
         "rawType": "int64",
         "type": "integer"
        },
        {
         "name": "C_inv",
         "rawType": "float64",
         "type": "float"
        },
        {
         "name": "C_maint",
         "rawType": "float64",
         "type": "float"
        },
        {
         "name": "Annual_Prod",
         "rawType": "float64",
         "type": "float"
        },
        {
         "name": "F_Mult",
         "rawType": "float64",
         "type": "float"
        },
        {
         "name": "tau",
         "rawType": "float64",
         "type": "float"
        },
        {
         "name": "C_op",
         "rawType": "float64",
         "type": "float"
        },
        {
         "name": "C_inv_an",
         "rawType": "float64",
         "type": "float"
        },
        {
         "name": "Annual_Use",
         "rawType": "float64",
         "type": "float"
        },
        {
         "name": "Category",
         "rawType": "object",
         "type": "string"
        },
        {
         "name": "Category_2",
         "rawType": "object",
         "type": "string"
        },
        {
         "name": "Sector",
         "rawType": "object",
         "type": "string"
        }
       ],
       "conversionMethod": "pd.DataFrame",
       "ref": "2bf10f62-9878-4d47-97b9-60fc9c4de991",
       "rows": [
        [
         "0",
         "29312.4",
         "458.0",
         "40299.36",
         "20.0",
         "0.062432931537380894",
         "0.0",
         "1830.0590623963237",
         "40299.36",
         "ELECTRICITY_MV",
         "Wind",
         "Electricity"
        ]
       ],
       "shape": {
        "columns": 11,
        "rows": 1
       }
      },
      "text/html": [
       "<div>\n",
       "<style scoped>\n",
       "    .dataframe tbody tr th:only-of-type {\n",
       "        vertical-align: middle;\n",
       "    }\n",
       "\n",
       "    .dataframe tbody tr th {\n",
       "        vertical-align: top;\n",
       "    }\n",
       "\n",
       "    .dataframe thead th {\n",
       "        text-align: right;\n",
       "    }\n",
       "</style>\n",
       "<table border=\"1\" class=\"dataframe\">\n",
       "  <thead>\n",
       "    <tr style=\"text-align: right;\">\n",
       "      <th></th>\n",
       "      <th>C_inv</th>\n",
       "      <th>C_maint</th>\n",
       "      <th>Annual_Prod</th>\n",
       "      <th>F_Mult</th>\n",
       "      <th>tau</th>\n",
       "      <th>C_op</th>\n",
       "      <th>C_inv_an</th>\n",
       "      <th>Annual_Use</th>\n",
       "      <th>Category</th>\n",
       "      <th>Category_2</th>\n",
       "      <th>Sector</th>\n",
       "    </tr>\n",
       "    <tr>\n",
       "      <th>Run</th>\n",
       "      <th></th>\n",
       "      <th></th>\n",
       "      <th></th>\n",
       "      <th></th>\n",
       "      <th></th>\n",
       "      <th></th>\n",
       "      <th></th>\n",
       "      <th></th>\n",
       "      <th></th>\n",
       "      <th></th>\n",
       "      <th></th>\n",
       "    </tr>\n",
       "  </thead>\n",
       "  <tbody>\n",
       "    <tr>\n",
       "      <th>0</th>\n",
       "      <td>29312.4</td>\n",
       "      <td>458.0</td>\n",
       "      <td>40299.36</td>\n",
       "      <td>20.0</td>\n",
       "      <td>0.062433</td>\n",
       "      <td>0.0</td>\n",
       "      <td>1830.059062</td>\n",
       "      <td>40299.36</td>\n",
       "      <td>ELECTRICITY_MV</td>\n",
       "      <td>Wind</td>\n",
       "      <td>Electricity</td>\n",
       "    </tr>\n",
       "  </tbody>\n",
       "</table>\n",
       "</div>"
      ],
      "text/plain": [
       "       C_inv  C_maint  Annual_Prod  F_Mult       tau  C_op     C_inv_an  \\\n",
       "Run                                                                       \n",
       "0    29312.4    458.0     40299.36    20.0  0.062433   0.0  1830.059062   \n",
       "\n",
       "     Annual_Use        Category Category_2       Sector  \n",
       "Run                                                      \n",
       "0      40299.36  ELECTRICITY_MV       Wind  Electricity  "
      ]
     },
     "execution_count": 7,
     "metadata": {},
     "output_type": "execute_result"
    }
   ],
   "source": [
    "results_ch = postprocessing(results_ch)\n",
    "\n",
    "# Example of how to extract post-processed data\n",
    "results_ch.postprocessing['df_annual'].loc['WIND',:]"
   ]
  },
  {
   "cell_type": "markdown",
   "metadata": {},
   "source": [
    "---\n",
    "\n",
    "## Visualize Results with a Sankey Diagram\n",
    "\n",
    "A Sankey diagram is an effective way to visualize energy flows within the system.\n",
    "\n",
    "### Generate the Sankey Diagram\n",
    "Use the `plot_sankey` function with the processed results to create the diagram.\n",
    "\n"
   ]
  },
  {
   "cell_type": "code",
   "execution_count": 8,
   "metadata": {
    "ExecuteTime": {
     "end_time": "2025-03-17T14:51:19.605759Z",
     "start_time": "2025-03-17T14:51:19.392483Z"
    }
   },
   "outputs": [],
   "source": [
    "fig = plot_sankey(results_ch)"
   ]
  },
  {
   "cell_type": "markdown",
   "metadata": {},
   "source": [
    "### Display the Diagram\n",
    "Render the Sankey diagram within the notebook for immediate visualization.\n",
    "   > **Optional**: You can save the diagram as an HTML file or an image for external use by uncommenting the following lines:"
   ]
  },
  {
   "cell_type": "code",
   "execution_count": 9,
   "metadata": {
    "ExecuteTime": {
     "end_time": "2025-03-17T14:51:19.608048Z",
     "start_time": "2025-03-17T14:51:19.606569Z"
    }
   },
   "outputs": [],
   "source": [
    "# fig.write_html(\"tutorial_output/sankey_infrastructure_ch_2050.html\")\n",
    "# fig.write_image('tutorial_output/sankey_infrastructure_ch_2050.png')"
   ]
  },
  {
   "cell_type": "code",
   "execution_count": 10,
   "metadata": {
    "ExecuteTime": {
     "end_time": "2025-03-17T14:51:19.735478Z",
     "start_time": "2025-03-17T14:51:19.608780Z"
    }
   },
   "outputs": [
    {
     "data": {
      "application/vnd.plotly.v1+json": {
       "config": {
        "plotlyServerURL": "https://plot.ly"
       },
       "data": [
        {
         "link": {
          "color": [
           "rgba(181, 31, 31, 0.50)",
           "rgba(181, 31, 31, 0.50)",
           "rgba(181, 31, 31, 0.50)",
           "rgba(181, 31, 31, 0.50)",
           "rgba(255, 225, 0, 0.50)",
           "rgba(181, 31, 31, 0.50)",
           "rgba(181, 31, 31, 0.50)",
           "rgba(181, 31, 31, 0.50)",
           "rgba(255, 225, 0, 0.50)",
           "rgba(179, 123, 68, 0.50)",
           "rgba(205, 133, 63, 0.50)",
           "rgba(181, 31, 31, 0.50)",
           "rgba(181, 31, 31, 0.50)",
           "rgba(181, 31, 31, 0.50)",
           "rgba(0, 0, 0, 0.50)",
           "rgba(0, 0, 0, 0.50)",
           "rgba(0, 206, 209, 0.50)",
           "rgba(0, 0, 0, 0.50)",
           "rgba(0, 206, 209, 0.50)",
           "rgba(0, 0, 255, 0.50)",
           "rgba(250, 128, 114, 0.50)",
           "rgba(250, 128, 114, 0.50)",
           "rgba(250, 128, 114, 0.50)",
           "rgba(0, 206, 209, 0.50)",
           "rgba(205, 133, 63, 0.50)",
           "rgba(0, 0, 0, 0.50)",
           "rgba(0, 0, 0, 0.50)",
           "rgba(0, 0, 0, 0.50)",
           "rgba(0, 0, 0, 0.50)",
           "rgba(0, 0, 0, 0.50)",
           "rgba(0, 0, 0, 0.50)",
           "rgba(0, 191, 255, 0.50)",
           "rgba(0, 191, 255, 0.50)",
           "rgba(0, 191, 255, 0.50)",
           "rgba(0, 191, 255, 0.50)",
           "rgba(0, 191, 255, 0.50)",
           "rgba(0, 191, 255, 0.50)",
           "rgba(0, 191, 255, 0.50)",
           "rgba(0, 191, 255, 0.50)",
           "rgba(0, 191, 255, 0.50)",
           "rgba(0, 191, 255, 0.50)",
           "rgba(0, 191, 255, 0.50)",
           "rgba(0, 191, 255, 0.50)",
           "rgba(0, 191, 255, 0.50)",
           "rgba(0, 191, 255, 0.50)",
           "rgba(0, 191, 255, 0.50)",
           "rgba(0, 191, 255, 0.50)",
           "rgba(0, 191, 255, 0.50)",
           "rgba(0, 191, 255, 0.50)",
           "rgba(0, 191, 255, 0.50)",
           "rgba(0, 191, 255, 0.50)",
           "rgba(0, 191, 255, 0.50)",
           "rgba(255, 215, 0, 0.50)",
           "rgba(255, 225, 0, 0.50)",
           "rgba(255, 215, 0, 0.50)"
          ],
          "label": [
           38548.4876,
           9158.674288141325,
           15322.76039284468,
           0.0003812453430695218,
           5024.321782692681,
           611.4599609536992,
           388.5569377686556,
           388.5569377686556,
           5284.745762711864,
           12472,
           6789.868457130788,
           1626.5826976814967,
           3120.0532806126425,
           11519.190998520835,
           9158.674288141325,
           902.88,
           16580.16,
           3606.3732,
           16122.6096,
           40299.36,
           1983.6175998225851,
           6933.382400177415,
           8917,
           12471.999999999996,
           6789.868457130889,
           4239.54083,
           520.5841569600001,
           1919.9472004999993,
           1463.2592000000006,
           1994.8719693,
           612.1907999999995,
           5390.615791281444,
           11519.190998520835,
           12848.21091708,
           3830.69009821117,
           0.00015547667971371854,
           16580.16,
           211.38983050847457,
           16122.6096,
           1386.5516779042584,
           902.88,
           3606.3732,
           2204.7645835502535,
           40299.36,
           8895.76,
           25871.84,
           7403.6,
           4239.54083,
           520.5841569600001,
           1919.9472004999993,
           3458.1311693000007,
           612.1907999999995,
           10309.067545404547,
           10309.067545404545,
           10309.067545404545
          ],
          "source": [
           16,
           7,
           16,
           29,
           13,
           13,
           14,
           17,
           19,
           21,
           22,
           0,
           4,
           8,
           30,
           31,
           31,
           31,
           31,
           32,
           37,
           37,
           38,
           39,
           41,
           1,
           3,
           5,
           35,
           35,
           36,
           2,
           9,
           9,
           9,
           9,
           18,
           19,
           20,
           4,
           25,
           26,
           28,
           40,
           9,
           9,
           9,
           9,
           9,
           9,
           9,
           9,
           27,
           33,
           34
          ],
          "target": [
           15,
           15,
           15,
           15,
           33,
           14,
           17,
           15,
           33,
           39,
           41,
           14,
           14,
           14,
           7,
           25,
           18,
           26,
           20,
           40,
           0,
           4,
           37,
           19,
           13,
           24,
           24,
           24,
           23,
           24,
           23,
           9,
           8,
           16,
           16,
           6,
           9,
           9,
           9,
           9,
           9,
           9,
           9,
           9,
           10,
           11,
           12,
           1,
           3,
           5,
           35,
           36,
           2,
           34,
           27
          ],
          "value": [
           38548.4876,
           9158.674288141325,
           15322.76039284468,
           0.0003812453430695218,
           5024.321782692681,
           611.4599609536992,
           388.5569377686556,
           388.5569377686556,
           5284.745762711864,
           12472,
           6789.868457130788,
           1626.5826976814967,
           3120.0532806126425,
           11519.190998520835,
           9158.674288141325,
           902.88,
           16580.16,
           3606.3732,
           16122.6096,
           40299.36,
           1983.6175998225851,
           6933.382400177415,
           8917,
           12471.999999999996,
           6789.868457130889,
           4239.54083,
           520.5841569600001,
           1919.9472004999993,
           1463.2592000000006,
           1994.8719693,
           612.1907999999995,
           5390.615791281444,
           11519.190998520835,
           12848.21091708,
           3830.69009821117,
           0.00015547667971371854,
           16580.16,
           211.38983050847457,
           16122.6096,
           1386.5516779042584,
           902.88,
           3606.3732,
           2204.7645835502535,
           40299.36,
           8895.76,
           25871.84,
           7403.6,
           4239.54083,
           520.5841569600001,
           1919.9472004999993,
           3458.1311693000007,
           612.1907999999995,
           10309.067545404547,
           10309.067545404545,
           10309.067545404545
          ]
         },
         "node": {
          "color": "#DCDCDC",
          "label": [
           "BOILER",
           "CAR",
           "CCGT_CC",
           "COACH",
           "COGEN",
           "COMMUTER",
           "DEEP_SALINE",
           "DHN_DEEP_GEO",
           "DIRECT_ELEC",
           "ELECTRICITY",
           "EUD_ELECTRICITY_HV",
           "EUD_ELECTRICITY_LV",
           "EUD_ELECTRICITY_MV",
           "GASIFICATION_SNG",
           "HEAT_HIGH_T",
           "HEAT_LOW_T",
           "HP",
           "HT_LT",
           "HYDRO_DAM",
           "HYDRO_GAS",
           "HYDRO_RIVER",
           "IMP_WET_BIOMASS",
           "IMP_WOOD",
           "MOBILITY",
           "MOBILITY_PASSENGER",
           "NEW_HYDRO_DAM",
           "NEW_HYDRO_RIVER",
           "NG",
           "PV",
           "RENOVATION",
           "RES_GEO",
           "RES_HYDRO",
           "RES_WIND",
           "SNG",
           "SNG_NG",
           "TRAIN",
           "TRUCK",
           "WASTE",
           "WASTE_BIO",
           "WET_BIOMASS",
           "WIND",
           "WOOD"
          ],
          "line": {
           "color": "black",
           "width": 0.5
          },
          "pad": 15,
          "thickness": 15
         },
         "type": "sankey",
         "valueformat": ".0f",
         "valuesuffix": ""
        }
       ],
       "layout": {
        "font": {
         "color": "black",
         "size": 10
        },
        "template": {
         "data": {
          "bar": [
           {
            "error_x": {
             "color": "#2a3f5f"
            },
            "error_y": {
             "color": "#2a3f5f"
            },
            "marker": {
             "line": {
              "color": "#E5ECF6",
              "width": 0.5
             },
             "pattern": {
              "fillmode": "overlay",
              "size": 10,
              "solidity": 0.2
             }
            },
            "type": "bar"
           }
          ],
          "barpolar": [
           {
            "marker": {
             "line": {
              "color": "#E5ECF6",
              "width": 0.5
             },
             "pattern": {
              "fillmode": "overlay",
              "size": 10,
              "solidity": 0.2
             }
            },
            "type": "barpolar"
           }
          ],
          "carpet": [
           {
            "aaxis": {
             "endlinecolor": "#2a3f5f",
             "gridcolor": "white",
             "linecolor": "white",
             "minorgridcolor": "white",
             "startlinecolor": "#2a3f5f"
            },
            "baxis": {
             "endlinecolor": "#2a3f5f",
             "gridcolor": "white",
             "linecolor": "white",
             "minorgridcolor": "white",
             "startlinecolor": "#2a3f5f"
            },
            "type": "carpet"
           }
          ],
          "choropleth": [
           {
            "colorbar": {
             "outlinewidth": 0,
             "ticks": ""
            },
            "type": "choropleth"
           }
          ],
          "contour": [
           {
            "colorbar": {
             "outlinewidth": 0,
             "ticks": ""
            },
            "colorscale": [
             [
              0,
              "#0d0887"
             ],
             [
              0.1111111111111111,
              "#46039f"
             ],
             [
              0.2222222222222222,
              "#7201a8"
             ],
             [
              0.3333333333333333,
              "#9c179e"
             ],
             [
              0.4444444444444444,
              "#bd3786"
             ],
             [
              0.5555555555555556,
              "#d8576b"
             ],
             [
              0.6666666666666666,
              "#ed7953"
             ],
             [
              0.7777777777777778,
              "#fb9f3a"
             ],
             [
              0.8888888888888888,
              "#fdca26"
             ],
             [
              1,
              "#f0f921"
             ]
            ],
            "type": "contour"
           }
          ],
          "contourcarpet": [
           {
            "colorbar": {
             "outlinewidth": 0,
             "ticks": ""
            },
            "type": "contourcarpet"
           }
          ],
          "heatmap": [
           {
            "colorbar": {
             "outlinewidth": 0,
             "ticks": ""
            },
            "colorscale": [
             [
              0,
              "#0d0887"
             ],
             [
              0.1111111111111111,
              "#46039f"
             ],
             [
              0.2222222222222222,
              "#7201a8"
             ],
             [
              0.3333333333333333,
              "#9c179e"
             ],
             [
              0.4444444444444444,
              "#bd3786"
             ],
             [
              0.5555555555555556,
              "#d8576b"
             ],
             [
              0.6666666666666666,
              "#ed7953"
             ],
             [
              0.7777777777777778,
              "#fb9f3a"
             ],
             [
              0.8888888888888888,
              "#fdca26"
             ],
             [
              1,
              "#f0f921"
             ]
            ],
            "type": "heatmap"
           }
          ],
          "heatmapgl": [
           {
            "colorbar": {
             "outlinewidth": 0,
             "ticks": ""
            },
            "colorscale": [
             [
              0,
              "#0d0887"
             ],
             [
              0.1111111111111111,
              "#46039f"
             ],
             [
              0.2222222222222222,
              "#7201a8"
             ],
             [
              0.3333333333333333,
              "#9c179e"
             ],
             [
              0.4444444444444444,
              "#bd3786"
             ],
             [
              0.5555555555555556,
              "#d8576b"
             ],
             [
              0.6666666666666666,
              "#ed7953"
             ],
             [
              0.7777777777777778,
              "#fb9f3a"
             ],
             [
              0.8888888888888888,
              "#fdca26"
             ],
             [
              1,
              "#f0f921"
             ]
            ],
            "type": "heatmapgl"
           }
          ],
          "histogram": [
           {
            "marker": {
             "pattern": {
              "fillmode": "overlay",
              "size": 10,
              "solidity": 0.2
             }
            },
            "type": "histogram"
           }
          ],
          "histogram2d": [
           {
            "colorbar": {
             "outlinewidth": 0,
             "ticks": ""
            },
            "colorscale": [
             [
              0,
              "#0d0887"
             ],
             [
              0.1111111111111111,
              "#46039f"
             ],
             [
              0.2222222222222222,
              "#7201a8"
             ],
             [
              0.3333333333333333,
              "#9c179e"
             ],
             [
              0.4444444444444444,
              "#bd3786"
             ],
             [
              0.5555555555555556,
              "#d8576b"
             ],
             [
              0.6666666666666666,
              "#ed7953"
             ],
             [
              0.7777777777777778,
              "#fb9f3a"
             ],
             [
              0.8888888888888888,
              "#fdca26"
             ],
             [
              1,
              "#f0f921"
             ]
            ],
            "type": "histogram2d"
           }
          ],
          "histogram2dcontour": [
           {
            "colorbar": {
             "outlinewidth": 0,
             "ticks": ""
            },
            "colorscale": [
             [
              0,
              "#0d0887"
             ],
             [
              0.1111111111111111,
              "#46039f"
             ],
             [
              0.2222222222222222,
              "#7201a8"
             ],
             [
              0.3333333333333333,
              "#9c179e"
             ],
             [
              0.4444444444444444,
              "#bd3786"
             ],
             [
              0.5555555555555556,
              "#d8576b"
             ],
             [
              0.6666666666666666,
              "#ed7953"
             ],
             [
              0.7777777777777778,
              "#fb9f3a"
             ],
             [
              0.8888888888888888,
              "#fdca26"
             ],
             [
              1,
              "#f0f921"
             ]
            ],
            "type": "histogram2dcontour"
           }
          ],
          "mesh3d": [
           {
            "colorbar": {
             "outlinewidth": 0,
             "ticks": ""
            },
            "type": "mesh3d"
           }
          ],
          "parcoords": [
           {
            "line": {
             "colorbar": {
              "outlinewidth": 0,
              "ticks": ""
             }
            },
            "type": "parcoords"
           }
          ],
          "pie": [
           {
            "automargin": true,
            "type": "pie"
           }
          ],
          "scatter": [
           {
            "fillpattern": {
             "fillmode": "overlay",
             "size": 10,
             "solidity": 0.2
            },
            "type": "scatter"
           }
          ],
          "scatter3d": [
           {
            "line": {
             "colorbar": {
              "outlinewidth": 0,
              "ticks": ""
             }
            },
            "marker": {
             "colorbar": {
              "outlinewidth": 0,
              "ticks": ""
             }
            },
            "type": "scatter3d"
           }
          ],
          "scattercarpet": [
           {
            "marker": {
             "colorbar": {
              "outlinewidth": 0,
              "ticks": ""
             }
            },
            "type": "scattercarpet"
           }
          ],
          "scattergeo": [
           {
            "marker": {
             "colorbar": {
              "outlinewidth": 0,
              "ticks": ""
             }
            },
            "type": "scattergeo"
           }
          ],
          "scattergl": [
           {
            "marker": {
             "colorbar": {
              "outlinewidth": 0,
              "ticks": ""
             }
            },
            "type": "scattergl"
           }
          ],
          "scattermapbox": [
           {
            "marker": {
             "colorbar": {
              "outlinewidth": 0,
              "ticks": ""
             }
            },
            "type": "scattermapbox"
           }
          ],
          "scatterpolar": [
           {
            "marker": {
             "colorbar": {
              "outlinewidth": 0,
              "ticks": ""
             }
            },
            "type": "scatterpolar"
           }
          ],
          "scatterpolargl": [
           {
            "marker": {
             "colorbar": {
              "outlinewidth": 0,
              "ticks": ""
             }
            },
            "type": "scatterpolargl"
           }
          ],
          "scatterternary": [
           {
            "marker": {
             "colorbar": {
              "outlinewidth": 0,
              "ticks": ""
             }
            },
            "type": "scatterternary"
           }
          ],
          "surface": [
           {
            "colorbar": {
             "outlinewidth": 0,
             "ticks": ""
            },
            "colorscale": [
             [
              0,
              "#0d0887"
             ],
             [
              0.1111111111111111,
              "#46039f"
             ],
             [
              0.2222222222222222,
              "#7201a8"
             ],
             [
              0.3333333333333333,
              "#9c179e"
             ],
             [
              0.4444444444444444,
              "#bd3786"
             ],
             [
              0.5555555555555556,
              "#d8576b"
             ],
             [
              0.6666666666666666,
              "#ed7953"
             ],
             [
              0.7777777777777778,
              "#fb9f3a"
             ],
             [
              0.8888888888888888,
              "#fdca26"
             ],
             [
              1,
              "#f0f921"
             ]
            ],
            "type": "surface"
           }
          ],
          "table": [
           {
            "cells": {
             "fill": {
              "color": "#EBF0F8"
             },
             "line": {
              "color": "white"
             }
            },
            "header": {
             "fill": {
              "color": "#C8D4E3"
             },
             "line": {
              "color": "white"
             }
            },
            "type": "table"
           }
          ]
         },
         "layout": {
          "annotationdefaults": {
           "arrowcolor": "#2a3f5f",
           "arrowhead": 0,
           "arrowwidth": 1
          },
          "autotypenumbers": "strict",
          "coloraxis": {
           "colorbar": {
            "outlinewidth": 0,
            "ticks": ""
           }
          },
          "colorscale": {
           "diverging": [
            [
             0,
             "#8e0152"
            ],
            [
             0.1,
             "#c51b7d"
            ],
            [
             0.2,
             "#de77ae"
            ],
            [
             0.3,
             "#f1b6da"
            ],
            [
             0.4,
             "#fde0ef"
            ],
            [
             0.5,
             "#f7f7f7"
            ],
            [
             0.6,
             "#e6f5d0"
            ],
            [
             0.7,
             "#b8e186"
            ],
            [
             0.8,
             "#7fbc41"
            ],
            [
             0.9,
             "#4d9221"
            ],
            [
             1,
             "#276419"
            ]
           ],
           "sequential": [
            [
             0,
             "#0d0887"
            ],
            [
             0.1111111111111111,
             "#46039f"
            ],
            [
             0.2222222222222222,
             "#7201a8"
            ],
            [
             0.3333333333333333,
             "#9c179e"
            ],
            [
             0.4444444444444444,
             "#bd3786"
            ],
            [
             0.5555555555555556,
             "#d8576b"
            ],
            [
             0.6666666666666666,
             "#ed7953"
            ],
            [
             0.7777777777777778,
             "#fb9f3a"
            ],
            [
             0.8888888888888888,
             "#fdca26"
            ],
            [
             1,
             "#f0f921"
            ]
           ],
           "sequentialminus": [
            [
             0,
             "#0d0887"
            ],
            [
             0.1111111111111111,
             "#46039f"
            ],
            [
             0.2222222222222222,
             "#7201a8"
            ],
            [
             0.3333333333333333,
             "#9c179e"
            ],
            [
             0.4444444444444444,
             "#bd3786"
            ],
            [
             0.5555555555555556,
             "#d8576b"
            ],
            [
             0.6666666666666666,
             "#ed7953"
            ],
            [
             0.7777777777777778,
             "#fb9f3a"
            ],
            [
             0.8888888888888888,
             "#fdca26"
            ],
            [
             1,
             "#f0f921"
            ]
           ]
          },
          "colorway": [
           "#636efa",
           "#EF553B",
           "#00cc96",
           "#ab63fa",
           "#FFA15A",
           "#19d3f3",
           "#FF6692",
           "#B6E880",
           "#FF97FF",
           "#FECB52"
          ],
          "font": {
           "color": "#2a3f5f"
          },
          "geo": {
           "bgcolor": "white",
           "lakecolor": "white",
           "landcolor": "#E5ECF6",
           "showlakes": true,
           "showland": true,
           "subunitcolor": "white"
          },
          "hoverlabel": {
           "align": "left"
          },
          "hovermode": "closest",
          "mapbox": {
           "style": "light"
          },
          "paper_bgcolor": "white",
          "plot_bgcolor": "#E5ECF6",
          "polar": {
           "angularaxis": {
            "gridcolor": "white",
            "linecolor": "white",
            "ticks": ""
           },
           "bgcolor": "#E5ECF6",
           "radialaxis": {
            "gridcolor": "white",
            "linecolor": "white",
            "ticks": ""
           }
          },
          "scene": {
           "xaxis": {
            "backgroundcolor": "#E5ECF6",
            "gridcolor": "white",
            "gridwidth": 2,
            "linecolor": "white",
            "showbackground": true,
            "ticks": "",
            "zerolinecolor": "white"
           },
           "yaxis": {
            "backgroundcolor": "#E5ECF6",
            "gridcolor": "white",
            "gridwidth": 2,
            "linecolor": "white",
            "showbackground": true,
            "ticks": "",
            "zerolinecolor": "white"
           },
           "zaxis": {
            "backgroundcolor": "#E5ECF6",
            "gridcolor": "white",
            "gridwidth": 2,
            "linecolor": "white",
            "showbackground": true,
            "ticks": "",
            "zerolinecolor": "white"
           }
          },
          "shapedefaults": {
           "line": {
            "color": "#2a3f5f"
           }
          },
          "ternary": {
           "aaxis": {
            "gridcolor": "white",
            "linecolor": "white",
            "ticks": ""
           },
           "baxis": {
            "gridcolor": "white",
            "linecolor": "white",
            "ticks": ""
           },
           "bgcolor": "#E5ECF6",
           "caxis": {
            "gridcolor": "white",
            "linecolor": "white",
            "ticks": ""
           }
          },
          "title": {
           "x": 0.05
          },
          "xaxis": {
           "automargin": true,
           "gridcolor": "white",
           "linecolor": "white",
           "ticks": "",
           "title": {
            "standoff": 15
           },
           "zerolinecolor": "white",
           "zerolinewidth": 2
          },
          "yaxis": {
           "automargin": true,
           "gridcolor": "white",
           "linecolor": "white",
           "ticks": "",
           "title": {
            "standoff": 15
           },
           "zerolinecolor": "white",
           "zerolinewidth": 2
          }
         }
        },
        "title": {
         "text": "Sankey Diagram"
        }
       }
      }
     },
     "metadata": {},
     "output_type": "display_data"
    }
   ],
   "source": [
    "fig.show()"
   ]
  },
  {
   "cell_type": "markdown",
   "metadata": {},
   "source": [
    "---\n",
    "\n",
    "## Save and Load Results\n",
    "\n",
    "To preserve the results and avoid re-running the optimization every time, we can save the results to a file and load them later.\n",
    "\n",
    "### Define Save Function\n",
    "Create a function to save the `Result` object using `pickle`.\n",
    "\n"
   ]
  },
  {
   "cell_type": "code",
   "execution_count": 11,
   "metadata": {},
   "outputs": [],
   "source": [
    "def save_result_to_pickle(data, filename):\n",
    "    \"\"\"\n",
    "    Save the Result object to a pickle file.\n",
    "\n",
    "    Parameters:\n",
    "        data: The Result object to save.\n",
    "        filename (str): The file path to save the object to.\n",
    "    \"\"\"\n",
    "    with open(filename, 'wb') as fp:\n",
    "        pickle.dump(data, fp, protocol=pickle.HIGHEST_PROTOCOL)"
   ]
  },
  {
   "cell_type": "markdown",
   "metadata": {},
   "source": [
    "### Define Load Function\n",
    "Create a function to load the `Result` object from a pickle file.\n",
    "\n",
    "\n",
    "   > **Note**: These utility functions could be integrated into the EnergyScope library for convenience.\n",
    "\n"
   ]
  },
  {
   "cell_type": "code",
   "execution_count": 12,
   "metadata": {},
   "outputs": [],
   "source": [
    "def load_result_from_pickle(filename):\n",
    "    \"\"\"\n",
    "    Load the Result object from a pickle file.\n",
    "\n",
    "    Parameters:\n",
    "        filename (str): The file path to load the object from.\n",
    "\n",
    "    Returns:\n",
    "        The loaded Result object.\n",
    "    \"\"\"\n",
    "    with open(filename, 'rb') as handle:\n",
    "        result = pickle.load(handle)\n",
    "    return result"
   ]
  },
  {
   "cell_type": "markdown",
   "metadata": {},
   "source": [
    "### Save the Results\n",
    "Use the `save_result_to_pickle` function to save the results to a file.\n",
    "\n"
   ]
  },
  {
   "cell_type": "code",
   "execution_count": 13,
   "metadata": {
    "ExecuteTime": {
     "end_time": "2025-01-29T11:08:48.613214Z",
     "start_time": "2025-01-29T11:08:48.601302Z"
    }
   },
   "outputs": [],
   "source": [
    "save_result_to_pickle(results_ch, \"tutorial_input/infrastructure_ch_2050.pickle\")"
   ]
  },
  {
   "cell_type": "markdown",
   "metadata": {},
   "source": [
    "### Clear the Results Variable\n",
    "Empty the `results_ch` variable to simulate a fresh environment.\n"
   ]
  },
  {
   "cell_type": "code",
   "execution_count": 14,
   "metadata": {
    "ExecuteTime": {
     "end_time": "2025-01-29T11:08:48.618185Z",
     "start_time": "2025-01-29T11:08:48.614947Z"
    }
   },
   "outputs": [],
   "source": [
    "results_ch = None"
   ]
  },
  {
   "cell_type": "markdown",
   "metadata": {},
   "source": [
    "### Load the Results\n",
    "Load the previously saved results using the `load_result_from_pickle` function.\n",
    "\n"
   ]
  },
  {
   "cell_type": "code",
   "execution_count": 15,
   "metadata": {
    "ExecuteTime": {
     "end_time": "2025-01-29T11:08:48.632705Z",
     "start_time": "2025-01-29T11:08:48.620113Z"
    }
   },
   "outputs": [],
   "source": [
    "results_ch = load_result_from_pickle(\"tutorial_input/infrastructure_ch_2050.pickle\")"
   ]
  },
  {
   "cell_type": "markdown",
   "metadata": {},
   "source": [
    "### Display Total Cost\n",
    "Access and display the total cost from the loaded results to verify that the data was correctly saved and loaded.\n",
    "\n",
    " "
   ]
  },
  {
   "cell_type": "code",
   "execution_count": 16,
   "metadata": {
    "ExecuteTime": {
     "end_time": "2025-01-29T11:08:48.639321Z",
     "start_time": "2025-01-29T11:08:48.633955Z"
    }
   },
   "outputs": [
    {
     "data": {
      "application/vnd.microsoft.datawrangler.viewer.v0+json": {
       "columns": [
        {
         "name": "index",
         "rawType": "int64",
         "type": "integer"
        },
        {
         "name": "TotalCost",
         "rawType": "float64",
         "type": "float"
        },
        {
         "name": "Run",
         "rawType": "int64",
         "type": "integer"
        }
       ],
       "conversionMethod": "pd.DataFrame",
       "ref": "337997ee-916f-46a9-903c-45fa8a9a45d7",
       "rows": [
        [
         "0",
         "9229.74187234955",
         "0"
        ]
       ],
       "shape": {
        "columns": 2,
        "rows": 1
       }
      },
      "text/html": [
       "<div>\n",
       "<style scoped>\n",
       "    .dataframe tbody tr th:only-of-type {\n",
       "        vertical-align: middle;\n",
       "    }\n",
       "\n",
       "    .dataframe tbody tr th {\n",
       "        vertical-align: top;\n",
       "    }\n",
       "\n",
       "    .dataframe thead th {\n",
       "        text-align: right;\n",
       "    }\n",
       "</style>\n",
       "<table border=\"1\" class=\"dataframe\">\n",
       "  <thead>\n",
       "    <tr style=\"text-align: right;\">\n",
       "      <th></th>\n",
       "      <th>TotalCost</th>\n",
       "      <th>Run</th>\n",
       "    </tr>\n",
       "  </thead>\n",
       "  <tbody>\n",
       "    <tr>\n",
       "      <th>0</th>\n",
       "      <td>9229.741872</td>\n",
       "      <td>0</td>\n",
       "    </tr>\n",
       "  </tbody>\n",
       "</table>\n",
       "</div>"
      ],
      "text/plain": [
       "     TotalCost  Run\n",
       "0  9229.741872    0"
      ]
     },
     "execution_count": 16,
     "metadata": {},
     "output_type": "execute_result"
    }
   ],
   "source": [
    "results_ch.variables['TotalCost']"
   ]
  },
  {
   "cell_type": "markdown",
   "metadata": {},
   "source": [
    "  This should output a table showing the total cost of the optimized energy system configuration.\n",
    "\n",
    "---\n",
    "\n",
    "By following these steps, you can perform a basic run of the EnergyScope model, visualize the results, and save/load the data for future use. This tutorial serves as a foundation for more complex analyses and customizations."
   ]
  }
 ],
 "metadata": {
  "kernelspec": {
   "display_name": "venv",
   "language": "python",
   "name": "python3"
  },
  "language_info": {
   "codemirror_mode": {
    "name": "ipython",
    "version": 3
   },
   "file_extension": ".py",
   "mimetype": "text/x-python",
   "name": "python",
   "nbconvert_exporter": "python",
   "pygments_lexer": "ipython3",
   "version": "3.12.2"
  }
 },
 "nbformat": 4,
 "nbformat_minor": 2
}
