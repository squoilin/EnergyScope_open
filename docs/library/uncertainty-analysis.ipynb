{
 "cells": [
  {
   "cell_type": "markdown",
   "metadata": {},
   "source": [
    "# Uncertainty Analysis\n",
    "\n",
    "In this tutorial, we will perform an uncertainty analysis using the EnergyScope model. We will explore how varying certain parameters affects the energy system configuration and results. This is achieved by generating a sequence of parameter values using Sobol sequences, running multiple optimizations, and analyzing the outcomes.\n",
    "\n",
    "---\n",
    "## Import Necessary Libraries\n",
    "\n",
    "First, we import all the required libraries and modules:"
   ]
  },
  {
   "cell_type": "code",
   "execution_count": 2,
   "metadata": {
    "ExecuteTime": {
     "end_time": "2024-10-01T08:38:32.843015Z",
     "start_time": "2024-10-01T08:38:32.700968Z"
    }
   },
   "outputs": [],
   "source": [
    "import pandas as pd\n",
    "import numpy as np\n",
    "import seaborn as sns\n",
    "from energyscope.energyscope import Energyscope\n",
    "from energyscope.models import infrastructure_ch_2050\n",
    "from energyscope.result import postprocessing\n",
    "from energyscope.datasets import gen_sobol_sequence"
   ]
  },
  {
   "cell_type": "markdown",
   "metadata": {},
   "source": [
    "\n",
    "\n",
    "- **`pandas`**: For data manipulation and analysis.\n",
    "- **`numpy`**: For numerical operations.\n",
    "- **`seaborn`**: For statistical data visualization.\n",
    "- **`Energyscope`**: Main class for initializing and running the EnergyScope model.\n",
    "- **`infrastructure_ch_2050`**: Predefined model for different configurations.\n",
    "- **`postprocessing`**: Functions to process results after optimizations.\n",
    "- **`gen_sobol_sequence`**: Function to generate Sobol sequences for parameter sampling.\n",
    "\n",
    "---\n",
    "## Manual Parameter Definition\n",
    "\n",
    "### Define Parameters for Uncertainty Analysis\n",
    "\n",
    "We manually define a list of parameters whose uncertainty we want to analyze. Each parameter includes a name, a lower bound, and an upper bound:"
   ]
  },
  {
   "cell_type": "code",
   "execution_count": 3,
   "metadata": {
    "ExecuteTime": {
     "end_time": "2024-10-01T08:38:35.090951Z",
     "start_time": "2024-10-01T08:38:35.086997Z"
    }
   },
   "outputs": [],
   "source": [
    "varying_parameter = 'c_inv'\n",
    "parameters = [\n",
    "    {'name': 'PV_LV', 'lower_bound': 0, 'upper_bound': 50},\n",
    "    {'name': 'WIND', 'lower_bound': 0, 'upper_bound': 20},\n",
    "    {'name': 'CCGT', 'lower_bound': 0, 'upper_bound': 10}\n",
    "]"
   ]
  },
  {
   "cell_type": "markdown",
   "metadata": {},
   "source": [
    "\n",
    "- **`PV_LV`**: Photovoltaic at Low Voltage level.\n",
    "- **`WIND`**: Wind energy capacity.\n",
    "- **`CCGT`**: Combined Cycle Gas Turbine capacity.\n",
    "- The bounds represent the range within which the parameter values will vary during the analysis.\n",
    "\n",
    "### Generate Sobol Sequence for Parameter Sampling\n",
    "\n",
    "We use the `gen_sobol_sequence` function to generate a Sobol sequence, which provides quasi-random samples of parameter values within the specified bounds:"
   ]
  },
  {
   "cell_type": "code",
   "execution_count": 4,
   "metadata": {
    "ExecuteTime": {
     "end_time": "2024-10-01T08:38:37.246912Z",
     "start_time": "2024-10-01T08:38:37.243093Z"
    }
   },
   "outputs": [],
   "source": [
    "seq, prob = gen_sobol_sequence(parameters=parameters, trajectories=4)"
   ]
  },
  {
   "cell_type": "markdown",
   "metadata": {},
   "source": [
    "\n",
    "\n",
    "- **`trajectories=4`**: Specifies the number of trajectories or samples to generate.\n",
    "- **`seq`**: The generated sequence of parameter values.\n",
    "- **`prob`**: Metadata about the parameters and their sampling.\n",
    "\n",
    "### Display Number of Generated Samples\n",
    "\n",
    "We can display the number of generated samples to verify:"
   ]
  },
  {
   "cell_type": "code",
   "execution_count": 5,
   "metadata": {
    "ExecuteTime": {
     "end_time": "2024-10-01T08:38:40.243189Z",
     "start_time": "2024-10-01T08:38:40.237858Z"
    }
   },
   "outputs": [
    {
     "data": {
      "text/plain": [
       "20"
      ]
     },
     "metadata": {},
     "output_type": "display_data"
    }
   ],
   "source": [
    "display(len(seq))"
   ]
  },
  {
   "cell_type": "markdown",
   "metadata": {},
   "source": [
    "\n",
    "\n",
    "- This should output the total number of parameter sets generated.\n",
    "\n",
    "### Prepare Parameter DataFrame\n",
    "\n",
    "We prepare a DataFrame to hold the generated parameter sequences in a format suitable for the EnergyScope model:"
   ]
  },
  {
   "cell_type": "code",
   "execution_count": 6,
   "metadata": {
    "ExecuteTime": {
     "end_time": "2024-10-01T08:38:42.919266Z",
     "start_time": "2024-10-01T08:38:42.902353Z"
    }
   },
   "outputs": [
    {
     "data": {
      "application/vnd.microsoft.datawrangler.viewer.v0+json": {
       "columns": [
        {
         "name": "index",
         "rawType": "int64",
         "type": "integer"
        },
        {
         "name": "index0",
         "rawType": "object",
         "type": "string"
        },
        {
         "name": "value0",
         "rawType": "float64",
         "type": "float"
        },
        {
         "name": "value1",
         "rawType": "float64",
         "type": "float"
        },
        {
         "name": "value2",
         "rawType": "float64",
         "type": "float"
        },
        {
         "name": "value3",
         "rawType": "float64",
         "type": "float"
        },
        {
         "name": "value4",
         "rawType": "float64",
         "type": "float"
        },
        {
         "name": "value5",
         "rawType": "float64",
         "type": "float"
        },
        {
         "name": "value6",
         "rawType": "float64",
         "type": "float"
        },
        {
         "name": "value7",
         "rawType": "float64",
         "type": "float"
        },
        {
         "name": "value8",
         "rawType": "float64",
         "type": "float"
        },
        {
         "name": "value9",
         "rawType": "float64",
         "type": "float"
        },
        {
         "name": "value10",
         "rawType": "float64",
         "type": "float"
        },
        {
         "name": "value11",
         "rawType": "float64",
         "type": "float"
        },
        {
         "name": "value12",
         "rawType": "float64",
         "type": "float"
        },
        {
         "name": "value13",
         "rawType": "float64",
         "type": "float"
        },
        {
         "name": "value14",
         "rawType": "float64",
         "type": "float"
        },
        {
         "name": "value15",
         "rawType": "float64",
         "type": "float"
        },
        {
         "name": "value16",
         "rawType": "float64",
         "type": "float"
        },
        {
         "name": "value17",
         "rawType": "float64",
         "type": "float"
        },
        {
         "name": "value18",
         "rawType": "float64",
         "type": "float"
        },
        {
         "name": "value19",
         "rawType": "float64",
         "type": "float"
        },
        {
         "name": "param",
         "rawType": "object",
         "type": "string"
        },
        {
         "name": "index1",
         "rawType": "float64",
         "type": "float"
        },
        {
         "name": "index2",
         "rawType": "float64",
         "type": "float"
        },
        {
         "name": "index3",
         "rawType": "float64",
         "type": "float"
        }
       ],
       "ref": "b778f863-7321-43eb-a0a4-9abcbd80bd9d",
       "rows": [
        [
         "0",
         "PV_LV",
         "4.6875",
         "32.8125",
         "4.6875",
         "4.6875",
         "32.8125",
         "29.6875",
         "7.8125",
         "29.6875",
         "29.6875",
         "7.8125",
         "42.1875",
         "45.3125",
         "42.1875",
         "42.1875",
         "45.3125",
         "17.1875",
         "20.3125",
         "17.1875",
         "17.1875",
         "20.3125",
         "c_inv",
         null,
         null,
         null
        ],
        [
         "1",
         "WIND",
         "9.375",
         "9.375",
         "5.625",
         "9.375",
         "5.625",
         "19.375",
         "19.375",
         "15.625",
         "19.375",
         "15.625",
         "4.375",
         "4.375",
         "10.625",
         "4.375",
         "10.625",
         "14.375",
         "14.375",
         "0.625",
         "14.375",
         "0.625",
         "c_inv",
         null,
         null,
         null
        ],
        [
         "2",
         "CCGT",
         "4.6875",
         "4.6875",
         "4.6875",
         "9.6875",
         "9.6875",
         "9.6875",
         "9.6875",
         "9.6875",
         "4.6875",
         "4.6875",
         "2.1875",
         "2.1875",
         "2.1875",
         "2.1875",
         "2.1875",
         "7.1875",
         "7.1875",
         "7.1875",
         "7.1875",
         "7.1875",
         "c_inv",
         null,
         null,
         null
        ]
       ],
       "shape": {
        "columns": 25,
        "rows": 3
       }
      },
      "text/html": [
       "<div>\n",
       "<style scoped>\n",
       "    .dataframe tbody tr th:only-of-type {\n",
       "        vertical-align: middle;\n",
       "    }\n",
       "\n",
       "    .dataframe tbody tr th {\n",
       "        vertical-align: top;\n",
       "    }\n",
       "\n",
       "    .dataframe thead th {\n",
       "        text-align: right;\n",
       "    }\n",
       "</style>\n",
       "<table border=\"1\" class=\"dataframe\">\n",
       "  <thead>\n",
       "    <tr style=\"text-align: right;\">\n",
       "      <th></th>\n",
       "      <th>index0</th>\n",
       "      <th>value0</th>\n",
       "      <th>value1</th>\n",
       "      <th>value2</th>\n",
       "      <th>value3</th>\n",
       "      <th>value4</th>\n",
       "      <th>value5</th>\n",
       "      <th>value6</th>\n",
       "      <th>value7</th>\n",
       "      <th>value8</th>\n",
       "      <th>...</th>\n",
       "      <th>value14</th>\n",
       "      <th>value15</th>\n",
       "      <th>value16</th>\n",
       "      <th>value17</th>\n",
       "      <th>value18</th>\n",
       "      <th>value19</th>\n",
       "      <th>param</th>\n",
       "      <th>index1</th>\n",
       "      <th>index2</th>\n",
       "      <th>index3</th>\n",
       "    </tr>\n",
       "  </thead>\n",
       "  <tbody>\n",
       "    <tr>\n",
       "      <th>0</th>\n",
       "      <td>PV_LV</td>\n",
       "      <td>4.6875</td>\n",
       "      <td>32.8125</td>\n",
       "      <td>4.6875</td>\n",
       "      <td>4.6875</td>\n",
       "      <td>32.8125</td>\n",
       "      <td>29.6875</td>\n",
       "      <td>7.8125</td>\n",
       "      <td>29.6875</td>\n",
       "      <td>29.6875</td>\n",
       "      <td>...</td>\n",
       "      <td>45.3125</td>\n",
       "      <td>17.1875</td>\n",
       "      <td>20.3125</td>\n",
       "      <td>17.1875</td>\n",
       "      <td>17.1875</td>\n",
       "      <td>20.3125</td>\n",
       "      <td>c_inv</td>\n",
       "      <td>NaN</td>\n",
       "      <td>NaN</td>\n",
       "      <td>NaN</td>\n",
       "    </tr>\n",
       "    <tr>\n",
       "      <th>1</th>\n",
       "      <td>WIND</td>\n",
       "      <td>9.3750</td>\n",
       "      <td>9.3750</td>\n",
       "      <td>5.6250</td>\n",
       "      <td>9.3750</td>\n",
       "      <td>5.6250</td>\n",
       "      <td>19.3750</td>\n",
       "      <td>19.3750</td>\n",
       "      <td>15.6250</td>\n",
       "      <td>19.3750</td>\n",
       "      <td>...</td>\n",
       "      <td>10.6250</td>\n",
       "      <td>14.3750</td>\n",
       "      <td>14.3750</td>\n",
       "      <td>0.6250</td>\n",
       "      <td>14.3750</td>\n",
       "      <td>0.6250</td>\n",
       "      <td>c_inv</td>\n",
       "      <td>NaN</td>\n",
       "      <td>NaN</td>\n",
       "      <td>NaN</td>\n",
       "    </tr>\n",
       "    <tr>\n",
       "      <th>2</th>\n",
       "      <td>CCGT</td>\n",
       "      <td>4.6875</td>\n",
       "      <td>4.6875</td>\n",
       "      <td>4.6875</td>\n",
       "      <td>9.6875</td>\n",
       "      <td>9.6875</td>\n",
       "      <td>9.6875</td>\n",
       "      <td>9.6875</td>\n",
       "      <td>9.6875</td>\n",
       "      <td>4.6875</td>\n",
       "      <td>...</td>\n",
       "      <td>2.1875</td>\n",
       "      <td>7.1875</td>\n",
       "      <td>7.1875</td>\n",
       "      <td>7.1875</td>\n",
       "      <td>7.1875</td>\n",
       "      <td>7.1875</td>\n",
       "      <td>c_inv</td>\n",
       "      <td>NaN</td>\n",
       "      <td>NaN</td>\n",
       "      <td>NaN</td>\n",
       "    </tr>\n",
       "  </tbody>\n",
       "</table>\n",
       "<p>3 rows × 25 columns</p>\n",
       "</div>"
      ],
      "text/plain": [
       "  index0  value0   value1  value2  value3   value4   value5   value6   value7  \\\n",
       "0  PV_LV  4.6875  32.8125  4.6875  4.6875  32.8125  29.6875   7.8125  29.6875   \n",
       "1   WIND  9.3750   9.3750  5.6250  9.3750   5.6250  19.3750  19.3750  15.6250   \n",
       "2   CCGT  4.6875   4.6875  4.6875  9.6875   9.6875   9.6875   9.6875   9.6875   \n",
       "\n",
       "    value8  ...  value14  value15  value16  value17  value18  value19  param  \\\n",
       "0  29.6875  ...  45.3125  17.1875  20.3125  17.1875  17.1875  20.3125  c_inv   \n",
       "1  19.3750  ...  10.6250  14.3750  14.3750   0.6250  14.3750   0.6250  c_inv   \n",
       "2   4.6875  ...   2.1875   7.1875   7.1875   7.1875   7.1875   7.1875  c_inv   \n",
       "\n",
       "   index1  index2  index3  \n",
       "0     NaN     NaN     NaN  \n",
       "1     NaN     NaN     NaN  \n",
       "2     NaN     NaN     NaN  \n",
       "\n",
       "[3 rows x 25 columns]"
      ]
     },
     "execution_count": 6,
     "metadata": {},
     "output_type": "execute_result"
    }
   ],
   "source": [
    "df = pd.DataFrame(seq, columns=prob['names']).T\n",
    "df.columns = ['value' + str(x) for x in list(df.columns) if not str(x) == \"nan\"]\n",
    "df = df.reset_index(names=['index0'])\n",
    "df['param'] = varying_parameter\n",
    "\n",
    "df['index1'] = np.nan\n",
    "df['index2'] = np.nan\n",
    "df['index3'] = np.nan\n",
    "df"
   ]
  },
  {
   "cell_type": "markdown",
   "metadata": {},
   "source": [
    "\n",
    "\n",
    "- **Transpose the DataFrame**: To match the expected format.\n",
    "- **Rename Columns**: Prefix columns with `'value'`.\n",
    "- **Reset Index**: To ensure the parameters are properly indexed.\n",
    "- **Add Parameter Type**: We specify that these values correspond to `'c_inv'` (investment costs).\n",
    "- **Add Empty Indices**: Additional indices are added for compatibility with the model's expectations.\n",
    "\n",
    "---\n",
    "## Define Solver Options\n",
    "\n",
    "We specify solver options to control the optimization process:"
   ]
  },
  {
   "cell_type": "code",
   "execution_count": 7,
   "metadata": {
    "ExecuteTime": {
     "end_time": "2024-10-01T08:38:45.180139Z",
     "start_time": "2024-10-01T08:38:45.177290Z"
    }
   },
   "outputs": [],
   "source": [
    "solver_options = {\n",
    "    'solver': 'gurobi',\n",
    "    'presolve_eps': 5e-9,\n",
    "    'presolve_fixeps': 7e-10,\n",
    "    'mipgap': 1e-10,\n",
    "    'display_eps': 1e-10,\n",
    "    'omit_zero_rows': 1,\n",
    "    'omit_zero_cols': 1,\n",
    "    'show_stats': 0,\n",
    "    'solver_msg': 0,\n",
    "    'cplex_options': 'integrality=5e-7',\n",
    "}"
   ]
  },
  {
   "cell_type": "markdown",
   "metadata": {},
   "source": [
    "\n",
    "\n",
    "- **`'solver': 'gurobi'`**: Specifies that the Gurobi solver should be used.\n",
    "- Other options fine-tune the solver's precision and output behavior.\n",
    "\n",
    "---\n",
    "## Initialize and Run the Model with Parameter Variations\n",
    "\n",
    "### Initialize the EnergyScope Model\n",
    "\n",
    "We create an instance of the EnergyScope model using the infrastructure_ch_2050 dataset and the specified solver options:"
   ]
  },
  {
   "cell_type": "code",
   "execution_count": 8,
   "metadata": {
    "ExecuteTime": {
     "end_time": "2024-10-01T08:38:47.947377Z",
     "start_time": "2024-10-01T08:38:47.944659Z"
    }
   },
   "outputs": [],
   "source": [
    "es_infra_ch = Energyscope(model=infrastructure_ch_2050, solver_options=solver_options)"
   ]
  },
  {
   "cell_type": "markdown",
   "metadata": {},
   "source": [
    "\n",
    "\n",
    "### Run Multiple Optimizations with Varying Parameters\n",
    "\n",
    "We use the `calc_sequence` method to run the model multiple times, each time with a different set of parameters from the Sobol sequence:"
   ]
  },
  {
   "cell_type": "code",
   "execution_count": 9,
   "metadata": {
    "ExecuteTime": {
     "end_time": "2024-10-01T08:39:32.428310Z",
     "start_time": "2024-10-01T08:38:49.236644Z"
    }
   },
   "outputs": [
    {
     "name": "stdout",
     "output_type": "stream",
     "text": [
      "Gurobi 12.0.2:Run 1 complete.\n",
      "Gurobi 12.0.2:Run 2 complete.\n",
      "Gurobi 12.0.2:Run 3 complete.\n",
      "Gurobi 12.0.2:Run 4 complete.\n",
      "Gurobi 12.0.2:Run 5 complete.\n",
      "Gurobi 12.0.2:Run 6 complete.\n",
      "Gurobi 12.0.2:Run 7 complete.\n",
      "Gurobi 12.0.2:Run 8 complete.\n",
      "Gurobi 12.0.2:Run 9 complete.\n",
      "Gurobi 12.0.2:Run 10 complete.\n",
      "Gurobi 12.0.2:Run 11 complete.\n",
      "Gurobi 12.0.2:Run 12 complete.\n",
      "Gurobi 12.0.2:Run 13 complete.\n",
      "Gurobi 12.0.2:Run 14 complete.\n",
      "Gurobi 12.0.2:Run 15 complete.\n",
      "Gurobi 12.0.2:Run 16 complete.\n",
      "Gurobi 12.0.2:Run 17 complete.\n",
      "Gurobi 12.0.2:Run 18 complete.\n",
      "Gurobi 12.0.2:Run 19 complete.\n",
      "Gurobi 12.0.2:Run 20 complete.\n"
     ]
    }
   ],
   "source": [
    "results_ch_n = es_infra_ch.calc_sequence(df)"
   ]
  },
  {
   "cell_type": "markdown",
   "metadata": {},
   "source": [
    "---\n",
    "## Post-Process and Analyze Results\n",
    "\n",
    "### Post-Process Results"
   ]
  },
  {
   "cell_type": "code",
   "execution_count": 10,
   "metadata": {
    "ExecuteTime": {
     "end_time": "2024-10-01T08:39:32.569871Z",
     "start_time": "2024-10-01T08:39:32.435551Z"
    }
   },
   "outputs": [],
   "source": [
    "# Postcompute KPIs\n",
    "results_ch_n = postprocessing(results_ch_n, df_monthly=True)"
   ]
  },
  {
   "cell_type": "markdown",
   "metadata": {},
   "source": [
    "\n",
    "\n",
    "- **`df_monthly=True`**: Indicates that monthly data should be included in the post-processing.\n",
    "\n",
    "### Extract Annual Results\n",
    "\n",
    "We extract the annual results DataFrame for further analysis:"
   ]
  },
  {
   "cell_type": "code",
   "execution_count": 11,
   "metadata": {
    "ExecuteTime": {
     "end_time": "2024-10-01T08:39:32.686447Z",
     "start_time": "2024-10-01T08:39:32.682250Z"
    }
   },
   "outputs": [],
   "source": [
    "df_annual = results_ch_n.postprocessing['df_annual']\n",
    "df_annual = df_annual.loc[:, ['F_Mult']]\n",
    "df_annual = df_annual.reset_index()"
   ]
  },
  {
   "cell_type": "markdown",
   "metadata": {},
   "source": [
    "\n",
    "\n",
    "- **`F_Mult`**: Represents the flow multipliers or capacities of technologies.\n",
    "\n",
    "### Pivot the Results DataFrame\n",
    "\n",
    "We pivot the DataFrame to have technologies as columns and runs as rows:"
   ]
  },
  {
   "cell_type": "code",
   "execution_count": 12,
   "metadata": {
    "ExecuteTime": {
     "end_time": "2024-10-01T08:39:48.252306Z",
     "start_time": "2024-10-01T08:39:48.228274Z"
    }
   },
   "outputs": [
    {
     "data": {
      "application/vnd.microsoft.datawrangler.viewer.v0+json": {
       "columns": [
        {
         "name": "Run",
         "rawType": "int64",
         "type": "integer"
        },
        {
         "name": "ACETIC_ACID",
         "rawType": "float64",
         "type": "float"
        },
        {
         "name": "ACETONE",
         "rawType": "float64",
         "type": "float"
        },
        {
         "name": "ALKALINE_ELECTROLYSIS",
         "rawType": "float64",
         "type": "float"
        },
        {
         "name": "ALUMINUM",
         "rawType": "float64",
         "type": "float"
        },
        {
         "name": "AL_MAKING",
         "rawType": "float64",
         "type": "float"
        },
        {
         "name": "AL_MAKING_HR",
         "rawType": "float64",
         "type": "float"
        },
        {
         "name": "AN_DIG",
         "rawType": "float64",
         "type": "float"
        },
        {
         "name": "AN_DIG_SI",
         "rawType": "float64",
         "type": "float"
        },
        {
         "name": "BATTERY",
         "rawType": "float64",
         "type": "float"
        },
        {
         "name": "BENZENE",
         "rawType": "float64",
         "type": "float"
        },
        {
         "name": "BIOGAS_BIOMETHANE",
         "rawType": "float64",
         "type": "float"
        },
        {
         "name": "BIOMASS_ETHANOL",
         "rawType": "float64",
         "type": "float"
        },
        {
         "name": "BUS_CNG_STOICH",
         "rawType": "float64",
         "type": "float"
        },
        {
         "name": "BUS_DIESEL",
         "rawType": "float64",
         "type": "float"
        },
        {
         "name": "BUS_EV",
         "rawType": "float64",
         "type": "float"
        },
        {
         "name": "BUS_FC_HYBRID_CH4",
         "rawType": "float64",
         "type": "float"
        },
        {
         "name": "BUS_FC_HYBRID_H2",
         "rawType": "float64",
         "type": "float"
        },
        {
         "name": "BUS_HY_DIESEL",
         "rawType": "float64",
         "type": "float"
        },
        {
         "name": "CAR_BEV_MEDRANGE",
         "rawType": "float64",
         "type": "float"
        },
        {
         "name": "CAR_BEV_MEDRANGE_LOCAL",
         "rawType": "float64",
         "type": "float"
        },
        {
         "name": "CAR_BEV_MEDRANGE_LONGD",
         "rawType": "float64",
         "type": "float"
        },
        {
         "name": "CAR_DIESEL",
         "rawType": "float64",
         "type": "float"
        },
        {
         "name": "CAR_DIESEL_LOCAL",
         "rawType": "float64",
         "type": "float"
        },
        {
         "name": "CAR_DIESEL_LONGD",
         "rawType": "float64",
         "type": "float"
        },
        {
         "name": "CAR_ETOH_E10",
         "rawType": "float64",
         "type": "float"
        },
        {
         "name": "CAR_ETOH_E10_LOCAL",
         "rawType": "float64",
         "type": "float"
        },
        {
         "name": "CAR_ETOH_E10_LONGD",
         "rawType": "float64",
         "type": "float"
        },
        {
         "name": "CAR_ETOH_E85",
         "rawType": "float64",
         "type": "float"
        },
        {
         "name": "CAR_ETOH_E85_LOCAL",
         "rawType": "float64",
         "type": "float"
        },
        {
         "name": "CAR_ETOH_E85_LONGD",
         "rawType": "float64",
         "type": "float"
        },
        {
         "name": "CAR_FC_CH4",
         "rawType": "float64",
         "type": "float"
        },
        {
         "name": "CAR_FC_CH4_LOCAL",
         "rawType": "float64",
         "type": "float"
        },
        {
         "name": "CAR_FC_CH4_LONGD",
         "rawType": "float64",
         "type": "float"
        },
        {
         "name": "CAR_FC_H2",
         "rawType": "float64",
         "type": "float"
        },
        {
         "name": "CAR_FC_H2_LOCAL",
         "rawType": "float64",
         "type": "float"
        },
        {
         "name": "CAR_FC_H2_LONGD",
         "rawType": "float64",
         "type": "float"
        },
        {
         "name": "CAR_GASOLINE",
         "rawType": "float64",
         "type": "float"
        },
        {
         "name": "CAR_GASOLINE_LOCAL",
         "rawType": "float64",
         "type": "float"
        },
        {
         "name": "CAR_GASOLINE_LONGD",
         "rawType": "float64",
         "type": "float"
        },
        {
         "name": "CAR_HEV",
         "rawType": "float64",
         "type": "float"
        },
        {
         "name": "CAR_HEV_LOCAL",
         "rawType": "float64",
         "type": "float"
        },
        {
         "name": "CAR_HEV_LONGD",
         "rawType": "float64",
         "type": "float"
        },
        {
         "name": "CAR_MEOH",
         "rawType": "float64",
         "type": "float"
        },
        {
         "name": "CAR_MEOH_LOCAL",
         "rawType": "float64",
         "type": "float"
        },
        {
         "name": "CAR_MEOH_LONGD",
         "rawType": "float64",
         "type": "float"
        },
        {
         "name": "CAR_NG",
         "rawType": "float64",
         "type": "float"
        },
        {
         "name": "CAR_NG_LOCAL",
         "rawType": "float64",
         "type": "float"
        },
        {
         "name": "CAR_NG_LONGD",
         "rawType": "float64",
         "type": "float"
        },
        {
         "name": "CAR_PHEV",
         "rawType": "float64",
         "type": "float"
        },
        {
         "name": "CAR_PHEV_LOCAL",
         "rawType": "float64",
         "type": "float"
        },
        {
         "name": "CAR_PHEV_LONGD",
         "rawType": "float64",
         "type": "float"
        },
        {
         "name": "CCGT",
         "rawType": "float64",
         "type": "float"
        },
        {
         "name": "CCGT_CC",
         "rawType": "float64",
         "type": "float"
        },
        {
         "name": "CO2-To-Diesel",
         "rawType": "float64",
         "type": "float"
        },
        {
         "name": "CO2_CS",
         "rawType": "float64",
         "type": "float"
        },
        {
         "name": "CO2_E",
         "rawType": "float64",
         "type": "float"
        },
        {
         "name": "CO2_EE",
         "rawType": "float64",
         "type": "float"
        },
        {
         "name": "CO2_METHANOL",
         "rawType": "float64",
         "type": "float"
        },
        {
         "name": "CO2_STO",
         "rawType": "float64",
         "type": "float"
        },
        {
         "name": "CO2_TO_JETFUELS",
         "rawType": "float64",
         "type": "float"
        },
        {
         "name": "COACH_CNG_STOICH",
         "rawType": "float64",
         "type": "float"
        },
        {
         "name": "COACH_DIESEL",
         "rawType": "float64",
         "type": "float"
        },
        {
         "name": "COACH_EV",
         "rawType": "float64",
         "type": "float"
        },
        {
         "name": "COACH_FC_HYBRID_CH4",
         "rawType": "float64",
         "type": "float"
        },
        {
         "name": "COACH_FC_HYBRID_H2",
         "rawType": "float64",
         "type": "float"
        },
        {
         "name": "COACH_HY_DIESEL",
         "rawType": "float64",
         "type": "float"
        },
        {
         "name": "COAL",
         "rawType": "float64",
         "type": "float"
        },
        {
         "name": "COAL_IGCC",
         "rawType": "float64",
         "type": "float"
        },
        {
         "name": "COAL_IGCC_CC",
         "rawType": "float64",
         "type": "float"
        },
        {
         "name": "COAL_US",
         "rawType": "float64",
         "type": "float"
        },
        {
         "name": "COAL_US_CC",
         "rawType": "float64",
         "type": "float"
        },
        {
         "name": "COMMUTER_RAIL_DIESEL",
         "rawType": "float64",
         "type": "float"
        },
        {
         "name": "COMMUTER_RAIL_ELEC",
         "rawType": "float64",
         "type": "float"
        },
        {
         "name": "CROPS_TO_ETHANOL",
         "rawType": "float64",
         "type": "float"
        },
        {
         "name": "CROPS_TO_JETFUELS",
         "rawType": "float64",
         "type": "float"
        },
        {
         "name": "CUMENE_PROCESS",
         "rawType": "float64",
         "type": "float"
        },
        {
         "name": "DAC_HT",
         "rawType": "float64",
         "type": "float"
        },
        {
         "name": "DAC_LT",
         "rawType": "float64",
         "type": "float"
        },
        {
         "name": "DEC_ADVCOGEN_H2",
         "rawType": "float64",
         "type": "float"
        },
        {
         "name": "DEC_BOILER_GAS",
         "rawType": "float64",
         "type": "float"
        },
        {
         "name": "DEC_BOILER_OIL",
         "rawType": "float64",
         "type": "float"
        },
        {
         "name": "DEC_BOILER_WOOD",
         "rawType": "float64",
         "type": "float"
        },
        {
         "name": "DEC_COGEN_GAS",
         "rawType": "float64",
         "type": "float"
        },
        {
         "name": "DEC_COGEN_OIL",
         "rawType": "float64",
         "type": "float"
        },
        {
         "name": "DEC_COGEN_WOOD",
         "rawType": "float64",
         "type": "float"
        },
        {
         "name": "DEC_DIRECT_ELEC",
         "rawType": "float64",
         "type": "float"
        },
        {
         "name": "DEC_HP_ELEC",
         "rawType": "float64",
         "type": "float"
        },
        {
         "name": "DEC_RENOVATION",
         "rawType": "float64",
         "type": "float"
        },
        {
         "name": "DEC_SOLAR",
         "rawType": "float64",
         "type": "float"
        },
        {
         "name": "DEC_THHP_GAS",
         "rawType": "float64",
         "type": "float"
        },
        {
         "name": "DEC_TH_STORAGE",
         "rawType": "float64",
         "type": "float"
        },
        {
         "name": "DEEP_SALINE",
         "rawType": "float64",
         "type": "float"
        },
        {
         "name": "DHN",
         "rawType": "float64",
         "type": "float"
        },
        {
         "name": "DHN_BOILER_GAS",
         "rawType": "float64",
         "type": "float"
        },
        {
         "name": "DHN_BOILER_OIL",
         "rawType": "float64",
         "type": "float"
        },
        {
         "name": "DHN_BOILER_WOOD",
         "rawType": "float64",
         "type": "float"
        },
        {
         "name": "DHN_COGEN_GAS",
         "rawType": "float64",
         "type": "float"
        },
        {
         "name": "DHN_COGEN_WASTE",
         "rawType": "float64",
         "type": "float"
        },
        {
         "name": "DHN_COGEN_WOOD",
         "rawType": "float64",
         "type": "float"
        },
        {
         "name": "DHN_DEEP_GEO",
         "rawType": "float64",
         "type": "float"
        },
        {
         "name": "DHN_HP_ELEC",
         "rawType": "float64",
         "type": "float"
        },
        {
         "name": "DHN_RENOVATION",
         "rawType": "float64",
         "type": "float"
        },
        {
         "name": "DHN_TH_STORAGE",
         "rawType": "float64",
         "type": "float"
        },
        {
         "name": "DIESEL",
         "rawType": "float64",
         "type": "float"
        },
        {
         "name": "DIESEL_S",
         "rawType": "float64",
         "type": "float"
        },
        {
         "name": "DIE_STO",
         "rawType": "float64",
         "type": "float"
        },
        {
         "name": "DIRECT_USAGE",
         "rawType": "float64",
         "type": "float"
        },
        {
         "name": "DOGR",
         "rawType": "float64",
         "type": "float"
        },
        {
         "name": "EFFICIENCY",
         "rawType": "float64",
         "type": "float"
        },
        {
         "name": "EHP_H2_GRID",
         "rawType": "float64",
         "type": "float"
        },
        {
         "name": "EHP_NG_GRID",
         "rawType": "float64",
         "type": "float"
        },
        {
         "name": "EHV_GRID",
         "rawType": "float64",
         "type": "float"
        },
        {
         "name": "ELECTRICITY_EHV",
         "rawType": "float64",
         "type": "float"
        },
        {
         "name": "ELECTRICITY_HV",
         "rawType": "float64",
         "type": "float"
        },
        {
         "name": "ELECTRICITY_LV",
         "rawType": "float64",
         "type": "float"
        },
        {
         "name": "ELECTRICITY_MV",
         "rawType": "float64",
         "type": "float"
        },
        {
         "name": "ELEC_EXPORT",
         "rawType": "float64",
         "type": "float"
        },
        {
         "name": "ELEC_S",
         "rawType": "float64",
         "type": "float"
        },
        {
         "name": "ELEC_STO",
         "rawType": "float64",
         "type": "float"
        },
        {
         "name": "EOR",
         "rawType": "float64",
         "type": "float"
        },
        {
         "name": "ETHANE",
         "rawType": "float64",
         "type": "float"
        },
        {
         "name": "ETHANE_CRACKING",
         "rawType": "float64",
         "type": "float"
        },
        {
         "name": "ETHANE_OXIDATION",
         "rawType": "float64",
         "type": "float"
        },
        {
         "name": "ETHANE_TO_ETHYLENE",
         "rawType": "float64",
         "type": "float"
        },
        {
         "name": "ETHANOL",
         "rawType": "float64",
         "type": "float"
        },
        {
         "name": "ETHANOL_TO_JETFUELS",
         "rawType": "float64",
         "type": "float"
        },
        {
         "name": "ETHYLBENZENE",
         "rawType": "float64",
         "type": "float"
        },
        {
         "name": "ETHYLENE",
         "rawType": "float64",
         "type": "float"
        },
        {
         "name": "ETHYLENE_POLYMERIZATION",
         "rawType": "float64",
         "type": "float"
        },
        {
         "name": "FOOD",
         "rawType": "float64",
         "type": "float"
        },
        {
         "name": "FOOD_PROD",
         "rawType": "float64",
         "type": "float"
        },
        {
         "name": "FOOD_PROD_HP",
         "rawType": "float64",
         "type": "float"
        },
        {
         "name": "FOOD_PROD_HR",
         "rawType": "float64",
         "type": "float"
        },
        {
         "name": "FT",
         "rawType": "float64",
         "type": "float"
        },
        {
         "name": "GASIFICATION_H2",
         "rawType": "float64",
         "type": "float"
        },
        {
         "name": "GASIFICATION_SNG",
         "rawType": "float64",
         "type": "float"
        },
        {
         "name": "GASOLINE",
         "rawType": "float64",
         "type": "float"
        },
        {
         "name": "GASOLINE_S",
         "rawType": "float64",
         "type": "float"
        },
        {
         "name": "GASO_STO",
         "rawType": "float64",
         "type": "float"
        },
        {
         "name": "GEOTHERMAL",
         "rawType": "float64",
         "type": "float"
        },
        {
         "name": "GRID",
         "rawType": "float64",
         "type": "float"
        },
        {
         "name": "H2_COMP_HE",
         "rawType": "float64",
         "type": "float"
        },
        {
         "name": "H2_COMP_LM",
         "rawType": "float64",
         "type": "float"
        },
        {
         "name": "H2_COMP_MH",
         "rawType": "float64",
         "type": "float"
        },
        {
         "name": "H2_EHP",
         "rawType": "float64",
         "type": "float"
        },
        {
         "name": "H2_EXP_EH",
         "rawType": "float64",
         "type": "float"
        },
        {
         "name": "H2_EXP_EH_COGEN",
         "rawType": "float64",
         "type": "float"
        },
        {
         "name": "H2_EXP_HM",
         "rawType": "float64",
         "type": "float"
        },
        {
         "name": "H2_EXP_HM_COGEN",
         "rawType": "float64",
         "type": "float"
        },
        {
         "name": "H2_EXP_ML",
         "rawType": "float64",
         "type": "float"
        },
        {
         "name": "H2_EXP_ML_COGEN",
         "rawType": "float64",
         "type": "float"
        },
        {
         "name": "H2_HP",
         "rawType": "float64",
         "type": "float"
        },
        {
         "name": "H2_LP",
         "rawType": "float64",
         "type": "float"
        },
        {
         "name": "H2_MP",
         "rawType": "float64",
         "type": "float"
        },
        {
         "name": "H2_S",
         "rawType": "float64",
         "type": "float"
        },
        {
         "name": "H2_STO",
         "rawType": "float64",
         "type": "float"
        },
        {
         "name": "HP_H2_GRID",
         "rawType": "float64",
         "type": "float"
        },
        {
         "name": "HP_NG_GRID",
         "rawType": "float64",
         "type": "float"
        },
        {
         "name": "HT_LT",
         "rawType": "float64",
         "type": "float"
        },
        {
         "name": "HT_LT_DEC",
         "rawType": "float64",
         "type": "float"
        },
        {
         "name": "HV_GRID",
         "rawType": "float64",
         "type": "float"
        },
        {
         "name": "HYDRO_DAM",
         "rawType": "float64",
         "type": "float"
        },
        {
         "name": "HYDRO_GAS",
         "rawType": "float64",
         "type": "float"
        },
        {
         "name": "HYDRO_GAS_CHP",
         "rawType": "float64",
         "type": "float"
        },
        {
         "name": "HYDRO_RIVER",
         "rawType": "float64",
         "type": "float"
        },
        {
         "name": "HYDRO_STORAGE",
         "rawType": "float64",
         "type": "float"
        },
        {
         "name": "IND_BOILER_COAL",
         "rawType": "float64",
         "type": "float"
        },
        {
         "name": "IND_BOILER_GAS",
         "rawType": "float64",
         "type": "float"
        },
        {
         "name": "IND_BOILER_OIL",
         "rawType": "float64",
         "type": "float"
        },
        {
         "name": "IND_BOILER_WASTE",
         "rawType": "float64",
         "type": "float"
        },
        {
         "name": "IND_BOILER_WOOD",
         "rawType": "float64",
         "type": "float"
        },
        {
         "name": "IND_COGEN_GAS",
         "rawType": "float64",
         "type": "float"
        },
        {
         "name": "IND_COGEN_WASTE",
         "rawType": "float64",
         "type": "float"
        },
        {
         "name": "IND_COGEN_WOOD",
         "rawType": "float64",
         "type": "float"
        },
        {
         "name": "IND_DIRECT_ELEC",
         "rawType": "float64",
         "type": "float"
        },
        {
         "name": "IND_HP_ELEC",
         "rawType": "float64",
         "type": "float"
        },
        {
         "name": "JETFUEL",
         "rawType": "float64",
         "type": "float"
        },
        {
         "name": "LFO",
         "rawType": "float64",
         "type": "float"
        },
        {
         "name": "LNG",
         "rawType": "float64",
         "type": "float"
        },
        {
         "name": "LP_H2_GRID",
         "rawType": "float64",
         "type": "float"
        },
        {
         "name": "LP_NG_GRID",
         "rawType": "float64",
         "type": "float"
        },
        {
         "name": "LT_DEC_WH",
         "rawType": "float64",
         "type": "float"
        },
        {
         "name": "LT_DHN_WH",
         "rawType": "float64",
         "type": "float"
        },
        {
         "name": "LV_GRID",
         "rawType": "float64",
         "type": "float"
        },
        {
         "name": "METATHESIS_PROPYLENE",
         "rawType": "float64",
         "type": "float"
        },
        {
         "name": "METHANATION",
         "rawType": "float64",
         "type": "float"
        },
        {
         "name": "METHANE_TO_METHANOL",
         "rawType": "float64",
         "type": "float"
        },
        {
         "name": "METHANOL",
         "rawType": "float64",
         "type": "float"
        },
        {
         "name": "METHANOL_CARBONYLATION",
         "rawType": "float64",
         "type": "float"
        },
        {
         "name": "METHANOL_FT",
         "rawType": "float64",
         "type": "float"
        },
        {
         "name": "METHANOL_TO_AROMATICS",
         "rawType": "float64",
         "type": "float"
        },
        {
         "name": "METHANOL_TO_OLEFINS",
         "rawType": "float64",
         "type": "float"
        },
        {
         "name": "MINES_STORAGE",
         "rawType": "float64",
         "type": "float"
        },
        {
         "name": "MP_H2_GRID",
         "rawType": "float64",
         "type": "float"
        },
        {
         "name": "MP_NG_GRID",
         "rawType": "float64",
         "type": "float"
        },
        {
         "name": "MV_GRID",
         "rawType": "float64",
         "type": "float"
        },
        {
         "name": "NEW_HYDRO_DAM",
         "rawType": "float64",
         "type": "float"
        },
        {
         "name": "NEW_HYDRO_RIVER",
         "rawType": "float64",
         "type": "float"
        },
        {
         "name": "NG_COMP_HE",
         "rawType": "float64",
         "type": "float"
        },
        {
         "name": "NG_COMP_LM",
         "rawType": "float64",
         "type": "float"
        },
        {
         "name": "NG_COMP_MH",
         "rawType": "float64",
         "type": "float"
        },
        {
         "name": "NG_EHP",
         "rawType": "float64",
         "type": "float"
        },
        {
         "name": "NG_EXP_EH",
         "rawType": "float64",
         "type": "float"
        },
        {
         "name": "NG_EXP_EH_COGEN",
         "rawType": "float64",
         "type": "float"
        },
        {
         "name": "NG_EXP_HM",
         "rawType": "float64",
         "type": "float"
        },
        {
         "name": "NG_EXP_HM_COGEN",
         "rawType": "float64",
         "type": "float"
        },
        {
         "name": "NG_EXP_ML",
         "rawType": "float64",
         "type": "float"
        },
        {
         "name": "NG_EXP_ML_COGEN",
         "rawType": "float64",
         "type": "float"
        },
        {
         "name": "NG_HP",
         "rawType": "float64",
         "type": "float"
        },
        {
         "name": "NG_LP",
         "rawType": "float64",
         "type": "float"
        },
        {
         "name": "NG_MP",
         "rawType": "float64",
         "type": "float"
        },
        {
         "name": "NG_REFORMING",
         "rawType": "float64",
         "type": "float"
        },
        {
         "name": "NG_S",
         "rawType": "float64",
         "type": "float"
        },
        {
         "name": "NG_STO",
         "rawType": "float64",
         "type": "float"
        },
        {
         "name": "NUCLEAR",
         "rawType": "float64",
         "type": "float"
        },
        {
         "name": "OTHER_BIOMASS",
         "rawType": "float64",
         "type": "float"
        },
        {
         "name": "PAPER",
         "rawType": "float64",
         "type": "float"
        },
        {
         "name": "PAPER_MAKING",
         "rawType": "float64",
         "type": "float"
        },
        {
         "name": "PAPER_MAKING_HP",
         "rawType": "float64",
         "type": "float"
        },
        {
         "name": "PAPER_MAKING_HR",
         "rawType": "float64",
         "type": "float"
        },
        {
         "name": "PE",
         "rawType": "float64",
         "type": "float"
        },
        {
         "name": "PEM_ELECTROLYSIS",
         "rawType": "float64",
         "type": "float"
        },
        {
         "name": "PET",
         "rawType": "float64",
         "type": "float"
        },
        {
         "name": "PET_FORMATION",
         "rawType": "float64",
         "type": "float"
        },
        {
         "name": "PHENOL",
         "rawType": "float64",
         "type": "float"
        },
        {
         "name": "PLANE",
         "rawType": "float64",
         "type": "float"
        },
        {
         "name": "POLYPROPYLENE_PP",
         "rawType": "float64",
         "type": "float"
        },
        {
         "name": "PP",
         "rawType": "float64",
         "type": "float"
        },
        {
         "name": "PROPYLENE",
         "rawType": "float64",
         "type": "float"
        },
        {
         "name": "PS",
         "rawType": "float64",
         "type": "float"
        },
        {
         "name": "PV",
         "rawType": "float64",
         "type": "float"
        },
        {
         "name": "PVC",
         "rawType": "float64",
         "type": "float"
        },
        {
         "name": "PVC_FORMATION",
         "rawType": "float64",
         "type": "float"
        },
        {
         "name": "PV_EHV",
         "rawType": "float64",
         "type": "float"
        },
        {
         "name": "PV_HV",
         "rawType": "float64",
         "type": "float"
        },
        {
         "name": "PV_LV",
         "rawType": "float64",
         "type": "float"
        },
        {
         "name": "PV_MV",
         "rawType": "float64",
         "type": "float"
        },
        {
         "name": "PYROLYSIS",
         "rawType": "float64",
         "type": "float"
        },
        {
         "name": "RES_GEO",
         "rawType": "float64",
         "type": "float"
        },
        {
         "name": "RES_HYDRO",
         "rawType": "float64",
         "type": "float"
        },
        {
         "name": "RES_SOLAR",
         "rawType": "float64",
         "type": "float"
        },
        {
         "name": "RES_WIND",
         "rawType": "float64",
         "type": "float"
        },
        {
         "name": "SMART_PROCESS",
         "rawType": "float64",
         "type": "float"
        },
        {
         "name": "SNG",
         "rawType": "float64",
         "type": "float"
        },
        {
         "name": "SNG_NG",
         "rawType": "float64",
         "type": "float"
        },
        {
         "name": "SOEC_ELECTROLYSIS",
         "rawType": "float64",
         "type": "float"
        },
        {
         "name": "STEEL",
         "rawType": "float64",
         "type": "float"
        },
        {
         "name": "STEEL_MAKING",
         "rawType": "float64",
         "type": "float"
        },
        {
         "name": "STEEL_MAKING_HP",
         "rawType": "float64",
         "type": "float"
        },
        {
         "name": "STEEL_MAKING_HR",
         "rawType": "float64",
         "type": "float"
        },
        {
         "name": "STO_CO2",
         "rawType": "float64",
         "type": "float"
        },
        {
         "name": "STO_DIE",
         "rawType": "float64",
         "type": "float"
        },
        {
         "name": "STO_ELEC",
         "rawType": "float64",
         "type": "float"
        },
        {
         "name": "STO_GASO",
         "rawType": "float64",
         "type": "float"
        },
        {
         "name": "STO_H2",
         "rawType": "float64",
         "type": "float"
        },
        {
         "name": "STO_NG",
         "rawType": "float64",
         "type": "float"
        },
        {
         "name": "STYRENE",
         "rawType": "float64",
         "type": "float"
        },
        {
         "name": "STYRENE_POLYMERIZATION",
         "rawType": "float64",
         "type": "float"
        },
        {
         "name": "TOLUENE",
         "rawType": "float64",
         "type": "float"
        },
        {
         "name": "TRAFO_EH",
         "rawType": "float64",
         "type": "float"
        },
        {
         "name": "TRAFO_HE",
         "rawType": "float64",
         "type": "float"
        },
        {
         "name": "TRAFO_HM",
         "rawType": "float64",
         "type": "float"
        },
        {
         "name": "TRAFO_LM",
         "rawType": "float64",
         "type": "float"
        },
        {
         "name": "TRAFO_MH",
         "rawType": "float64",
         "type": "float"
        },
        {
         "name": "TRAFO_ML",
         "rawType": "float64",
         "type": "float"
        },
        {
         "name": "TRAIN_DIESEL",
         "rawType": "float64",
         "type": "float"
        },
        {
         "name": "TRAIN_ELEC",
         "rawType": "float64",
         "type": "float"
        },
        {
         "name": "TRAIN_FREIGHT",
         "rawType": "float64",
         "type": "float"
        },
        {
         "name": "TRAIN_FREIGHT_DIESEL",
         "rawType": "float64",
         "type": "float"
        },
        {
         "name": "TRAIN_FREIGHT_H2",
         "rawType": "float64",
         "type": "float"
        },
        {
         "name": "TRAIN_FREIGHT_NG",
         "rawType": "float64",
         "type": "float"
        },
        {
         "name": "TRAIN_H2",
         "rawType": "float64",
         "type": "float"
        },
        {
         "name": "TRAIN_NG",
         "rawType": "float64",
         "type": "float"
        },
        {
         "name": "TRAMWAY",
         "rawType": "float64",
         "type": "float"
        },
        {
         "name": "TRUCK",
         "rawType": "float64",
         "type": "float"
        },
        {
         "name": "TRUCK_CO2",
         "rawType": "float64",
         "type": "float"
        },
        {
         "name": "TRUCK_EV",
         "rawType": "float64",
         "type": "float"
        },
        {
         "name": "TRUCK_FC",
         "rawType": "float64",
         "type": "float"
        },
        {
         "name": "TRUCK_SNG",
         "rawType": "float64",
         "type": "float"
        },
        {
         "name": "UNMINEABLE_COAL_SEAM",
         "rawType": "float64",
         "type": "float"
        },
        {
         "name": "URANIUM",
         "rawType": "float64",
         "type": "float"
        },
        {
         "name": "WASTE",
         "rawType": "float64",
         "type": "float"
        },
        {
         "name": "WASTE_BIO",
         "rawType": "float64",
         "type": "float"
        },
        {
         "name": "WASTE_FOS",
         "rawType": "float64",
         "type": "float"
        },
        {
         "name": "WET_BIOMASS",
         "rawType": "float64",
         "type": "float"
        },
        {
         "name": "WIND",
         "rawType": "float64",
         "type": "float"
        },
        {
         "name": "WOOD",
         "rawType": "float64",
         "type": "float"
        },
        {
         "name": "WOOD_METHANOL",
         "rawType": "float64",
         "type": "float"
        },
        {
         "name": "XYLENE",
         "rawType": "float64",
         "type": "float"
        }
       ],
       "ref": "d188b622-de8a-4020-b46d-c4700ff5e509",
       "rows": [
        [
         "11",
         "0.0",
         "0.0",
         "0.0",
         "0.0",
         "0.0",
         "0.0",
         "0.0",
         "0.0",
         "0.0",
         "0.0",
         "0.0",
         "0.0",
         "0.0",
         "0.0",
         "0.0",
         "0.0",
         "0.0",
         "0.0",
         "5.829509132420077",
         "2.390098744292191",
         "3.439410388127808",
         "0.0",
         "0.0",
         "0.0",
         "0.0",
         "0.0",
         "0.0",
         "0.0",
         "0.0",
         "0.0",
         "0.0",
         "0.0",
         "0.0",
         "0.0",
         "0.0",
         "0.0",
         "0.0",
         "0.0",
         "0.0",
         "0.0",
         "0.0",
         "0.0",
         "0.0",
         "0.0",
         "0.0",
         "0.0",
         "0.0",
         "0.0",
         "0.0",
         "0.0",
         "0.0",
         "0.0",
         "0.723961293483943",
         "0.0",
         "0.0",
         "0.0",
         "0.0",
         "0.0",
         "0.0",
         "0.0",
         "0.0",
         "0.0",
         "0.9560394977168976",
         "0.0",
         "0.0",
         "0.0",
         "0.0",
         "0.0",
         "0.0",
         "0.0",
         "0.0",
         "0.0",
         "2.39009874429224",
         "0.0",
         "0.0",
         "0.0",
         "0.0",
         "0.0",
         "0.0",
         "0.0",
         "0.0",
         "0.0",
         "0.0",
         "0.0",
         "0.0",
         "0.0",
         "15.4403939758071",
         "0.0",
         "0.0",
         "0.0",
         "0.0",
         "0.2088056402279323",
         "6.053750923139768",
         "0.0",
         "0.0",
         "0.0",
         "0.0",
         "0.0",
         "0.0",
         "1.394811628061787",
         "4.658939295077982",
         "0.5222539921349401",
         "0.0",
         "0.0",
         "0.0",
         "0.0",
         "0.0",
         "0.0",
         "0.0",
         "0.0",
         "0.0",
         "0.4275096431780281",
         "0.0",
         "0.0",
         "0.0",
         "0.0",
         "0.0",
         "0.0",
         "0.0",
         "0.0",
         "0.0",
         "0.0",
         "0.0",
         "0.0",
         "0.0",
         "0.0",
         "0.0",
         "0.0",
         "0.0",
         "0.0",
         "0.0",
         "0.0",
         "0.0",
         "0.0",
         "0.0",
         "0.674767899905001",
         "0.0",
         "0.0",
         "0.0",
         "0.0",
         "0.0",
         "0.0",
         "0.0",
         "0.0",
         "0.0",
         "0.0",
         "0.0",
         "0.0",
         "0.0",
         "0.0",
         "0.0",
         "0.0",
         "0.0",
         "0.0",
         "0.0",
         "0.0",
         "0.0",
         "1.278049379666629",
         "0.5222539486137739",
         "0.0",
         "6.141029830039235",
         "8.08",
         "0.6032814797616283",
         "0.0",
         "3.8",
         "6500.0",
         "0.0",
         "0.0",
         "0.0",
         "0.5192003199285434",
         "0.0",
         "0.0",
         "0.4190240774392485",
         "0.0",
         "1.384185411982795",
         "0.0",
         "0.0",
         "0.0",
         "0.0",
         "0.0",
         "0.0",
         "0.0",
         "0.0",
         "6.350669171998708",
         "0.0",
         "0.0",
         "0.0",
         "0.0",
         "0.0",
         "0.0",
         "0.0",
         "0.0",
         "0.0",
         "0.0",
         "1.278049379666629",
         "9.477528395560412",
         "0.44",
         "0.85",
         "0.0",
         "0.0",
         "1.278049379666629",
         "0.0",
         "0.0",
         "0.0",
         "0.0",
         "0.0",
         "0.0",
         "0.0",
         "0.0",
         "0.0",
         "0.0",
         "0.0",
         "0.0",
         "0.0",
         "0.0",
         "0.0",
         "0.0",
         "0.0",
         "0.0",
         "0.0",
         "0.0",
         "0.0",
         "0.0",
         "0.0",
         "0.0",
         "0.0",
         "0.0",
         "0.0",
         "0.0",
         "0.0",
         "0.0",
         "0.0",
         "0.0",
         "1.410922914778971",
         "0.0",
         "0.0",
         "0.0",
         "0.0",
         "0.0",
         "0.0",
         "0.0",
         "0.0",
         "0.0",
         "0.0",
         "1.278049379666629",
         "0.0",
         "0.0",
         "0.0",
         "0.0",
         "0.0",
         "0.0",
         "0.0",
         "0.0",
         "0.0",
         "0.0",
         "0.0",
         "0.0",
         "0.0",
         "0.0",
         "0.02376079564234063",
         "0.2399009329857323",
         "2.941448507710193",
         "0.0",
         "0.0",
         "6.350669171998708",
         "0.0",
         "2.483370890410955",
         "2.445662100456625",
         "0.0",
         "0.0",
         "0.0",
         "0.0",
         "0.0",
         "0.0",
         "0.0",
         "0.0",
         "0.6114155251141513",
         "0.0",
         "0.0",
         "0.0",
         "0.0",
         "0.0",
         "0.0",
         "0.0",
         "0.0",
         "20.0",
         "0.0",
         "0.0",
         "0.0"
        ],
        [
         "10",
         "0.0",
         "0.0",
         "0.0",
         "0.0",
         "0.0",
         "0.0",
         "0.0",
         "0.0",
         "0.0",
         "0.0",
         "0.0",
         "0.0",
         "0.0",
         "0.0",
         "0.0",
         "0.0",
         "0.0",
         "0.0",
         "5.829509132420091",
         "2.390098744292236",
         "3.43941038812786",
         "0.0",
         "0.0",
         "0.0",
         "0.0",
         "0.0",
         "0.0",
         "0.0",
         "0.0",
         "0.0",
         "0.0",
         "0.0",
         "0.0",
         "0.0",
         "0.0",
         "0.0",
         "0.0",
         "0.0",
         "0.0",
         "0.0",
         "0.0",
         "0.0",
         "0.0",
         "0.0",
         "0.0",
         "0.0",
         "0.0",
         "0.0",
         "0.0",
         "0.0",
         "0.0",
         "0.0",
         "0.7239612934839439",
         "0.0",
         "0.0",
         "0.0",
         "0.0",
         "0.0",
         "0.0",
         "0.0",
         "0.0",
         "0.0",
         "0.9560394977168952",
         "0.0",
         "0.0",
         "0.0",
         "0.0",
         "0.0",
         "0.0",
         "0.0",
         "0.0",
         "0.0",
         "2.390098744292239",
         "0.0",
         "0.0",
         "0.0",
         "0.0",
         "0.0",
         "0.0",
         "0.0",
         "0.0",
         "0.0",
         "0.0",
         "0.0",
         "0.0",
         "0.0",
         "15.4403939758071",
         "0.0",
         "0.0",
         "0.0",
         "0.0",
         "0.2088056402279325",
         "6.053750923139768",
         "0.0",
         "0.0",
         "0.0",
         "0.0",
         "0.0",
         "0.0",
         "1.394811628061787",
         "4.658939295077982",
         "0.5222539921349405",
         "0.0",
         "0.0",
         "0.0",
         "0.0",
         "0.0",
         "0.0",
         "0.0",
         "0.0",
         "0.0",
         "0.427509643178038",
         "0.0",
         "0.0",
         "0.0",
         "0.0",
         "0.0",
         "0.0",
         "0.0",
         "0.0",
         "0.0",
         "0.0",
         "0.0",
         "0.0",
         "0.0",
         "0.0",
         "0.0",
         "0.0",
         "0.0",
         "0.0",
         "0.0",
         "0.0",
         "0.0",
         "0.0",
         "0.0",
         "0.6747678999050074",
         "0.0",
         "0.0",
         "0.0",
         "0.0",
         "0.0",
         "0.0",
         "0.0",
         "0.0",
         "0.0",
         "0.0",
         "0.0",
         "0.0",
         "0.0",
         "0.0",
         "0.0",
         "0.0",
         "0.0",
         "0.0",
         "0.0",
         "0.0",
         "0.0",
         "1.278049379666636",
         "0.5222539486137738",
         "0.0",
         "6.141029830039238",
         "8.08",
         "0.6032814797616283",
         "0.0",
         "3.8",
         "6500.0",
         "0.0",
         "0.0",
         "0.0",
         "0.5192003199285432",
         "0.0",
         "0.0",
         "0.4190240774392484",
         "0.0",
         "1.384185411982794",
         "0.0",
         "0.0",
         "0.0",
         "0.0",
         "0.0",
         "0.0",
         "0.0",
         "0.0",
         "6.350669171998709",
         "0.0",
         "0.0",
         "0.0",
         "0.0",
         "0.0",
         "0.0",
         "0.0",
         "0.0",
         "0.0",
         "0.0",
         "1.278049379666635",
         "9.477528395560416",
         "0.44",
         "0.85",
         "0.0",
         "0.0",
         "1.278049379666636",
         "0.0",
         "0.0",
         "0.0",
         "0.0",
         "0.0",
         "0.0",
         "0.0",
         "0.0",
         "0.0",
         "0.0",
         "0.0",
         "0.0",
         "0.0",
         "0.0",
         "0.0",
         "0.0",
         "0.0",
         "0.0",
         "0.0",
         "0.0",
         "0.0",
         "0.0",
         "0.0",
         "0.0",
         "0.0",
         "0.0",
         "0.0",
         "0.0",
         "0.0",
         "0.0",
         "0.0",
         "0.0",
         "1.410922914779003",
         "0.0",
         "0.0",
         "0.0",
         "0.0",
         "0.0",
         "0.0",
         "0.0",
         "0.0",
         "0.0",
         "0.0",
         "1.278049379666636",
         "0.0",
         "0.0",
         "0.0",
         "0.0",
         "0.0",
         "0.0",
         "0.0",
         "0.0",
         "0.0",
         "0.0",
         "0.0",
         "0.0",
         "0.0",
         "0.0",
         "0.0237607956423502",
         "0.2399009329857287",
         "2.941448507710196",
         "0.0",
         "0.0",
         "6.350669171998709",
         "0.0",
         "2.483370890410958",
         "2.445662100456621",
         "0.0",
         "0.0",
         "0.0",
         "0.0",
         "0.0",
         "0.0",
         "0.0",
         "0.0",
         "0.6114155251141548",
         "0.0",
         "0.0",
         "0.0",
         "0.0",
         "0.0",
         "0.0",
         "0.0",
         "0.0",
         "20.0",
         "0.0",
         "0.0",
         "0.0"
        ],
        [
         "19",
         "0.0",
         "0.0",
         "0.0",
         "0.0",
         "0.0",
         "0.0",
         "0.0",
         "0.0",
         "0.0",
         "0.0",
         "0.0",
         "0.0",
         "0.0",
         "0.0",
         "0.0",
         "0.0",
         "0.0",
         "0.0",
         "5.829509132420085",
         "2.390098744292236",
         "3.439410388127864",
         "0.0",
         "0.0",
         "0.0",
         "0.0",
         "0.0",
         "0.0",
         "0.0",
         "0.0",
         "0.0",
         "0.0",
         "0.0",
         "0.0",
         "0.0",
         "0.0",
         "0.0",
         "0.0",
         "0.0",
         "0.0",
         "0.0",
         "0.0",
         "0.0",
         "0.0",
         "0.0",
         "0.0",
         "0.0",
         "0.0",
         "0.0",
         "0.0",
         "0.0",
         "0.0",
         "0.0",
         "0.7238833388427819",
         "0.0",
         "0.0",
         "0.0",
         "0.0",
         "0.0",
         "0.0",
         "0.0",
         "0.0",
         "0.0",
         "0.9560394977168998",
         "0.0",
         "0.0",
         "0.0",
         "0.0",
         "0.0",
         "0.0",
         "0.0",
         "0.0",
         "0.0",
         "2.39009874429224",
         "0.0",
         "0.0",
         "0.0",
         "0.0",
         "0.0",
         "0.0",
         "0.0",
         "0.0",
         "0.0",
         "0.0",
         "0.0",
         "0.0",
         "0.0",
         "15.4403939758071",
         "0.0",
         "0.0",
         "0.0",
         "0.0",
         "0.2087831564723739",
         "6.062097924291757",
         "0.0",
         "0.0",
         "0.0",
         "0.0",
         "0.0",
         "0.0",
         "1.39481162875737",
         "4.667286295534387",
         "0.5139069909829521",
         "0.0",
         "0.0",
         "0.0",
         "0.0",
         "0.0",
         "0.0",
         "0.0",
         "0.0",
         "0.0",
         "0.4267640970811231",
         "0.0",
         "0.0",
         "0.0",
         "0.0",
         "0.0",
         "0.0",
         "0.0",
         "0.0",
         "0.0",
         "0.0",
         "0.0",
         "0.0",
         "0.0",
         "0.0",
         "0.0",
         "0.0",
         "0.0",
         "0.0",
         "0.0",
         "0.0",
         "0.0",
         "0.0",
         "0.0",
         "0.6746188186697027",
         "0.0",
         "0.0",
         "0.0",
         "0.0",
         "0.0",
         "0.0",
         "0.0",
         "0.0",
         "0.0",
         "0.0",
         "0.0",
         "0.0",
         "0.0",
         "0.0",
         "0.0",
         "0.0",
         "0.0",
         "0.0",
         "0.0",
         "0.0",
         "0.0",
         "1.277900298431331",
         "0.5139069481573695",
         "0.0",
         "6.141269712850398",
         "8.08",
         "0.6032814797616283",
         "0.0",
         "3.8",
         "6500.0",
         "0.0",
         "0.0",
         "0.0",
         "0.5115237511244134",
         "0.0",
         "0.0",
         "0.4190688515752774",
         "0.0",
         "1.383488349380827",
         "0.0",
         "0.0",
         "0.0",
         "0.0",
         "0.0",
         "0.0",
         "0.0",
         "0.0",
         "6.350669171998708",
         "0.0",
         "0.0",
         "0.0",
         "0.0",
         "0.0",
         "0.0",
         "0.0",
         "0.0",
         "0.0",
         "0.0",
         "1.277900298431331",
         "9.479614481187385",
         "0.44",
         "0.85",
         "0.0",
         "0.0",
         "1.277900298431331",
         "0.0",
         "0.0",
         "0.0",
         "0.0",
         "0.0",
         "0.0",
         "0.0",
         "0.0",
         "0.0",
         "0.0",
         "0.0",
         "0.0",
         "0.0",
         "0.0",
         "0.0",
         "0.0",
         "0.0",
         "0.0",
         "0.0",
         "0.0",
         "0.0",
         "0.0",
         "0.0",
         "0.0",
         "0.0",
         "0.0",
         "0.0",
         "0.0",
         "0.0",
         "0.0",
         "0.0",
         "0.0",
         "1.408462366604367",
         "0.0",
         "0.0",
         "0.0",
         "0.0",
         "0.0",
         "0.0",
         "0.0",
         "0.0",
         "0.0",
         "0.0",
         "1.277900298431331",
         "0.0",
         "0.0",
         "0.0",
         "0.0",
         "0.0",
         "0.0",
         "0.0",
         "0.0",
         "0.0",
         "0.0",
         "0.0",
         "0.0",
         "0.0",
         "0.0",
         "0.02304329080588105",
         "0.2401710027533766",
         "2.941448507710196",
         "0.0",
         "0.0",
         "6.350669171998708",
         "0.0",
         "2.483370890410954",
         "2.445662100456625",
         "0.0",
         "0.0",
         "0.0",
         "0.0",
         "0.0",
         "0.0",
         "0.0",
         "0.0",
         "0.6114155251141546",
         "0.0",
         "0.0",
         "0.0",
         "0.0",
         "0.0",
         "0.0",
         "0.0",
         "0.0",
         "20.0",
         "0.0",
         "0.0",
         "0.0"
        ],
        [
         "7",
         "0.0",
         "0.0",
         "0.0",
         "0.0",
         "0.0",
         "0.0",
         "0.0",
         "0.0",
         "0.0",
         "0.0",
         "0.0",
         "0.0",
         "0.0",
         "0.0",
         "0.0",
         "0.0",
         "0.0",
         "0.0",
         "5.829509132420091",
         "2.390098744292238",
         "3.439410388127852",
         "0.0",
         "0.0",
         "0.0",
         "0.0",
         "0.0",
         "0.0",
         "0.0",
         "0.0",
         "0.0",
         "0.0",
         "0.0",
         "0.0",
         "0.0",
         "0.0",
         "0.0",
         "0.0",
         "0.0",
         "0.0",
         "0.0",
         "0.0",
         "0.0",
         "0.0",
         "0.0",
         "0.0",
         "0.0",
         "0.0",
         "0.0",
         "0.0",
         "0.0",
         "0.0",
         "0.0",
         "0.7238833388427786",
         "0.0",
         "0.0",
         "0.0",
         "0.0",
         "0.0",
         "0.0",
         "0.0",
         "0.0",
         "0.0",
         "0.956039497716895",
         "0.0",
         "0.0",
         "0.0",
         "0.0",
         "0.0",
         "0.0",
         "0.0",
         "0.0",
         "0.0",
         "2.390098744292237",
         "0.0",
         "0.0",
         "0.0",
         "0.0",
         "0.0",
         "0.0",
         "0.0",
         "0.0",
         "0.0",
         "0.0",
         "0.0",
         "0.0",
         "0.0",
         "15.4403939758071",
         "0.0",
         "0.0",
         "0.0",
         "0.0",
         "0.208783156472373",
         "6.062097924291733",
         "0.0",
         "0.0",
         "0.0",
         "0.0",
         "0.0",
         "0.0",
         "1.39481162875737",
         "4.667286295534362",
         "0.513906990982977",
         "0.0",
         "0.0",
         "0.0",
         "0.0",
         "0.0",
         "0.0",
         "0.0",
         "0.0",
         "0.0",
         "0.4267640970811234",
         "0.0",
         "0.0",
         "0.0",
         "0.0",
         "0.0",
         "0.0",
         "0.0",
         "0.0",
         "0.0",
         "0.0",
         "0.0",
         "0.0",
         "0.0",
         "0.0",
         "0.0",
         "0.0",
         "0.0",
         "0.0",
         "0.0",
         "0.0",
         "0.0",
         "0.0",
         "0.0",
         "0.6746188186696966",
         "0.0",
         "0.0",
         "0.0",
         "0.0",
         "0.0",
         "0.0",
         "0.0",
         "0.0",
         "0.0",
         "0.0",
         "0.0",
         "0.0",
         "0.0",
         "0.0",
         "0.0",
         "0.0",
         "0.0",
         "0.0",
         "0.0",
         "0.0",
         "0.0",
         "1.277900298431325",
         "0.5139069481573947",
         "0.0",
         "6.062749712850393",
         "8.08",
         "0.6032814797616284",
         "0.0",
         "3.8",
         "6500.0",
         "0.0",
         "0.0",
         "0.0",
         "0.5115237511244363",
         "0.0",
         "0.0",
         "0.4190688515752772",
         "0.0",
         "1.38348834938083",
         "0.0",
         "0.0",
         "0.0",
         "0.0",
         "0.0",
         "0.0",
         "0.0",
         "0.0",
         "6.350669171998708",
         "0.0",
         "0.0",
         "0.0",
         "0.0",
         "0.0",
         "0.0",
         "0.0",
         "0.0",
         "0.0",
         "0.0",
         "1.277900298431325",
         "9.479614481187374",
         "0.44",
         "0.85",
         "0.0",
         "0.0",
         "1.277900298431325",
         "0.0",
         "0.0",
         "0.0",
         "0.0",
         "0.0",
         "0.0",
         "0.0",
         "0.0",
         "0.0",
         "0.0",
         "0.0",
         "0.0",
         "0.0",
         "0.0",
         "0.0",
         "0.0",
         "0.0",
         "0.0",
         "0.0",
         "0.0",
         "0.0",
         "0.0",
         "0.0",
         "0.0",
         "0.0",
         "0.0",
         "0.0",
         "0.0",
         "0.0",
         "0.0",
         "0.0",
         "0.0",
         "1.408462366604368",
         "0.0",
         "0.0",
         "0.0",
         "0.0",
         "0.0",
         "0.0",
         "0.0",
         "0.0",
         "0.0",
         "0.0",
         "1.277900298431325",
         "0.0",
         "0.0",
         "0.0",
         "0.0",
         "0.0",
         "0.0",
         "0.0",
         "0.0",
         "0.0",
         "0.0",
         "0.0",
         "0.0",
         "0.0",
         "0.0",
         "0.02304329080588128",
         "0.2401710027533768",
         "2.94144850771019",
         "0.0",
         "0.0",
         "6.350669171998708",
         "0.0",
         "2.483370890410959",
         "2.445662100456622",
         "0.0",
         "0.0",
         "0.0",
         "0.0",
         "0.0",
         "0.0",
         "0.0",
         "0.0",
         "0.6114155251141179",
         "0.0",
         "0.0",
         "0.0",
         "0.0",
         "0.0",
         "0.0",
         "0.0",
         "0.0",
         "20.0",
         "0.0",
         "0.0",
         "0.0"
        ],
        [
         "20",
         "0.0",
         "0.0",
         "0.0",
         "0.0",
         "0.0",
         "0.0",
         "0.0",
         "0.0",
         "0.0",
         "0.0",
         "0.0",
         "0.0",
         "0.0",
         "0.0",
         "0.0",
         "0.0",
         "0.0",
         "0.0",
         "5.829509132420092",
         "2.390098744292237",
         "3.439410388127854",
         "0.0",
         "0.0",
         "0.0",
         "0.0",
         "0.0",
         "0.0",
         "0.0",
         "0.0",
         "0.0",
         "0.0",
         "0.0",
         "0.0",
         "0.0",
         "0.0",
         "0.0",
         "0.0",
         "0.0",
         "0.0",
         "0.0",
         "0.0",
         "0.0",
         "0.0",
         "0.0",
         "0.0",
         "0.0",
         "0.0",
         "0.0",
         "0.0",
         "0.0",
         "0.0",
         "0.0",
         "0.7239612934839655",
         "0.0",
         "0.0",
         "0.0",
         "0.0",
         "0.0",
         "0.0",
         "0.0",
         "0.0",
         "0.0",
         "0.9560394977168942",
         "0.0",
         "0.0",
         "0.0",
         "0.0",
         "0.0",
         "0.0",
         "0.0",
         "0.0",
         "0.0",
         "2.390098744292237",
         "0.0",
         "0.0",
         "0.0",
         "0.0",
         "0.0",
         "0.0",
         "0.0",
         "0.0",
         "0.0",
         "0.0",
         "0.0",
         "0.0",
         "0.0",
         "15.44039397580709",
         "0.0",
         "0.0",
         "0.0",
         "0.0",
         "0.2088056402279358",
         "6.053750923139795",
         "0.0",
         "0.0",
         "0.0",
         "0.0",
         "0.0",
         "0.0",
         "1.394811628061787",
         "4.658939295078008",
         "0.5222539921349139",
         "0.0",
         "0.0",
         "0.0",
         "0.0",
         "0.0",
         "0.0",
         "0.0",
         "0.0",
         "0.0",
         "0.4275096431780094",
         "0.0",
         "0.0",
         "0.0",
         "0.0",
         "0.0",
         "0.0",
         "0.0",
         "0.0",
         "0.0",
         "0.0",
         "0.0",
         "0.0",
         "0.0",
         "0.0",
         "0.0",
         "0.0",
         "0.0",
         "0.0",
         "0.0",
         "0.0",
         "0.0",
         "0.0",
         "0.0",
         "0.6747678999050447",
         "0.0",
         "0.0",
         "0.0",
         "0.0",
         "0.0",
         "0.0",
         "0.0",
         "0.0",
         "0.0",
         "0.0",
         "0.0",
         "0.0",
         "0.0",
         "0.0",
         "0.0",
         "0.0",
         "0.0",
         "0.0",
         "0.0",
         "0.0",
         "0.0",
         "1.278049379666673",
         "0.5222539486137476",
         "0.0",
         "6.142386862626974",
         "8.08",
         "0.603281479761628",
         "0.0",
         "3.8",
         "6500.0",
         "0.0",
         "0.0",
         "0.0",
         "0.519200319928518",
         "0.0",
         "0.0",
         "0.4190240774392479",
         "0.0",
         "1.384185411982789",
         "0.0",
         "0.0",
         "0.0",
         "0.0",
         "0.0",
         "0.0",
         "0.0",
         "0.0",
         "6.350669171998707",
         "0.0",
         "0.0",
         "0.0",
         "0.0",
         "0.0",
         "0.0",
         "0.0",
         "0.0",
         "0.0",
         "0.0",
         "1.278049379666673",
         "9.477528395560421",
         "0.44",
         "0.85",
         "0.0",
         "0.0",
         "1.278049379666673",
         "0.0",
         "0.0",
         "0.0",
         "0.0",
         "0.0",
         "0.0",
         "0.0",
         "0.0",
         "0.0",
         "0.0",
         "0.0",
         "0.0",
         "0.0",
         "0.0",
         "0.0",
         "0.0",
         "0.0",
         "0.0",
         "0.0",
         "0.0",
         "0.0",
         "0.0",
         "0.0",
         "0.0",
         "0.0",
         "0.0",
         "0.0",
         "0.0",
         "0.0",
         "0.0",
         "0.0",
         "0.0",
         "1.410922914778909",
         "0.0",
         "0.0",
         "0.0",
         "0.0",
         "0.0",
         "0.0",
         "0.0",
         "0.0",
         "0.0",
         "0.0",
         "1.278049379666673",
         "0.0",
         "0.0",
         "0.0",
         "0.0",
         "0.0",
         "0.0",
         "0.0",
         "0.0",
         "0.0",
         "0.0",
         "0.0",
         "0.0",
         "0.0",
         "0.0",
         "0.02376079564232229",
         "0.2399009329857394",
         "2.941448507710196",
         "0.0",
         "0.0",
         "6.350669171998707",
         "0.0",
         "2.483370890410633",
         "2.445662100456625",
         "0.0",
         "0.0",
         "0.0",
         "0.0",
         "0.0",
         "0.0",
         "0.0",
         "0.0",
         "0.6114155251141518",
         "0.0",
         "0.0",
         "0.0",
         "0.0",
         "0.0",
         "0.0",
         "0.0",
         "0.0",
         "20.0",
         "0.0",
         "0.0",
         "0.0"
        ]
       ],
       "shape": {
        "columns": 289,
        "rows": 5
       }
      },
      "text/html": [
       "<div>\n",
       "<style scoped>\n",
       "    .dataframe tbody tr th:only-of-type {\n",
       "        vertical-align: middle;\n",
       "    }\n",
       "\n",
       "    .dataframe tbody tr th {\n",
       "        vertical-align: top;\n",
       "    }\n",
       "\n",
       "    .dataframe thead th {\n",
       "        text-align: right;\n",
       "    }\n",
       "</style>\n",
       "<table border=\"1\" class=\"dataframe\">\n",
       "  <thead>\n",
       "    <tr style=\"text-align: right;\">\n",
       "      <th>level_0</th>\n",
       "      <th>ACETIC_ACID</th>\n",
       "      <th>ACETONE</th>\n",
       "      <th>ALKALINE_ELECTROLYSIS</th>\n",
       "      <th>ALUMINUM</th>\n",
       "      <th>AL_MAKING</th>\n",
       "      <th>AL_MAKING_HR</th>\n",
       "      <th>AN_DIG</th>\n",
       "      <th>AN_DIG_SI</th>\n",
       "      <th>BATTERY</th>\n",
       "      <th>BENZENE</th>\n",
       "      <th>...</th>\n",
       "      <th>UNMINEABLE_COAL_SEAM</th>\n",
       "      <th>URANIUM</th>\n",
       "      <th>WASTE</th>\n",
       "      <th>WASTE_BIO</th>\n",
       "      <th>WASTE_FOS</th>\n",
       "      <th>WET_BIOMASS</th>\n",
       "      <th>WIND</th>\n",
       "      <th>WOOD</th>\n",
       "      <th>WOOD_METHANOL</th>\n",
       "      <th>XYLENE</th>\n",
       "    </tr>\n",
       "    <tr>\n",
       "      <th>Run</th>\n",
       "      <th></th>\n",
       "      <th></th>\n",
       "      <th></th>\n",
       "      <th></th>\n",
       "      <th></th>\n",
       "      <th></th>\n",
       "      <th></th>\n",
       "      <th></th>\n",
       "      <th></th>\n",
       "      <th></th>\n",
       "      <th></th>\n",
       "      <th></th>\n",
       "      <th></th>\n",
       "      <th></th>\n",
       "      <th></th>\n",
       "      <th></th>\n",
       "      <th></th>\n",
       "      <th></th>\n",
       "      <th></th>\n",
       "      <th></th>\n",
       "      <th></th>\n",
       "    </tr>\n",
       "  </thead>\n",
       "  <tbody>\n",
       "    <tr>\n",
       "      <th>11</th>\n",
       "      <td>0.0</td>\n",
       "      <td>0.0</td>\n",
       "      <td>0.0</td>\n",
       "      <td>0.0</td>\n",
       "      <td>0.0</td>\n",
       "      <td>0.0</td>\n",
       "      <td>0.0</td>\n",
       "      <td>0.0</td>\n",
       "      <td>0.0</td>\n",
       "      <td>0.0</td>\n",
       "      <td>...</td>\n",
       "      <td>0.0</td>\n",
       "      <td>0.0</td>\n",
       "      <td>0.0</td>\n",
       "      <td>0.0</td>\n",
       "      <td>0.0</td>\n",
       "      <td>0.0</td>\n",
       "      <td>20.0</td>\n",
       "      <td>0.0</td>\n",
       "      <td>0.0</td>\n",
       "      <td>0.0</td>\n",
       "    </tr>\n",
       "    <tr>\n",
       "      <th>10</th>\n",
       "      <td>0.0</td>\n",
       "      <td>0.0</td>\n",
       "      <td>0.0</td>\n",
       "      <td>0.0</td>\n",
       "      <td>0.0</td>\n",
       "      <td>0.0</td>\n",
       "      <td>0.0</td>\n",
       "      <td>0.0</td>\n",
       "      <td>0.0</td>\n",
       "      <td>0.0</td>\n",
       "      <td>...</td>\n",
       "      <td>0.0</td>\n",
       "      <td>0.0</td>\n",
       "      <td>0.0</td>\n",
       "      <td>0.0</td>\n",
       "      <td>0.0</td>\n",
       "      <td>0.0</td>\n",
       "      <td>20.0</td>\n",
       "      <td>0.0</td>\n",
       "      <td>0.0</td>\n",
       "      <td>0.0</td>\n",
       "    </tr>\n",
       "    <tr>\n",
       "      <th>19</th>\n",
       "      <td>0.0</td>\n",
       "      <td>0.0</td>\n",
       "      <td>0.0</td>\n",
       "      <td>0.0</td>\n",
       "      <td>0.0</td>\n",
       "      <td>0.0</td>\n",
       "      <td>0.0</td>\n",
       "      <td>0.0</td>\n",
       "      <td>0.0</td>\n",
       "      <td>0.0</td>\n",
       "      <td>...</td>\n",
       "      <td>0.0</td>\n",
       "      <td>0.0</td>\n",
       "      <td>0.0</td>\n",
       "      <td>0.0</td>\n",
       "      <td>0.0</td>\n",
       "      <td>0.0</td>\n",
       "      <td>20.0</td>\n",
       "      <td>0.0</td>\n",
       "      <td>0.0</td>\n",
       "      <td>0.0</td>\n",
       "    </tr>\n",
       "    <tr>\n",
       "      <th>7</th>\n",
       "      <td>0.0</td>\n",
       "      <td>0.0</td>\n",
       "      <td>0.0</td>\n",
       "      <td>0.0</td>\n",
       "      <td>0.0</td>\n",
       "      <td>0.0</td>\n",
       "      <td>0.0</td>\n",
       "      <td>0.0</td>\n",
       "      <td>0.0</td>\n",
       "      <td>0.0</td>\n",
       "      <td>...</td>\n",
       "      <td>0.0</td>\n",
       "      <td>0.0</td>\n",
       "      <td>0.0</td>\n",
       "      <td>0.0</td>\n",
       "      <td>0.0</td>\n",
       "      <td>0.0</td>\n",
       "      <td>20.0</td>\n",
       "      <td>0.0</td>\n",
       "      <td>0.0</td>\n",
       "      <td>0.0</td>\n",
       "    </tr>\n",
       "    <tr>\n",
       "      <th>20</th>\n",
       "      <td>0.0</td>\n",
       "      <td>0.0</td>\n",
       "      <td>0.0</td>\n",
       "      <td>0.0</td>\n",
       "      <td>0.0</td>\n",
       "      <td>0.0</td>\n",
       "      <td>0.0</td>\n",
       "      <td>0.0</td>\n",
       "      <td>0.0</td>\n",
       "      <td>0.0</td>\n",
       "      <td>...</td>\n",
       "      <td>0.0</td>\n",
       "      <td>0.0</td>\n",
       "      <td>0.0</td>\n",
       "      <td>0.0</td>\n",
       "      <td>0.0</td>\n",
       "      <td>0.0</td>\n",
       "      <td>20.0</td>\n",
       "      <td>0.0</td>\n",
       "      <td>0.0</td>\n",
       "      <td>0.0</td>\n",
       "    </tr>\n",
       "  </tbody>\n",
       "</table>\n",
       "<p>5 rows × 289 columns</p>\n",
       "</div>"
      ],
      "text/plain": [
       "level_0  ACETIC_ACID  ACETONE  ALKALINE_ELECTROLYSIS  ALUMINUM  AL_MAKING  \\\n",
       "Run                                                                         \n",
       "11               0.0      0.0                    0.0       0.0        0.0   \n",
       "10               0.0      0.0                    0.0       0.0        0.0   \n",
       "19               0.0      0.0                    0.0       0.0        0.0   \n",
       "7                0.0      0.0                    0.0       0.0        0.0   \n",
       "20               0.0      0.0                    0.0       0.0        0.0   \n",
       "\n",
       "level_0  AL_MAKING_HR  AN_DIG  AN_DIG_SI  BATTERY  BENZENE  ...  \\\n",
       "Run                                                         ...   \n",
       "11                0.0     0.0        0.0      0.0      0.0  ...   \n",
       "10                0.0     0.0        0.0      0.0      0.0  ...   \n",
       "19                0.0     0.0        0.0      0.0      0.0  ...   \n",
       "7                 0.0     0.0        0.0      0.0      0.0  ...   \n",
       "20                0.0     0.0        0.0      0.0      0.0  ...   \n",
       "\n",
       "level_0  UNMINEABLE_COAL_SEAM  URANIUM  WASTE  WASTE_BIO  WASTE_FOS  \\\n",
       "Run                                                                   \n",
       "11                        0.0      0.0    0.0        0.0        0.0   \n",
       "10                        0.0      0.0    0.0        0.0        0.0   \n",
       "19                        0.0      0.0    0.0        0.0        0.0   \n",
       "7                         0.0      0.0    0.0        0.0        0.0   \n",
       "20                        0.0      0.0    0.0        0.0        0.0   \n",
       "\n",
       "level_0  WET_BIOMASS  WIND  WOOD  WOOD_METHANOL  XYLENE  \n",
       "Run                                                      \n",
       "11               0.0  20.0   0.0            0.0     0.0  \n",
       "10               0.0  20.0   0.0            0.0     0.0  \n",
       "19               0.0  20.0   0.0            0.0     0.0  \n",
       "7                0.0  20.0   0.0            0.0     0.0  \n",
       "20               0.0  20.0   0.0            0.0     0.0  \n",
       "\n",
       "[5 rows x 289 columns]"
      ]
     },
     "execution_count": 12,
     "metadata": {},
     "output_type": "execute_result"
    }
   ],
   "source": [
    "df_annual = pd.pivot_table(df_annual, values='F_Mult', index=['Run'], columns='level_0')\n",
    "df_annual.sample(5)"
   ]
  },
  {
   "cell_type": "markdown",
   "metadata": {},
   "source": [
    "\n",
    "\n",
    "- This format is suitable for statistical analysis and visualization.\n",
    "\n",
    "---\n",
    "## Visualize Technology Distribution\n",
    "\n",
    "### Plot Pairwise Relationships\n",
    "\n",
    "We use Seaborn's `pairplot` function to visualize pairwise relationships between the capacities of different technologies:"
   ]
  },
  {
   "cell_type": "code",
   "execution_count": null,
   "metadata": {
    "ExecuteTime": {
     "end_time": "2024-10-01T08:39:58.141785Z",
     "start_time": "2024-10-01T08:39:50.793966Z"
    }
   },
   "outputs": [
    {
     "data": {
      "text/plain": [
       "<seaborn.axisgrid.PairGrid at 0x1324834d0>"
      ]
     },
     "metadata": {},
     "output_type": "display_data"
    },
    {
     "data": {
      "image/png": "[encoded data removed]",
      "text/plain": [
       "<Figure size 2000x2000 with 72 Axes>"
      ]
     },
     "metadata": {},
     "output_type": "display_data"
    }
   ],
   "source": [
    "cols = ['CCGT_CC', 'DEC_COGEN_GAS', 'DEC_HP_ELEC', 'GASIFICATION_H2', 'IND_BOILER_WASTE', 'IND_COGEN_WASTE', 'PV_LV', 'WIND']\n",
    "display(sns.pairplot(df_annual[cols].fillna(0), diag_kind=\"kde\"))"
   ]
  },
  {
   "cell_type": "markdown",
   "metadata": {},
   "source": [
    "\n",
    "\n",
    "- **`cols`**: List of technologies to include in the plot.\n",
    "- **`fillna(0)`**: Replaces NaN values with zero for plotting purposes.\n",
    "- **`diag_kind=\"kde\"`**: Uses Kernel Density Estimation for the diagonal plots.\n",
    "\n",
    "---\n",
    "## Semi-Automated Sequence Creation\n",
    "\n",
    "In this section, we automate the generation of parameter sequences based on existing model parameters.\n",
    "\n",
    "### Initialize the Model\n",
    "\n",
    "We initialize the EnergyScope model again:"
   ]
  },
  {
   "cell_type": "code",
   "execution_count": null,
   "metadata": {
    "ExecuteTime": {
     "end_time": "2024-10-01T08:40:02.144425Z",
     "start_time": "2024-10-01T08:40:02.138900Z"
    }
   },
   "outputs": [],
   "source": [
    "es_infra_ch = Energyscope(model=infrastructure_ch_2050)"
   ]
  },
  {
   "cell_type": "markdown",
   "metadata": {},
   "source": [
    "\n",
    "\n",
    "### Run the Base Model\n",
    "\n",
    "We perform an initial calculation to obtain baseline parameter values:"
   ]
  },
  {
   "cell_type": "code",
   "execution_count": null,
   "metadata": {
    "ExecuteTime": {
     "end_time": "2024-10-01T08:40:06.126120Z",
     "start_time": "2024-10-01T08:40:03.663758Z"
    }
   },
   "outputs": [
    {
     "name": "stdout",
     "output_type": "stream",
     "text": [
      "Gurobi 11.0.0:Gurobi 11.0.0: optimal solution; objective 8151.373244\n",
      "6079 simplex iteration(s)\n",
      "1 branching node(s)\n",
      "absmipgap=0.102405, relmipgap=1.25629e-05\n"
     ]
    }
   ],
   "source": [
    "# Solve the model\n",
    "results_ch = es_infra_ch.calc()"
   ]
  },
  {
   "cell_type": "markdown",
   "metadata": {},
   "source": [
    "\n",
    "\n",
    "### Extract and Adjust Investment Costs\n",
    "\n",
    "We extract the investment costs (`c_inv`) from the model parameters and define new bounds for uncertainty analysis:"
   ]
  },
  {
   "cell_type": "code",
   "execution_count": null,
   "metadata": {
    "ExecuteTime": {
     "end_time": "2024-10-01T08:40:06.137471Z",
     "start_time": "2024-10-01T08:40:06.131588Z"
    }
   },
   "outputs": [],
   "source": [
    "c_inv = results_ch.parameters['c_inv'].drop('Run', axis=1)\n",
    "c_inv['lower_bound'] = 0.5 * c_inv['c_inv']\n",
    "c_inv['upper_bound'] = 1.5 * c_inv['c_inv']\n",
    "c_inv = c_inv.reset_index(names=['name']).drop('c_inv', axis=1)\n",
    "c_inv = c_inv.loc[c_inv['lower_bound'] != 0, :]"
   ]
  },
  {
   "cell_type": "markdown",
   "metadata": {},
   "source": [
    "\n",
    "\n",
    "- **Adjust Bounds**: We set the lower and upper bounds to ±50% of the original investment costs.\n",
    "- **Filter Out Zero Costs**: Remove parameters where the lower bound is zero.\n",
    "\n",
    "### Select Key Technologies\n",
    "\n",
    "Due to computational limitations, we select a subset of technologies to include in the uncertainty analysis:"
   ]
  },
  {
   "cell_type": "code",
   "execution_count": null,
   "metadata": {
    "ExecuteTime": {
     "end_time": "2024-10-01T08:40:08.167868Z",
     "start_time": "2024-10-01T08:40:08.163958Z"
    }
   },
   "outputs": [],
   "source": [
    "selected_technologies = ['PV_LV', 'PV_MV', 'PV_HV', 'PV_EHV', 'DEC_HP_ELEC', 'WIND', 'GASIFICATION_H2', 'GASIFICATION_SNG']\n",
    "c_inv = c_inv.loc[c_inv['name'].isin(selected_technologies), :]"
   ]
  },
  {
   "cell_type": "markdown",
   "metadata": {},
   "source": [
    "\n",
    "\n",
    "- **`selected_technologies`**: List of technologies chosen for analysis.\n",
    "\n",
    "### Convert Parameters to Dictionary Format\n",
    "\n",
    "We convert the DataFrame of parameters to a list of dictionaries required by the `gen_sobol_sequence` function:"
   ]
  },
  {
   "cell_type": "code",
   "execution_count": null,
   "metadata": {
    "ExecuteTime": {
     "end_time": "2024-10-01T08:40:10.176273Z",
     "start_time": "2024-10-01T08:40:10.171810Z"
    }
   },
   "outputs": [],
   "source": [
    "c_inv = c_inv.to_dict(orient='records')"
   ]
  },
  {
   "cell_type": "markdown",
   "metadata": {},
   "source": [
    "\n",
    "\n",
    "### Generate Sobol Sequence for Selected Parameters\n",
    "\n",
    "We generate a Sobol sequence for the selected parameters:"
   ]
  },
  {
   "cell_type": "code",
   "execution_count": null,
   "metadata": {
    "ExecuteTime": {
     "end_time": "2024-10-01T08:40:11.985815Z",
     "start_time": "2024-10-01T08:40:11.981229Z"
    }
   },
   "outputs": [],
   "source": [
    "seq, prob = gen_sobol_sequence(parameters=c_inv, trajectories=8)"
   ]
  },
  {
   "cell_type": "markdown",
   "metadata": {},
   "source": [
    "\n",
    "\n",
    "- **`trajectories=8`**: Generates more samples for a more detailed analysis.\n",
    "\n",
    "### Display Number of Generated Samples"
   ]
  },
  {
   "cell_type": "code",
   "execution_count": null,
   "metadata": {
    "ExecuteTime": {
     "end_time": "2024-10-01T08:40:13.760537Z",
     "start_time": "2024-10-01T08:40:13.756312Z"
    }
   },
   "outputs": [
    {
     "data": {
      "text/plain": [
       "80"
      ]
     },
     "metadata": {},
     "output_type": "display_data"
    }
   ],
   "source": [
    "display(len(seq))"
   ]
  },
  {
   "cell_type": "markdown",
   "metadata": {},
   "source": [
    "\n",
    "\n",
    "### Prepare Parameter DataFrame\n",
    "\n",
    "We prepare the DataFrame for the new sequence:"
   ]
  },
  {
   "cell_type": "code",
   "execution_count": null,
   "metadata": {
    "ExecuteTime": {
     "end_time": "2024-10-01T08:40:15.525313Z",
     "start_time": "2024-10-01T08:40:15.509758Z"
    }
   },
   "outputs": [
    {
     "data": {
      "text/html": [
       "<div>\n",
       "<style scoped>\n",
       "    .dataframe tbody tr th:only-of-type {\n",
       "        vertical-align: middle;\n",
       "    }\n",
       "\n",
       "    .dataframe tbody tr th {\n",
       "        vertical-align: top;\n",
       "    }\n",
       "\n",
       "    .dataframe thead th {\n",
       "        text-align: right;\n",
       "    }\n",
       "</style>\n",
       "<table border=\"1\" class=\"dataframe\">\n",
       "  <thead>\n",
       "    <tr style=\"text-align: right;\">\n",
       "      <th></th>\n",
       "      <th>index0</th>\n",
       "      <th>value0</th>\n",
       "      <th>value1</th>\n",
       "      <th>value2</th>\n",
       "      <th>value3</th>\n",
       "      <th>value4</th>\n",
       "      <th>value5</th>\n",
       "      <th>value6</th>\n",
       "      <th>value7</th>\n",
       "      <th>value8</th>\n",
       "      <th>...</th>\n",
       "      <th>value74</th>\n",
       "      <th>value75</th>\n",
       "      <th>value76</th>\n",
       "      <th>value77</th>\n",
       "      <th>value78</th>\n",
       "      <th>value79</th>\n",
       "      <th>param</th>\n",
       "      <th>index1</th>\n",
       "      <th>index2</th>\n",
       "      <th>index3</th>\n",
       "    </tr>\n",
       "  </thead>\n",
       "  <tbody>\n",
       "    <tr>\n",
       "      <th>0</th>\n",
       "      <td>DEC_HP_ELEC</td>\n",
       "      <td>311.985938</td>\n",
       "      <td>509.029688</td>\n",
       "      <td>311.985938</td>\n",
       "      <td>311.985938</td>\n",
       "      <td>311.985938</td>\n",
       "      <td>311.985938</td>\n",
       "      <td>311.985938</td>\n",
       "      <td>311.985938</td>\n",
       "      <td>311.985938</td>\n",
       "      <td>...</td>\n",
       "      <td>377.667188</td>\n",
       "      <td>377.667188</td>\n",
       "      <td>377.667188</td>\n",
       "      <td>377.667188</td>\n",
       "      <td>377.667188</td>\n",
       "      <td>706.073438</td>\n",
       "      <td>c_inv</td>\n",
       "      <td>NaN</td>\n",
       "      <td>NaN</td>\n",
       "      <td>NaN</td>\n",
       "    </tr>\n",
       "    <tr>\n",
       "      <th>1</th>\n",
       "      <td>GASIFICATION_H2</td>\n",
       "      <td>1383.181250</td>\n",
       "      <td>1383.181250</td>\n",
       "      <td>936.993750</td>\n",
       "      <td>1383.181250</td>\n",
       "      <td>1383.181250</td>\n",
       "      <td>1383.181250</td>\n",
       "      <td>1383.181250</td>\n",
       "      <td>1383.181250</td>\n",
       "      <td>1383.181250</td>\n",
       "      <td>...</td>\n",
       "      <td>1918.606250</td>\n",
       "      <td>1918.606250</td>\n",
       "      <td>1918.606250</td>\n",
       "      <td>1918.606250</td>\n",
       "      <td>1918.606250</td>\n",
       "      <td>1829.368750</td>\n",
       "      <td>c_inv</td>\n",
       "      <td>NaN</td>\n",
       "      <td>NaN</td>\n",
       "      <td>NaN</td>\n",
       "    </tr>\n",
       "    <tr>\n",
       "      <th>2</th>\n",
       "      <td>GASIFICATION_SNG</td>\n",
       "      <td>2838.544063</td>\n",
       "      <td>2838.544063</td>\n",
       "      <td>2838.544063</td>\n",
       "      <td>1739.752812</td>\n",
       "      <td>2838.544063</td>\n",
       "      <td>2838.544063</td>\n",
       "      <td>2838.544063</td>\n",
       "      <td>2838.544063</td>\n",
       "      <td>2838.544063</td>\n",
       "      <td>...</td>\n",
       "      <td>1739.752812</td>\n",
       "      <td>1739.752812</td>\n",
       "      <td>1739.752812</td>\n",
       "      <td>1739.752812</td>\n",
       "      <td>1739.752812</td>\n",
       "      <td>3571.071563</td>\n",
       "      <td>c_inv</td>\n",
       "      <td>NaN</td>\n",
       "      <td>NaN</td>\n",
       "      <td>NaN</td>\n",
       "    </tr>\n",
       "    <tr>\n",
       "      <th>3</th>\n",
       "      <td>PV_EHV</td>\n",
       "      <td>1503.125000</td>\n",
       "      <td>1503.125000</td>\n",
       "      <td>1503.125000</td>\n",
       "      <td>1503.125000</td>\n",
       "      <td>1178.125000</td>\n",
       "      <td>1503.125000</td>\n",
       "      <td>1503.125000</td>\n",
       "      <td>1503.125000</td>\n",
       "      <td>1503.125000</td>\n",
       "      <td>...</td>\n",
       "      <td>1015.625000</td>\n",
       "      <td>1340.625000</td>\n",
       "      <td>1340.625000</td>\n",
       "      <td>1340.625000</td>\n",
       "      <td>1340.625000</td>\n",
       "      <td>1015.625000</td>\n",
       "      <td>c_inv</td>\n",
       "      <td>NaN</td>\n",
       "      <td>NaN</td>\n",
       "      <td>NaN</td>\n",
       "    </tr>\n",
       "    <tr>\n",
       "      <th>4</th>\n",
       "      <td>PV_HV</td>\n",
       "      <td>367.187500</td>\n",
       "      <td>367.187500</td>\n",
       "      <td>367.187500</td>\n",
       "      <td>367.187500</td>\n",
       "      <td>367.187500</td>\n",
       "      <td>543.437500</td>\n",
       "      <td>367.187500</td>\n",
       "      <td>367.187500</td>\n",
       "      <td>367.187500</td>\n",
       "      <td>...</td>\n",
       "      <td>425.937500</td>\n",
       "      <td>249.687500</td>\n",
       "      <td>425.937500</td>\n",
       "      <td>425.937500</td>\n",
       "      <td>425.937500</td>\n",
       "      <td>249.687500</td>\n",
       "      <td>c_inv</td>\n",
       "      <td>NaN</td>\n",
       "      <td>NaN</td>\n",
       "      <td>NaN</td>\n",
       "    </tr>\n",
       "    <tr>\n",
       "      <th>5</th>\n",
       "      <td>PV_LV</td>\n",
       "      <td>954.687500</td>\n",
       "      <td>954.687500</td>\n",
       "      <td>954.687500</td>\n",
       "      <td>954.687500</td>\n",
       "      <td>954.687500</td>\n",
       "      <td>954.687500</td>\n",
       "      <td>751.562500</td>\n",
       "      <td>954.687500</td>\n",
       "      <td>954.687500</td>\n",
       "      <td>...</td>\n",
       "      <td>710.937500</td>\n",
       "      <td>710.937500</td>\n",
       "      <td>832.812500</td>\n",
       "      <td>710.937500</td>\n",
       "      <td>710.937500</td>\n",
       "      <td>832.812500</td>\n",
       "      <td>c_inv</td>\n",
       "      <td>NaN</td>\n",
       "      <td>NaN</td>\n",
       "      <td>NaN</td>\n",
       "    </tr>\n",
       "    <tr>\n",
       "      <th>6</th>\n",
       "      <td>PV_MV</td>\n",
       "      <td>629.062500</td>\n",
       "      <td>629.062500</td>\n",
       "      <td>629.062500</td>\n",
       "      <td>629.062500</td>\n",
       "      <td>629.062500</td>\n",
       "      <td>629.062500</td>\n",
       "      <td>629.062500</td>\n",
       "      <td>514.687500</td>\n",
       "      <td>629.062500</td>\n",
       "      <td>...</td>\n",
       "      <td>400.312500</td>\n",
       "      <td>400.312500</td>\n",
       "      <td>400.312500</td>\n",
       "      <td>590.937500</td>\n",
       "      <td>400.312500</td>\n",
       "      <td>590.937500</td>\n",
       "      <td>c_inv</td>\n",
       "      <td>NaN</td>\n",
       "      <td>NaN</td>\n",
       "      <td>NaN</td>\n",
       "    </tr>\n",
       "    <tr>\n",
       "      <th>7</th>\n",
       "      <td>WIND</td>\n",
       "      <td>1969.426875</td>\n",
       "      <td>1969.426875</td>\n",
       "      <td>1969.426875</td>\n",
       "      <td>1969.426875</td>\n",
       "      <td>1969.426875</td>\n",
       "      <td>1969.426875</td>\n",
       "      <td>1969.426875</td>\n",
       "      <td>1969.426875</td>\n",
       "      <td>778.610625</td>\n",
       "      <td>...</td>\n",
       "      <td>1419.819375</td>\n",
       "      <td>1419.819375</td>\n",
       "      <td>1419.819375</td>\n",
       "      <td>1419.819375</td>\n",
       "      <td>961.813125</td>\n",
       "      <td>961.813125</td>\n",
       "      <td>c_inv</td>\n",
       "      <td>NaN</td>\n",
       "      <td>NaN</td>\n",
       "      <td>NaN</td>\n",
       "    </tr>\n",
       "  </tbody>\n",
       "</table>\n",
       "<p>8 rows × 85 columns</p>\n",
       "</div>"
      ],
      "text/plain": [
       "             index0       value0       value1       value2       value3  \\\n",
       "0       DEC_HP_ELEC   311.985938   509.029688   311.985938   311.985938   \n",
       "1   GASIFICATION_H2  1383.181250  1383.181250   936.993750  1383.181250   \n",
       "2  GASIFICATION_SNG  2838.544063  2838.544063  2838.544063  1739.752812   \n",
       "3            PV_EHV  1503.125000  1503.125000  1503.125000  1503.125000   \n",
       "4             PV_HV   367.187500   367.187500   367.187500   367.187500   \n",
       "5             PV_LV   954.687500   954.687500   954.687500   954.687500   \n",
       "6             PV_MV   629.062500   629.062500   629.062500   629.062500   \n",
       "7              WIND  1969.426875  1969.426875  1969.426875  1969.426875   \n",
       "\n",
       "        value4       value5       value6       value7       value8  ...  \\\n",
       "0   311.985938   311.985938   311.985938   311.985938   311.985938  ...   \n",
       "1  1383.181250  1383.181250  1383.181250  1383.181250  1383.181250  ...   \n",
       "2  2838.544063  2838.544063  2838.544063  2838.544063  2838.544063  ...   \n",
       "3  1178.125000  1503.125000  1503.125000  1503.125000  1503.125000  ...   \n",
       "4   367.187500   543.437500   367.187500   367.187500   367.187500  ...   \n",
       "5   954.687500   954.687500   751.562500   954.687500   954.687500  ...   \n",
       "6   629.062500   629.062500   629.062500   514.687500   629.062500  ...   \n",
       "7  1969.426875  1969.426875  1969.426875  1969.426875   778.610625  ...   \n",
       "\n",
       "       value74      value75      value76      value77      value78  \\\n",
       "0   377.667188   377.667188   377.667188   377.667188   377.667188   \n",
       "1  1918.606250  1918.606250  1918.606250  1918.606250  1918.606250   \n",
       "2  1739.752812  1739.752812  1739.752812  1739.752812  1739.752812   \n",
       "3  1015.625000  1340.625000  1340.625000  1340.625000  1340.625000   \n",
       "4   425.937500   249.687500   425.937500   425.937500   425.937500   \n",
       "5   710.937500   710.937500   832.812500   710.937500   710.937500   \n",
       "6   400.312500   400.312500   400.312500   590.937500   400.312500   \n",
       "7  1419.819375  1419.819375  1419.819375  1419.819375   961.813125   \n",
       "\n",
       "       value79  param  index1  index2  index3  \n",
       "0   706.073438  c_inv     NaN     NaN     NaN  \n",
       "1  1829.368750  c_inv     NaN     NaN     NaN  \n",
       "2  3571.071563  c_inv     NaN     NaN     NaN  \n",
       "3  1015.625000  c_inv     NaN     NaN     NaN  \n",
       "4   249.687500  c_inv     NaN     NaN     NaN  \n",
       "5   832.812500  c_inv     NaN     NaN     NaN  \n",
       "6   590.937500  c_inv     NaN     NaN     NaN  \n",
       "7   961.813125  c_inv     NaN     NaN     NaN  \n",
       "\n",
       "[8 rows x 85 columns]"
      ]
     },
     "execution_count": 20,
     "metadata": {},
     "output_type": "execute_result"
    }
   ],
   "source": [
    "df = pd.DataFrame(seq, columns=prob['names']).T\n",
    "df.columns = ['value' + str(x) for x in list(df.columns) if not str(x) == \"nan\"]\n",
    "df = df.reset_index(names=['index0'])\n",
    "df['param'] = 'c_inv'\n",
    "\n",
    "df['index1'] = np.nan\n",
    "df['index2'] = np.nan\n",
    "df['index3'] = np.nan\n",
    "df"
   ]
  },
  {
   "cell_type": "markdown",
   "metadata": {},
   "source": [
    "---\n",
    "\n",
    "## Run Optimizations with New Parameter Sets\n",
    "\n",
    "### Define Solver Options\n",
    "\n",
    "We define the solver options again (same as before):"
   ]
  },
  {
   "cell_type": "code",
   "execution_count": null,
   "metadata": {
    "ExecuteTime": {
     "end_time": "2024-10-01T08:40:19.418521Z",
     "start_time": "2024-10-01T08:40:19.413848Z"
    }
   },
   "outputs": [],
   "source": [
    "solver_options = {\n",
    "    'solver': 'gurobi',\n",
    "    'presolve_eps': 5e-9,\n",
    "    'presolve_fixeps': 7e-10,\n",
    "    'mipgap': 1e-10,\n",
    "    'display_eps': 1e-10,\n",
    "    'omit_zero_rows': 1,\n",
    "    'omit_zero_cols': 1,\n",
    "    'show_stats': 0,\n",
    "    'solver_msg': 0,\n",
    "    'cplex_options': 'integrality=5e-7',\n",
    "}"
   ]
  },
  {
   "cell_type": "markdown",
   "metadata": {},
   "source": [
    "\n",
    "\n",
    "### Initialize the Model with Solver Options"
   ]
  },
  {
   "cell_type": "code",
   "execution_count": null,
   "metadata": {
    "ExecuteTime": {
     "end_time": "2024-10-01T08:40:21.427993Z",
     "start_time": "2024-10-01T08:40:21.423017Z"
    }
   },
   "outputs": [],
   "source": [
    "es_infra_ch = Energyscope(model=infrastructure_ch_2050, solver_options=solver_options)"
   ]
  },
  {
   "cell_type": "markdown",
   "metadata": {},
   "source": [
    "\n",
    "\n",
    "### Run Multiple Optimizations\n",
    "\n",
    "We run the model multiple times with the new parameter sets:"
   ]
  },
  {
   "cell_type": "code",
   "execution_count": null,
   "metadata": {
    "ExecuteTime": {
     "end_time": "2024-10-01T08:43:05.905313Z",
     "start_time": "2024-10-01T08:40:23.220711Z"
    }
   },
   "outputs": [
    {
     "name": "stdout",
     "output_type": "stream",
     "text": [
      "Gurobi 11.0.0:Gurobi 11.0.0:1\n",
      "Gurobi 11.0.0:2\n",
      "Gurobi 11.0.0:3\n",
      "Gurobi 11.0.0:4\n",
      "Gurobi 11.0.0:5\n",
      "Gurobi 11.0.0:6\n",
      "Gurobi 11.0.0:7\n",
      "Gurobi 11.0.0:8\n",
      "Gurobi 11.0.0:9\n",
      "Gurobi 11.0.0:10\n",
      "Gurobi 11.0.0:11\n",
      "Gurobi 11.0.0:12\n",
      "Gurobi 11.0.0:13\n",
      "Gurobi 11.0.0:14\n",
      "Gurobi 11.0.0:15\n",
      "Gurobi 11.0.0:16\n",
      "Gurobi 11.0.0:17\n",
      "Gurobi 11.0.0:18\n",
      "Gurobi 11.0.0:19\n",
      "Gurobi 11.0.0:20\n",
      "Gurobi 11.0.0:21\n",
      "Gurobi 11.0.0:22\n",
      "Gurobi 11.0.0:23\n",
      "Gurobi 11.0.0:24\n",
      "Gurobi 11.0.0:25\n",
      "Gurobi 11.0.0:26\n",
      "Gurobi 11.0.0:27\n",
      "Gurobi 11.0.0:28\n",
      "Gurobi 11.0.0:29\n",
      "Gurobi 11.0.0:30\n",
      "Gurobi 11.0.0:31\n",
      "Gurobi 11.0.0:32\n",
      "Gurobi 11.0.0:33\n",
      "Gurobi 11.0.0:34\n",
      "Gurobi 11.0.0:35\n",
      "Gurobi 11.0.0:36\n",
      "Gurobi 11.0.0:37\n",
      "Gurobi 11.0.0:38\n",
      "Gurobi 11.0.0:39\n",
      "Gurobi 11.0.0:40\n",
      "Gurobi 11.0.0:41\n",
      "Gurobi 11.0.0:42\n",
      "Gurobi 11.0.0:43\n",
      "Gurobi 11.0.0:44\n",
      "Gurobi 11.0.0:45\n",
      "Gurobi 11.0.0:46\n",
      "Gurobi 11.0.0:47\n",
      "Gurobi 11.0.0:48\n",
      "Gurobi 11.0.0:49\n",
      "Gurobi 11.0.0:50\n",
      "Gurobi 11.0.0:51\n",
      "Gurobi 11.0.0:52\n",
      "Gurobi 11.0.0:53\n",
      "Gurobi 11.0.0:54\n",
      "Gurobi 11.0.0:55\n",
      "Gurobi 11.0.0:56\n",
      "Gurobi 11.0.0:57\n",
      "Gurobi 11.0.0:58\n",
      "Gurobi 11.0.0:59\n",
      "Gurobi 11.0.0:60\n",
      "Gurobi 11.0.0:61\n",
      "Gurobi 11.0.0:62\n",
      "Gurobi 11.0.0:63\n",
      "Gurobi 11.0.0:64\n",
      "Gurobi 11.0.0:65\n",
      "Gurobi 11.0.0:66\n",
      "Gurobi 11.0.0:67\n",
      "Gurobi 11.0.0:68\n",
      "Gurobi 11.0.0:69\n",
      "Gurobi 11.0.0:70\n",
      "Gurobi 11.0.0:71\n",
      "Gurobi 11.0.0:72\n",
      "Gurobi 11.0.0:73\n",
      "Gurobi 11.0.0:74\n",
      "Gurobi 11.0.0:75\n",
      "Gurobi 11.0.0:76\n",
      "Gurobi 11.0.0:77\n",
      "Gurobi 11.0.0:78\n",
      "Gurobi 11.0.0:79\n",
      "Gurobi 11.0.0:80\n"
     ]
    }
   ],
   "source": [
    "results_ch_n = es_infra_ch.calc_sequence(df)"
   ]
  },
  {
   "cell_type": "markdown",
   "metadata": {},
   "source": [
    "\n",
    "---\n",
    "\n",
    "## Post-Process and Analyze Results\n",
    "\n",
    "### Post-Process Results"
   ]
  },
  {
   "cell_type": "code",
   "execution_count": null,
   "metadata": {
    "ExecuteTime": {
     "end_time": "2024-10-01T08:43:08.728421Z",
     "start_time": "2024-10-01T08:43:08.627614Z"
    }
   },
   "outputs": [],
   "source": [
    "# Postcompute KPIs\n",
    "results_ch_n = postprocessing(results_ch_n, df_monthly=False)"
   ]
  },
  {
   "cell_type": "markdown",
   "metadata": {},
   "source": [
    "\n",
    "\n",
    "- **`df_monthly=False`**: We are focusing on annual data in this case.\n",
    "\n",
    "### Extract and Prepare Annual Results"
   ]
  },
  {
   "cell_type": "code",
   "execution_count": null,
   "metadata": {
    "ExecuteTime": {
     "end_time": "2024-10-01T08:43:10.620012Z",
     "start_time": "2024-10-01T08:43:10.595412Z"
    }
   },
   "outputs": [
    {
     "data": {
      "text/html": [
       "<div>\n",
       "<style scoped>\n",
       "    .dataframe tbody tr th:only-of-type {\n",
       "        vertical-align: middle;\n",
       "    }\n",
       "\n",
       "    .dataframe tbody tr th {\n",
       "        vertical-align: top;\n",
       "    }\n",
       "\n",
       "    .dataframe thead th {\n",
       "        text-align: right;\n",
       "    }\n",
       "</style>\n",
       "<table border=\"1\" class=\"dataframe\">\n",
       "  <thead>\n",
       "    <tr style=\"text-align: right;\">\n",
       "      <th>level_0</th>\n",
       "      <th>ALKALINE_ELECTROLYSIS</th>\n",
       "      <th>AL_MAKING</th>\n",
       "      <th>AL_MAKING_HR</th>\n",
       "      <th>AN_DIG</th>\n",
       "      <th>AN_DIG_SI</th>\n",
       "      <th>BATTERY</th>\n",
       "      <th>BIOGAS_BIOMETHANE</th>\n",
       "      <th>BIOMASS_ETHANOL</th>\n",
       "      <th>BUS_CNG_STOICH</th>\n",
       "      <th>BUS_DIESEL</th>\n",
       "      <th>...</th>\n",
       "      <th>TRAIN_NG</th>\n",
       "      <th>TRAMWAY</th>\n",
       "      <th>TRUCK</th>\n",
       "      <th>TRUCK_CO2</th>\n",
       "      <th>TRUCK_EV</th>\n",
       "      <th>TRUCK_FC</th>\n",
       "      <th>TRUCK_SNG</th>\n",
       "      <th>UNMINEABLE_COAL_SEAM</th>\n",
       "      <th>WIND</th>\n",
       "      <th>WOOD_METHANOL</th>\n",
       "    </tr>\n",
       "    <tr>\n",
       "      <th>Run</th>\n",
       "      <th></th>\n",
       "      <th></th>\n",
       "      <th></th>\n",
       "      <th></th>\n",
       "      <th></th>\n",
       "      <th></th>\n",
       "      <th></th>\n",
       "      <th></th>\n",
       "      <th></th>\n",
       "      <th></th>\n",
       "      <th></th>\n",
       "      <th></th>\n",
       "      <th></th>\n",
       "      <th></th>\n",
       "      <th></th>\n",
       "      <th></th>\n",
       "      <th></th>\n",
       "      <th></th>\n",
       "      <th></th>\n",
       "      <th></th>\n",
       "      <th></th>\n",
       "    </tr>\n",
       "  </thead>\n",
       "  <tbody>\n",
       "    <tr>\n",
       "      <th>32</th>\n",
       "      <td>0.0</td>\n",
       "      <td>0.0</td>\n",
       "      <td>0.0</td>\n",
       "      <td>0.000000</td>\n",
       "      <td>0.0</td>\n",
       "      <td>0.0</td>\n",
       "      <td>0.0</td>\n",
       "      <td>0.0</td>\n",
       "      <td>0.0</td>\n",
       "      <td>0.0</td>\n",
       "      <td>...</td>\n",
       "      <td>0.0</td>\n",
       "      <td>0.000000</td>\n",
       "      <td>0.0</td>\n",
       "      <td>0.0</td>\n",
       "      <td>0.611416</td>\n",
       "      <td>0.0</td>\n",
       "      <td>0.0</td>\n",
       "      <td>0.0</td>\n",
       "      <td>4.258822</td>\n",
       "      <td>0.0</td>\n",
       "    </tr>\n",
       "    <tr>\n",
       "      <th>43</th>\n",
       "      <td>0.0</td>\n",
       "      <td>0.0</td>\n",
       "      <td>0.0</td>\n",
       "      <td>0.425481</td>\n",
       "      <td>0.0</td>\n",
       "      <td>0.0</td>\n",
       "      <td>0.0</td>\n",
       "      <td>0.0</td>\n",
       "      <td>0.0</td>\n",
       "      <td>0.0</td>\n",
       "      <td>...</td>\n",
       "      <td>0.0</td>\n",
       "      <td>2.390099</td>\n",
       "      <td>0.0</td>\n",
       "      <td>0.0</td>\n",
       "      <td>0.611416</td>\n",
       "      <td>0.0</td>\n",
       "      <td>0.0</td>\n",
       "      <td>0.0</td>\n",
       "      <td>20.000000</td>\n",
       "      <td>0.0</td>\n",
       "    </tr>\n",
       "    <tr>\n",
       "      <th>35</th>\n",
       "      <td>0.0</td>\n",
       "      <td>0.0</td>\n",
       "      <td>0.0</td>\n",
       "      <td>0.000000</td>\n",
       "      <td>0.0</td>\n",
       "      <td>0.0</td>\n",
       "      <td>0.0</td>\n",
       "      <td>0.0</td>\n",
       "      <td>0.0</td>\n",
       "      <td>0.0</td>\n",
       "      <td>...</td>\n",
       "      <td>0.0</td>\n",
       "      <td>0.000000</td>\n",
       "      <td>0.0</td>\n",
       "      <td>0.0</td>\n",
       "      <td>0.611416</td>\n",
       "      <td>0.0</td>\n",
       "      <td>0.0</td>\n",
       "      <td>0.0</td>\n",
       "      <td>4.258822</td>\n",
       "      <td>0.0</td>\n",
       "    </tr>\n",
       "    <tr>\n",
       "      <th>72</th>\n",
       "      <td>0.0</td>\n",
       "      <td>0.0</td>\n",
       "      <td>0.0</td>\n",
       "      <td>0.000000</td>\n",
       "      <td>0.0</td>\n",
       "      <td>0.0</td>\n",
       "      <td>0.0</td>\n",
       "      <td>0.0</td>\n",
       "      <td>0.0</td>\n",
       "      <td>0.0</td>\n",
       "      <td>...</td>\n",
       "      <td>0.0</td>\n",
       "      <td>2.390099</td>\n",
       "      <td>0.0</td>\n",
       "      <td>0.0</td>\n",
       "      <td>0.611416</td>\n",
       "      <td>0.0</td>\n",
       "      <td>0.0</td>\n",
       "      <td>0.0</td>\n",
       "      <td>12.521969</td>\n",
       "      <td>0.0</td>\n",
       "    </tr>\n",
       "    <tr>\n",
       "      <th>29</th>\n",
       "      <td>0.0</td>\n",
       "      <td>0.0</td>\n",
       "      <td>0.0</td>\n",
       "      <td>0.000000</td>\n",
       "      <td>0.0</td>\n",
       "      <td>0.0</td>\n",
       "      <td>0.0</td>\n",
       "      <td>0.0</td>\n",
       "      <td>0.0</td>\n",
       "      <td>0.0</td>\n",
       "      <td>...</td>\n",
       "      <td>0.0</td>\n",
       "      <td>0.000000</td>\n",
       "      <td>0.0</td>\n",
       "      <td>0.0</td>\n",
       "      <td>0.611416</td>\n",
       "      <td>0.0</td>\n",
       "      <td>0.0</td>\n",
       "      <td>0.0</td>\n",
       "      <td>20.000000</td>\n",
       "      <td>0.0</td>\n",
       "    </tr>\n",
       "  </tbody>\n",
       "</table>\n",
       "<p>5 rows × 232 columns</p>\n",
       "</div>"
      ],
      "text/plain": [
       "level_0  ALKALINE_ELECTROLYSIS  AL_MAKING  AL_MAKING_HR    AN_DIG  AN_DIG_SI  \\\n",
       "Run                                                                            \n",
       "32                         0.0        0.0           0.0  0.000000        0.0   \n",
       "43                         0.0        0.0           0.0  0.425481        0.0   \n",
       "35                         0.0        0.0           0.0  0.000000        0.0   \n",
       "72                         0.0        0.0           0.0  0.000000        0.0   \n",
       "29                         0.0        0.0           0.0  0.000000        0.0   \n",
       "\n",
       "level_0  BATTERY  BIOGAS_BIOMETHANE  BIOMASS_ETHANOL  BUS_CNG_STOICH  \\\n",
       "Run                                                                    \n",
       "32           0.0                0.0              0.0             0.0   \n",
       "43           0.0                0.0              0.0             0.0   \n",
       "35           0.0                0.0              0.0             0.0   \n",
       "72           0.0                0.0              0.0             0.0   \n",
       "29           0.0                0.0              0.0             0.0   \n",
       "\n",
       "level_0  BUS_DIESEL  ...  TRAIN_NG   TRAMWAY  TRUCK  TRUCK_CO2  TRUCK_EV  \\\n",
       "Run                  ...                                                   \n",
       "32              0.0  ...       0.0  0.000000    0.0        0.0  0.611416   \n",
       "43              0.0  ...       0.0  2.390099    0.0        0.0  0.611416   \n",
       "35              0.0  ...       0.0  0.000000    0.0        0.0  0.611416   \n",
       "72              0.0  ...       0.0  2.390099    0.0        0.0  0.611416   \n",
       "29              0.0  ...       0.0  0.000000    0.0        0.0  0.611416   \n",
       "\n",
       "level_0  TRUCK_FC  TRUCK_SNG  UNMINEABLE_COAL_SEAM       WIND  WOOD_METHANOL  \n",
       "Run                                                                           \n",
       "32            0.0        0.0                   0.0   4.258822            0.0  \n",
       "43            0.0        0.0                   0.0  20.000000            0.0  \n",
       "35            0.0        0.0                   0.0   4.258822            0.0  \n",
       "72            0.0        0.0                   0.0  12.521969            0.0  \n",
       "29            0.0        0.0                   0.0  20.000000            0.0  \n",
       "\n",
       "[5 rows x 232 columns]"
      ]
     },
     "execution_count": 25,
     "metadata": {},
     "output_type": "execute_result"
    }
   ],
   "source": [
    "df_annual = results_ch_n.postprocessing['df_annual']\n",
    "df_annual = df_annual.loc[:, ['F_Mult']]\n",
    "df_annual = df_annual.reset_index()\n",
    "\n",
    "df_annual = pd.pivot_table(df_annual, values='F_Mult', index=['Run'], columns='level_0')\n",
    "df_annual.sample(5)"
   ]
  },
  {
   "cell_type": "markdown",
   "metadata": {},
   "source": [
    "\n",
    "\n",
    "### Visualize Technology Distribution"
   ]
  },
  {
   "cell_type": "code",
   "execution_count": null,
   "metadata": {
    "ExecuteTime": {
     "end_time": "2024-10-01T08:43:21.147607Z",
     "start_time": "2024-10-01T08:43:13.698999Z"
    }
   },
   "outputs": [
    {
     "data": {
      "text/plain": [
       "<seaborn.axisgrid.PairGrid at 0x128011d90>"
      ]
     },
     "execution_count": 26,
     "metadata": {},
     "output_type": "execute_result"
    },
    {
     "data": {
      "image/png": "[encoded data removed]",
      "text/plain": [
       "<Figure size 2000x2000 with 72 Axes>"
      ]
     },
     "metadata": {},
     "output_type": "display_data"
    }
   ],
   "source": [
    "cols = ['CCGT_CC', 'DEC_COGEN_GAS', 'DEC_HP_ELEC', 'GASIFICATION_H2', 'IND_BOILER_WASTE', 'IND_COGEN_WASTE', 'PV_LV', 'WIND']\n",
    "fig = sns.pairplot(df_annual[cols].fillna(0), diag_kind=\"kde\")\n",
    "fig.show(renderer=\"notebook\")"
   ]
  },
  {
   "cell_type": "markdown",
   "metadata": {},
   "source": [
    "\n",
    "\n",
    "- We plot the distributions to understand how the uncertainty in investment costs affects the capacities of different technologies.\n",
    "\n",
    "---\n",
    "\n",
    "By following these steps, we perform an uncertainty analysis on the EnergyScope model by varying the investment costs of selected technologies. This approach allows us to understand the sensitivity of the energy system configuration to changes in key parameters.\n",
    "\n",
    "**Note**: Ensure that all the necessary data files and dependencies are correctly set up in your environment. The computational time may vary depending on the number of optimizations and the complexity of the model."
   ]
  }
 ],
 "metadata": {
  "kernelspec": {
   "display_name": "venv",
   "language": "python",
   "name": "python3"
  },
  "language_info": {
   "codemirror_mode": {
    "name": "ipython",
    "version": 3
   },
   "file_extension": ".py",
   "mimetype": "text/x-python",
   "name": "python",
   "nbconvert_exporter": "python",
   "pygments_lexer": "ipython3",
   "version": "3.12.2"
  }
 },
 "nbformat": 4,
 "nbformat_minor": 2
}
