{
  "cells": [
    {
      "cell_type": "code",
      "execution_count": null,
      "metadata": {
        "collapsed": false
      },
      "outputs": [],
      "source": [
        "%matplotlib inline"
      ]
    },
    {
      "cell_type": "markdown",
      "metadata": {},
      "source": [
        "\nInstalled  Capacity\n===================================\n\nThis is an example using the core model.\n"
      ]
    },
    {
      "cell_type": "code",
      "execution_count": null,
      "metadata": {
        "collapsed": false
      },
      "outputs": [],
      "source": [
        "import matplotlib.pyplot as plt\nfrom energyscope.energyscope import Energyscope\nfrom energyscope.models import core"
      ]
    },
    {
      "cell_type": "code",
      "execution_count": null,
      "metadata": {
        "collapsed": false
      },
      "outputs": [],
      "source": [
        "thresh = 1\nfigsize = (10, 6)"
      ]
    },
    {
      "cell_type": "markdown",
      "metadata": {},
      "source": [
        "Create a model and calculate the results\n\n"
      ]
    },
    {
      "cell_type": "code",
      "execution_count": null,
      "metadata": {
        "collapsed": false
      },
      "outputs": [],
      "source": [
        "es_core = Energyscope(model=core)\nresults = es_core.calc()"
      ]
    },
    {
      "cell_type": "code",
      "execution_count": null,
      "metadata": {
        "collapsed": false
      },
      "outputs": [],
      "source": [
        "F = results.variables[\"F\"]\nstorages = results.sets['STORAGE_TECH'][\"STORAGE_TECH\"].values\n\nF_storage = F[F.index.get_level_values(0).isin(storages)]\nF_tech = F[~F.index.get_level_values(0).isin(storages)]\n\n# Sort by size\nF_storage = F_storage.sort_values(by=F_storage.columns[0], ascending=False)\nF_storage = F_storage[F_storage.values[:,0]>thresh]\nF_tech = F_tech[F_tech.values[:,0]>thresh]\nF_tech = F_tech.sort_values(by=F_tech.columns[0], ascending=False)\n\n\n# Calculate subplot widths proportional to number of bars\nn_tech = len(F_tech)\nn_storage = len(F_storage)\ntotal = n_tech + n_storage\nwidths = [n_tech, n_storage] if total > 0 else [1, 1]\n\nfig, axes = plt.subplots(1, 2, figsize=figsize, gridspec_kw={'width_ratios': widths})\n\n# Technologies subplot (left)\naxes[0].bar(x=range(n_tech), height=F_tech.values[:, 0])\naxes[0].set_xticks(range(n_tech))\naxes[0].set_xticklabels(F_tech.index, rotation=90)\naxes[0].set_ylabel('Installed Capacity of Conversion Technologies [GW]')\naxes[0].set_xlim(-1, n_tech)\naxes[0].set_title('Conversion Technologies', fontsize=20)\n\n# Storages subplot (right)\naxes[1].bar(x=range(n_storage), height=F_storage.values[:, 0], color='orange')\naxes[1].set_xticks(range(n_storage))\naxes[1].set_xticklabels(F_storage.index, rotation=90)\naxes[1].set_ylabel('Installed Capacity of Storages [GWh]')\naxes[1].set_xlim(-1, n_storage)\naxes[1].set_title('Storages', fontsize=20)\n\nplt.tight_layout()\nplt.show()"
      ]
    }
  ],
  "metadata": {
    "kernelspec": {
      "display_name": "Python 3",
      "language": "python",
      "name": "python3"
    },
    "language_info": {
      "codemirror_mode": {
        "name": "ipython",
        "version": 3
      },
      "file_extension": ".py",
      "mimetype": "text/x-python",
      "name": "python",
      "nbconvert_exporter": "python",
      "pygments_lexer": "ipython3",
      "version": "3.12.7"
    }
  },
  "nbformat": 4,
  "nbformat_minor": 0
}