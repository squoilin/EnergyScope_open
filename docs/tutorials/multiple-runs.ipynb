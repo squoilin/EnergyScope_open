{
 "cells": [
  {
   "cell_type": "markdown",
   "metadata": {},
   "source": [
    "# Multiple runs"
   ]
  },
  {
   "cell_type": "markdown",
   "metadata": {},
   "source": [
    "## Perform Multiple Optimization Runs with EnergyScope\n",
    "\n",
    "In this tutorial, we will demonstrate how to perform multiple optimization runs using the EnergyScope model. This is useful for sensitivity analysis, scenario exploration, and understanding how changes in parameters affect the energy system configuration.\n",
    "\n",
    "### Import Necessary Libraries\n",
    "\n",
    "We begin by importing the required libraries and modules:"
   ]
  },
  {
   "cell_type": "code",
   "execution_count": 1,
   "metadata": {
    "ExecuteTime": {
     "end_time": "2024-10-01T08:36:31.535552Z",
     "start_time": "2024-10-01T08:36:31.311907Z"
    }
   },
   "outputs": [],
   "source": [
    "import pandas as pd\n",
    "import pickle \n",
    "from energyscope.energyscope import Energyscope\n",
    "from energyscope.models import infrastructure_ch_2050\n",
    "from energyscope.result import postprocessing\n",
    "from energyscope.plots import plot_sankey, plot_parametrisation"
   ]
  },
  {
   "cell_type": "markdown",
   "metadata": {},
   "source": [
    "\n",
    "\n",
    "- **`pandas`**: For data manipulation and handling data frames.\n",
    "- **`pickle`**: For saving and loading Python objects to and from files.\n",
    "- **`Energyscope`**: The main class for initializing and running the EnergyScope model.\n",
    "- **`infrastructure_ch_2050`**: A predefined model configuration focusing on energy infrastructure In Switzerland in 2050.\n",
    "- **`postprocessing`**: Functions for processing and analyzing results after optimization.\n",
    "- **`plot_sankey`**, **`plot_parametrisation`**: Functions for visualizing results.\n",
    "\n",
    "### Define Solver Options\n",
    "\n",
    "We specify the solver options to control the optimization process:"
   ]
  },
  {
   "cell_type": "code",
   "execution_count": 2,
   "metadata": {
    "ExecuteTime": {
     "end_time": "2024-10-01T08:36:33.588841Z",
     "start_time": "2024-10-01T08:36:33.585634Z"
    }
   },
   "outputs": [],
   "source": [
    "solver_options = {\n",
    "    'solver': 'gurobi',\n",
    "    'solver_msg': 0,\n",
    "}"
   ]
  },
  {
   "cell_type": "markdown",
   "metadata": {},
   "source": [
    "\n",
    "\n",
    "- **`'solver': 'gurobi'`**: Specifies that the Gurobi solver should be used.\n",
    "- **`'solver_msg': 0`**: Suppresses solver messages during execution.\n",
    "\n",
    "### Initialize and Run the Base Model\n",
    "\n",
    "We initialize the EnergyScope model with the chosen dataset and solver options:"
   ]
  },
  {
   "cell_type": "code",
   "execution_count": 3,
   "metadata": {
    "ExecuteTime": {
     "end_time": "2024-10-01T08:36:41.706111Z",
     "start_time": "2024-10-01T08:36:41.703182Z"
    }
   },
   "outputs": [],
   "source": [
    "# Load the model with the chosen dataset and solver options\n",
    "es_infra_ch = Energyscope(model=infrastructure_ch_2050, solver_options=solver_options)"
   ]
  },
  {
   "cell_type": "markdown",
   "metadata": {},
   "source": [
    "\n",
    "\n",
    "Then, we perform an initial calculation to ensure the model is set up correctly:"
   ]
  },
  {
   "cell_type": "code",
   "execution_count": 4,
   "metadata": {
    "ExecuteTime": {
     "end_time": "2024-10-01T08:36:45.736201Z",
     "start_time": "2024-10-01T08:36:43.274578Z"
    }
   },
   "outputs": [
    {
     "name": "stdout",
     "output_type": "stream",
     "text": [
      "Gurobi 11.0.0:"
     ]
    }
   ],
   "source": [
    "# Solve the model\n",
    "results_ch = es_infra_ch.calc()"
   ]
  },
  {
   "cell_type": "markdown",
   "metadata": {},
   "source": [
    "\n",
    "\n",
    "> **Note**: This initial run is optional but recommended to verify that the model and solver are functioning properly before proceeding to multiple runs.\n",
    "\n",
    "### Load Parameter Sequence Data\n",
    "\n",
    "We load a sequence of parameters from an Excel file, which will be used to perform multiple optimization runs:"
   ]
  },
  {
   "cell_type": "code",
   "execution_count": 5,
   "metadata": {
    "ExecuteTime": {
     "end_time": "2024-10-01T08:36:48.764269Z",
     "start_time": "2024-10-01T08:36:48.662518Z"
    }
   },
   "outputs": [
    {
     "data": {
      "text/html": [
       "<div>\n",
       "<style scoped>\n",
       "    .dataframe tbody tr th:only-of-type {\n",
       "        vertical-align: middle;\n",
       "    }\n",
       "\n",
       "    .dataframe tbody tr th {\n",
       "        vertical-align: top;\n",
       "    }\n",
       "\n",
       "    .dataframe thead th {\n",
       "        text-align: right;\n",
       "    }\n",
       "</style>\n",
       "<table border=\"1\" class=\"dataframe\">\n",
       "  <thead>\n",
       "    <tr style=\"text-align: right;\">\n",
       "      <th></th>\n",
       "      <th>param</th>\n",
       "      <th>index0</th>\n",
       "      <th>index1</th>\n",
       "      <th>index2</th>\n",
       "      <th>index3</th>\n",
       "      <th>value1</th>\n",
       "      <th>value2</th>\n",
       "      <th>value3</th>\n",
       "      <th>value4</th>\n",
       "      <th>value5</th>\n",
       "      <th>value6</th>\n",
       "      <th>value7</th>\n",
       "      <th>value8</th>\n",
       "      <th>value9</th>\n",
       "      <th>value10</th>\n",
       "      <th>value11</th>\n",
       "    </tr>\n",
       "  </thead>\n",
       "  <tbody>\n",
       "    <tr>\n",
       "      <th>0</th>\n",
       "      <td>f_min</td>\n",
       "      <td>PV</td>\n",
       "      <td>NaN</td>\n",
       "      <td>NaN</td>\n",
       "      <td>NaN</td>\n",
       "      <td>2</td>\n",
       "      <td>2.60</td>\n",
       "      <td>5.20</td>\n",
       "      <td>7.80</td>\n",
       "      <td>10.40</td>\n",
       "      <td>13.00</td>\n",
       "      <td>15.60</td>\n",
       "      <td>18.20</td>\n",
       "      <td>20.80</td>\n",
       "      <td>23.40</td>\n",
       "      <td>26.00</td>\n",
       "    </tr>\n",
       "    <tr>\n",
       "      <th>1</th>\n",
       "      <td>f_max</td>\n",
       "      <td>PV</td>\n",
       "      <td>NaN</td>\n",
       "      <td>NaN</td>\n",
       "      <td>NaN</td>\n",
       "      <td>2</td>\n",
       "      <td>2.60</td>\n",
       "      <td>5.20</td>\n",
       "      <td>7.80</td>\n",
       "      <td>10.40</td>\n",
       "      <td>13.00</td>\n",
       "      <td>15.60</td>\n",
       "      <td>18.20</td>\n",
       "      <td>20.80</td>\n",
       "      <td>23.40</td>\n",
       "      <td>26.00</td>\n",
       "    </tr>\n",
       "    <tr>\n",
       "      <th>2</th>\n",
       "      <td>end_uses_demand_year</td>\n",
       "      <td>MOBILITY_FREIGHT</td>\n",
       "      <td>TRANSPORTATION</td>\n",
       "      <td>NaN</td>\n",
       "      <td>NaN</td>\n",
       "      <td>45000</td>\n",
       "      <td>33226.71</td>\n",
       "      <td>33226.71</td>\n",
       "      <td>33226.71</td>\n",
       "      <td>33226.71</td>\n",
       "      <td>33226.71</td>\n",
       "      <td>33226.71</td>\n",
       "      <td>33226.71</td>\n",
       "      <td>33226.71</td>\n",
       "      <td>33226.71</td>\n",
       "      <td>33226.71</td>\n",
       "    </tr>\n",
       "    <tr>\n",
       "      <th>3</th>\n",
       "      <td>c_inv</td>\n",
       "      <td>WIND</td>\n",
       "      <td>NaN</td>\n",
       "      <td>NaN</td>\n",
       "      <td>NaN</td>\n",
       "      <td>800</td>\n",
       "      <td>850.00</td>\n",
       "      <td>900.00</td>\n",
       "      <td>950.00</td>\n",
       "      <td>1000.00</td>\n",
       "      <td>1050.00</td>\n",
       "      <td>1100.00</td>\n",
       "      <td>1150.00</td>\n",
       "      <td>1200.00</td>\n",
       "      <td>1250.00</td>\n",
       "      <td>1300.00</td>\n",
       "    </tr>\n",
       "  </tbody>\n",
       "</table>\n",
       "</div>"
      ],
      "text/plain": [
       "                  param            index0          index1  index2  index3  \\\n",
       "0                 f_min                PV             NaN     NaN     NaN   \n",
       "1                 f_max                PV             NaN     NaN     NaN   \n",
       "2  end_uses_demand_year  MOBILITY_FREIGHT  TRANSPORTATION     NaN     NaN   \n",
       "3                 c_inv              WIND             NaN     NaN     NaN   \n",
       "\n",
       "   value1    value2    value3    value4    value5    value6    value7  \\\n",
       "0       2      2.60      5.20      7.80     10.40     13.00     15.60   \n",
       "1       2      2.60      5.20      7.80     10.40     13.00     15.60   \n",
       "2   45000  33226.71  33226.71  33226.71  33226.71  33226.71  33226.71   \n",
       "3     800    850.00    900.00    950.00   1000.00   1050.00   1100.00   \n",
       "\n",
       "     value8    value9   value10   value11  \n",
       "0     18.20     20.80     23.40     26.00  \n",
       "1     18.20     20.80     23.40     26.00  \n",
       "2  33226.71  33226.71  33226.71  33226.71  \n",
       "3   1150.00   1200.00   1250.00   1300.00  "
      ]
     },
     "metadata": {},
     "output_type": "display_data"
    }
   ],
   "source": [
    "# Load the parameter sequence DataFrame\n",
    "seq_data = pd.read_excel(\"tutorial_input/param_run_es_n_infrastructure_ch_2050.xlsx\")\n",
    "display(seq_data)"
   ]
  },
  {
   "cell_type": "markdown",
   "metadata": {},
   "source": [
    "\n",
    "\n",
    "- **`seq_data`**: A DataFrame containing different sets of parameters for each run.\n",
    "- **`display(seq_data)`**: Displays the DataFrame to inspect the parameters being varied.\n",
    "\n",
    "### Perform Multiple Optimization Runs\n",
    "\n",
    "We use the `calc_sequence` method to run the model multiple times based on the parameter changes specified in `seq_data`:"
   ]
  },
  {
   "cell_type": "code",
   "execution_count": 6,
   "metadata": {
    "ExecuteTime": {
     "end_time": "2024-10-01T08:37:18.847223Z",
     "start_time": "2024-10-01T08:36:51.053606Z"
    }
   },
   "outputs": [
    {
     "name": "stdout",
     "output_type": "stream",
     "text": [
      "Gurobi 11.0.0:Gurobi 11.0.0:1\n",
      "Gurobi 11.0.0:2\n",
      "Gurobi 11.0.0:3\n",
      "Gurobi 11.0.0:4\n",
      "Gurobi 11.0.0:5\n",
      "Gurobi 11.0.0:6\n",
      "Gurobi 11.0.0:7\n",
      "Gurobi 11.0.0:8\n",
      "Gurobi 11.0.0:9\n",
      "Gurobi 11.0.0:10\n",
      "Gurobi 11.0.0:11\n"
     ]
    }
   ],
   "source": [
    "# Run multiple optimizations based on parameters changed in seq_data\n",
    "results_ch_n = es_infra_ch.calc_sequence(seq_data)"
   ]
  },
  {
   "cell_type": "markdown",
   "metadata": {},
   "source": [
    "\n",
    "\n",
    "- **`results_ch_n`**: A `Result` object that contains the outputs of all runs.\n",
    "\n",
    "### Post-Process the Results\n",
    "\n",
    "After obtaining the results from multiple runs, we apply post-processing to compute Key Performance Indicators (KPIs) and prepare the data for visualization:"
   ]
  },
  {
   "cell_type": "code",
   "execution_count": 7,
   "metadata": {
    "ExecuteTime": {
     "end_time": "2024-10-01T08:37:24.893349Z",
     "start_time": "2024-10-01T08:37:24.807464Z"
    }
   },
   "outputs": [],
   "source": [
    "# Postcompute KPIs\n",
    "results_ch_n = postprocessing(results_ch_n)"
   ]
  },
  {
   "cell_type": "markdown",
   "metadata": {},
   "source": [
    "\n",
    "\n",
    "### Visualize Results with Sankey Diagrams\n",
    "\n",
    "We can visualize the energy flows for specific runs using Sankey diagrams.\n",
    "\n",
    "#### Generate and Display Sankey Diagram for Run 1"
   ]
  },
  {
   "cell_type": "code",
   "execution_count": 8,
   "metadata": {
    "ExecuteTime": {
     "end_time": "2024-10-01T08:37:27.185030Z",
     "start_time": "2024-10-01T08:37:26.971106Z"
    }
   },
   "outputs": [
    {
     "data": {
      "application/vnd.plotly.v1+json": {
       "config": {
        "plotlyServerURL": "https://plot.ly"
       },
       "data": [
        {
         "link": {
          "color": [
           "rgba(181, 31, 31, 0.50)",
           "rgba(181, 31, 31, 0.50)",
           "rgba(181, 31, 31, 0.50)",
           "rgba(181, 31, 31, 0.50)",
           "rgba(181, 31, 31, 0.50)",
           "rgba(181, 31, 31, 0.50)",
           "rgba(255, 225, 0, 0.50)",
           "rgba(179, 123, 68, 0.50)",
           "rgba(181, 31, 31, 0.50)",
           "rgba(181, 31, 31, 0.50)",
           "rgba(181, 31, 31, 0.50)",
           "rgba(181, 31, 31, 0.50)",
           "rgba(0, 0, 0, 0.50)",
           "rgba(0, 206, 209, 0.50)",
           "rgba(0, 206, 209, 0.50)",
           "rgba(0, 0, 255, 0.50)",
           "rgba(250, 128, 114, 0.50)",
           "rgba(250, 128, 114, 0.50)",
           "rgba(250, 128, 114, 0.50)",
           "rgba(0, 206, 209, 0.50)",
           "rgba(0, 0, 0, 0.50)",
           "rgba(0, 0, 0, 0.50)",
           "rgba(0, 0, 0, 0.50)",
           "rgba(0, 0, 0, 0.50)",
           "rgba(0, 0, 0, 0.50)",
           "rgba(0, 0, 0, 0.50)",
           "rgba(0, 191, 255, 0.50)",
           "rgba(0, 191, 255, 0.50)",
           "rgba(0, 191, 255, 0.50)",
           "rgba(0, 191, 255, 0.50)",
           "rgba(0, 191, 255, 0.50)",
           "rgba(0, 191, 255, 0.50)",
           "rgba(0, 191, 255, 0.50)",
           "rgba(0, 191, 255, 0.50)",
           "rgba(0, 191, 255, 0.50)",
           "rgba(0, 191, 255, 0.50)",
           "rgba(0, 191, 255, 0.50)",
           "rgba(0, 191, 255, 0.50)",
           "rgba(0, 191, 255, 0.50)",
           "rgba(0, 191, 255, 0.50)",
           "rgba(0, 191, 255, 0.50)",
           "rgba(0, 191, 255, 0.50)",
           "rgba(0, 191, 255, 0.50)",
           "rgba(0, 191, 255, 0.50)",
           "rgba(0, 191, 255, 0.50)",
           "rgba(0, 191, 255, 0.50)",
           "rgba(255, 215, 0, 0.50)",
           "rgba(255, 215, 0, 0.50)",
           "rgba(255, 215, 0, 0.50)",
           "rgba(255, 215, 0, 0.50)",
           "rgba(255, 215, 0, 0.50)",
           "rgba(255, 225, 0, 0.50)",
           "rgba(255, 215, 0, 0.50)",
           "rgba(255, 215, 0, 0.50)"
          ],
          "label": [
           38550.932459353935,
           4779.490265091293,
           19656.300436878246,
           0.0004260304609864084,
           434.2008719999989,
           434.2008719999989,
           5284.745762711865,
           12472,
           5179.0153340413335,
           1692.2930872000004,
           3083.9927009988296,
           6967.629749759837,
           4779.490265091293,
           16580.16,
           16122.6096,
           40299.36,
           2063.7514198404006,
           6853.248580159599,
           8917,
           12472,
           4239.54083,
           520.5841569600002,
           2458.8,
           1994.8719692999996,
           3460.929904499999,
           1028.7000000000003,
           0.04105597444485223,
           6967.629749759837,
           12849.025788702667,
           4914.075109219561,
           1.1841405205358729e-9,
           16580.16,
           211.38983050847457,
           16122.6096,
           1370.52635632388,
           1982.1599999999999,
           9910.8,
           40299.36,
           8895.76,
           25871.84,
           7403.6,
           4239.54083,
           520.5841569600002,
           4453.6719693,
           3460.929904499999,
           1028.7000000000003,
           310.1798059167466,
           0.07851585608807986,
           5284.667246855776,
           310.1798059167466,
           310.1798059167466,
           5284.745762711865,
           5284.745762711865,
           310.1798059167466
          ],
          "source": [
           14,
           6,
           14,
           26,
           12,
           15,
           17,
           19,
           0,
           0,
           4,
           7,
           27,
           28,
           28,
           29,
           36,
           36,
           37,
           38,
           1,
           3,
           33,
           33,
           34,
           35,
           2,
           8,
           8,
           8,
           8,
           16,
           17,
           18,
           4,
           25,
           25,
           39,
           8,
           8,
           8,
           8,
           8,
           8,
           8,
           8,
           22,
           22,
           22,
           23,
           24,
           30,
           31,
           32
          ],
          "target": [
           13,
           13,
           13,
           13,
           15,
           13,
           30,
           38,
           12,
           12,
           12,
           12,
           6,
           16,
           18,
           39,
           0,
           4,
           36,
           17,
           21,
           21,
           20,
           21,
           21,
           20,
           8,
           7,
           14,
           14,
           5,
           8,
           8,
           8,
           8,
           8,
           8,
           8,
           9,
           10,
           11,
           1,
           3,
           33,
           34,
           35,
           24,
           2,
           0,
           32,
           23,
           31,
           22,
           22
          ],
          "value": [
           38550.932459353935,
           4779.490265091293,
           19656.300436878246,
           0.0004260304609864084,
           434.2008719999989,
           434.2008719999989,
           5284.745762711865,
           12472,
           5179.0153340413335,
           1692.2930872000004,
           3083.9927009988296,
           6967.629749759837,
           4779.490265091293,
           16580.16,
           16122.6096,
           40299.36,
           2063.7514198404006,
           6853.248580159599,
           8917,
           12472,
           4239.54083,
           520.5841569600002,
           2458.8,
           1994.8719692999996,
           3460.929904499999,
           1028.7000000000003,
           0.04105597444485223,
           6967.629749759837,
           12849.025788702667,
           4914.075109219561,
           1.1841405205358729e-9,
           16580.16,
           211.38983050847457,
           16122.6096,
           1370.52635632388,
           1982.1599999999999,
           9910.8,
           40299.36,
           8895.76,
           25871.84,
           7403.6,
           4239.54083,
           520.5841569600002,
           4453.6719693,
           3460.929904499999,
           1028.7000000000003,
           310.1798059167466,
           0.07851585608807986,
           5284.667246855776,
           310.1798059167466,
           310.1798059167466,
           5284.745762711865,
           5284.745762711865,
           310.1798059167466
          ]
         },
         "node": {
          "color": "#DCDCDC",
          "label": [
           "BOILER",
           "CAR",
           "CCGT_CC",
           "COACH",
           "COGEN",
           "DEEP_SALINE",
           "DHN_DEEP_GEO",
           "DIRECT_ELEC",
           "ELECTRICITY",
           "EUD_ELECTRICITY_HV",
           "EUD_ELECTRICITY_LV",
           "EUD_ELECTRICITY_MV",
           "HEAT_HIGH_T",
           "HEAT_LOW_T",
           "HP",
           "HT_LT",
           "HYDRO_DAM",
           "HYDRO_GAS",
           "HYDRO_RIVER",
           "IMP_WET_BIOMASS",
           "MOBILITY",
           "MOBILITY_PASSENGER",
           "NG",
           "NG_S",
           "NG_STO",
           "PV",
           "RENOVATION",
           "RES_GEO",
           "RES_HYDRO",
           "RES_WIND",
           "SNG",
           "SNG_NG",
           "STO_NG",
           "TRAIN",
           "TRAMWAY",
           "TRUCK",
           "WASTE",
           "WASTE_BIO",
           "WET_BIOMASS",
           "WIND"
          ],
          "line": {
           "color": "black",
           "width": 0.5
          },
          "pad": 15,
          "thickness": 15
         },
         "type": "sankey",
         "valueformat": ".0f",
         "valuesuffix": ""
        }
       ],
       "layout": {
        "font": {
         "color": "black",
         "size": 10
        },
        "template": {
         "data": {
          "bar": [
           {
            "error_x": {
             "color": "#2a3f5f"
            },
            "error_y": {
             "color": "#2a3f5f"
            },
            "marker": {
             "line": {
              "color": "#E5ECF6",
              "width": 0.5
             },
             "pattern": {
              "fillmode": "overlay",
              "size": 10,
              "solidity": 0.2
             }
            },
            "type": "bar"
           }
          ],
          "barpolar": [
           {
            "marker": {
             "line": {
              "color": "#E5ECF6",
              "width": 0.5
             },
             "pattern": {
              "fillmode": "overlay",
              "size": 10,
              "solidity": 0.2
             }
            },
            "type": "barpolar"
           }
          ],
          "carpet": [
           {
            "aaxis": {
             "endlinecolor": "#2a3f5f",
             "gridcolor": "white",
             "linecolor": "white",
             "minorgridcolor": "white",
             "startlinecolor": "#2a3f5f"
            },
            "baxis": {
             "endlinecolor": "#2a3f5f",
             "gridcolor": "white",
             "linecolor": "white",
             "minorgridcolor": "white",
             "startlinecolor": "#2a3f5f"
            },
            "type": "carpet"
           }
          ],
          "choropleth": [
           {
            "colorbar": {
             "outlinewidth": 0,
             "ticks": ""
            },
            "type": "choropleth"
           }
          ],
          "contour": [
           {
            "colorbar": {
             "outlinewidth": 0,
             "ticks": ""
            },
            "colorscale": [
             [
              0,
              "#0d0887"
             ],
             [
              0.1111111111111111,
              "#46039f"
             ],
             [
              0.2222222222222222,
              "#7201a8"
             ],
             [
              0.3333333333333333,
              "#9c179e"
             ],
             [
              0.4444444444444444,
              "#bd3786"
             ],
             [
              0.5555555555555556,
              "#d8576b"
             ],
             [
              0.6666666666666666,
              "#ed7953"
             ],
             [
              0.7777777777777778,
              "#fb9f3a"
             ],
             [
              0.8888888888888888,
              "#fdca26"
             ],
             [
              1,
              "#f0f921"
             ]
            ],
            "type": "contour"
           }
          ],
          "contourcarpet": [
           {
            "colorbar": {
             "outlinewidth": 0,
             "ticks": ""
            },
            "type": "contourcarpet"
           }
          ],
          "heatmap": [
           {
            "colorbar": {
             "outlinewidth": 0,
             "ticks": ""
            },
            "colorscale": [
             [
              0,
              "#0d0887"
             ],
             [
              0.1111111111111111,
              "#46039f"
             ],
             [
              0.2222222222222222,
              "#7201a8"
             ],
             [
              0.3333333333333333,
              "#9c179e"
             ],
             [
              0.4444444444444444,
              "#bd3786"
             ],
             [
              0.5555555555555556,
              "#d8576b"
             ],
             [
              0.6666666666666666,
              "#ed7953"
             ],
             [
              0.7777777777777778,
              "#fb9f3a"
             ],
             [
              0.8888888888888888,
              "#fdca26"
             ],
             [
              1,
              "#f0f921"
             ]
            ],
            "type": "heatmap"
           }
          ],
          "heatmapgl": [
           {
            "colorbar": {
             "outlinewidth": 0,
             "ticks": ""
            },
            "colorscale": [
             [
              0,
              "#0d0887"
             ],
             [
              0.1111111111111111,
              "#46039f"
             ],
             [
              0.2222222222222222,
              "#7201a8"
             ],
             [
              0.3333333333333333,
              "#9c179e"
             ],
             [
              0.4444444444444444,
              "#bd3786"
             ],
             [
              0.5555555555555556,
              "#d8576b"
             ],
             [
              0.6666666666666666,
              "#ed7953"
             ],
             [
              0.7777777777777778,
              "#fb9f3a"
             ],
             [
              0.8888888888888888,
              "#fdca26"
             ],
             [
              1,
              "#f0f921"
             ]
            ],
            "type": "heatmapgl"
           }
          ],
          "histogram": [
           {
            "marker": {
             "pattern": {
              "fillmode": "overlay",
              "size": 10,
              "solidity": 0.2
             }
            },
            "type": "histogram"
           }
          ],
          "histogram2d": [
           {
            "colorbar": {
             "outlinewidth": 0,
             "ticks": ""
            },
            "colorscale": [
             [
              0,
              "#0d0887"
             ],
             [
              0.1111111111111111,
              "#46039f"
             ],
             [
              0.2222222222222222,
              "#7201a8"
             ],
             [
              0.3333333333333333,
              "#9c179e"
             ],
             [
              0.4444444444444444,
              "#bd3786"
             ],
             [
              0.5555555555555556,
              "#d8576b"
             ],
             [
              0.6666666666666666,
              "#ed7953"
             ],
             [
              0.7777777777777778,
              "#fb9f3a"
             ],
             [
              0.8888888888888888,
              "#fdca26"
             ],
             [
              1,
              "#f0f921"
             ]
            ],
            "type": "histogram2d"
           }
          ],
          "histogram2dcontour": [
           {
            "colorbar": {
             "outlinewidth": 0,
             "ticks": ""
            },
            "colorscale": [
             [
              0,
              "#0d0887"
             ],
             [
              0.1111111111111111,
              "#46039f"
             ],
             [
              0.2222222222222222,
              "#7201a8"
             ],
             [
              0.3333333333333333,
              "#9c179e"
             ],
             [
              0.4444444444444444,
              "#bd3786"
             ],
             [
              0.5555555555555556,
              "#d8576b"
             ],
             [
              0.6666666666666666,
              "#ed7953"
             ],
             [
              0.7777777777777778,
              "#fb9f3a"
             ],
             [
              0.8888888888888888,
              "#fdca26"
             ],
             [
              1,
              "#f0f921"
             ]
            ],
            "type": "histogram2dcontour"
           }
          ],
          "mesh3d": [
           {
            "colorbar": {
             "outlinewidth": 0,
             "ticks": ""
            },
            "type": "mesh3d"
           }
          ],
          "parcoords": [
           {
            "line": {
             "colorbar": {
              "outlinewidth": 0,
              "ticks": ""
             }
            },
            "type": "parcoords"
           }
          ],
          "pie": [
           {
            "automargin": true,
            "type": "pie"
           }
          ],
          "scatter": [
           {
            "fillpattern": {
             "fillmode": "overlay",
             "size": 10,
             "solidity": 0.2
            },
            "type": "scatter"
           }
          ],
          "scatter3d": [
           {
            "line": {
             "colorbar": {
              "outlinewidth": 0,
              "ticks": ""
             }
            },
            "marker": {
             "colorbar": {
              "outlinewidth": 0,
              "ticks": ""
             }
            },
            "type": "scatter3d"
           }
          ],
          "scattercarpet": [
           {
            "marker": {
             "colorbar": {
              "outlinewidth": 0,
              "ticks": ""
             }
            },
            "type": "scattercarpet"
           }
          ],
          "scattergeo": [
           {
            "marker": {
             "colorbar": {
              "outlinewidth": 0,
              "ticks": ""
             }
            },
            "type": "scattergeo"
           }
          ],
          "scattergl": [
           {
            "marker": {
             "colorbar": {
              "outlinewidth": 0,
              "ticks": ""
             }
            },
            "type": "scattergl"
           }
          ],
          "scattermapbox": [
           {
            "marker": {
             "colorbar": {
              "outlinewidth": 0,
              "ticks": ""
             }
            },
            "type": "scattermapbox"
           }
          ],
          "scatterpolar": [
           {
            "marker": {
             "colorbar": {
              "outlinewidth": 0,
              "ticks": ""
             }
            },
            "type": "scatterpolar"
           }
          ],
          "scatterpolargl": [
           {
            "marker": {
             "colorbar": {
              "outlinewidth": 0,
              "ticks": ""
             }
            },
            "type": "scatterpolargl"
           }
          ],
          "scatterternary": [
           {
            "marker": {
             "colorbar": {
              "outlinewidth": 0,
              "ticks": ""
             }
            },
            "type": "scatterternary"
           }
          ],
          "surface": [
           {
            "colorbar": {
             "outlinewidth": 0,
             "ticks": ""
            },
            "colorscale": [
             [
              0,
              "#0d0887"
             ],
             [
              0.1111111111111111,
              "#46039f"
             ],
             [
              0.2222222222222222,
              "#7201a8"
             ],
             [
              0.3333333333333333,
              "#9c179e"
             ],
             [
              0.4444444444444444,
              "#bd3786"
             ],
             [
              0.5555555555555556,
              "#d8576b"
             ],
             [
              0.6666666666666666,
              "#ed7953"
             ],
             [
              0.7777777777777778,
              "#fb9f3a"
             ],
             [
              0.8888888888888888,
              "#fdca26"
             ],
             [
              1,
              "#f0f921"
             ]
            ],
            "type": "surface"
           }
          ],
          "table": [
           {
            "cells": {
             "fill": {
              "color": "#EBF0F8"
             },
             "line": {
              "color": "white"
             }
            },
            "header": {
             "fill": {
              "color": "#C8D4E3"
             },
             "line": {
              "color": "white"
             }
            },
            "type": "table"
           }
          ]
         },
         "layout": {
          "annotationdefaults": {
           "arrowcolor": "#2a3f5f",
           "arrowhead": 0,
           "arrowwidth": 1
          },
          "autotypenumbers": "strict",
          "coloraxis": {
           "colorbar": {
            "outlinewidth": 0,
            "ticks": ""
           }
          },
          "colorscale": {
           "diverging": [
            [
             0,
             "#8e0152"
            ],
            [
             0.1,
             "#c51b7d"
            ],
            [
             0.2,
             "#de77ae"
            ],
            [
             0.3,
             "#f1b6da"
            ],
            [
             0.4,
             "#fde0ef"
            ],
            [
             0.5,
             "#f7f7f7"
            ],
            [
             0.6,
             "#e6f5d0"
            ],
            [
             0.7,
             "#b8e186"
            ],
            [
             0.8,
             "#7fbc41"
            ],
            [
             0.9,
             "#4d9221"
            ],
            [
             1,
             "#276419"
            ]
           ],
           "sequential": [
            [
             0,
             "#0d0887"
            ],
            [
             0.1111111111111111,
             "#46039f"
            ],
            [
             0.2222222222222222,
             "#7201a8"
            ],
            [
             0.3333333333333333,
             "#9c179e"
            ],
            [
             0.4444444444444444,
             "#bd3786"
            ],
            [
             0.5555555555555556,
             "#d8576b"
            ],
            [
             0.6666666666666666,
             "#ed7953"
            ],
            [
             0.7777777777777778,
             "#fb9f3a"
            ],
            [
             0.8888888888888888,
             "#fdca26"
            ],
            [
             1,
             "#f0f921"
            ]
           ],
           "sequentialminus": [
            [
             0,
             "#0d0887"
            ],
            [
             0.1111111111111111,
             "#46039f"
            ],
            [
             0.2222222222222222,
             "#7201a8"
            ],
            [
             0.3333333333333333,
             "#9c179e"
            ],
            [
             0.4444444444444444,
             "#bd3786"
            ],
            [
             0.5555555555555556,
             "#d8576b"
            ],
            [
             0.6666666666666666,
             "#ed7953"
            ],
            [
             0.7777777777777778,
             "#fb9f3a"
            ],
            [
             0.8888888888888888,
             "#fdca26"
            ],
            [
             1,
             "#f0f921"
            ]
           ]
          },
          "colorway": [
           "#636efa",
           "#EF553B",
           "#00cc96",
           "#ab63fa",
           "#FFA15A",
           "#19d3f3",
           "#FF6692",
           "#B6E880",
           "#FF97FF",
           "#FECB52"
          ],
          "font": {
           "color": "#2a3f5f"
          },
          "geo": {
           "bgcolor": "white",
           "lakecolor": "white",
           "landcolor": "#E5ECF6",
           "showlakes": true,
           "showland": true,
           "subunitcolor": "white"
          },
          "hoverlabel": {
           "align": "left"
          },
          "hovermode": "closest",
          "mapbox": {
           "style": "light"
          },
          "paper_bgcolor": "white",
          "plot_bgcolor": "#E5ECF6",
          "polar": {
           "angularaxis": {
            "gridcolor": "white",
            "linecolor": "white",
            "ticks": ""
           },
           "bgcolor": "#E5ECF6",
           "radialaxis": {
            "gridcolor": "white",
            "linecolor": "white",
            "ticks": ""
           }
          },
          "scene": {
           "xaxis": {
            "backgroundcolor": "#E5ECF6",
            "gridcolor": "white",
            "gridwidth": 2,
            "linecolor": "white",
            "showbackground": true,
            "ticks": "",
            "zerolinecolor": "white"
           },
           "yaxis": {
            "backgroundcolor": "#E5ECF6",
            "gridcolor": "white",
            "gridwidth": 2,
            "linecolor": "white",
            "showbackground": true,
            "ticks": "",
            "zerolinecolor": "white"
           },
           "zaxis": {
            "backgroundcolor": "#E5ECF6",
            "gridcolor": "white",
            "gridwidth": 2,
            "linecolor": "white",
            "showbackground": true,
            "ticks": "",
            "zerolinecolor": "white"
           }
          },
          "shapedefaults": {
           "line": {
            "color": "#2a3f5f"
           }
          },
          "ternary": {
           "aaxis": {
            "gridcolor": "white",
            "linecolor": "white",
            "ticks": ""
           },
           "baxis": {
            "gridcolor": "white",
            "linecolor": "white",
            "ticks": ""
           },
           "bgcolor": "#E5ECF6",
           "caxis": {
            "gridcolor": "white",
            "linecolor": "white",
            "ticks": ""
           }
          },
          "title": {
           "x": 0.05
          },
          "xaxis": {
           "automargin": true,
           "gridcolor": "white",
           "linecolor": "white",
           "ticks": "",
           "title": {
            "standoff": 15
           },
           "zerolinecolor": "white",
           "zerolinewidth": 2
          },
          "yaxis": {
           "automargin": true,
           "gridcolor": "white",
           "linecolor": "white",
           "ticks": "",
           "title": {
            "standoff": 15
           },
           "zerolinecolor": "white",
           "zerolinewidth": 2
          }
         }
        },
        "title": {
         "text": "Sankey Diagram"
        }
       }
      }
     },
     "metadata": {},
     "output_type": "display_data"
    }
   ],
   "source": [
    "# Generate the Sankey diagram for run 1\n",
    "fig = plot_sankey(results_ch_n, run_id=1)\n",
    "fig.show()"
   ]
  },
  {
   "cell_type": "markdown",
   "metadata": {},
   "source": [
    "\n",
    "\n",
    "- **`run_id=1`**: Specifies that we want to visualize the results from the first run.\n",
    "\n",
    "#### Generate and Display Sankey Diagram for Run 11"
   ]
  },
  {
   "cell_type": "code",
   "execution_count": 9,
   "metadata": {
    "ExecuteTime": {
     "end_time": "2024-10-01T08:37:44.979900Z",
     "start_time": "2024-10-01T08:37:44.930540Z"
    }
   },
   "outputs": [
    {
     "data": {
      "application/vnd.plotly.v1+json": {
       "config": {
        "plotlyServerURL": "https://plot.ly"
       },
       "data": [
        {
         "link": {
          "color": [
           "rgba(181, 31, 31, 0.50)",
           "rgba(181, 31, 31, 0.50)",
           "rgba(181, 31, 31, 0.50)",
           "rgba(181, 31, 31, 0.50)",
           "rgba(181, 31, 31, 0.50)",
           "rgba(181, 31, 31, 0.50)",
           "rgba(255, 225, 0, 0.50)",
           "rgba(179, 123, 68, 0.50)",
           "rgba(181, 31, 31, 0.50)",
           "rgba(181, 31, 31, 0.50)",
           "rgba(181, 31, 31, 0.50)",
           "rgba(181, 31, 31, 0.50)",
           "rgba(0, 0, 0, 0.50)",
           "rgba(0, 206, 209, 0.50)",
           "rgba(0, 206, 209, 0.50)",
           "rgba(0, 0, 255, 0.50)",
           "rgba(250, 128, 114, 0.50)",
           "rgba(250, 128, 114, 0.50)",
           "rgba(250, 128, 114, 0.50)",
           "rgba(0, 206, 209, 0.50)",
           "rgba(0, 0, 0, 0.50)",
           "rgba(0, 0, 0, 0.50)",
           "rgba(0, 0, 0, 0.50)",
           "rgba(0, 0, 0, 0.50)",
           "rgba(0, 0, 0, 0.50)",
           "rgba(0, 0, 0, 0.50)",
           "rgba(0, 191, 255, 0.50)",
           "rgba(0, 191, 255, 0.50)",
           "rgba(0, 191, 255, 0.50)",
           "rgba(0, 191, 255, 0.50)",
           "rgba(0, 191, 255, 0.50)",
           "rgba(0, 191, 255, 0.50)",
           "rgba(0, 191, 255, 0.50)",
           "rgba(0, 191, 255, 0.50)",
           "rgba(0, 191, 255, 0.50)",
           "rgba(0, 191, 255, 0.50)",
           "rgba(0, 191, 255, 0.50)",
           "rgba(0, 191, 255, 0.50)",
           "rgba(0, 191, 255, 0.50)",
           "rgba(0, 191, 255, 0.50)",
           "rgba(0, 191, 255, 0.50)",
           "rgba(0, 191, 255, 0.50)",
           "rgba(0, 191, 255, 0.50)",
           "rgba(0, 191, 255, 0.50)",
           "rgba(0, 191, 255, 0.50)",
           "rgba(0, 191, 255, 0.50)",
           "rgba(255, 215, 0, 0.50)",
           "rgba(255, 215, 0, 0.50)",
           "rgba(255, 215, 0, 0.50)",
           "rgba(255, 215, 0, 0.50)",
           "rgba(255, 215, 0, 0.50)",
           "rgba(255, 225, 0, 0.50)",
           "rgba(255, 215, 0, 0.50)",
           "rgba(255, 215, 0, 0.50)"
          ],
          "label": [
           38553.07174270316,
           4805.157134734539,
           18998.826682304676,
           0.0007359893576020311,
           1066.0074469714293,
           1066.0074469714293,
           5284.745762711864,
           12472,
           5179.015379482358,
           1755.4737446971437,
           3049.320388957714,
           7570.927933834213,
           4805.157134734539,
           16580.16,
           16122.6096,
           26040.487174948954,
           2140.800231658167,
           6776.199768341832,
           8916.999999999996,
           12471.999999999996,
           4239.540829999998,
           520.5841569600001,
           1815.5074344000016,
           1994.8719693,
           3460.929904499999,
           759.5625905999998,
           0.04103172858168423,
           7570.927933834213,
           12849.738811842964,
           4749.706670576169,
           1.1834412189257944e-9,
           16580.16,
           211.38983050847457,
           16122.6096,
           1355.1179808528082,
           25768.08,
           994.3324791207197,
           26040.487174948954,
           8895.76,
           25871.84,
           7403.6,
           4239.540829999998,
           520.5841569600001,
           3810.3794037000016,
           3460.929904499999,
           759.5625905999998,
           1780.8696662335706,
           0.07846948805689874,
           5284.667293223799,
           1780.8696662335701,
           1780.8696662335706,
           5284.745762711864,
           5284.745762711864,
           1780.8696662335701
          ],
          "source": [
           14,
           6,
           14,
           26,
           12,
           15,
           17,
           19,
           0,
           0,
           4,
           7,
           27,
           28,
           28,
           29,
           36,
           36,
           37,
           38,
           1,
           3,
           33,
           33,
           34,
           35,
           2,
           8,
           8,
           8,
           8,
           16,
           17,
           18,
           4,
           25,
           25,
           39,
           8,
           8,
           8,
           8,
           8,
           8,
           8,
           8,
           22,
           22,
           22,
           23,
           24,
           30,
           31,
           32
          ],
          "target": [
           13,
           13,
           13,
           13,
           15,
           13,
           30,
           38,
           12,
           12,
           12,
           12,
           6,
           16,
           18,
           39,
           0,
           4,
           36,
           17,
           21,
           21,
           20,
           21,
           21,
           20,
           8,
           7,
           14,
           14,
           5,
           8,
           8,
           8,
           8,
           8,
           8,
           8,
           9,
           10,
           11,
           1,
           3,
           33,
           34,
           35,
           24,
           2,
           0,
           32,
           23,
           31,
           22,
           22
          ],
          "value": [
           38553.07174270316,
           4805.157134734539,
           18998.826682304676,
           0.0007359893576020311,
           1066.0074469714293,
           1066.0074469714293,
           5284.745762711864,
           12472,
           5179.015379482358,
           1755.4737446971437,
           3049.320388957714,
           7570.927933834213,
           4805.157134734539,
           16580.16,
           16122.6096,
           26040.487174948954,
           2140.800231658167,
           6776.199768341832,
           8916.999999999996,
           12471.999999999996,
           4239.540829999998,
           520.5841569600001,
           1815.5074344000016,
           1994.8719693,
           3460.929904499999,
           759.5625905999998,
           0.04103172858168423,
           7570.927933834213,
           12849.738811842964,
           4749.706670576169,
           1.1834412189257944e-9,
           16580.16,
           211.38983050847457,
           16122.6096,
           1355.1179808528082,
           25768.08,
           994.3324791207197,
           26040.487174948954,
           8895.76,
           25871.84,
           7403.6,
           4239.540829999998,
           520.5841569600001,
           3810.3794037000016,
           3460.929904499999,
           759.5625905999998,
           1780.8696662335706,
           0.07846948805689874,
           5284.667293223799,
           1780.8696662335701,
           1780.8696662335706,
           5284.745762711864,
           5284.745762711864,
           1780.8696662335701
          ]
         },
         "node": {
          "color": "#DCDCDC",
          "label": [
           "BOILER",
           "CAR",
           "CCGT_CC",
           "COACH",
           "COGEN",
           "DEEP_SALINE",
           "DHN_DEEP_GEO",
           "DIRECT_ELEC",
           "ELECTRICITY",
           "EUD_ELECTRICITY_HV",
           "EUD_ELECTRICITY_LV",
           "EUD_ELECTRICITY_MV",
           "HEAT_HIGH_T",
           "HEAT_LOW_T",
           "HP",
           "HT_LT",
           "HYDRO_DAM",
           "HYDRO_GAS",
           "HYDRO_RIVER",
           "IMP_WET_BIOMASS",
           "MOBILITY",
           "MOBILITY_PASSENGER",
           "NG",
           "NG_S",
           "NG_STO",
           "PV",
           "RENOVATION",
           "RES_GEO",
           "RES_HYDRO",
           "RES_WIND",
           "SNG",
           "SNG_NG",
           "STO_NG",
           "TRAIN",
           "TRAMWAY",
           "TRUCK",
           "WASTE",
           "WASTE_BIO",
           "WET_BIOMASS",
           "WIND"
          ],
          "line": {
           "color": "black",
           "width": 0.5
          },
          "pad": 15,
          "thickness": 15
         },
         "type": "sankey",
         "valueformat": ".0f",
         "valuesuffix": ""
        }
       ],
       "layout": {
        "font": {
         "color": "black",
         "size": 10
        },
        "template": {
         "data": {
          "bar": [
           {
            "error_x": {
             "color": "#2a3f5f"
            },
            "error_y": {
             "color": "#2a3f5f"
            },
            "marker": {
             "line": {
              "color": "#E5ECF6",
              "width": 0.5
             },
             "pattern": {
              "fillmode": "overlay",
              "size": 10,
              "solidity": 0.2
             }
            },
            "type": "bar"
           }
          ],
          "barpolar": [
           {
            "marker": {
             "line": {
              "color": "#E5ECF6",
              "width": 0.5
             },
             "pattern": {
              "fillmode": "overlay",
              "size": 10,
              "solidity": 0.2
             }
            },
            "type": "barpolar"
           }
          ],
          "carpet": [
           {
            "aaxis": {
             "endlinecolor": "#2a3f5f",
             "gridcolor": "white",
             "linecolor": "white",
             "minorgridcolor": "white",
             "startlinecolor": "#2a3f5f"
            },
            "baxis": {
             "endlinecolor": "#2a3f5f",
             "gridcolor": "white",
             "linecolor": "white",
             "minorgridcolor": "white",
             "startlinecolor": "#2a3f5f"
            },
            "type": "carpet"
           }
          ],
          "choropleth": [
           {
            "colorbar": {
             "outlinewidth": 0,
             "ticks": ""
            },
            "type": "choropleth"
           }
          ],
          "contour": [
           {
            "colorbar": {
             "outlinewidth": 0,
             "ticks": ""
            },
            "colorscale": [
             [
              0,
              "#0d0887"
             ],
             [
              0.1111111111111111,
              "#46039f"
             ],
             [
              0.2222222222222222,
              "#7201a8"
             ],
             [
              0.3333333333333333,
              "#9c179e"
             ],
             [
              0.4444444444444444,
              "#bd3786"
             ],
             [
              0.5555555555555556,
              "#d8576b"
             ],
             [
              0.6666666666666666,
              "#ed7953"
             ],
             [
              0.7777777777777778,
              "#fb9f3a"
             ],
             [
              0.8888888888888888,
              "#fdca26"
             ],
             [
              1,
              "#f0f921"
             ]
            ],
            "type": "contour"
           }
          ],
          "contourcarpet": [
           {
            "colorbar": {
             "outlinewidth": 0,
             "ticks": ""
            },
            "type": "contourcarpet"
           }
          ],
          "heatmap": [
           {
            "colorbar": {
             "outlinewidth": 0,
             "ticks": ""
            },
            "colorscale": [
             [
              0,
              "#0d0887"
             ],
             [
              0.1111111111111111,
              "#46039f"
             ],
             [
              0.2222222222222222,
              "#7201a8"
             ],
             [
              0.3333333333333333,
              "#9c179e"
             ],
             [
              0.4444444444444444,
              "#bd3786"
             ],
             [
              0.5555555555555556,
              "#d8576b"
             ],
             [
              0.6666666666666666,
              "#ed7953"
             ],
             [
              0.7777777777777778,
              "#fb9f3a"
             ],
             [
              0.8888888888888888,
              "#fdca26"
             ],
             [
              1,
              "#f0f921"
             ]
            ],
            "type": "heatmap"
           }
          ],
          "heatmapgl": [
           {
            "colorbar": {
             "outlinewidth": 0,
             "ticks": ""
            },
            "colorscale": [
             [
              0,
              "#0d0887"
             ],
             [
              0.1111111111111111,
              "#46039f"
             ],
             [
              0.2222222222222222,
              "#7201a8"
             ],
             [
              0.3333333333333333,
              "#9c179e"
             ],
             [
              0.4444444444444444,
              "#bd3786"
             ],
             [
              0.5555555555555556,
              "#d8576b"
             ],
             [
              0.6666666666666666,
              "#ed7953"
             ],
             [
              0.7777777777777778,
              "#fb9f3a"
             ],
             [
              0.8888888888888888,
              "#fdca26"
             ],
             [
              1,
              "#f0f921"
             ]
            ],
            "type": "heatmapgl"
           }
          ],
          "histogram": [
           {
            "marker": {
             "pattern": {
              "fillmode": "overlay",
              "size": 10,
              "solidity": 0.2
             }
            },
            "type": "histogram"
           }
          ],
          "histogram2d": [
           {
            "colorbar": {
             "outlinewidth": 0,
             "ticks": ""
            },
            "colorscale": [
             [
              0,
              "#0d0887"
             ],
             [
              0.1111111111111111,
              "#46039f"
             ],
             [
              0.2222222222222222,
              "#7201a8"
             ],
             [
              0.3333333333333333,
              "#9c179e"
             ],
             [
              0.4444444444444444,
              "#bd3786"
             ],
             [
              0.5555555555555556,
              "#d8576b"
             ],
             [
              0.6666666666666666,
              "#ed7953"
             ],
             [
              0.7777777777777778,
              "#fb9f3a"
             ],
             [
              0.8888888888888888,
              "#fdca26"
             ],
             [
              1,
              "#f0f921"
             ]
            ],
            "type": "histogram2d"
           }
          ],
          "histogram2dcontour": [
           {
            "colorbar": {
             "outlinewidth": 0,
             "ticks": ""
            },
            "colorscale": [
             [
              0,
              "#0d0887"
             ],
             [
              0.1111111111111111,
              "#46039f"
             ],
             [
              0.2222222222222222,
              "#7201a8"
             ],
             [
              0.3333333333333333,
              "#9c179e"
             ],
             [
              0.4444444444444444,
              "#bd3786"
             ],
             [
              0.5555555555555556,
              "#d8576b"
             ],
             [
              0.6666666666666666,
              "#ed7953"
             ],
             [
              0.7777777777777778,
              "#fb9f3a"
             ],
             [
              0.8888888888888888,
              "#fdca26"
             ],
             [
              1,
              "#f0f921"
             ]
            ],
            "type": "histogram2dcontour"
           }
          ],
          "mesh3d": [
           {
            "colorbar": {
             "outlinewidth": 0,
             "ticks": ""
            },
            "type": "mesh3d"
           }
          ],
          "parcoords": [
           {
            "line": {
             "colorbar": {
              "outlinewidth": 0,
              "ticks": ""
             }
            },
            "type": "parcoords"
           }
          ],
          "pie": [
           {
            "automargin": true,
            "type": "pie"
           }
          ],
          "scatter": [
           {
            "fillpattern": {
             "fillmode": "overlay",
             "size": 10,
             "solidity": 0.2
            },
            "type": "scatter"
           }
          ],
          "scatter3d": [
           {
            "line": {
             "colorbar": {
              "outlinewidth": 0,
              "ticks": ""
             }
            },
            "marker": {
             "colorbar": {
              "outlinewidth": 0,
              "ticks": ""
             }
            },
            "type": "scatter3d"
           }
          ],
          "scattercarpet": [
           {
            "marker": {
             "colorbar": {
              "outlinewidth": 0,
              "ticks": ""
             }
            },
            "type": "scattercarpet"
           }
          ],
          "scattergeo": [
           {
            "marker": {
             "colorbar": {
              "outlinewidth": 0,
              "ticks": ""
             }
            },
            "type": "scattergeo"
           }
          ],
          "scattergl": [
           {
            "marker": {
             "colorbar": {
              "outlinewidth": 0,
              "ticks": ""
             }
            },
            "type": "scattergl"
           }
          ],
          "scattermapbox": [
           {
            "marker": {
             "colorbar": {
              "outlinewidth": 0,
              "ticks": ""
             }
            },
            "type": "scattermapbox"
           }
          ],
          "scatterpolar": [
           {
            "marker": {
             "colorbar": {
              "outlinewidth": 0,
              "ticks": ""
             }
            },
            "type": "scatterpolar"
           }
          ],
          "scatterpolargl": [
           {
            "marker": {
             "colorbar": {
              "outlinewidth": 0,
              "ticks": ""
             }
            },
            "type": "scatterpolargl"
           }
          ],
          "scatterternary": [
           {
            "marker": {
             "colorbar": {
              "outlinewidth": 0,
              "ticks": ""
             }
            },
            "type": "scatterternary"
           }
          ],
          "surface": [
           {
            "colorbar": {
             "outlinewidth": 0,
             "ticks": ""
            },
            "colorscale": [
             [
              0,
              "#0d0887"
             ],
             [
              0.1111111111111111,
              "#46039f"
             ],
             [
              0.2222222222222222,
              "#7201a8"
             ],
             [
              0.3333333333333333,
              "#9c179e"
             ],
             [
              0.4444444444444444,
              "#bd3786"
             ],
             [
              0.5555555555555556,
              "#d8576b"
             ],
             [
              0.6666666666666666,
              "#ed7953"
             ],
             [
              0.7777777777777778,
              "#fb9f3a"
             ],
             [
              0.8888888888888888,
              "#fdca26"
             ],
             [
              1,
              "#f0f921"
             ]
            ],
            "type": "surface"
           }
          ],
          "table": [
           {
            "cells": {
             "fill": {
              "color": "#EBF0F8"
             },
             "line": {
              "color": "white"
             }
            },
            "header": {
             "fill": {
              "color": "#C8D4E3"
             },
             "line": {
              "color": "white"
             }
            },
            "type": "table"
           }
          ]
         },
         "layout": {
          "annotationdefaults": {
           "arrowcolor": "#2a3f5f",
           "arrowhead": 0,
           "arrowwidth": 1
          },
          "autotypenumbers": "strict",
          "coloraxis": {
           "colorbar": {
            "outlinewidth": 0,
            "ticks": ""
           }
          },
          "colorscale": {
           "diverging": [
            [
             0,
             "#8e0152"
            ],
            [
             0.1,
             "#c51b7d"
            ],
            [
             0.2,
             "#de77ae"
            ],
            [
             0.3,
             "#f1b6da"
            ],
            [
             0.4,
             "#fde0ef"
            ],
            [
             0.5,
             "#f7f7f7"
            ],
            [
             0.6,
             "#e6f5d0"
            ],
            [
             0.7,
             "#b8e186"
            ],
            [
             0.8,
             "#7fbc41"
            ],
            [
             0.9,
             "#4d9221"
            ],
            [
             1,
             "#276419"
            ]
           ],
           "sequential": [
            [
             0,
             "#0d0887"
            ],
            [
             0.1111111111111111,
             "#46039f"
            ],
            [
             0.2222222222222222,
             "#7201a8"
            ],
            [
             0.3333333333333333,
             "#9c179e"
            ],
            [
             0.4444444444444444,
             "#bd3786"
            ],
            [
             0.5555555555555556,
             "#d8576b"
            ],
            [
             0.6666666666666666,
             "#ed7953"
            ],
            [
             0.7777777777777778,
             "#fb9f3a"
            ],
            [
             0.8888888888888888,
             "#fdca26"
            ],
            [
             1,
             "#f0f921"
            ]
           ],
           "sequentialminus": [
            [
             0,
             "#0d0887"
            ],
            [
             0.1111111111111111,
             "#46039f"
            ],
            [
             0.2222222222222222,
             "#7201a8"
            ],
            [
             0.3333333333333333,
             "#9c179e"
            ],
            [
             0.4444444444444444,
             "#bd3786"
            ],
            [
             0.5555555555555556,
             "#d8576b"
            ],
            [
             0.6666666666666666,
             "#ed7953"
            ],
            [
             0.7777777777777778,
             "#fb9f3a"
            ],
            [
             0.8888888888888888,
             "#fdca26"
            ],
            [
             1,
             "#f0f921"
            ]
           ]
          },
          "colorway": [
           "#636efa",
           "#EF553B",
           "#00cc96",
           "#ab63fa",
           "#FFA15A",
           "#19d3f3",
           "#FF6692",
           "#B6E880",
           "#FF97FF",
           "#FECB52"
          ],
          "font": {
           "color": "#2a3f5f"
          },
          "geo": {
           "bgcolor": "white",
           "lakecolor": "white",
           "landcolor": "#E5ECF6",
           "showlakes": true,
           "showland": true,
           "subunitcolor": "white"
          },
          "hoverlabel": {
           "align": "left"
          },
          "hovermode": "closest",
          "mapbox": {
           "style": "light"
          },
          "paper_bgcolor": "white",
          "plot_bgcolor": "#E5ECF6",
          "polar": {
           "angularaxis": {
            "gridcolor": "white",
            "linecolor": "white",
            "ticks": ""
           },
           "bgcolor": "#E5ECF6",
           "radialaxis": {
            "gridcolor": "white",
            "linecolor": "white",
            "ticks": ""
           }
          },
          "scene": {
           "xaxis": {
            "backgroundcolor": "#E5ECF6",
            "gridcolor": "white",
            "gridwidth": 2,
            "linecolor": "white",
            "showbackground": true,
            "ticks": "",
            "zerolinecolor": "white"
           },
           "yaxis": {
            "backgroundcolor": "#E5ECF6",
            "gridcolor": "white",
            "gridwidth": 2,
            "linecolor": "white",
            "showbackground": true,
            "ticks": "",
            "zerolinecolor": "white"
           },
           "zaxis": {
            "backgroundcolor": "#E5ECF6",
            "gridcolor": "white",
            "gridwidth": 2,
            "linecolor": "white",
            "showbackground": true,
            "ticks": "",
            "zerolinecolor": "white"
           }
          },
          "shapedefaults": {
           "line": {
            "color": "#2a3f5f"
           }
          },
          "ternary": {
           "aaxis": {
            "gridcolor": "white",
            "linecolor": "white",
            "ticks": ""
           },
           "baxis": {
            "gridcolor": "white",
            "linecolor": "white",
            "ticks": ""
           },
           "bgcolor": "#E5ECF6",
           "caxis": {
            "gridcolor": "white",
            "linecolor": "white",
            "ticks": ""
           }
          },
          "title": {
           "x": 0.05
          },
          "xaxis": {
           "automargin": true,
           "gridcolor": "white",
           "linecolor": "white",
           "ticks": "",
           "title": {
            "standoff": 15
           },
           "zerolinecolor": "white",
           "zerolinewidth": 2
          },
          "yaxis": {
           "automargin": true,
           "gridcolor": "white",
           "linecolor": "white",
           "ticks": "",
           "title": {
            "standoff": 15
           },
           "zerolinecolor": "white",
           "zerolinewidth": 2
          }
         }
        },
        "title": {
         "text": "Sankey Diagram"
        }
       }
      }
     },
     "metadata": {},
     "output_type": "display_data"
    }
   ],
   "source": [
    "# Generate the Sankey diagram for run 11\n",
    "fig = plot_sankey(results_ch_n, run_id=11)\n",
    "fig.show()"
   ]
  },
  {
   "cell_type": "markdown",
   "metadata": {},
   "source": [
    "\n",
    "\n",
    "- **`run_id=11`**: Visualizes the results from the eleventh run.\n",
    "\n",
    "> **Optional**: You can save the generated Sankey diagrams as HTML files or images by uncommenting and modifying the following lines:"
   ]
  },
  {
   "cell_type": "code",
   "execution_count": 10,
   "metadata": {
    "ExecuteTime": {
     "end_time": "2024-10-01T08:37:54.059076Z",
     "start_time": "2024-10-01T08:37:54.056739Z"
    }
   },
   "outputs": [],
   "source": [
    "# Save the generated Sankey diagram as an HTML file\n",
    "# fig.write_html(\"tutorial_output/Sankey_results_ch_1.html\")\n",
    "\n",
    "# Save the generated Sankey diagram as an image\n",
    "# fig.write_image('tutorial_output/Sankey_results_ch_1.png')"
   ]
  },
  {
   "cell_type": "markdown",
   "metadata": {},
   "source": [
    "\n",
    "\n",
    "### Analyze Parametrization Results\n",
    "\n",
    "We can further analyze how the changes in parameters affect the results using the `plot_parametrisation` function.\n",
    "\n",
    "#### Inspect Annual Results DataFrame"
   ]
  },
  {
   "cell_type": "code",
   "execution_count": 11,
   "metadata": {
    "ExecuteTime": {
     "end_time": "2024-10-01T08:37:56.382705Z",
     "start_time": "2024-10-01T08:37:56.373276Z"
    }
   },
   "outputs": [
    {
     "data": {
      "text/html": [
       "<div>\n",
       "<style scoped>\n",
       "    .dataframe tbody tr th:only-of-type {\n",
       "        vertical-align: middle;\n",
       "    }\n",
       "\n",
       "    .dataframe tbody tr th {\n",
       "        vertical-align: top;\n",
       "    }\n",
       "\n",
       "    .dataframe thead th {\n",
       "        text-align: right;\n",
       "    }\n",
       "</style>\n",
       "<table border=\"1\" class=\"dataframe\">\n",
       "  <thead>\n",
       "    <tr style=\"text-align: right;\">\n",
       "      <th></th>\n",
       "      <th></th>\n",
       "      <th>C_inv</th>\n",
       "      <th>C_maint</th>\n",
       "      <th>Annual_Prod</th>\n",
       "      <th>F_Mult</th>\n",
       "      <th>tau</th>\n",
       "      <th>C_inv_an</th>\n",
       "      <th>Category</th>\n",
       "      <th>Category_2</th>\n",
       "      <th>Sector</th>\n",
       "    </tr>\n",
       "    <tr>\n",
       "      <th></th>\n",
       "      <th>Run</th>\n",
       "      <th></th>\n",
       "      <th></th>\n",
       "      <th></th>\n",
       "      <th></th>\n",
       "      <th></th>\n",
       "      <th></th>\n",
       "      <th></th>\n",
       "      <th></th>\n",
       "      <th></th>\n",
       "    </tr>\n",
       "  </thead>\n",
       "  <tbody>\n",
       "    <tr>\n",
       "      <th>CAR_ETOH_E10</th>\n",
       "      <th>9</th>\n",
       "      <td>0.0</td>\n",
       "      <td>0.0</td>\n",
       "      <td>0.0</td>\n",
       "      <td>0.0</td>\n",
       "      <td>0.137778</td>\n",
       "      <td>0.0</td>\n",
       "      <td>Others</td>\n",
       "      <td>Mobility</td>\n",
       "      <td>Others</td>\n",
       "    </tr>\n",
       "  </tbody>\n",
       "</table>\n",
       "</div>"
      ],
      "text/plain": [
       "                  C_inv  C_maint  Annual_Prod  F_Mult       tau  C_inv_an  \\\n",
       "             Run                                                            \n",
       "CAR_ETOH_E10 9      0.0      0.0          0.0     0.0  0.137778       0.0   \n",
       "\n",
       "                 Category Category_2  Sector  \n",
       "             Run                              \n",
       "CAR_ETOH_E10 9     Others   Mobility  Others  "
      ]
     },
     "metadata": {},
     "output_type": "display_data"
    }
   ],
   "source": [
    "# Display a sample from the annual results DataFrame\n",
    "display(results_ch_n.postprocessing['df_annual'].sample())"
   ]
  },
  {
   "cell_type": "markdown",
   "metadata": {},
   "source": [
    "\n",
    "\n",
    "- Displays a random sample from the annual results DataFrame for inspection.\n",
    "\n",
    "#### Plot Investment Costs by Sector"
   ]
  },
  {
   "cell_type": "code",
   "execution_count": 12,
   "metadata": {
    "ExecuteTime": {
     "end_time": "2024-10-01T08:38:02.649462Z",
     "start_time": "2024-10-01T08:38:02.222709Z"
    }
   },
   "outputs": [
    {
     "data": {
      "application/vnd.plotly.v1+json": {
       "config": {
        "plotlyServerURL": "https://plot.ly"
       },
       "data": [
        {
         "fillpattern": {
          "shape": ""
         },
         "hovertemplate": "Sector=Domestic Heat<br>Simulation Run=%{x}<br>Annualized investment costs [MCHF/y]=%{y}<extra></extra>",
         "legendgroup": "Domestic Heat",
         "line": {
          "color": "#1F77B4"
         },
         "marker": {
          "symbol": "circle"
         },
         "mode": "lines",
         "name": "Domestic Heat",
         "orientation": "v",
         "showlegend": true,
         "stackgroup": "1",
         "type": "scatter",
         "x": [
          1,
          2,
          3,
          4,
          5,
          6,
          7,
          8,
          9,
          10,
          11
         ],
         "xaxis": "x",
         "y": [
          702.7638711128478,
          667.3588561938047,
          663.0373213487957,
          663.0373213487961,
          663.0373213487964,
          663.0373213487957,
          660.6951378420068,
          659.159522996237,
          659.1370801819454,
          694.7694667709105,
          694.7740770177015
         ],
         "yaxis": "y"
        },
        {
         "fillpattern": {
          "shape": ""
         },
         "hovertemplate": "Sector=Electricity<br>Simulation Run=%{x}<br>Annualized investment costs [MCHF/y]=%{y}<extra></extra>",
         "legendgroup": "Electricity",
         "line": {
          "color": "#FF7F0E"
         },
         "marker": {
          "symbol": "circle"
         },
         "mode": "lines",
         "name": "Electricity",
         "orientation": "v",
         "showlegend": true,
         "stackgroup": "1",
         "type": "scatter",
         "x": [
          1,
          2,
          3,
          4,
          5,
          6,
          7,
          8,
          9,
          10,
          11
         ],
         "xaxis": "x",
         "y": [
          3610.276463815234,
          3704.2417332647747,
          3884.231812895242,
          4019.283662639186,
          4154.335512383135,
          4289.996022329545,
          4422.331171953217,
          4537.345904344626,
          4642.031364442234,
          4592.456041570071,
          4700.612441769965
         ],
         "yaxis": "y"
        },
        {
         "fillpattern": {
          "shape": ""
         },
         "hovertemplate": "Sector=Industrial Heat<br>Simulation Run=%{x}<br>Annualized investment costs [MCHF/y]=%{y}<extra></extra>",
         "legendgroup": "Industrial Heat",
         "line": {
          "color": "#2CA02C"
         },
         "marker": {
          "symbol": "circle"
         },
         "mode": "lines",
         "name": "Industrial Heat",
         "orientation": "v",
         "showlegend": true,
         "stackgroup": "1",
         "type": "scatter",
         "x": [
          1,
          2,
          3,
          4,
          5,
          6,
          7,
          8,
          9,
          10,
          11
         ],
         "xaxis": "x",
         "y": [
          97.87592647951351,
          98.53800089506453,
          103.73538938350025,
          103.73538938350015,
          103.73538938349918,
          103.7353893835002,
          104.98938648371703,
          109.43689823656602,
          114.71057075932109,
          122.500929568998,
          124.79152148312096
         ],
         "yaxis": "y"
        },
        {
         "fillpattern": {
          "shape": ""
         },
         "hovertemplate": "Sector=Mobility<br>Simulation Run=%{x}<br>Annualized investment costs [MCHF/y]=%{y}<extra></extra>",
         "legendgroup": "Mobility",
         "line": {
          "color": "#D62728"
         },
         "marker": {
          "symbol": "circle"
         },
         "mode": "lines",
         "name": "Mobility",
         "orientation": "v",
         "showlegend": true,
         "stackgroup": "1",
         "type": "scatter",
         "x": [
          1,
          2,
          3,
          4,
          5,
          6,
          7,
          8,
          9,
          10,
          11
         ],
         "xaxis": "x",
         "y": [
          155.9453154000443,
          147.02757201451925,
          147.027572014518,
          147.02757201451794,
          147.02757201451786,
          147.02757201451794,
          147.02757201451794,
          147.027572014518,
          147.02757201451794,
          147.02757201451806,
          147.02757201451794
         ],
         "yaxis": "y"
        },
        {
         "fillpattern": {
          "shape": ""
         },
         "hovertemplate": "Sector=Others<br>Simulation Run=%{x}<br>Annualized investment costs [MCHF/y]=%{y}<extra></extra>",
         "legendgroup": "Others",
         "line": {
          "color": "#9467BD"
         },
         "marker": {
          "symbol": "circle"
         },
         "mode": "lines",
         "name": "Others",
         "orientation": "v",
         "showlegend": true,
         "stackgroup": "1",
         "type": "scatter",
         "x": [
          1,
          2,
          3,
          4,
          5,
          6,
          7,
          8,
          9,
          10,
          11
         ],
         "xaxis": "x",
         "y": [
          1234.6158696411223,
          1228.4274707072466,
          1171.6164112059398,
          1169.622557405438,
          1167.6287036049287,
          1165.6352905453098,
          1160.1941833795174,
          1155.693028239937,
          1153.2422865398469,
          1205.771160920232,
          1203.8056452746112
         ],
         "yaxis": "y"
        }
       ],
       "layout": {
        "legend": {
         "title": {
          "text": "Sector"
         },
         "tracegroupgap": 0
        },
        "margin": {
         "t": 60
        },
        "template": {
         "data": {
          "bar": [
           {
            "error_x": {
             "color": "rgb(36,36,36)"
            },
            "error_y": {
             "color": "rgb(36,36,36)"
            },
            "marker": {
             "line": {
              "color": "white",
              "width": 0.5
             },
             "pattern": {
              "fillmode": "overlay",
              "size": 10,
              "solidity": 0.2
             }
            },
            "type": "bar"
           }
          ],
          "barpolar": [
           {
            "marker": {
             "line": {
              "color": "white",
              "width": 0.5
             },
             "pattern": {
              "fillmode": "overlay",
              "size": 10,
              "solidity": 0.2
             }
            },
            "type": "barpolar"
           }
          ],
          "carpet": [
           {
            "aaxis": {
             "endlinecolor": "rgb(36,36,36)",
             "gridcolor": "white",
             "linecolor": "white",
             "minorgridcolor": "white",
             "startlinecolor": "rgb(36,36,36)"
            },
            "baxis": {
             "endlinecolor": "rgb(36,36,36)",
             "gridcolor": "white",
             "linecolor": "white",
             "minorgridcolor": "white",
             "startlinecolor": "rgb(36,36,36)"
            },
            "type": "carpet"
           }
          ],
          "choropleth": [
           {
            "colorbar": {
             "outlinewidth": 1,
             "tickcolor": "rgb(36,36,36)",
             "ticks": "outside"
            },
            "type": "choropleth"
           }
          ],
          "contour": [
           {
            "colorbar": {
             "outlinewidth": 1,
             "tickcolor": "rgb(36,36,36)",
             "ticks": "outside"
            },
            "colorscale": [
             [
              0,
              "#440154"
             ],
             [
              0.1111111111111111,
              "#482878"
             ],
             [
              0.2222222222222222,
              "#3e4989"
             ],
             [
              0.3333333333333333,
              "#31688e"
             ],
             [
              0.4444444444444444,
              "#26828e"
             ],
             [
              0.5555555555555556,
              "#1f9e89"
             ],
             [
              0.6666666666666666,
              "#35b779"
             ],
             [
              0.7777777777777778,
              "#6ece58"
             ],
             [
              0.8888888888888888,
              "#b5de2b"
             ],
             [
              1,
              "#fde725"
             ]
            ],
            "type": "contour"
           }
          ],
          "contourcarpet": [
           {
            "colorbar": {
             "outlinewidth": 1,
             "tickcolor": "rgb(36,36,36)",
             "ticks": "outside"
            },
            "type": "contourcarpet"
           }
          ],
          "heatmap": [
           {
            "colorbar": {
             "outlinewidth": 1,
             "tickcolor": "rgb(36,36,36)",
             "ticks": "outside"
            },
            "colorscale": [
             [
              0,
              "#440154"
             ],
             [
              0.1111111111111111,
              "#482878"
             ],
             [
              0.2222222222222222,
              "#3e4989"
             ],
             [
              0.3333333333333333,
              "#31688e"
             ],
             [
              0.4444444444444444,
              "#26828e"
             ],
             [
              0.5555555555555556,
              "#1f9e89"
             ],
             [
              0.6666666666666666,
              "#35b779"
             ],
             [
              0.7777777777777778,
              "#6ece58"
             ],
             [
              0.8888888888888888,
              "#b5de2b"
             ],
             [
              1,
              "#fde725"
             ]
            ],
            "type": "heatmap"
           }
          ],
          "heatmapgl": [
           {
            "colorbar": {
             "outlinewidth": 1,
             "tickcolor": "rgb(36,36,36)",
             "ticks": "outside"
            },
            "colorscale": [
             [
              0,
              "#440154"
             ],
             [
              0.1111111111111111,
              "#482878"
             ],
             [
              0.2222222222222222,
              "#3e4989"
             ],
             [
              0.3333333333333333,
              "#31688e"
             ],
             [
              0.4444444444444444,
              "#26828e"
             ],
             [
              0.5555555555555556,
              "#1f9e89"
             ],
             [
              0.6666666666666666,
              "#35b779"
             ],
             [
              0.7777777777777778,
              "#6ece58"
             ],
             [
              0.8888888888888888,
              "#b5de2b"
             ],
             [
              1,
              "#fde725"
             ]
            ],
            "type": "heatmapgl"
           }
          ],
          "histogram": [
           {
            "marker": {
             "line": {
              "color": "white",
              "width": 0.6
             }
            },
            "type": "histogram"
           }
          ],
          "histogram2d": [
           {
            "colorbar": {
             "outlinewidth": 1,
             "tickcolor": "rgb(36,36,36)",
             "ticks": "outside"
            },
            "colorscale": [
             [
              0,
              "#440154"
             ],
             [
              0.1111111111111111,
              "#482878"
             ],
             [
              0.2222222222222222,
              "#3e4989"
             ],
             [
              0.3333333333333333,
              "#31688e"
             ],
             [
              0.4444444444444444,
              "#26828e"
             ],
             [
              0.5555555555555556,
              "#1f9e89"
             ],
             [
              0.6666666666666666,
              "#35b779"
             ],
             [
              0.7777777777777778,
              "#6ece58"
             ],
             [
              0.8888888888888888,
              "#b5de2b"
             ],
             [
              1,
              "#fde725"
             ]
            ],
            "type": "histogram2d"
           }
          ],
          "histogram2dcontour": [
           {
            "colorbar": {
             "outlinewidth": 1,
             "tickcolor": "rgb(36,36,36)",
             "ticks": "outside"
            },
            "colorscale": [
             [
              0,
              "#440154"
             ],
             [
              0.1111111111111111,
              "#482878"
             ],
             [
              0.2222222222222222,
              "#3e4989"
             ],
             [
              0.3333333333333333,
              "#31688e"
             ],
             [
              0.4444444444444444,
              "#26828e"
             ],
             [
              0.5555555555555556,
              "#1f9e89"
             ],
             [
              0.6666666666666666,
              "#35b779"
             ],
             [
              0.7777777777777778,
              "#6ece58"
             ],
             [
              0.8888888888888888,
              "#b5de2b"
             ],
             [
              1,
              "#fde725"
             ]
            ],
            "type": "histogram2dcontour"
           }
          ],
          "mesh3d": [
           {
            "colorbar": {
             "outlinewidth": 1,
             "tickcolor": "rgb(36,36,36)",
             "ticks": "outside"
            },
            "type": "mesh3d"
           }
          ],
          "parcoords": [
           {
            "line": {
             "colorbar": {
              "outlinewidth": 1,
              "tickcolor": "rgb(36,36,36)",
              "ticks": "outside"
             }
            },
            "type": "parcoords"
           }
          ],
          "pie": [
           {
            "automargin": true,
            "type": "pie"
           }
          ],
          "scatter": [
           {
            "fillpattern": {
             "fillmode": "overlay",
             "size": 10,
             "solidity": 0.2
            },
            "type": "scatter"
           }
          ],
          "scatter3d": [
           {
            "line": {
             "colorbar": {
              "outlinewidth": 1,
              "tickcolor": "rgb(36,36,36)",
              "ticks": "outside"
             }
            },
            "marker": {
             "colorbar": {
              "outlinewidth": 1,
              "tickcolor": "rgb(36,36,36)",
              "ticks": "outside"
             }
            },
            "type": "scatter3d"
           }
          ],
          "scattercarpet": [
           {
            "marker": {
             "colorbar": {
              "outlinewidth": 1,
              "tickcolor": "rgb(36,36,36)",
              "ticks": "outside"
             }
            },
            "type": "scattercarpet"
           }
          ],
          "scattergeo": [
           {
            "marker": {
             "colorbar": {
              "outlinewidth": 1,
              "tickcolor": "rgb(36,36,36)",
              "ticks": "outside"
             }
            },
            "type": "scattergeo"
           }
          ],
          "scattergl": [
           {
            "marker": {
             "colorbar": {
              "outlinewidth": 1,
              "tickcolor": "rgb(36,36,36)",
              "ticks": "outside"
             }
            },
            "type": "scattergl"
           }
          ],
          "scattermapbox": [
           {
            "marker": {
             "colorbar": {
              "outlinewidth": 1,
              "tickcolor": "rgb(36,36,36)",
              "ticks": "outside"
             }
            },
            "type": "scattermapbox"
           }
          ],
          "scatterpolar": [
           {
            "marker": {
             "colorbar": {
              "outlinewidth": 1,
              "tickcolor": "rgb(36,36,36)",
              "ticks": "outside"
             }
            },
            "type": "scatterpolar"
           }
          ],
          "scatterpolargl": [
           {
            "marker": {
             "colorbar": {
              "outlinewidth": 1,
              "tickcolor": "rgb(36,36,36)",
              "ticks": "outside"
             }
            },
            "type": "scatterpolargl"
           }
          ],
          "scatterternary": [
           {
            "marker": {
             "colorbar": {
              "outlinewidth": 1,
              "tickcolor": "rgb(36,36,36)",
              "ticks": "outside"
             }
            },
            "type": "scatterternary"
           }
          ],
          "surface": [
           {
            "colorbar": {
             "outlinewidth": 1,
             "tickcolor": "rgb(36,36,36)",
             "ticks": "outside"
            },
            "colorscale": [
             [
              0,
              "#440154"
             ],
             [
              0.1111111111111111,
              "#482878"
             ],
             [
              0.2222222222222222,
              "#3e4989"
             ],
             [
              0.3333333333333333,
              "#31688e"
             ],
             [
              0.4444444444444444,
              "#26828e"
             ],
             [
              0.5555555555555556,
              "#1f9e89"
             ],
             [
              0.6666666666666666,
              "#35b779"
             ],
             [
              0.7777777777777778,
              "#6ece58"
             ],
             [
              0.8888888888888888,
              "#b5de2b"
             ],
             [
              1,
              "#fde725"
             ]
            ],
            "type": "surface"
           }
          ],
          "table": [
           {
            "cells": {
             "fill": {
              "color": "rgb(237,237,237)"
             },
             "line": {
              "color": "white"
             }
            },
            "header": {
             "fill": {
              "color": "rgb(217,217,217)"
             },
             "line": {
              "color": "white"
             }
            },
            "type": "table"
           }
          ]
         },
         "layout": {
          "annotationdefaults": {
           "arrowhead": 0,
           "arrowwidth": 1
          },
          "autotypenumbers": "strict",
          "coloraxis": {
           "colorbar": {
            "outlinewidth": 1,
            "tickcolor": "rgb(36,36,36)",
            "ticks": "outside"
           }
          },
          "colorscale": {
           "diverging": [
            [
             0,
             "rgb(103,0,31)"
            ],
            [
             0.1,
             "rgb(178,24,43)"
            ],
            [
             0.2,
             "rgb(214,96,77)"
            ],
            [
             0.3,
             "rgb(244,165,130)"
            ],
            [
             0.4,
             "rgb(253,219,199)"
            ],
            [
             0.5,
             "rgb(247,247,247)"
            ],
            [
             0.6,
             "rgb(209,229,240)"
            ],
            [
             0.7,
             "rgb(146,197,222)"
            ],
            [
             0.8,
             "rgb(67,147,195)"
            ],
            [
             0.9,
             "rgb(33,102,172)"
            ],
            [
             1,
             "rgb(5,48,97)"
            ]
           ],
           "sequential": [
            [
             0,
             "#440154"
            ],
            [
             0.1111111111111111,
             "#482878"
            ],
            [
             0.2222222222222222,
             "#3e4989"
            ],
            [
             0.3333333333333333,
             "#31688e"
            ],
            [
             0.4444444444444444,
             "#26828e"
            ],
            [
             0.5555555555555556,
             "#1f9e89"
            ],
            [
             0.6666666666666666,
             "#35b779"
            ],
            [
             0.7777777777777778,
             "#6ece58"
            ],
            [
             0.8888888888888888,
             "#b5de2b"
            ],
            [
             1,
             "#fde725"
            ]
           ],
           "sequentialminus": [
            [
             0,
             "#440154"
            ],
            [
             0.1111111111111111,
             "#482878"
            ],
            [
             0.2222222222222222,
             "#3e4989"
            ],
            [
             0.3333333333333333,
             "#31688e"
            ],
            [
             0.4444444444444444,
             "#26828e"
            ],
            [
             0.5555555555555556,
             "#1f9e89"
            ],
            [
             0.6666666666666666,
             "#35b779"
            ],
            [
             0.7777777777777778,
             "#6ece58"
            ],
            [
             0.8888888888888888,
             "#b5de2b"
            ],
            [
             1,
             "#fde725"
            ]
           ]
          },
          "colorway": [
           "#1F77B4",
           "#FF7F0E",
           "#2CA02C",
           "#D62728",
           "#9467BD",
           "#8C564B",
           "#E377C2",
           "#7F7F7F",
           "#BCBD22",
           "#17BECF"
          ],
          "font": {
           "color": "rgb(36,36,36)"
          },
          "geo": {
           "bgcolor": "white",
           "lakecolor": "white",
           "landcolor": "white",
           "showlakes": true,
           "showland": true,
           "subunitcolor": "white"
          },
          "hoverlabel": {
           "align": "left"
          },
          "hovermode": "closest",
          "mapbox": {
           "style": "light"
          },
          "paper_bgcolor": "white",
          "plot_bgcolor": "white",
          "polar": {
           "angularaxis": {
            "gridcolor": "rgb(232,232,232)",
            "linecolor": "rgb(36,36,36)",
            "showgrid": false,
            "showline": true,
            "ticks": "outside"
           },
           "bgcolor": "white",
           "radialaxis": {
            "gridcolor": "rgb(232,232,232)",
            "linecolor": "rgb(36,36,36)",
            "showgrid": false,
            "showline": true,
            "ticks": "outside"
           }
          },
          "scene": {
           "xaxis": {
            "backgroundcolor": "white",
            "gridcolor": "rgb(232,232,232)",
            "gridwidth": 2,
            "linecolor": "rgb(36,36,36)",
            "showbackground": true,
            "showgrid": false,
            "showline": true,
            "ticks": "outside",
            "zeroline": false,
            "zerolinecolor": "rgb(36,36,36)"
           },
           "yaxis": {
            "backgroundcolor": "white",
            "gridcolor": "rgb(232,232,232)",
            "gridwidth": 2,
            "linecolor": "rgb(36,36,36)",
            "showbackground": true,
            "showgrid": false,
            "showline": true,
            "ticks": "outside",
            "zeroline": false,
            "zerolinecolor": "rgb(36,36,36)"
           },
           "zaxis": {
            "backgroundcolor": "white",
            "gridcolor": "rgb(232,232,232)",
            "gridwidth": 2,
            "linecolor": "rgb(36,36,36)",
            "showbackground": true,
            "showgrid": false,
            "showline": true,
            "ticks": "outside",
            "zeroline": false,
            "zerolinecolor": "rgb(36,36,36)"
           }
          },
          "shapedefaults": {
           "fillcolor": "black",
           "line": {
            "width": 0
           },
           "opacity": 0.3
          },
          "ternary": {
           "aaxis": {
            "gridcolor": "rgb(232,232,232)",
            "linecolor": "rgb(36,36,36)",
            "showgrid": false,
            "showline": true,
            "ticks": "outside"
           },
           "baxis": {
            "gridcolor": "rgb(232,232,232)",
            "linecolor": "rgb(36,36,36)",
            "showgrid": false,
            "showline": true,
            "ticks": "outside"
           },
           "bgcolor": "white",
           "caxis": {
            "gridcolor": "rgb(232,232,232)",
            "linecolor": "rgb(36,36,36)",
            "showgrid": false,
            "showline": true,
            "ticks": "outside"
           }
          },
          "title": {
           "x": 0.05
          },
          "xaxis": {
           "automargin": true,
           "gridcolor": "rgb(232,232,232)",
           "linecolor": "rgb(36,36,36)",
           "showgrid": false,
           "showline": true,
           "ticks": "outside",
           "title": {
            "standoff": 15
           },
           "zeroline": false,
           "zerolinecolor": "rgb(36,36,36)"
          },
          "yaxis": {
           "automargin": true,
           "gridcolor": "rgb(232,232,232)",
           "linecolor": "rgb(36,36,36)",
           "showgrid": false,
           "showline": true,
           "ticks": "outside",
           "title": {
            "standoff": 15
           },
           "zeroline": false,
           "zerolinecolor": "rgb(36,36,36)"
          }
         }
        },
        "xaxis": {
         "anchor": "y",
         "domain": [
          0,
          1
         ],
         "title": {
          "text": "Simulation Run"
         }
        },
        "yaxis": {
         "anchor": "x",
         "domain": [
          0,
          1
         ],
         "title": {
          "text": "Annualized investment costs [MCHF/y]"
         }
        }
       }
      }
     },
     "metadata": {},
     "output_type": "display_data"
    }
   ],
   "source": [
    "# Plot annualized investment costs aggregated by sector\n",
    "plot_parametrisation(results=results_ch_n, variable=\"C_inv_an\", category=\"Sector\", \n",
    "                     labels = {\"Run\": \"Simulation Run\",\"C_inv_an\": \"Annualized investment costs [MCHF/y]\"})"
   ]
  },
  {
   "cell_type": "markdown",
   "metadata": {},
   "source": [
    "\n",
    "\n",
    "- **`variable=\"C_inv_an\"`**: Specifies that we want to plot annual investment costs.\n",
    "- **`category=\"Sector\"`**: Aggregates the costs by sector.\n",
    "\n",
    "#### Plot Investment Costs by Category\n"
   ]
  },
  {
   "cell_type": "code",
   "execution_count": 13,
   "metadata": {
    "ExecuteTime": {
     "end_time": "2024-10-01T08:38:08.847522Z",
     "start_time": "2024-10-01T08:38:08.778770Z"
    }
   },
   "outputs": [
    {
     "data": {
      "application/vnd.plotly.v1+json": {
       "config": {
        "plotlyServerURL": "https://plot.ly"
       },
       "data": [
        {
         "fillpattern": {
          "shape": ""
         },
         "hovertemplate": "Category=ELECTRICITY_EHV<br>Run=%{x}<br>C_inv_an=%{y}<extra></extra>",
         "legendgroup": "ELECTRICITY_EHV",
         "line": {
          "color": "#1F77B4"
         },
         "marker": {
          "symbol": "circle"
         },
         "mode": "lines",
         "name": "ELECTRICITY_EHV",
         "orientation": "v",
         "showlegend": true,
         "stackgroup": "1",
         "type": "scatter",
         "x": [
          1,
          2,
          3,
          4,
          5,
          6,
          7,
          8,
          9,
          10,
          11
         ],
         "xaxis": "x",
         "y": [
          1480.6661602235213,
          1480.63980947611,
          1480.63980947611,
          1480.63980947611,
          1480.63980947611,
          1480.63980947611,
          1480.63980947611,
          1480.63980947611,
          1480.63980947611,
          1480.63980947611,
          1480.63980947611
         ],
         "yaxis": "y"
        },
        {
         "fillpattern": {
          "shape": ""
         },
         "hovertemplate": "Category=ELECTRICITY_HV<br>Run=%{x}<br>C_inv_an=%{y}<extra></extra>",
         "legendgroup": "ELECTRICITY_HV",
         "line": {
          "color": "#FF7F0E"
         },
         "marker": {
          "symbol": "circle"
         },
         "mode": "lines",
         "name": "ELECTRICITY_HV",
         "orientation": "v",
         "showlegend": true,
         "stackgroup": "1",
         "type": "scatter",
         "x": [
          1,
          2,
          3,
          4,
          5,
          6,
          7,
          8,
          9,
          10,
          11
         ],
         "xaxis": "x",
         "y": [
          1023.7433297157694,
          1023.743340989766,
          1004.8580653644256,
          941.0458143272361,
          877.2335632900526,
          813.9611249916912,
          777.235560203968,
          777.3313682110863,
          777.6979103272807,
          841.707676464946,
          802.2545401481648
         ],
         "yaxis": "y"
        },
        {
         "fillpattern": {
          "shape": ""
         },
         "hovertemplate": "Category=ELECTRICITY_LV<br>Run=%{x}<br>C_inv_an=%{y}<extra></extra>",
         "legendgroup": "ELECTRICITY_LV",
         "line": {
          "color": "#2CA02C"
         },
         "marker": {
          "symbol": "circle"
         },
         "mode": "lines",
         "name": "ELECTRICITY_LV",
         "orientation": "v",
         "showlegend": true,
         "stackgroup": "1",
         "type": "scatter",
         "x": [
          1,
          2,
          3,
          4,
          5,
          6,
          7,
          8,
          9,
          10,
          11
         ],
         "xaxis": "x",
         "y": [
          105.13894683098277,
          136.65206478568467,
          273.20891069919634,
          409.76575521766665,
          546.3225997361369,
          682.8794442546073,
          819.4362887730774,
          955.9931329306312,
          1092.549975376112,
          1229.106823345445,
          1365.6636682897529
         ],
         "yaxis": "y"
        },
        {
         "fillpattern": {
          "shape": ""
         },
         "hovertemplate": "Category=ELECTRICITY_MV<br>Run=%{x}<br>C_inv_an=%{y}<extra></extra>",
         "legendgroup": "ELECTRICITY_MV",
         "line": {
          "color": "#D62728"
         },
         "marker": {
          "symbol": "circle"
         },
         "mode": "lines",
         "name": "ELECTRICITY_MV",
         "orientation": "v",
         "showlegend": true,
         "stackgroup": "1",
         "type": "scatter",
         "x": [
          1,
          2,
          3,
          4,
          5,
          6,
          7,
          8,
          9,
          10,
          11
         ],
         "xaxis": "x",
         "y": [
          1000.7280270449602,
          1063.2065180132142,
          1125.5250273555105,
          1187.832283618173,
          1250.1395398808356,
          1312.5156436071366,
          1345.0195135000613,
          1323.3815937267993,
          1291.1436692627317,
          1041.0017322835702,
          1052.0544238559364
         ],
         "yaxis": "y"
        },
        {
         "fillpattern": {
          "shape": ""
         },
         "hovertemplate": "Category=HEAT_HIGH_T<br>Run=%{x}<br>C_inv_an=%{y}<extra></extra>",
         "legendgroup": "HEAT_HIGH_T",
         "line": {
          "color": "#9467BD"
         },
         "marker": {
          "symbol": "circle"
         },
         "mode": "lines",
         "name": "HEAT_HIGH_T",
         "orientation": "v",
         "showlegend": true,
         "stackgroup": "1",
         "type": "scatter",
         "x": [
          1,
          2,
          3,
          4,
          5,
          6,
          7,
          8,
          9,
          10,
          11
         ],
         "xaxis": "x",
         "y": [
          97.87592647951351,
          98.53800089506453,
          103.73538938350025,
          103.73538938350015,
          103.73538938349918,
          103.7353893835002,
          104.98938648371703,
          109.43689823656602,
          114.71057075932109,
          122.500929568998,
          124.79152148312096
         ],
         "yaxis": "y"
        },
        {
         "fillpattern": {
          "shape": ""
         },
         "hovertemplate": "Category=HEAT_LOW_T_DECEN<br>Run=%{x}<br>C_inv_an=%{y}<extra></extra>",
         "legendgroup": "HEAT_LOW_T_DECEN",
         "line": {
          "color": "#8C564B"
         },
         "marker": {
          "symbol": "circle"
         },
         "mode": "lines",
         "name": "HEAT_LOW_T_DECEN",
         "orientation": "v",
         "showlegend": true,
         "stackgroup": "1",
         "type": "scatter",
         "x": [
          1,
          2,
          3,
          4,
          5,
          6,
          7,
          8,
          9,
          10,
          11
         ],
         "xaxis": "x",
         "y": [
          551.4829466544107,
          551.4828264941805,
          551.4979296345988,
          551.4979296345991,
          551.4979296345988,
          551.4979296345989,
          551.4979296334303,
          551.4940222418744,
          551.4715794275828,
          551.5089395139495,
          551.5135497607405
         ],
         "yaxis": "y"
        },
        {
         "fillpattern": {
          "shape": ""
         },
         "hovertemplate": "Category=HEAT_LOW_T_DHN<br>Run=%{x}<br>C_inv_an=%{y}<extra></extra>",
         "legendgroup": "HEAT_LOW_T_DHN",
         "line": {
          "color": "#E377C2"
         },
         "marker": {
          "symbol": "circle"
         },
         "mode": "lines",
         "name": "HEAT_LOW_T_DHN",
         "orientation": "v",
         "showlegend": true,
         "stackgroup": "1",
         "type": "scatter",
         "x": [
          1,
          2,
          3,
          4,
          5,
          6,
          7,
          8,
          9,
          10,
          11
         ],
         "xaxis": "x",
         "y": [
          151.28092445843714,
          115.87602969962424,
          111.53939171419688,
          111.53939171419697,
          111.53939171419759,
          111.53939171419681,
          109.19720820857647,
          107.66550075436263,
          107.66550075436263,
          143.260527256961,
          143.260527256961
         ],
         "yaxis": "y"
        },
        {
         "fillpattern": {
          "shape": ""
         },
         "hovertemplate": "Category=MOB_AVIATION<br>Run=%{x}<br>C_inv_an=%{y}<extra></extra>",
         "legendgroup": "MOB_AVIATION",
         "line": {
          "color": "#7F7F7F"
         },
         "marker": {
          "symbol": "circle"
         },
         "mode": "lines",
         "name": "MOB_AVIATION",
         "orientation": "v",
         "showlegend": true,
         "stackgroup": "1",
         "type": "scatter",
         "x": [
          1,
          2,
          3,
          4,
          5,
          6,
          7,
          8,
          9,
          10,
          11
         ],
         "xaxis": "x",
         "y": [
          0,
          0,
          0,
          0,
          0,
          0,
          0,
          0,
          0,
          0,
          0
         ],
         "yaxis": "y"
        },
        {
         "fillpattern": {
          "shape": ""
         },
         "hovertemplate": "Category=MOB_FREIGHT_RAIL<br>Run=%{x}<br>C_inv_an=%{y}<extra></extra>",
         "legendgroup": "MOB_FREIGHT_RAIL",
         "line": {
          "color": "#BCBD22"
         },
         "marker": {
          "symbol": "circle"
         },
         "mode": "lines",
         "name": "MOB_FREIGHT_RAIL",
         "orientation": "v",
         "showlegend": true,
         "stackgroup": "1",
         "type": "scatter",
         "x": [
          1,
          2,
          3,
          4,
          5,
          6,
          7,
          8,
          9,
          10,
          11
         ],
         "xaxis": "x",
         "y": [
          16.125339578581666,
          11.906488485089746,
          11.90648848509013,
          11.906488485090115,
          11.90648848509013,
          11.90648848509013,
          11.906488485090115,
          11.90648848509013,
          11.906488485090115,
          11.90648848509013,
          11.90648848509013
         ],
         "yaxis": "y"
        },
        {
         "fillpattern": {
          "shape": ""
         },
         "hovertemplate": "Category=MOB_FREIGHT_ROAD<br>Run=%{x}<br>C_inv_an=%{y}<extra></extra>",
         "legendgroup": "MOB_FREIGHT_ROAD",
         "line": {
          "color": "#17BECF"
         },
         "marker": {
          "symbol": "circle"
         },
         "mode": "lines",
         "name": "MOB_FREIGHT_ROAD",
         "orientation": "v",
         "showlegend": true,
         "stackgroup": "1",
         "type": "scatter",
         "x": [
          1,
          2,
          3,
          4,
          5,
          6,
          7,
          8,
          9,
          10,
          11
         ],
         "xaxis": "x",
         "y": [
          17.960158387465732,
          13.261266095432218,
          13.261266095430917,
          13.26126609543093,
          13.261266095430775,
          13.261266095430917,
          13.261266095430924,
          13.261266095430917,
          13.261266095430917,
          13.26126609543085,
          13.261266095430917
         ],
         "yaxis": "y"
        },
        {
         "fillpattern": {
          "shape": ""
         },
         "hovertemplate": "Category=MOB_PRIVATE_LOCAL<br>Run=%{x}<br>C_inv_an=%{y}<extra></extra>",
         "legendgroup": "MOB_PRIVATE_LOCAL",
         "line": {
          "color": "#1F77B4"
         },
         "marker": {
          "symbol": "circle"
         },
         "mode": "lines",
         "name": "MOB_PRIVATE_LOCAL",
         "orientation": "v",
         "showlegend": true,
         "stackgroup": "1",
         "type": "scatter",
         "x": [
          1,
          2,
          3,
          4,
          5,
          6,
          7,
          8,
          9,
          10,
          11
         ],
         "xaxis": "x",
         "y": [
          1.4922087126997726e-7,
          1.4922087126997734e-7,
          1.4922087126997726e-7,
          1.4922087126997716e-7,
          1.4922087126997716e-7,
          1.4922087126997716e-7,
          1.492208712699772e-7,
          1.4922087126997734e-7,
          1.492208712699772e-7,
          1.4922087126997726e-7,
          1.4922087126997726e-7
         ],
         "yaxis": "y"
        },
        {
         "fillpattern": {
          "shape": ""
         },
         "hovertemplate": "Category=MOB_PRIVATE_LONGD<br>Run=%{x}<br>C_inv_an=%{y}<extra></extra>",
         "legendgroup": "MOB_PRIVATE_LONGD",
         "line": {
          "color": "#FF7F0E"
         },
         "marker": {
          "symbol": "circle"
         },
         "mode": "lines",
         "name": "MOB_PRIVATE_LONGD",
         "orientation": "v",
         "showlegend": true,
         "stackgroup": "1",
         "type": "scatter",
         "x": [
          1,
          2,
          3,
          4,
          5,
          6,
          7,
          8,
          9,
          10,
          11
         ],
         "xaxis": "x",
         "y": [
          2.1473247329094302e-7,
          2.147324732909427e-7,
          2.1473247329090083e-7,
          2.1473247329094302e-7,
          2.147324732909429e-7,
          2.1473247329094284e-7,
          2.1473247329094252e-7,
          2.1473247329094297e-7,
          2.1473247329094297e-7,
          2.1473247329094233e-7,
          2.1473247329094278e-7
         ],
         "yaxis": "y"
        },
        {
         "fillpattern": {
          "shape": ""
         },
         "hovertemplate": "Category=MOB_PUBLIC_LOCAL<br>Run=%{x}<br>C_inv_an=%{y}<extra></extra>",
         "legendgroup": "MOB_PUBLIC_LOCAL",
         "line": {
          "color": "#2CA02C"
         },
         "marker": {
          "symbol": "circle"
         },
         "mode": "lines",
         "name": "MOB_PUBLIC_LOCAL",
         "orientation": "v",
         "showlegend": true,
         "stackgroup": "1",
         "type": "scatter",
         "x": [
          1,
          2,
          3,
          4,
          5,
          6,
          7,
          8,
          9,
          10,
          11
         ],
         "xaxis": "x",
         "y": [
          68.78430805002476,
          68.78430805002435,
          68.78430805002482,
          68.7843080500249,
          68.78430805002482,
          68.78430805002475,
          68.78430805002475,
          68.78430805002482,
          68.78430805002476,
          68.78430805002482,
          68.78430805002476
         ],
         "yaxis": "y"
        },
        {
         "fillpattern": {
          "shape": ""
         },
         "hovertemplate": "Category=MOB_PUBLIC_LONGD<br>Run=%{x}<br>C_inv_an=%{y}<extra></extra>",
         "legendgroup": "MOB_PUBLIC_LONGD",
         "line": {
          "color": "#D62728"
         },
         "marker": {
          "symbol": "circle"
         },
         "mode": "lines",
         "name": "MOB_PUBLIC_LONGD",
         "orientation": "v",
         "showlegend": true,
         "stackgroup": "1",
         "type": "scatter",
         "x": [
          1,
          2,
          3,
          4,
          5,
          6,
          7,
          8,
          9,
          10,
          11
         ],
         "xaxis": "x",
         "y": [
          53.0755090200188,
          53.075509020019595,
          53.0755090200188,
          53.07550902001864,
          53.0755090200188,
          53.0755090200188,
          53.0755090200188,
          53.0755090200188,
          53.0755090200188,
          53.07550902001891,
          53.0755090200188
         ],
         "yaxis": "y"
        },
        {
         "fillpattern": {
          "shape": ""
         },
         "hovertemplate": "Category=Others<br>Run=%{x}<br>C_inv_an=%{y}<extra></extra>",
         "legendgroup": "Others",
         "line": {
          "color": "#9467BD"
         },
         "marker": {
          "symbol": "circle"
         },
         "mode": "lines",
         "name": "Others",
         "orientation": "v",
         "showlegend": true,
         "stackgroup": "1",
         "type": "scatter",
         "x": [
          1,
          2,
          3,
          4,
          5,
          6,
          7,
          8,
          9,
          10,
          11
         ],
         "xaxis": "x",
         "y": [
          1234.6158696411223,
          1228.4274707072466,
          1171.6164112059398,
          1169.622557405438,
          1167.6287036049287,
          1165.6352905453098,
          1160.1941833795174,
          1155.693028239937,
          1153.2422865398469,
          1205.771160920232,
          1203.8056452746112
         ],
         "yaxis": "y"
        }
       ],
       "layout": {
        "legend": {
         "title": {
          "text": "Category"
         },
         "tracegroupgap": 0
        },
        "margin": {
         "t": 60
        },
        "template": {
         "data": {
          "bar": [
           {
            "error_x": {
             "color": "rgb(36,36,36)"
            },
            "error_y": {
             "color": "rgb(36,36,36)"
            },
            "marker": {
             "line": {
              "color": "white",
              "width": 0.5
             },
             "pattern": {
              "fillmode": "overlay",
              "size": 10,
              "solidity": 0.2
             }
            },
            "type": "bar"
           }
          ],
          "barpolar": [
           {
            "marker": {
             "line": {
              "color": "white",
              "width": 0.5
             },
             "pattern": {
              "fillmode": "overlay",
              "size": 10,
              "solidity": 0.2
             }
            },
            "type": "barpolar"
           }
          ],
          "carpet": [
           {
            "aaxis": {
             "endlinecolor": "rgb(36,36,36)",
             "gridcolor": "white",
             "linecolor": "white",
             "minorgridcolor": "white",
             "startlinecolor": "rgb(36,36,36)"
            },
            "baxis": {
             "endlinecolor": "rgb(36,36,36)",
             "gridcolor": "white",
             "linecolor": "white",
             "minorgridcolor": "white",
             "startlinecolor": "rgb(36,36,36)"
            },
            "type": "carpet"
           }
          ],
          "choropleth": [
           {
            "colorbar": {
             "outlinewidth": 1,
             "tickcolor": "rgb(36,36,36)",
             "ticks": "outside"
            },
            "type": "choropleth"
           }
          ],
          "contour": [
           {
            "colorbar": {
             "outlinewidth": 1,
             "tickcolor": "rgb(36,36,36)",
             "ticks": "outside"
            },
            "colorscale": [
             [
              0,
              "#440154"
             ],
             [
              0.1111111111111111,
              "#482878"
             ],
             [
              0.2222222222222222,
              "#3e4989"
             ],
             [
              0.3333333333333333,
              "#31688e"
             ],
             [
              0.4444444444444444,
              "#26828e"
             ],
             [
              0.5555555555555556,
              "#1f9e89"
             ],
             [
              0.6666666666666666,
              "#35b779"
             ],
             [
              0.7777777777777778,
              "#6ece58"
             ],
             [
              0.8888888888888888,
              "#b5de2b"
             ],
             [
              1,
              "#fde725"
             ]
            ],
            "type": "contour"
           }
          ],
          "contourcarpet": [
           {
            "colorbar": {
             "outlinewidth": 1,
             "tickcolor": "rgb(36,36,36)",
             "ticks": "outside"
            },
            "type": "contourcarpet"
           }
          ],
          "heatmap": [
           {
            "colorbar": {
             "outlinewidth": 1,
             "tickcolor": "rgb(36,36,36)",
             "ticks": "outside"
            },
            "colorscale": [
             [
              0,
              "#440154"
             ],
             [
              0.1111111111111111,
              "#482878"
             ],
             [
              0.2222222222222222,
              "#3e4989"
             ],
             [
              0.3333333333333333,
              "#31688e"
             ],
             [
              0.4444444444444444,
              "#26828e"
             ],
             [
              0.5555555555555556,
              "#1f9e89"
             ],
             [
              0.6666666666666666,
              "#35b779"
             ],
             [
              0.7777777777777778,
              "#6ece58"
             ],
             [
              0.8888888888888888,
              "#b5de2b"
             ],
             [
              1,
              "#fde725"
             ]
            ],
            "type": "heatmap"
           }
          ],
          "heatmapgl": [
           {
            "colorbar": {
             "outlinewidth": 1,
             "tickcolor": "rgb(36,36,36)",
             "ticks": "outside"
            },
            "colorscale": [
             [
              0,
              "#440154"
             ],
             [
              0.1111111111111111,
              "#482878"
             ],
             [
              0.2222222222222222,
              "#3e4989"
             ],
             [
              0.3333333333333333,
              "#31688e"
             ],
             [
              0.4444444444444444,
              "#26828e"
             ],
             [
              0.5555555555555556,
              "#1f9e89"
             ],
             [
              0.6666666666666666,
              "#35b779"
             ],
             [
              0.7777777777777778,
              "#6ece58"
             ],
             [
              0.8888888888888888,
              "#b5de2b"
             ],
             [
              1,
              "#fde725"
             ]
            ],
            "type": "heatmapgl"
           }
          ],
          "histogram": [
           {
            "marker": {
             "line": {
              "color": "white",
              "width": 0.6
             }
            },
            "type": "histogram"
           }
          ],
          "histogram2d": [
           {
            "colorbar": {
             "outlinewidth": 1,
             "tickcolor": "rgb(36,36,36)",
             "ticks": "outside"
            },
            "colorscale": [
             [
              0,
              "#440154"
             ],
             [
              0.1111111111111111,
              "#482878"
             ],
             [
              0.2222222222222222,
              "#3e4989"
             ],
             [
              0.3333333333333333,
              "#31688e"
             ],
             [
              0.4444444444444444,
              "#26828e"
             ],
             [
              0.5555555555555556,
              "#1f9e89"
             ],
             [
              0.6666666666666666,
              "#35b779"
             ],
             [
              0.7777777777777778,
              "#6ece58"
             ],
             [
              0.8888888888888888,
              "#b5de2b"
             ],
             [
              1,
              "#fde725"
             ]
            ],
            "type": "histogram2d"
           }
          ],
          "histogram2dcontour": [
           {
            "colorbar": {
             "outlinewidth": 1,
             "tickcolor": "rgb(36,36,36)",
             "ticks": "outside"
            },
            "colorscale": [
             [
              0,
              "#440154"
             ],
             [
              0.1111111111111111,
              "#482878"
             ],
             [
              0.2222222222222222,
              "#3e4989"
             ],
             [
              0.3333333333333333,
              "#31688e"
             ],
             [
              0.4444444444444444,
              "#26828e"
             ],
             [
              0.5555555555555556,
              "#1f9e89"
             ],
             [
              0.6666666666666666,
              "#35b779"
             ],
             [
              0.7777777777777778,
              "#6ece58"
             ],
             [
              0.8888888888888888,
              "#b5de2b"
             ],
             [
              1,
              "#fde725"
             ]
            ],
            "type": "histogram2dcontour"
           }
          ],
          "mesh3d": [
           {
            "colorbar": {
             "outlinewidth": 1,
             "tickcolor": "rgb(36,36,36)",
             "ticks": "outside"
            },
            "type": "mesh3d"
           }
          ],
          "parcoords": [
           {
            "line": {
             "colorbar": {
              "outlinewidth": 1,
              "tickcolor": "rgb(36,36,36)",
              "ticks": "outside"
             }
            },
            "type": "parcoords"
           }
          ],
          "pie": [
           {
            "automargin": true,
            "type": "pie"
           }
          ],
          "scatter": [
           {
            "fillpattern": {
             "fillmode": "overlay",
             "size": 10,
             "solidity": 0.2
            },
            "type": "scatter"
           }
          ],
          "scatter3d": [
           {
            "line": {
             "colorbar": {
              "outlinewidth": 1,
              "tickcolor": "rgb(36,36,36)",
              "ticks": "outside"
             }
            },
            "marker": {
             "colorbar": {
              "outlinewidth": 1,
              "tickcolor": "rgb(36,36,36)",
              "ticks": "outside"
             }
            },
            "type": "scatter3d"
           }
          ],
          "scattercarpet": [
           {
            "marker": {
             "colorbar": {
              "outlinewidth": 1,
              "tickcolor": "rgb(36,36,36)",
              "ticks": "outside"
             }
            },
            "type": "scattercarpet"
           }
          ],
          "scattergeo": [
           {
            "marker": {
             "colorbar": {
              "outlinewidth": 1,
              "tickcolor": "rgb(36,36,36)",
              "ticks": "outside"
             }
            },
            "type": "scattergeo"
           }
          ],
          "scattergl": [
           {
            "marker": {
             "colorbar": {
              "outlinewidth": 1,
              "tickcolor": "rgb(36,36,36)",
              "ticks": "outside"
             }
            },
            "type": "scattergl"
           }
          ],
          "scattermapbox": [
           {
            "marker": {
             "colorbar": {
              "outlinewidth": 1,
              "tickcolor": "rgb(36,36,36)",
              "ticks": "outside"
             }
            },
            "type": "scattermapbox"
           }
          ],
          "scatterpolar": [
           {
            "marker": {
             "colorbar": {
              "outlinewidth": 1,
              "tickcolor": "rgb(36,36,36)",
              "ticks": "outside"
             }
            },
            "type": "scatterpolar"
           }
          ],
          "scatterpolargl": [
           {
            "marker": {
             "colorbar": {
              "outlinewidth": 1,
              "tickcolor": "rgb(36,36,36)",
              "ticks": "outside"
             }
            },
            "type": "scatterpolargl"
           }
          ],
          "scatterternary": [
           {
            "marker": {
             "colorbar": {
              "outlinewidth": 1,
              "tickcolor": "rgb(36,36,36)",
              "ticks": "outside"
             }
            },
            "type": "scatterternary"
           }
          ],
          "surface": [
           {
            "colorbar": {
             "outlinewidth": 1,
             "tickcolor": "rgb(36,36,36)",
             "ticks": "outside"
            },
            "colorscale": [
             [
              0,
              "#440154"
             ],
             [
              0.1111111111111111,
              "#482878"
             ],
             [
              0.2222222222222222,
              "#3e4989"
             ],
             [
              0.3333333333333333,
              "#31688e"
             ],
             [
              0.4444444444444444,
              "#26828e"
             ],
             [
              0.5555555555555556,
              "#1f9e89"
             ],
             [
              0.6666666666666666,
              "#35b779"
             ],
             [
              0.7777777777777778,
              "#6ece58"
             ],
             [
              0.8888888888888888,
              "#b5de2b"
             ],
             [
              1,
              "#fde725"
             ]
            ],
            "type": "surface"
           }
          ],
          "table": [
           {
            "cells": {
             "fill": {
              "color": "rgb(237,237,237)"
             },
             "line": {
              "color": "white"
             }
            },
            "header": {
             "fill": {
              "color": "rgb(217,217,217)"
             },
             "line": {
              "color": "white"
             }
            },
            "type": "table"
           }
          ]
         },
         "layout": {
          "annotationdefaults": {
           "arrowhead": 0,
           "arrowwidth": 1
          },
          "autotypenumbers": "strict",
          "coloraxis": {
           "colorbar": {
            "outlinewidth": 1,
            "tickcolor": "rgb(36,36,36)",
            "ticks": "outside"
           }
          },
          "colorscale": {
           "diverging": [
            [
             0,
             "rgb(103,0,31)"
            ],
            [
             0.1,
             "rgb(178,24,43)"
            ],
            [
             0.2,
             "rgb(214,96,77)"
            ],
            [
             0.3,
             "rgb(244,165,130)"
            ],
            [
             0.4,
             "rgb(253,219,199)"
            ],
            [
             0.5,
             "rgb(247,247,247)"
            ],
            [
             0.6,
             "rgb(209,229,240)"
            ],
            [
             0.7,
             "rgb(146,197,222)"
            ],
            [
             0.8,
             "rgb(67,147,195)"
            ],
            [
             0.9,
             "rgb(33,102,172)"
            ],
            [
             1,
             "rgb(5,48,97)"
            ]
           ],
           "sequential": [
            [
             0,
             "#440154"
            ],
            [
             0.1111111111111111,
             "#482878"
            ],
            [
             0.2222222222222222,
             "#3e4989"
            ],
            [
             0.3333333333333333,
             "#31688e"
            ],
            [
             0.4444444444444444,
             "#26828e"
            ],
            [
             0.5555555555555556,
             "#1f9e89"
            ],
            [
             0.6666666666666666,
             "#35b779"
            ],
            [
             0.7777777777777778,
             "#6ece58"
            ],
            [
             0.8888888888888888,
             "#b5de2b"
            ],
            [
             1,
             "#fde725"
            ]
           ],
           "sequentialminus": [
            [
             0,
             "#440154"
            ],
            [
             0.1111111111111111,
             "#482878"
            ],
            [
             0.2222222222222222,
             "#3e4989"
            ],
            [
             0.3333333333333333,
             "#31688e"
            ],
            [
             0.4444444444444444,
             "#26828e"
            ],
            [
             0.5555555555555556,
             "#1f9e89"
            ],
            [
             0.6666666666666666,
             "#35b779"
            ],
            [
             0.7777777777777778,
             "#6ece58"
            ],
            [
             0.8888888888888888,
             "#b5de2b"
            ],
            [
             1,
             "#fde725"
            ]
           ]
          },
          "colorway": [
           "#1F77B4",
           "#FF7F0E",
           "#2CA02C",
           "#D62728",
           "#9467BD",
           "#8C564B",
           "#E377C2",
           "#7F7F7F",
           "#BCBD22",
           "#17BECF"
          ],
          "font": {
           "color": "rgb(36,36,36)"
          },
          "geo": {
           "bgcolor": "white",
           "lakecolor": "white",
           "landcolor": "white",
           "showlakes": true,
           "showland": true,
           "subunitcolor": "white"
          },
          "hoverlabel": {
           "align": "left"
          },
          "hovermode": "closest",
          "mapbox": {
           "style": "light"
          },
          "paper_bgcolor": "white",
          "plot_bgcolor": "white",
          "polar": {
           "angularaxis": {
            "gridcolor": "rgb(232,232,232)",
            "linecolor": "rgb(36,36,36)",
            "showgrid": false,
            "showline": true,
            "ticks": "outside"
           },
           "bgcolor": "white",
           "radialaxis": {
            "gridcolor": "rgb(232,232,232)",
            "linecolor": "rgb(36,36,36)",
            "showgrid": false,
            "showline": true,
            "ticks": "outside"
           }
          },
          "scene": {
           "xaxis": {
            "backgroundcolor": "white",
            "gridcolor": "rgb(232,232,232)",
            "gridwidth": 2,
            "linecolor": "rgb(36,36,36)",
            "showbackground": true,
            "showgrid": false,
            "showline": true,
            "ticks": "outside",
            "zeroline": false,
            "zerolinecolor": "rgb(36,36,36)"
           },
           "yaxis": {
            "backgroundcolor": "white",
            "gridcolor": "rgb(232,232,232)",
            "gridwidth": 2,
            "linecolor": "rgb(36,36,36)",
            "showbackground": true,
            "showgrid": false,
            "showline": true,
            "ticks": "outside",
            "zeroline": false,
            "zerolinecolor": "rgb(36,36,36)"
           },
           "zaxis": {
            "backgroundcolor": "white",
            "gridcolor": "rgb(232,232,232)",
            "gridwidth": 2,
            "linecolor": "rgb(36,36,36)",
            "showbackground": true,
            "showgrid": false,
            "showline": true,
            "ticks": "outside",
            "zeroline": false,
            "zerolinecolor": "rgb(36,36,36)"
           }
          },
          "shapedefaults": {
           "fillcolor": "black",
           "line": {
            "width": 0
           },
           "opacity": 0.3
          },
          "ternary": {
           "aaxis": {
            "gridcolor": "rgb(232,232,232)",
            "linecolor": "rgb(36,36,36)",
            "showgrid": false,
            "showline": true,
            "ticks": "outside"
           },
           "baxis": {
            "gridcolor": "rgb(232,232,232)",
            "linecolor": "rgb(36,36,36)",
            "showgrid": false,
            "showline": true,
            "ticks": "outside"
           },
           "bgcolor": "white",
           "caxis": {
            "gridcolor": "rgb(232,232,232)",
            "linecolor": "rgb(36,36,36)",
            "showgrid": false,
            "showline": true,
            "ticks": "outside"
           }
          },
          "title": {
           "x": 0.05
          },
          "xaxis": {
           "automargin": true,
           "gridcolor": "rgb(232,232,232)",
           "linecolor": "rgb(36,36,36)",
           "showgrid": false,
           "showline": true,
           "ticks": "outside",
           "title": {
            "standoff": 15
           },
           "zeroline": false,
           "zerolinecolor": "rgb(36,36,36)"
          },
          "yaxis": {
           "automargin": true,
           "gridcolor": "rgb(232,232,232)",
           "linecolor": "rgb(36,36,36)",
           "showgrid": false,
           "showline": true,
           "ticks": "outside",
           "title": {
            "standoff": 15
           },
           "zeroline": false,
           "zerolinecolor": "rgb(36,36,36)"
          }
         }
        },
        "xaxis": {
         "anchor": "y",
         "domain": [
          0,
          1
         ],
         "title": {
          "text": "Run"
         }
        },
        "yaxis": {
         "anchor": "x",
         "domain": [
          0,
          1
         ],
         "title": {
          "text": "C_inv_an"
         }
        }
       }
      }
     },
     "metadata": {},
     "output_type": "display_data"
    }
   ],
   "source": [
    "# Plot annualized investment costs aggregated by category\n",
    "plot_parametrisation(results=results_ch_n, variable=\"C_inv_an\", category=\"Category\")"
   ]
  },
  {
   "cell_type": "markdown",
   "metadata": {},
   "source": [
    "\n",
    "\n",
    "- Aggregates the costs by category.\n",
    "\n",
    "#### Plot Investment Costs by Sub-Category"
   ]
  },
  {
   "cell_type": "code",
   "execution_count": 14,
   "metadata": {
    "ExecuteTime": {
     "end_time": "2024-10-01T08:38:12.265941Z",
     "start_time": "2024-10-01T08:38:12.189098Z"
    }
   },
   "outputs": [
    {
     "data": {
      "application/vnd.plotly.v1+json": {
       "config": {
        "plotlyServerURL": "https://plot.ly"
       },
       "data": [
        {
         "fillpattern": {
          "shape": ""
         },
         "hovertemplate": "Category_2=Carbon Capture<br>Run=%{x}<br>C_inv_an=%{y}<extra></extra>",
         "legendgroup": "Carbon Capture",
         "line": {
          "color": "#1F77B4"
         },
         "marker": {
          "symbol": "circle"
         },
         "mode": "lines",
         "name": "Carbon Capture",
         "orientation": "v",
         "showlegend": true,
         "stackgroup": "1",
         "type": "scatter",
         "x": [
          1,
          2,
          3,
          4,
          5,
          6,
          7,
          8,
          9,
          10,
          11
         ],
         "xaxis": "x",
         "y": [
          0,
          0,
          0,
          0,
          0,
          0,
          0,
          0,
          0,
          0,
          0
         ],
         "yaxis": "y"
        },
        {
         "fillpattern": {
          "shape": ""
         },
         "hovertemplate": "Category_2=Electric Infrastructure<br>Run=%{x}<br>C_inv_an=%{y}<extra></extra>",
         "legendgroup": "Electric Infrastructure",
         "line": {
          "color": "#FF7F0E"
         },
         "marker": {
          "symbol": "circle"
         },
         "mode": "lines",
         "name": "Electric Infrastructure",
         "orientation": "v",
         "showlegend": true,
         "stackgroup": "1",
         "type": "scatter",
         "x": [
          1,
          2,
          3,
          4,
          5,
          6,
          7,
          8,
          9,
          10,
          11
         ],
         "xaxis": "x",
         "y": [
          108.75606051870959,
          111.39844481333377,
          107.94348838805047,
          105.82272435039872,
          103.70196031274675,
          101.83469969569904,
          99.19146523628334,
          96.69426058754271,
          94.66852002716345,
          88.65163133238428,
          87.2759842663181
         ],
         "yaxis": "y"
        },
        {
         "fillpattern": {
          "shape": ""
         },
         "hovertemplate": "Category_2=Electricity<br>Run=%{x}<br>C_inv_an=%{y}<extra></extra>",
         "legendgroup": "Electricity",
         "line": {
          "color": "#2CA02C"
         },
         "marker": {
          "symbol": "circle"
         },
         "mode": "lines",
         "name": "Electricity",
         "orientation": "v",
         "showlegend": true,
         "stackgroup": "1",
         "type": "scatter",
         "x": [
          1,
          2,
          3,
          4,
          5,
          6,
          7,
          8,
          9,
          10,
          11
         ],
         "xaxis": "x",
         "y": [
          0.0003687351003509891,
          0.0003800090969276677,
          0.00044229074623716854,
          0.00044229074618026506,
          0.0004422907452111064,
          0.0004422907462935171,
          0.00044222862717343083,
          0.0004421880033065837,
          0.00044218800326105895,
          0.0003685173414944734,
          0.00036851734152516075
         ],
         "yaxis": "y"
        },
        {
         "fillpattern": {
          "shape": ""
         },
         "hovertemplate": "Category_2=Electrolysis<br>Run=%{x}<br>C_inv_an=%{y}<extra></extra>",
         "legendgroup": "Electrolysis",
         "line": {
          "color": "#D62728"
         },
         "marker": {
          "symbol": "circle"
         },
         "mode": "lines",
         "name": "Electrolysis",
         "orientation": "v",
         "showlegend": true,
         "stackgroup": "1",
         "type": "scatter",
         "x": [
          1,
          2,
          3,
          4,
          5,
          6,
          7,
          8,
          9,
          10,
          11
         ],
         "xaxis": "x",
         "y": [
          0,
          0,
          0,
          0,
          0,
          0,
          0,
          0,
          0,
          0,
          0
         ],
         "yaxis": "y"
        },
        {
         "fillpattern": {
          "shape": ""
         },
         "hovertemplate": "Category_2=Gas Infrastructure<br>Run=%{x}<br>C_inv_an=%{y}<extra></extra>",
         "legendgroup": "Gas Infrastructure",
         "line": {
          "color": "#9467BD"
         },
         "marker": {
          "symbol": "circle"
         },
         "mode": "lines",
         "name": "Gas Infrastructure",
         "orientation": "v",
         "showlegend": true,
         "stackgroup": "1",
         "type": "scatter",
         "x": [
          1,
          2,
          3,
          4,
          5,
          6,
          7,
          8,
          9,
          10,
          11
         ],
         "xaxis": "x",
         "y": [
          0.05145972766638738,
          0.05128304091015966,
          0.07793550654785081,
          0.07793550654791429,
          0.07793550654783858,
          0.0783762474396943,
          0.08228949770180673,
          0.07543475474149684,
          0.09997625263634635,
          0.4455050419126953,
          0.4477521083711875
         ],
         "yaxis": "y"
        },
        {
         "fillpattern": {
          "shape": ""
         },
         "hovertemplate": "Category_2=Geothermal<br>Run=%{x}<br>C_inv_an=%{y}<extra></extra>",
         "legendgroup": "Geothermal",
         "line": {
          "color": "#8C564B"
         },
         "marker": {
          "symbol": "circle"
         },
         "mode": "lines",
         "name": "Geothermal",
         "orientation": "v",
         "showlegend": true,
         "stackgroup": "1",
         "type": "scatter",
         "x": [
          1,
          2,
          3,
          4,
          5,
          6,
          7,
          8,
          9,
          10,
          11
         ],
         "xaxis": "x",
         "y": [
          47.8171586223949,
          0,
          0,
          0,
          0,
          0,
          0,
          0,
          0,
          48.073946838082975,
          48.073946838082975
         ],
         "yaxis": "y"
        },
        {
         "fillpattern": {
          "shape": ""
         },
         "hovertemplate": "Category_2=High Temperature Heat<br>Run=%{x}<br>C_inv_an=%{y}<extra></extra>",
         "legendgroup": "High Temperature Heat",
         "line": {
          "color": "#E377C2"
         },
         "marker": {
          "symbol": "circle"
         },
         "mode": "lines",
         "name": "High Temperature Heat",
         "orientation": "v",
         "showlegend": true,
         "stackgroup": "1",
         "type": "scatter",
         "x": [
          1,
          2,
          3,
          4,
          5,
          6,
          7,
          8,
          9,
          10,
          11
         ],
         "xaxis": "x",
         "y": [
          97.87592647951351,
          98.53800089506453,
          103.73538938350025,
          103.73538938350015,
          103.73538938349918,
          103.7353893835002,
          104.98938648371703,
          109.43689823656602,
          114.71057075932109,
          122.500929568998,
          124.79152148312096
         ],
         "yaxis": "y"
        },
        {
         "fillpattern": {
          "shape": ""
         },
         "hovertemplate": "Category_2=Hydro River & Dam<br>Run=%{x}<br>C_inv_an=%{y}<extra></extra>",
         "legendgroup": "Hydro River & Dam",
         "line": {
          "color": "#7F7F7F"
         },
         "marker": {
          "symbol": "circle"
         },
         "mode": "lines",
         "name": "Hydro River & Dam",
         "orientation": "v",
         "showlegend": true,
         "stackgroup": "1",
         "type": "scatter",
         "x": [
          1,
          2,
          3,
          4,
          5,
          6,
          7,
          8,
          9,
          10,
          11
         ],
         "xaxis": "x",
         "y": [
          2257.371698695909,
          2257.371698695909,
          2257.371698695909,
          2257.371698695909,
          2257.371698695909,
          2257.371698695909,
          2257.371698695909,
          2257.371698695909,
          2257.371698695909,
          2257.371698695909,
          2257.371698695909
         ],
         "yaxis": "y"
        },
        {
         "fillpattern": {
          "shape": ""
         },
         "hovertemplate": "Category_2=Industry<br>Run=%{x}<br>C_inv_an=%{y}<extra></extra>",
         "legendgroup": "Industry",
         "line": {
          "color": "#BCBD22"
         },
         "marker": {
          "symbol": "circle"
         },
         "mode": "lines",
         "name": "Industry",
         "orientation": "v",
         "showlegend": true,
         "stackgroup": "1",
         "type": "scatter",
         "x": [
          1,
          2,
          3,
          4,
          5,
          6,
          7,
          8,
          9,
          10,
          11
         ],
         "xaxis": "x",
         "y": [
          81.10565466340601,
          72.29497369330869,
          23.531683195065256,
          23.531683195065263,
          23.531683195065256,
          23.531683195065263,
          23.531683194640927,
          23.53168319436342,
          23.53168319436342,
          81.10565466191849,
          81.10565466191849
         ],
         "yaxis": "y"
        },
        {
         "fillpattern": {
          "shape": ""
         },
         "hovertemplate": "Category_2=Low Temperature Heat<br>Run=%{x}<br>C_inv_an=%{y}<extra></extra>",
         "legendgroup": "Low Temperature Heat",
         "line": {
          "color": "#17BECF"
         },
         "marker": {
          "symbol": "circle"
         },
         "mode": "lines",
         "name": "Low Temperature Heat",
         "orientation": "v",
         "showlegend": true,
         "stackgroup": "1",
         "type": "scatter",
         "x": [
          1,
          2,
          3,
          4,
          5,
          6,
          7,
          8,
          9,
          10,
          11
         ],
         "xaxis": "x",
         "y": [
          817.9418354150225,
          830.3539791183744,
          821.1713935478587,
          821.1713935478592,
          821.1713935478602,
          821.1713935478587,
          816.203795407078,
          812.9512496907606,
          812.928806876469,
          800.4872466273512,
          800.4918568741422
         ],
         "yaxis": "y"
        },
        {
         "fillpattern": {
          "shape": ""
         },
         "hovertemplate": "Category_2=Mobility<br>Run=%{x}<br>C_inv_an=%{y}<extra></extra>",
         "legendgroup": "Mobility",
         "line": {
          "color": "#1F77B4"
         },
         "marker": {
          "symbol": "circle"
         },
         "mode": "lines",
         "name": "Mobility",
         "orientation": "v",
         "showlegend": true,
         "stackgroup": "1",
         "type": "scatter",
         "x": [
          1,
          2,
          3,
          4,
          5,
          6,
          7,
          8,
          9,
          10,
          11
         ],
         "xaxis": "x",
         "y": [
          1039.4390971169148,
          1030.5213537313891,
          1030.5213537313807,
          1030.5213537313884,
          1030.521353731388,
          1030.5213537313884,
          1030.5213537313884,
          1030.5213537313887,
          1030.5213537313884,
          1030.5213537313873,
          1030.5213537313878
         ],
         "yaxis": "y"
        },
        {
         "fillpattern": {
          "shape": ""
         },
         "hovertemplate": "Category_2=Others<br>Run=%{x}<br>C_inv_an=%{y}<extra></extra>",
         "legendgroup": "Others",
         "line": {
          "color": "#FF7F0E"
         },
         "marker": {
          "symbol": "circle"
         },
         "mode": "lines",
         "name": "Others",
         "orientation": "v",
         "showlegend": true,
         "stackgroup": "1",
         "type": "scatter",
         "x": [
          1,
          2,
          3,
          4,
          5,
          6,
          7,
          8,
          9,
          10,
          11
         ],
         "xaxis": "x",
         "y": [
          105.04467652376472,
          136.55807948089412,
          273.11615896178824,
          409.6742384426824,
          546.2323179235765,
          682.7903974044707,
          819.3484768853648,
          955.9065563662589,
          1092.464635847153,
          1229.0227153280473,
          1365.5807948089414
         ],
         "yaxis": "y"
        },
        {
         "fillpattern": {
          "shape": ""
         },
         "hovertemplate": "Category_2=PV<br>Run=%{x}<br>C_inv_an=%{y}<extra></extra>",
         "legendgroup": "PV",
         "line": {
          "color": "#2CA02C"
         },
         "marker": {
          "symbol": "circle"
         },
         "mode": "lines",
         "name": "PV",
         "orientation": "v",
         "showlegend": true,
         "stackgroup": "1",
         "type": "scatter",
         "x": [
          1,
          2,
          3,
          4,
          5,
          6,
          7,
          8,
          9,
          10,
          11
         ],
         "xaxis": "x",
         "y": [
          246.85498983084707,
          246.85498983084707,
          227.96965192385738,
          164.15740088666803,
          100.34514984948547,
          36.88805559415674,
          0,
          0,
          0.2752872936295504,
          64.37006470917622,
          24.766510677425256
         ],
         "yaxis": "y"
        },
        {
         "fillpattern": {
          "shape": ""
         },
         "hovertemplate": "Category_2=Storage<br>Run=%{x}<br>C_inv_an=%{y}<extra></extra>",
         "legendgroup": "Storage",
         "line": {
          "color": "#D62728"
         },
         "marker": {
          "symbol": "circle"
         },
         "mode": "lines",
         "name": "Storage",
         "orientation": "v",
         "showlegend": true,
         "stackgroup": "1",
         "type": "scatter",
         "x": [
          1,
          2,
          3,
          4,
          5,
          6,
          7,
          8,
          9,
          10,
          11
         ],
         "xaxis": "x",
         "y": [
          0.2916155214187234,
          0.2906136308070667,
          0.4165435504359214,
          0.416543550435922,
          0.41654355043591784,
          0.41654355043592367,
          0.4165435501453259,
          0.3839638849689774,
          0.19683871039099296,
          1.55658335344284,
          1.6742843775036222
         ],
         "yaxis": "y"
        },
        {
         "fillpattern": {
          "shape": ""
         },
         "hovertemplate": "Category_2=Wind<br>Run=%{x}<br>C_inv_an=%{y}<extra></extra>",
         "legendgroup": "Wind",
         "line": {
          "color": "#9467BD"
         },
         "marker": {
          "symbol": "circle"
         },
         "mode": "lines",
         "name": "Wind",
         "orientation": "v",
         "showlegend": true,
         "stackgroup": "1",
         "type": "scatter",
         "x": [
          1,
          2,
          3,
          4,
          5,
          6,
          7,
          8,
          9,
          10,
          11
         ],
         "xaxis": "x",
         "y": [
          998.9269045980943,
          1061.3598361354752,
          1123.7927676728561,
          1186.225699210237,
          1248.658630747618,
          1311.0915622849989,
          1343.5803167621204,
          1321.7893845013818,
          1289.3790603614382,
          1038.4174724387783,
          1048.9095305194537
         ],
         "yaxis": "y"
        }
       ],
       "layout": {
        "legend": {
         "title": {
          "text": "Category_2"
         },
         "tracegroupgap": 0
        },
        "margin": {
         "t": 60
        },
        "template": {
         "data": {
          "bar": [
           {
            "error_x": {
             "color": "rgb(36,36,36)"
            },
            "error_y": {
             "color": "rgb(36,36,36)"
            },
            "marker": {
             "line": {
              "color": "white",
              "width": 0.5
             },
             "pattern": {
              "fillmode": "overlay",
              "size": 10,
              "solidity": 0.2
             }
            },
            "type": "bar"
           }
          ],
          "barpolar": [
           {
            "marker": {
             "line": {
              "color": "white",
              "width": 0.5
             },
             "pattern": {
              "fillmode": "overlay",
              "size": 10,
              "solidity": 0.2
             }
            },
            "type": "barpolar"
           }
          ],
          "carpet": [
           {
            "aaxis": {
             "endlinecolor": "rgb(36,36,36)",
             "gridcolor": "white",
             "linecolor": "white",
             "minorgridcolor": "white",
             "startlinecolor": "rgb(36,36,36)"
            },
            "baxis": {
             "endlinecolor": "rgb(36,36,36)",
             "gridcolor": "white",
             "linecolor": "white",
             "minorgridcolor": "white",
             "startlinecolor": "rgb(36,36,36)"
            },
            "type": "carpet"
           }
          ],
          "choropleth": [
           {
            "colorbar": {
             "outlinewidth": 1,
             "tickcolor": "rgb(36,36,36)",
             "ticks": "outside"
            },
            "type": "choropleth"
           }
          ],
          "contour": [
           {
            "colorbar": {
             "outlinewidth": 1,
             "tickcolor": "rgb(36,36,36)",
             "ticks": "outside"
            },
            "colorscale": [
             [
              0,
              "#440154"
             ],
             [
              0.1111111111111111,
              "#482878"
             ],
             [
              0.2222222222222222,
              "#3e4989"
             ],
             [
              0.3333333333333333,
              "#31688e"
             ],
             [
              0.4444444444444444,
              "#26828e"
             ],
             [
              0.5555555555555556,
              "#1f9e89"
             ],
             [
              0.6666666666666666,
              "#35b779"
             ],
             [
              0.7777777777777778,
              "#6ece58"
             ],
             [
              0.8888888888888888,
              "#b5de2b"
             ],
             [
              1,
              "#fde725"
             ]
            ],
            "type": "contour"
           }
          ],
          "contourcarpet": [
           {
            "colorbar": {
             "outlinewidth": 1,
             "tickcolor": "rgb(36,36,36)",
             "ticks": "outside"
            },
            "type": "contourcarpet"
           }
          ],
          "heatmap": [
           {
            "colorbar": {
             "outlinewidth": 1,
             "tickcolor": "rgb(36,36,36)",
             "ticks": "outside"
            },
            "colorscale": [
             [
              0,
              "#440154"
             ],
             [
              0.1111111111111111,
              "#482878"
             ],
             [
              0.2222222222222222,
              "#3e4989"
             ],
             [
              0.3333333333333333,
              "#31688e"
             ],
             [
              0.4444444444444444,
              "#26828e"
             ],
             [
              0.5555555555555556,
              "#1f9e89"
             ],
             [
              0.6666666666666666,
              "#35b779"
             ],
             [
              0.7777777777777778,
              "#6ece58"
             ],
             [
              0.8888888888888888,
              "#b5de2b"
             ],
             [
              1,
              "#fde725"
             ]
            ],
            "type": "heatmap"
           }
          ],
          "heatmapgl": [
           {
            "colorbar": {
             "outlinewidth": 1,
             "tickcolor": "rgb(36,36,36)",
             "ticks": "outside"
            },
            "colorscale": [
             [
              0,
              "#440154"
             ],
             [
              0.1111111111111111,
              "#482878"
             ],
             [
              0.2222222222222222,
              "#3e4989"
             ],
             [
              0.3333333333333333,
              "#31688e"
             ],
             [
              0.4444444444444444,
              "#26828e"
             ],
             [
              0.5555555555555556,
              "#1f9e89"
             ],
             [
              0.6666666666666666,
              "#35b779"
             ],
             [
              0.7777777777777778,
              "#6ece58"
             ],
             [
              0.8888888888888888,
              "#b5de2b"
             ],
             [
              1,
              "#fde725"
             ]
            ],
            "type": "heatmapgl"
           }
          ],
          "histogram": [
           {
            "marker": {
             "line": {
              "color": "white",
              "width": 0.6
             }
            },
            "type": "histogram"
           }
          ],
          "histogram2d": [
           {
            "colorbar": {
             "outlinewidth": 1,
             "tickcolor": "rgb(36,36,36)",
             "ticks": "outside"
            },
            "colorscale": [
             [
              0,
              "#440154"
             ],
             [
              0.1111111111111111,
              "#482878"
             ],
             [
              0.2222222222222222,
              "#3e4989"
             ],
             [
              0.3333333333333333,
              "#31688e"
             ],
             [
              0.4444444444444444,
              "#26828e"
             ],
             [
              0.5555555555555556,
              "#1f9e89"
             ],
             [
              0.6666666666666666,
              "#35b779"
             ],
             [
              0.7777777777777778,
              "#6ece58"
             ],
             [
              0.8888888888888888,
              "#b5de2b"
             ],
             [
              1,
              "#fde725"
             ]
            ],
            "type": "histogram2d"
           }
          ],
          "histogram2dcontour": [
           {
            "colorbar": {
             "outlinewidth": 1,
             "tickcolor": "rgb(36,36,36)",
             "ticks": "outside"
            },
            "colorscale": [
             [
              0,
              "#440154"
             ],
             [
              0.1111111111111111,
              "#482878"
             ],
             [
              0.2222222222222222,
              "#3e4989"
             ],
             [
              0.3333333333333333,
              "#31688e"
             ],
             [
              0.4444444444444444,
              "#26828e"
             ],
             [
              0.5555555555555556,
              "#1f9e89"
             ],
             [
              0.6666666666666666,
              "#35b779"
             ],
             [
              0.7777777777777778,
              "#6ece58"
             ],
             [
              0.8888888888888888,
              "#b5de2b"
             ],
             [
              1,
              "#fde725"
             ]
            ],
            "type": "histogram2dcontour"
           }
          ],
          "mesh3d": [
           {
            "colorbar": {
             "outlinewidth": 1,
             "tickcolor": "rgb(36,36,36)",
             "ticks": "outside"
            },
            "type": "mesh3d"
           }
          ],
          "parcoords": [
           {
            "line": {
             "colorbar": {
              "outlinewidth": 1,
              "tickcolor": "rgb(36,36,36)",
              "ticks": "outside"
             }
            },
            "type": "parcoords"
           }
          ],
          "pie": [
           {
            "automargin": true,
            "type": "pie"
           }
          ],
          "scatter": [
           {
            "fillpattern": {
             "fillmode": "overlay",
             "size": 10,
             "solidity": 0.2
            },
            "type": "scatter"
           }
          ],
          "scatter3d": [
           {
            "line": {
             "colorbar": {
              "outlinewidth": 1,
              "tickcolor": "rgb(36,36,36)",
              "ticks": "outside"
             }
            },
            "marker": {
             "colorbar": {
              "outlinewidth": 1,
              "tickcolor": "rgb(36,36,36)",
              "ticks": "outside"
             }
            },
            "type": "scatter3d"
           }
          ],
          "scattercarpet": [
           {
            "marker": {
             "colorbar": {
              "outlinewidth": 1,
              "tickcolor": "rgb(36,36,36)",
              "ticks": "outside"
             }
            },
            "type": "scattercarpet"
           }
          ],
          "scattergeo": [
           {
            "marker": {
             "colorbar": {
              "outlinewidth": 1,
              "tickcolor": "rgb(36,36,36)",
              "ticks": "outside"
             }
            },
            "type": "scattergeo"
           }
          ],
          "scattergl": [
           {
            "marker": {
             "colorbar": {
              "outlinewidth": 1,
              "tickcolor": "rgb(36,36,36)",
              "ticks": "outside"
             }
            },
            "type": "scattergl"
           }
          ],
          "scattermapbox": [
           {
            "marker": {
             "colorbar": {
              "outlinewidth": 1,
              "tickcolor": "rgb(36,36,36)",
              "ticks": "outside"
             }
            },
            "type": "scattermapbox"
           }
          ],
          "scatterpolar": [
           {
            "marker": {
             "colorbar": {
              "outlinewidth": 1,
              "tickcolor": "rgb(36,36,36)",
              "ticks": "outside"
             }
            },
            "type": "scatterpolar"
           }
          ],
          "scatterpolargl": [
           {
            "marker": {
             "colorbar": {
              "outlinewidth": 1,
              "tickcolor": "rgb(36,36,36)",
              "ticks": "outside"
             }
            },
            "type": "scatterpolargl"
           }
          ],
          "scatterternary": [
           {
            "marker": {
             "colorbar": {
              "outlinewidth": 1,
              "tickcolor": "rgb(36,36,36)",
              "ticks": "outside"
             }
            },
            "type": "scatterternary"
           }
          ],
          "surface": [
           {
            "colorbar": {
             "outlinewidth": 1,
             "tickcolor": "rgb(36,36,36)",
             "ticks": "outside"
            },
            "colorscale": [
             [
              0,
              "#440154"
             ],
             [
              0.1111111111111111,
              "#482878"
             ],
             [
              0.2222222222222222,
              "#3e4989"
             ],
             [
              0.3333333333333333,
              "#31688e"
             ],
             [
              0.4444444444444444,
              "#26828e"
             ],
             [
              0.5555555555555556,
              "#1f9e89"
             ],
             [
              0.6666666666666666,
              "#35b779"
             ],
             [
              0.7777777777777778,
              "#6ece58"
             ],
             [
              0.8888888888888888,
              "#b5de2b"
             ],
             [
              1,
              "#fde725"
             ]
            ],
            "type": "surface"
           }
          ],
          "table": [
           {
            "cells": {
             "fill": {
              "color": "rgb(237,237,237)"
             },
             "line": {
              "color": "white"
             }
            },
            "header": {
             "fill": {
              "color": "rgb(217,217,217)"
             },
             "line": {
              "color": "white"
             }
            },
            "type": "table"
           }
          ]
         },
         "layout": {
          "annotationdefaults": {
           "arrowhead": 0,
           "arrowwidth": 1
          },
          "autotypenumbers": "strict",
          "coloraxis": {
           "colorbar": {
            "outlinewidth": 1,
            "tickcolor": "rgb(36,36,36)",
            "ticks": "outside"
           }
          },
          "colorscale": {
           "diverging": [
            [
             0,
             "rgb(103,0,31)"
            ],
            [
             0.1,
             "rgb(178,24,43)"
            ],
            [
             0.2,
             "rgb(214,96,77)"
            ],
            [
             0.3,
             "rgb(244,165,130)"
            ],
            [
             0.4,
             "rgb(253,219,199)"
            ],
            [
             0.5,
             "rgb(247,247,247)"
            ],
            [
             0.6,
             "rgb(209,229,240)"
            ],
            [
             0.7,
             "rgb(146,197,222)"
            ],
            [
             0.8,
             "rgb(67,147,195)"
            ],
            [
             0.9,
             "rgb(33,102,172)"
            ],
            [
             1,
             "rgb(5,48,97)"
            ]
           ],
           "sequential": [
            [
             0,
             "#440154"
            ],
            [
             0.1111111111111111,
             "#482878"
            ],
            [
             0.2222222222222222,
             "#3e4989"
            ],
            [
             0.3333333333333333,
             "#31688e"
            ],
            [
             0.4444444444444444,
             "#26828e"
            ],
            [
             0.5555555555555556,
             "#1f9e89"
            ],
            [
             0.6666666666666666,
             "#35b779"
            ],
            [
             0.7777777777777778,
             "#6ece58"
            ],
            [
             0.8888888888888888,
             "#b5de2b"
            ],
            [
             1,
             "#fde725"
            ]
           ],
           "sequentialminus": [
            [
             0,
             "#440154"
            ],
            [
             0.1111111111111111,
             "#482878"
            ],
            [
             0.2222222222222222,
             "#3e4989"
            ],
            [
             0.3333333333333333,
             "#31688e"
            ],
            [
             0.4444444444444444,
             "#26828e"
            ],
            [
             0.5555555555555556,
             "#1f9e89"
            ],
            [
             0.6666666666666666,
             "#35b779"
            ],
            [
             0.7777777777777778,
             "#6ece58"
            ],
            [
             0.8888888888888888,
             "#b5de2b"
            ],
            [
             1,
             "#fde725"
            ]
           ]
          },
          "colorway": [
           "#1F77B4",
           "#FF7F0E",
           "#2CA02C",
           "#D62728",
           "#9467BD",
           "#8C564B",
           "#E377C2",
           "#7F7F7F",
           "#BCBD22",
           "#17BECF"
          ],
          "font": {
           "color": "rgb(36,36,36)"
          },
          "geo": {
           "bgcolor": "white",
           "lakecolor": "white",
           "landcolor": "white",
           "showlakes": true,
           "showland": true,
           "subunitcolor": "white"
          },
          "hoverlabel": {
           "align": "left"
          },
          "hovermode": "closest",
          "mapbox": {
           "style": "light"
          },
          "paper_bgcolor": "white",
          "plot_bgcolor": "white",
          "polar": {
           "angularaxis": {
            "gridcolor": "rgb(232,232,232)",
            "linecolor": "rgb(36,36,36)",
            "showgrid": false,
            "showline": true,
            "ticks": "outside"
           },
           "bgcolor": "white",
           "radialaxis": {
            "gridcolor": "rgb(232,232,232)",
            "linecolor": "rgb(36,36,36)",
            "showgrid": false,
            "showline": true,
            "ticks": "outside"
           }
          },
          "scene": {
           "xaxis": {
            "backgroundcolor": "white",
            "gridcolor": "rgb(232,232,232)",
            "gridwidth": 2,
            "linecolor": "rgb(36,36,36)",
            "showbackground": true,
            "showgrid": false,
            "showline": true,
            "ticks": "outside",
            "zeroline": false,
            "zerolinecolor": "rgb(36,36,36)"
           },
           "yaxis": {
            "backgroundcolor": "white",
            "gridcolor": "rgb(232,232,232)",
            "gridwidth": 2,
            "linecolor": "rgb(36,36,36)",
            "showbackground": true,
            "showgrid": false,
            "showline": true,
            "ticks": "outside",
            "zeroline": false,
            "zerolinecolor": "rgb(36,36,36)"
           },
           "zaxis": {
            "backgroundcolor": "white",
            "gridcolor": "rgb(232,232,232)",
            "gridwidth": 2,
            "linecolor": "rgb(36,36,36)",
            "showbackground": true,
            "showgrid": false,
            "showline": true,
            "ticks": "outside",
            "zeroline": false,
            "zerolinecolor": "rgb(36,36,36)"
           }
          },
          "shapedefaults": {
           "fillcolor": "black",
           "line": {
            "width": 0
           },
           "opacity": 0.3
          },
          "ternary": {
           "aaxis": {
            "gridcolor": "rgb(232,232,232)",
            "linecolor": "rgb(36,36,36)",
            "showgrid": false,
            "showline": true,
            "ticks": "outside"
           },
           "baxis": {
            "gridcolor": "rgb(232,232,232)",
            "linecolor": "rgb(36,36,36)",
            "showgrid": false,
            "showline": true,
            "ticks": "outside"
           },
           "bgcolor": "white",
           "caxis": {
            "gridcolor": "rgb(232,232,232)",
            "linecolor": "rgb(36,36,36)",
            "showgrid": false,
            "showline": true,
            "ticks": "outside"
           }
          },
          "title": {
           "x": 0.05
          },
          "xaxis": {
           "automargin": true,
           "gridcolor": "rgb(232,232,232)",
           "linecolor": "rgb(36,36,36)",
           "showgrid": false,
           "showline": true,
           "ticks": "outside",
           "title": {
            "standoff": 15
           },
           "zeroline": false,
           "zerolinecolor": "rgb(36,36,36)"
          },
          "yaxis": {
           "automargin": true,
           "gridcolor": "rgb(232,232,232)",
           "linecolor": "rgb(36,36,36)",
           "showgrid": false,
           "showline": true,
           "ticks": "outside",
           "title": {
            "standoff": 15
           },
           "zeroline": false,
           "zerolinecolor": "rgb(36,36,36)"
          }
         }
        },
        "xaxis": {
         "anchor": "y",
         "domain": [
          0,
          1
         ],
         "title": {
          "text": "Run"
         }
        },
        "yaxis": {
         "anchor": "x",
         "domain": [
          0,
          1
         ],
         "title": {
          "text": "C_inv_an"
         }
        }
       }
      }
     },
     "metadata": {},
     "output_type": "display_data"
    }
   ],
   "source": [
    "# Plot annualized investment costs aggregated by sub-category\n",
    "plot_parametrisation(results=results_ch_n, variable=\"C_inv_an\", category=\"Category_2\")"
   ]
  },
  {
   "cell_type": "markdown",
   "metadata": {},
   "source": [
    "\n",
    "\n",
    "- **`Category_2`**: A more detailed level of categorization, allowing for a finer analysis.\n",
    "\n",
    "### Save and Load Results\n",
    "\n",
    "To preserve the results of the multiple runs and avoid re-running the optimizations, we can save the results to a file and load them later.\n",
    "\n",
    "#### Define Save Function"
   ]
  },
  {
   "cell_type": "code",
   "execution_count": 15,
   "metadata": {
    "ExecuteTime": {
     "end_time": "2024-10-01T08:38:15.595157Z",
     "start_time": "2024-10-01T08:38:15.591692Z"
    }
   },
   "outputs": [],
   "source": [
    "def save_result_to_pickle(data, filename):\n",
    "    \"\"\"\n",
    "    Save the Result object to a pickle file.\n",
    "\n",
    "    Parameters:\n",
    "        data: The Result object to save.\n",
    "        filename (str): The file path to save the object to.\n",
    "    \"\"\"\n",
    "    with open(filename, 'wb') as fp:\n",
    "        pickle.dump(data, fp, protocol=pickle.HIGHEST_PROTOCOL)"
   ]
  },
  {
   "cell_type": "markdown",
   "metadata": {},
   "source": [
    "\n",
    "\n",
    "#### Define Load Function"
   ]
  },
  {
   "cell_type": "code",
   "execution_count": 16,
   "metadata": {
    "ExecuteTime": {
     "end_time": "2024-10-01T08:38:17.413299Z",
     "start_time": "2024-10-01T08:38:17.409864Z"
    }
   },
   "outputs": [],
   "source": [
    "def load_result_from_pickle(filename):\n",
    "    \"\"\"\n",
    "    Load the Result object from a pickle file.\n",
    "\n",
    "    Parameters:\n",
    "        filename (str): The file path to load the object from.\n",
    "\n",
    "    Returns:\n",
    "        The loaded Result object.\n",
    "    \"\"\"\n",
    "    with open(filename, 'rb') as handle:\n",
    "        result = pickle.load(handle)\n",
    "    return result"
   ]
  },
  {
   "cell_type": "markdown",
   "metadata": {},
   "source": [
    "\n",
    "\n",
    "> **Note**: These utility functions could be integrated into the EnergyScope library for convenience.\n",
    "\n",
    "#### Save the Results"
   ]
  },
  {
   "cell_type": "code",
   "execution_count": 17,
   "metadata": {
    "ExecuteTime": {
     "end_time": "2024-10-01T08:38:19.277277Z",
     "start_time": "2024-10-01T08:38:19.256816Z"
    }
   },
   "outputs": [],
   "source": [
    "# Save the result object to a pickle file\n",
    "save_result_to_pickle(results_ch_n, \"tutorial_input/results_ch_n.pickle\")"
   ]
  },
  {
   "cell_type": "markdown",
   "metadata": {},
   "source": [
    "\n",
    "\n",
    "#### Clear the Results Variable"
   ]
  },
  {
   "cell_type": "code",
   "execution_count": 18,
   "metadata": {
    "ExecuteTime": {
     "end_time": "2024-10-01T08:38:20.458056Z",
     "start_time": "2024-10-01T08:38:20.453116Z"
    }
   },
   "outputs": [],
   "source": [
    "# Empty the variable to simulate a fresh environment\n",
    "results_ch_n = None "
   ]
  },
  {
   "cell_type": "markdown",
   "metadata": {},
   "source": [
    "\n",
    "\n",
    "#### Load the Results"
   ]
  },
  {
   "cell_type": "code",
   "execution_count": 19,
   "metadata": {
    "ExecuteTime": {
     "end_time": "2024-10-01T08:38:22.662421Z",
     "start_time": "2024-10-01T08:38:22.581304Z"
    }
   },
   "outputs": [],
   "source": [
    "# Load the saved result from the pickle file\n",
    "results_ch_n = load_result_from_pickle(\"tutorial_input/results_ch_n.pickle\")"
   ]
  },
  {
   "cell_type": "markdown",
   "metadata": {},
   "source": [
    "\n",
    "\n",
    "#### Display Total Cost"
   ]
  },
  {
   "cell_type": "code",
   "execution_count": 20,
   "metadata": {
    "ExecuteTime": {
     "end_time": "2024-10-01T08:38:24.275463Z",
     "start_time": "2024-10-01T08:38:24.267896Z"
    }
   },
   "outputs": [
    {
     "data": {
      "text/html": [
       "<div>\n",
       "<style scoped>\n",
       "    .dataframe tbody tr th:only-of-type {\n",
       "        vertical-align: middle;\n",
       "    }\n",
       "\n",
       "    .dataframe tbody tr th {\n",
       "        vertical-align: top;\n",
       "    }\n",
       "\n",
       "    .dataframe thead th {\n",
       "        text-align: right;\n",
       "    }\n",
       "</style>\n",
       "<table border=\"1\" class=\"dataframe\">\n",
       "  <thead>\n",
       "    <tr style=\"text-align: right;\">\n",
       "      <th></th>\n",
       "      <th>TotalCost</th>\n",
       "      <th>Run</th>\n",
       "    </tr>\n",
       "  </thead>\n",
       "  <tbody>\n",
       "    <tr>\n",
       "      <th>0</th>\n",
       "      <td>7462.638856</td>\n",
       "      <td>1</td>\n",
       "    </tr>\n",
       "    <tr>\n",
       "      <th>0</th>\n",
       "      <td>7481.066542</td>\n",
       "      <td>2</td>\n",
       "    </tr>\n",
       "    <tr>\n",
       "      <th>0</th>\n",
       "      <td>7602.302609</td>\n",
       "      <td>3</td>\n",
       "    </tr>\n",
       "    <tr>\n",
       "      <th>0</th>\n",
       "      <td>7727.531811</td>\n",
       "      <td>4</td>\n",
       "    </tr>\n",
       "    <tr>\n",
       "      <th>0</th>\n",
       "      <td>7852.761013</td>\n",
       "      <td>5</td>\n",
       "    </tr>\n",
       "    <tr>\n",
       "      <th>0</th>\n",
       "      <td>7978.875140</td>\n",
       "      <td>6</td>\n",
       "    </tr>\n",
       "    <tr>\n",
       "      <th>0</th>\n",
       "      <td>8106.176886</td>\n",
       "      <td>7</td>\n",
       "    </tr>\n",
       "    <tr>\n",
       "      <th>0</th>\n",
       "      <td>8233.669615</td>\n",
       "      <td>8</td>\n",
       "    </tr>\n",
       "    <tr>\n",
       "      <th>0</th>\n",
       "      <td>8355.658041</td>\n",
       "      <td>9</td>\n",
       "    </tr>\n",
       "    <tr>\n",
       "      <th>0</th>\n",
       "      <td>8467.853665</td>\n",
       "      <td>10</td>\n",
       "    </tr>\n",
       "    <tr>\n",
       "      <th>0</th>\n",
       "      <td>8578.621911</td>\n",
       "      <td>11</td>\n",
       "    </tr>\n",
       "  </tbody>\n",
       "</table>\n",
       "</div>"
      ],
      "text/plain": [
       "     TotalCost  Run\n",
       "0  7462.638856    1\n",
       "0  7481.066542    2\n",
       "0  7602.302609    3\n",
       "0  7727.531811    4\n",
       "0  7852.761013    5\n",
       "0  7978.875140    6\n",
       "0  8106.176886    7\n",
       "0  8233.669615    8\n",
       "0  8355.658041    9\n",
       "0  8467.853665   10\n",
       "0  8578.621911   11"
      ]
     },
     "execution_count": 20,
     "metadata": {},
     "output_type": "execute_result"
    }
   ],
   "source": [
    "# Show the total cost from the loaded results\n",
    "results_ch_n.variables['TotalCost']"
   ]
  },
  {
   "cell_type": "markdown",
   "metadata": {},
   "source": [
    "\n",
    "\n",
    "- Accesses and displays the total cost from each run in the loaded results, verifying that the data was correctly saved and loaded.\n",
    "\n",
    "---\n",
    "\n",
    "By following these steps, you can:\n",
    "\n",
    "- **Perform multiple optimization runs** with varying parameters to analyze different scenarios.\n",
    "- **Visualize the results** of specific runs using Sankey diagrams, providing insight into energy flows.\n",
    "- **Analyze the impact** of parameter changes on key variables like investment costs through parametrization plots.\n",
    "- **Save and load the results** for future analysis, enhancing reproducibility and efficiency.\n",
    "\n",
    "This approach is particularly useful for conducting sensitivity analyses, exploring different energy strategies, and gaining deeper insights into the energy system's behavior under various conditions.\n",
    "\n",
    "> **Note**: Ensure that the Excel file `\"tutorial_input/param_run_es_n_infrastructure_ch_2050.xlsx\"` and the pickle file paths are correctly set in your environment. Additionally, the `plot_parametrisation` function may require specific data structures; refer to the EnergyScope documentation for more details.\n",
    "\n",
    "By leveraging these techniques, you can effectively utilize the EnergyScope model for comprehensive energy system analysis."
   ]
  }
 ],
 "metadata": {
  "kernelspec": {
   "display_name": ".es",
   "language": "python",
   "name": "python3"
  },
  "language_info": {
   "codemirror_mode": {
    "name": "ipython",
    "version": 3
   },
   "file_extension": ".py",
   "mimetype": "text/x-python",
   "name": "python",
   "nbconvert_exporter": "python",
   "pygments_lexer": "ipython3",
   "version": "3.12.4"
  }
 },
 "nbformat": 4,
 "nbformat_minor": 2
}
