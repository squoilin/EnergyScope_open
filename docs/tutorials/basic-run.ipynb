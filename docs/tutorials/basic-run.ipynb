{
 "cells": [
  {
   "cell_type": "markdown",
   "metadata": {},
   "source": [
    "# Basic run"
   ]
  },
  {
   "cell_type": "markdown",
   "metadata": {},
   "source": [
    "First, we import the essential libraries and modules that will be used throughout this tutorial:\n",
    "\n",
    "- `pickle`: Used for saving and loading Python objects to and from files.\n",
    "- `Energyscope` from `energyscope.energyscope`: The main class for initializing and running the EnergyScope model.\n",
    "- `infrastructure_ch_2050`, `Model` from `energyscope.models`: The specific model configuration we will use, which focuses on energy infrastructure. And the object Model to create your own model from external files.\n",
    "- `postprocessing` from `energyscope.result`: Functions for processing and analyzing the results after optimization.\n",
    "- `plot_sankey` from `energyscope.plots`: A function to generate Sankey diagrams for visualizing energy flows."
   ]
  },
  {
   "cell_type": "code",
   "execution_count": 1,
   "metadata": {
    "ExecuteTime": {
     "end_time": "2024-10-01T08:35:00.515162Z",
     "start_time": "2024-10-01T08:35:00.304406Z"
    }
   },
   "outputs": [],
   "source": [
    "import pickle\n",
    "from energyscope.energyscope import Energyscope\n",
    "from energyscope.models import infrastructure_ch_2050, Model\n",
    "from energyscope.result import postprocessing\n",
    "from energyscope.plots import plot_sankey"
   ]
  },
  {
   "cell_type": "markdown",
   "metadata": {},
   "source": [
    "---\n",
    "## Initialize and Run the Model\n",
    "\n",
    "In this section, we initialize the EnergyScope model using the infrastructure dataset and perform a single optimization run.\n",
    "\n",
    "### Initialize the Model\n",
    "\n",
    "Create an instance of the `Energyscope` class with the `infrastructure` model. This sets up the model with predefined parameters and datasets."
   ]
  },
  {
   "cell_type": "code",
   "execution_count": 2,
   "metadata": {
    "ExecuteTime": {
     "end_time": "2024-10-01T08:35:03.680112Z",
     "start_time": "2024-10-01T08:35:03.676223Z"
    }
   },
   "outputs": [],
   "source": [
    "es_infra_ch = Energyscope(model=infrastructure_ch_2050)"
   ]
  },
  {
   "cell_type": "markdown",
   "metadata": {},
   "source": [
    "### Export Model to AMPL and GLPK\n",
    "\n",
    "For compatibility and further analysis, we export the model files in both AMPL and GLPK formats."
   ]
  },
  {
   "cell_type": "code",
   "execution_count": 3,
   "metadata": {
    "ExecuteTime": {
     "end_time": "2024-10-01T08:35:08.650524Z",
     "start_time": "2024-10-01T08:35:05.295664Z"
    }
   },
   "outputs": [],
   "source": [
    "# Export model to AMPL\n",
    "es_infra_ch.export_ampl(mod_filename='tutorial_output/AMPL_infrastructure_ch_2050.mod',dat_filename='tutorial_output/AMPL_infrastructure_ch_2050.dat')\n",
    "\n",
    "# Export model to GLPK\n",
    "es_infra_ch.export_glpk(mod_filename='tutorial_output/GLPK_infrastructure_ch_2050.mod',dat_filename='tutorial_output/GLPK_infrastructure_ch_2050.dat')"
   ]
  },
  {
   "cell_type": "markdown",
   "metadata": {},
   "source": [
    "### Load External AMPL files\n",
    "\n",
    "To load external files from AMPL you need to create a new Model as follow."
   ]
  },
  {
   "cell_type": "code",
   "execution_count": 4,
   "metadata": {},
   "outputs": [],
   "source": [
    "# Create you own Model object from imported AMPL files\n",
    "Model_es_infra_ch = Model(mod_files=[\"tutorial_output/AMPL_infrastructure_ch_2050.mod\"],\n",
    "                               dat_files=[\"tutorial_output/AMPL_infrastructure_ch_2050.dat\"])\n",
    "\n",
    "# Create an instance of the Energyscope class with your own model.\n",
    "es_infra_ch = Energyscope(model=Model_es_infra_ch)"
   ]
  },
  {
   "cell_type": "markdown",
   "metadata": {},
   "source": [
    "### Solve the Model\n",
    "Perform the optimization calculation. This step runs the solver and computes the optimal configuration based on the model."
   ]
  },
  {
   "cell_type": "code",
   "execution_count": 5,
   "metadata": {
    "ExecuteTime": {
     "end_time": "2024-10-01T08:35:14.552414Z",
     "start_time": "2024-10-01T08:35:11.666433Z"
    }
   },
   "outputs": [
    {
     "name": "stdout",
     "output_type": "stream",
     "text": [
      "Gurobi 11.0.0:Gurobi 11.0.0: optimal solution; objective 8151.373244\n",
      "6079 simplex iteration(s)\n",
      "1 branching node(s)\n",
      "absmipgap=0.102405, relmipgap=1.25629e-05\n"
     ]
    }
   ],
   "source": [
    "results_ch = es_infra_ch.calc()"
   ]
  },
  {
   "cell_type": "markdown",
   "metadata": {},
   "source": [
    "\n",
    "### Post-Process Results\n",
    "After obtaining the raw results, we apply post-processing to compute Key Performance Indicators (KPIs) and prepare the data for visualization."
   ]
  },
  {
   "cell_type": "code",
   "execution_count": 6,
   "metadata": {
    "ExecuteTime": {
     "end_time": "2024-10-01T08:35:17.530538Z",
     "start_time": "2024-10-01T08:35:17.494816Z"
    }
   },
   "outputs": [
    {
     "data": {
      "text/html": [
       "<div>\n",
       "<style scoped>\n",
       "    .dataframe tbody tr th:only-of-type {\n",
       "        vertical-align: middle;\n",
       "    }\n",
       "\n",
       "    .dataframe tbody tr th {\n",
       "        vertical-align: top;\n",
       "    }\n",
       "\n",
       "    .dataframe thead th {\n",
       "        text-align: right;\n",
       "    }\n",
       "</style>\n",
       "<table border=\"1\" class=\"dataframe\">\n",
       "  <thead>\n",
       "    <tr style=\"text-align: right;\">\n",
       "      <th></th>\n",
       "      <th>C_inv</th>\n",
       "      <th>C_maint</th>\n",
       "      <th>Annual_Prod</th>\n",
       "      <th>F_Mult</th>\n",
       "      <th>tau</th>\n",
       "      <th>C_inv_an</th>\n",
       "      <th>Category</th>\n",
       "      <th>Category_2</th>\n",
       "      <th>Sector</th>\n",
       "    </tr>\n",
       "    <tr>\n",
       "      <th>Run</th>\n",
       "      <th></th>\n",
       "      <th></th>\n",
       "      <th></th>\n",
       "      <th></th>\n",
       "      <th></th>\n",
       "      <th></th>\n",
       "      <th></th>\n",
       "      <th></th>\n",
       "      <th></th>\n",
       "    </tr>\n",
       "  </thead>\n",
       "  <tbody>\n",
       "    <tr>\n",
       "      <th>0</th>\n",
       "      <td>24394.745435</td>\n",
       "      <td>381.162696</td>\n",
       "      <td>33538.455683</td>\n",
       "      <td>16.644659</td>\n",
       "      <td>0.062433</td>\n",
       "      <td>1523.035472</td>\n",
       "      <td>ELECTRICITY_MV</td>\n",
       "      <td>Wind</td>\n",
       "      <td>Electricity</td>\n",
       "    </tr>\n",
       "  </tbody>\n",
       "</table>\n",
       "</div>"
      ],
      "text/plain": [
       "            C_inv     C_maint   Annual_Prod     F_Mult       tau     C_inv_an  \\\n",
       "Run                                                                             \n",
       "0    24394.745435  381.162696  33538.455683  16.644659  0.062433  1523.035472   \n",
       "\n",
       "           Category Category_2       Sector  \n",
       "Run                                          \n",
       "0    ELECTRICITY_MV       Wind  Electricity  "
      ]
     },
     "execution_count": 6,
     "metadata": {},
     "output_type": "execute_result"
    }
   ],
   "source": [
    "results_ch = postprocessing(results_ch)\n",
    "\n",
    "# Example of how to extract post-processed data\n",
    "results_ch.postprocessing['df_annual'].loc['WIND',:]"
   ]
  },
  {
   "cell_type": "markdown",
   "metadata": {},
   "source": [
    "---\n",
    "\n",
    "## Visualize Results with a Sankey Diagram\n",
    "\n",
    "A Sankey diagram is an effective way to visualize energy flows within the system.\n",
    "\n",
    "### Generate the Sankey Diagram\n",
    "Use the `plot_sankey` function with the processed results to create the diagram.\n",
    "\n"
   ]
  },
  {
   "cell_type": "code",
   "execution_count": 7,
   "metadata": {
    "ExecuteTime": {
     "end_time": "2024-10-01T08:35:20.452107Z",
     "start_time": "2024-10-01T08:35:20.377059Z"
    }
   },
   "outputs": [],
   "source": [
    "fig = plot_sankey(results_ch)"
   ]
  },
  {
   "cell_type": "markdown",
   "metadata": {},
   "source": [
    "### Display the Diagram\n",
    "Render the Sankey diagram within the notebook for immediate visualization.\n",
    "   > **Optional**: You can save the diagram as an HTML file or an image for external use by uncommenting the following lines:"
   ]
  },
  {
   "cell_type": "code",
   "execution_count": 8,
   "metadata": {},
   "outputs": [],
   "source": [
    "# fig.write_html(\"tutorial_output/sankey_infrastructure_ch_2050.html\")\n",
    "# fig.write_image('tutorial_output/sankey_infrastructure_ch_2050.png')"
   ]
  },
  {
   "cell_type": "code",
   "execution_count": 9,
   "metadata": {
    "ExecuteTime": {
     "end_time": "2024-10-01T08:35:25.287187Z",
     "start_time": "2024-10-01T08:35:25.137276Z"
    }
   },
   "outputs": [
    {
     "data": {
      "application/vnd.plotly.v1+json": {
       "config": {
        "plotlyServerURL": "https://plot.ly"
       },
       "data": [
        {
         "link": {
          "color": [
           "rgba(181, 31, 31, 0.50)",
           "rgba(181, 31, 31, 0.50)",
           "rgba(181, 31, 31, 0.50)",
           "rgba(181, 31, 31, 0.50)",
           "rgba(181, 31, 31, 0.50)",
           "rgba(181, 31, 31, 0.50)",
           "rgba(255, 225, 0, 0.50)",
           "rgba(179, 123, 68, 0.50)",
           "rgba(181, 31, 31, 0.50)",
           "rgba(181, 31, 31, 0.50)",
           "rgba(181, 31, 31, 0.50)",
           "rgba(181, 31, 31, 0.50)",
           "rgba(0, 0, 0, 0.50)",
           "rgba(0, 206, 209, 0.50)",
           "rgba(0, 206, 209, 0.50)",
           "rgba(0, 0, 255, 0.50)",
           "rgba(250, 128, 114, 0.50)",
           "rgba(250, 128, 114, 0.50)",
           "rgba(250, 128, 114, 0.50)",
           "rgba(0, 206, 209, 0.50)",
           "rgba(0, 0, 0, 0.50)",
           "rgba(0, 0, 0, 0.50)",
           "rgba(0, 0, 0, 0.50)",
           "rgba(0, 0, 0, 0.50)",
           "rgba(0, 0, 0, 0.50)",
           "rgba(0, 0, 0, 0.50)",
           "rgba(0, 191, 255, 0.50)",
           "rgba(0, 191, 255, 0.50)",
           "rgba(0, 191, 255, 0.50)",
           "rgba(0, 191, 255, 0.50)",
           "rgba(0, 191, 255, 0.50)",
           "rgba(0, 191, 255, 0.50)",
           "rgba(0, 191, 255, 0.50)",
           "rgba(0, 191, 255, 0.50)",
           "rgba(0, 191, 255, 0.50)",
           "rgba(0, 191, 255, 0.50)",
           "rgba(0, 191, 255, 0.50)",
           "rgba(0, 191, 255, 0.50)",
           "rgba(0, 191, 255, 0.50)",
           "rgba(0, 191, 255, 0.50)",
           "rgba(0, 191, 255, 0.50)",
           "rgba(0, 191, 255, 0.50)",
           "rgba(0, 191, 255, 0.50)",
           "rgba(0, 191, 255, 0.50)",
           "rgba(0, 191, 255, 0.50)",
           "rgba(0, 191, 255, 0.50)",
           "rgba(255, 215, 0, 0.50)",
           "rgba(255, 215, 0, 0.50)",
           "rgba(255, 215, 0, 0.50)",
           "rgba(255, 215, 0, 0.50)",
           "rgba(255, 215, 0, 0.50)",
           "rgba(255, 225, 0, 0.50)",
           "rgba(255, 215, 0, 0.50)",
           "rgba(255, 215, 0, 0.50)"
          ],
          "label": [
           38550.932459353906,
           6424.286644080812,
           18011.504057888727,
           0.00042603046098640886,
           434.2008719999995,
           434.2008719999995,
           5284.745762711872,
           12471.999999999998,
           5179.015334041355,
           1692.2930872000004,
           3083.9927009988296,
           6967.629749759814,
           6424.286644080812,
           16122.6096,
           16580.16,
           33538.45568341781,
           6853.248580159599,
           2063.7514198404006,
           8917,
           12472.000000000016,
           520.5841569600001,
           4239.54083000002,
           1151.9683202999995,
           1463.2592,
           2762.8508495,
           612.1908000001551,
           0.041055974713321175,
           6967.629749759814,
           12849.025788702656,
           1.1841405109068164e-9,
           4502.876014472182,
           16580.16,
           211.3898305084749,
           16122.6096,
           1370.52635632388,
           5268.860515296454,
           9910.8,
           33538.45568341781,
           8895.76,
           25871.84,
           7403.6,
           520.5841569600001,
           4239.54083000002,
           1151.9683202999995,
           4226.1100495,
           612.1908000001551,
           310.1798059168183,
           0.07851585660150255,
           5284.667246855799,
           310.1798059168182,
           310.1798059168183,
           5284.745762711872,
           5284.745762711872,
           310.1798059168182
          ],
          "source": [
           15,
           7,
           15,
           27,
           13,
           16,
           18,
           20,
           0,
           0,
           4,
           8,
           28,
           29,
           29,
           30,
           36,
           36,
           37,
           38,
           1,
           2,
           5,
           34,
           34,
           35,
           3,
           9,
           9,
           9,
           9,
           17,
           18,
           19,
           4,
           26,
           26,
           39,
           9,
           9,
           9,
           9,
           9,
           9,
           9,
           9,
           23,
           23,
           23,
           24,
           25,
           31,
           32,
           33
          ],
          "target": [
           14,
           14,
           14,
           14,
           16,
           14,
           31,
           38,
           13,
           13,
           13,
           13,
           7,
           19,
           17,
           39,
           4,
           0,
           36,
           18,
           22,
           22,
           22,
           21,
           22,
           21,
           9,
           8,
           15,
           6,
           15,
           9,
           9,
           9,
           9,
           9,
           9,
           9,
           10,
           11,
           12,
           1,
           2,
           5,
           34,
           35,
           25,
           3,
           0,
           33,
           24,
           32,
           23,
           23
          ],
          "value": [
           38550.932459353906,
           6424.286644080812,
           18011.504057888727,
           0.00042603046098640886,
           434.2008719999995,
           434.2008719999995,
           5284.745762711872,
           12471.999999999998,
           5179.015334041355,
           1692.2930872000004,
           3083.9927009988296,
           6967.629749759814,
           6424.286644080812,
           16122.6096,
           16580.16,
           33538.45568341781,
           6853.248580159599,
           2063.7514198404006,
           8917,
           12472.000000000016,
           520.5841569600001,
           4239.54083000002,
           1151.9683202999995,
           1463.2592,
           2762.8508495,
           612.1908000001551,
           0.041055974713321175,
           6967.629749759814,
           12849.025788702656,
           1.1841405109068164e-9,
           4502.876014472182,
           16580.16,
           211.3898305084749,
           16122.6096,
           1370.52635632388,
           5268.860515296454,
           9910.8,
           33538.45568341781,
           8895.76,
           25871.84,
           7403.6,
           520.5841569600001,
           4239.54083000002,
           1151.9683202999995,
           4226.1100495,
           612.1908000001551,
           310.1798059168183,
           0.07851585660150255,
           5284.667246855799,
           310.1798059168182,
           310.1798059168183,
           5284.745762711872,
           5284.745762711872,
           310.1798059168182
          ]
         },
         "node": {
          "color": "#DCDCDC",
          "label": [
           "BOILER",
           "BUS",
           "CAR",
           "CCGT_CC",
           "COGEN",
           "COMMUTER",
           "DEEP_SALINE",
           "DHN_DEEP_GEO",
           "DIRECT_ELEC",
           "ELECTRICITY",
           "EUD_ELECTRICITY_HV",
           "EUD_ELECTRICITY_LV",
           "EUD_ELECTRICITY_MV",
           "HEAT_HIGH_T",
           "HEAT_LOW_T",
           "HP",
           "HT_LT",
           "HYDRO_DAM",
           "HYDRO_GAS",
           "HYDRO_RIVER",
           "IMP_WET_BIOMASS",
           "MOBILITY",
           "MOBILITY_PASSENGER",
           "NG",
           "NG_S",
           "NG_STO",
           "PV",
           "RENOVATION",
           "RES_GEO",
           "RES_HYDRO",
           "RES_WIND",
           "SNG",
           "SNG_NG",
           "STO_NG",
           "TRAIN",
           "TRUCK",
           "WASTE",
           "WASTE_BIO",
           "WET_BIOMASS",
           "WIND"
          ],
          "line": {
           "color": "black",
           "width": 0.5
          },
          "pad": 15,
          "thickness": 15
         },
         "type": "sankey",
         "valueformat": ".0f",
         "valuesuffix": ""
        }
       ],
       "layout": {
        "font": {
         "color": "black",
         "size": 10
        },
        "template": {
         "data": {
          "bar": [
           {
            "error_x": {
             "color": "#2a3f5f"
            },
            "error_y": {
             "color": "#2a3f5f"
            },
            "marker": {
             "line": {
              "color": "#E5ECF6",
              "width": 0.5
             },
             "pattern": {
              "fillmode": "overlay",
              "size": 10,
              "solidity": 0.2
             }
            },
            "type": "bar"
           }
          ],
          "barpolar": [
           {
            "marker": {
             "line": {
              "color": "#E5ECF6",
              "width": 0.5
             },
             "pattern": {
              "fillmode": "overlay",
              "size": 10,
              "solidity": 0.2
             }
            },
            "type": "barpolar"
           }
          ],
          "carpet": [
           {
            "aaxis": {
             "endlinecolor": "#2a3f5f",
             "gridcolor": "white",
             "linecolor": "white",
             "minorgridcolor": "white",
             "startlinecolor": "#2a3f5f"
            },
            "baxis": {
             "endlinecolor": "#2a3f5f",
             "gridcolor": "white",
             "linecolor": "white",
             "minorgridcolor": "white",
             "startlinecolor": "#2a3f5f"
            },
            "type": "carpet"
           }
          ],
          "choropleth": [
           {
            "colorbar": {
             "outlinewidth": 0,
             "ticks": ""
            },
            "type": "choropleth"
           }
          ],
          "contour": [
           {
            "colorbar": {
             "outlinewidth": 0,
             "ticks": ""
            },
            "colorscale": [
             [
              0,
              "#0d0887"
             ],
             [
              0.1111111111111111,
              "#46039f"
             ],
             [
              0.2222222222222222,
              "#7201a8"
             ],
             [
              0.3333333333333333,
              "#9c179e"
             ],
             [
              0.4444444444444444,
              "#bd3786"
             ],
             [
              0.5555555555555556,
              "#d8576b"
             ],
             [
              0.6666666666666666,
              "#ed7953"
             ],
             [
              0.7777777777777778,
              "#fb9f3a"
             ],
             [
              0.8888888888888888,
              "#fdca26"
             ],
             [
              1,
              "#f0f921"
             ]
            ],
            "type": "contour"
           }
          ],
          "contourcarpet": [
           {
            "colorbar": {
             "outlinewidth": 0,
             "ticks": ""
            },
            "type": "contourcarpet"
           }
          ],
          "heatmap": [
           {
            "colorbar": {
             "outlinewidth": 0,
             "ticks": ""
            },
            "colorscale": [
             [
              0,
              "#0d0887"
             ],
             [
              0.1111111111111111,
              "#46039f"
             ],
             [
              0.2222222222222222,
              "#7201a8"
             ],
             [
              0.3333333333333333,
              "#9c179e"
             ],
             [
              0.4444444444444444,
              "#bd3786"
             ],
             [
              0.5555555555555556,
              "#d8576b"
             ],
             [
              0.6666666666666666,
              "#ed7953"
             ],
             [
              0.7777777777777778,
              "#fb9f3a"
             ],
             [
              0.8888888888888888,
              "#fdca26"
             ],
             [
              1,
              "#f0f921"
             ]
            ],
            "type": "heatmap"
           }
          ],
          "heatmapgl": [
           {
            "colorbar": {
             "outlinewidth": 0,
             "ticks": ""
            },
            "colorscale": [
             [
              0,
              "#0d0887"
             ],
             [
              0.1111111111111111,
              "#46039f"
             ],
             [
              0.2222222222222222,
              "#7201a8"
             ],
             [
              0.3333333333333333,
              "#9c179e"
             ],
             [
              0.4444444444444444,
              "#bd3786"
             ],
             [
              0.5555555555555556,
              "#d8576b"
             ],
             [
              0.6666666666666666,
              "#ed7953"
             ],
             [
              0.7777777777777778,
              "#fb9f3a"
             ],
             [
              0.8888888888888888,
              "#fdca26"
             ],
             [
              1,
              "#f0f921"
             ]
            ],
            "type": "heatmapgl"
           }
          ],
          "histogram": [
           {
            "marker": {
             "pattern": {
              "fillmode": "overlay",
              "size": 10,
              "solidity": 0.2
             }
            },
            "type": "histogram"
           }
          ],
          "histogram2d": [
           {
            "colorbar": {
             "outlinewidth": 0,
             "ticks": ""
            },
            "colorscale": [
             [
              0,
              "#0d0887"
             ],
             [
              0.1111111111111111,
              "#46039f"
             ],
             [
              0.2222222222222222,
              "#7201a8"
             ],
             [
              0.3333333333333333,
              "#9c179e"
             ],
             [
              0.4444444444444444,
              "#bd3786"
             ],
             [
              0.5555555555555556,
              "#d8576b"
             ],
             [
              0.6666666666666666,
              "#ed7953"
             ],
             [
              0.7777777777777778,
              "#fb9f3a"
             ],
             [
              0.8888888888888888,
              "#fdca26"
             ],
             [
              1,
              "#f0f921"
             ]
            ],
            "type": "histogram2d"
           }
          ],
          "histogram2dcontour": [
           {
            "colorbar": {
             "outlinewidth": 0,
             "ticks": ""
            },
            "colorscale": [
             [
              0,
              "#0d0887"
             ],
             [
              0.1111111111111111,
              "#46039f"
             ],
             [
              0.2222222222222222,
              "#7201a8"
             ],
             [
              0.3333333333333333,
              "#9c179e"
             ],
             [
              0.4444444444444444,
              "#bd3786"
             ],
             [
              0.5555555555555556,
              "#d8576b"
             ],
             [
              0.6666666666666666,
              "#ed7953"
             ],
             [
              0.7777777777777778,
              "#fb9f3a"
             ],
             [
              0.8888888888888888,
              "#fdca26"
             ],
             [
              1,
              "#f0f921"
             ]
            ],
            "type": "histogram2dcontour"
           }
          ],
          "mesh3d": [
           {
            "colorbar": {
             "outlinewidth": 0,
             "ticks": ""
            },
            "type": "mesh3d"
           }
          ],
          "parcoords": [
           {
            "line": {
             "colorbar": {
              "outlinewidth": 0,
              "ticks": ""
             }
            },
            "type": "parcoords"
           }
          ],
          "pie": [
           {
            "automargin": true,
            "type": "pie"
           }
          ],
          "scatter": [
           {
            "fillpattern": {
             "fillmode": "overlay",
             "size": 10,
             "solidity": 0.2
            },
            "type": "scatter"
           }
          ],
          "scatter3d": [
           {
            "line": {
             "colorbar": {
              "outlinewidth": 0,
              "ticks": ""
             }
            },
            "marker": {
             "colorbar": {
              "outlinewidth": 0,
              "ticks": ""
             }
            },
            "type": "scatter3d"
           }
          ],
          "scattercarpet": [
           {
            "marker": {
             "colorbar": {
              "outlinewidth": 0,
              "ticks": ""
             }
            },
            "type": "scattercarpet"
           }
          ],
          "scattergeo": [
           {
            "marker": {
             "colorbar": {
              "outlinewidth": 0,
              "ticks": ""
             }
            },
            "type": "scattergeo"
           }
          ],
          "scattergl": [
           {
            "marker": {
             "colorbar": {
              "outlinewidth": 0,
              "ticks": ""
             }
            },
            "type": "scattergl"
           }
          ],
          "scattermapbox": [
           {
            "marker": {
             "colorbar": {
              "outlinewidth": 0,
              "ticks": ""
             }
            },
            "type": "scattermapbox"
           }
          ],
          "scatterpolar": [
           {
            "marker": {
             "colorbar": {
              "outlinewidth": 0,
              "ticks": ""
             }
            },
            "type": "scatterpolar"
           }
          ],
          "scatterpolargl": [
           {
            "marker": {
             "colorbar": {
              "outlinewidth": 0,
              "ticks": ""
             }
            },
            "type": "scatterpolargl"
           }
          ],
          "scatterternary": [
           {
            "marker": {
             "colorbar": {
              "outlinewidth": 0,
              "ticks": ""
             }
            },
            "type": "scatterternary"
           }
          ],
          "surface": [
           {
            "colorbar": {
             "outlinewidth": 0,
             "ticks": ""
            },
            "colorscale": [
             [
              0,
              "#0d0887"
             ],
             [
              0.1111111111111111,
              "#46039f"
             ],
             [
              0.2222222222222222,
              "#7201a8"
             ],
             [
              0.3333333333333333,
              "#9c179e"
             ],
             [
              0.4444444444444444,
              "#bd3786"
             ],
             [
              0.5555555555555556,
              "#d8576b"
             ],
             [
              0.6666666666666666,
              "#ed7953"
             ],
             [
              0.7777777777777778,
              "#fb9f3a"
             ],
             [
              0.8888888888888888,
              "#fdca26"
             ],
             [
              1,
              "#f0f921"
             ]
            ],
            "type": "surface"
           }
          ],
          "table": [
           {
            "cells": {
             "fill": {
              "color": "#EBF0F8"
             },
             "line": {
              "color": "white"
             }
            },
            "header": {
             "fill": {
              "color": "#C8D4E3"
             },
             "line": {
              "color": "white"
             }
            },
            "type": "table"
           }
          ]
         },
         "layout": {
          "annotationdefaults": {
           "arrowcolor": "#2a3f5f",
           "arrowhead": 0,
           "arrowwidth": 1
          },
          "autotypenumbers": "strict",
          "coloraxis": {
           "colorbar": {
            "outlinewidth": 0,
            "ticks": ""
           }
          },
          "colorscale": {
           "diverging": [
            [
             0,
             "#8e0152"
            ],
            [
             0.1,
             "#c51b7d"
            ],
            [
             0.2,
             "#de77ae"
            ],
            [
             0.3,
             "#f1b6da"
            ],
            [
             0.4,
             "#fde0ef"
            ],
            [
             0.5,
             "#f7f7f7"
            ],
            [
             0.6,
             "#e6f5d0"
            ],
            [
             0.7,
             "#b8e186"
            ],
            [
             0.8,
             "#7fbc41"
            ],
            [
             0.9,
             "#4d9221"
            ],
            [
             1,
             "#276419"
            ]
           ],
           "sequential": [
            [
             0,
             "#0d0887"
            ],
            [
             0.1111111111111111,
             "#46039f"
            ],
            [
             0.2222222222222222,
             "#7201a8"
            ],
            [
             0.3333333333333333,
             "#9c179e"
            ],
            [
             0.4444444444444444,
             "#bd3786"
            ],
            [
             0.5555555555555556,
             "#d8576b"
            ],
            [
             0.6666666666666666,
             "#ed7953"
            ],
            [
             0.7777777777777778,
             "#fb9f3a"
            ],
            [
             0.8888888888888888,
             "#fdca26"
            ],
            [
             1,
             "#f0f921"
            ]
           ],
           "sequentialminus": [
            [
             0,
             "#0d0887"
            ],
            [
             0.1111111111111111,
             "#46039f"
            ],
            [
             0.2222222222222222,
             "#7201a8"
            ],
            [
             0.3333333333333333,
             "#9c179e"
            ],
            [
             0.4444444444444444,
             "#bd3786"
            ],
            [
             0.5555555555555556,
             "#d8576b"
            ],
            [
             0.6666666666666666,
             "#ed7953"
            ],
            [
             0.7777777777777778,
             "#fb9f3a"
            ],
            [
             0.8888888888888888,
             "#fdca26"
            ],
            [
             1,
             "#f0f921"
            ]
           ]
          },
          "colorway": [
           "#636efa",
           "#EF553B",
           "#00cc96",
           "#ab63fa",
           "#FFA15A",
           "#19d3f3",
           "#FF6692",
           "#B6E880",
           "#FF97FF",
           "#FECB52"
          ],
          "font": {
           "color": "#2a3f5f"
          },
          "geo": {
           "bgcolor": "white",
           "lakecolor": "white",
           "landcolor": "#E5ECF6",
           "showlakes": true,
           "showland": true,
           "subunitcolor": "white"
          },
          "hoverlabel": {
           "align": "left"
          },
          "hovermode": "closest",
          "mapbox": {
           "style": "light"
          },
          "paper_bgcolor": "white",
          "plot_bgcolor": "#E5ECF6",
          "polar": {
           "angularaxis": {
            "gridcolor": "white",
            "linecolor": "white",
            "ticks": ""
           },
           "bgcolor": "#E5ECF6",
           "radialaxis": {
            "gridcolor": "white",
            "linecolor": "white",
            "ticks": ""
           }
          },
          "scene": {
           "xaxis": {
            "backgroundcolor": "#E5ECF6",
            "gridcolor": "white",
            "gridwidth": 2,
            "linecolor": "white",
            "showbackground": true,
            "ticks": "",
            "zerolinecolor": "white"
           },
           "yaxis": {
            "backgroundcolor": "#E5ECF6",
            "gridcolor": "white",
            "gridwidth": 2,
            "linecolor": "white",
            "showbackground": true,
            "ticks": "",
            "zerolinecolor": "white"
           },
           "zaxis": {
            "backgroundcolor": "#E5ECF6",
            "gridcolor": "white",
            "gridwidth": 2,
            "linecolor": "white",
            "showbackground": true,
            "ticks": "",
            "zerolinecolor": "white"
           }
          },
          "shapedefaults": {
           "line": {
            "color": "#2a3f5f"
           }
          },
          "ternary": {
           "aaxis": {
            "gridcolor": "white",
            "linecolor": "white",
            "ticks": ""
           },
           "baxis": {
            "gridcolor": "white",
            "linecolor": "white",
            "ticks": ""
           },
           "bgcolor": "#E5ECF6",
           "caxis": {
            "gridcolor": "white",
            "linecolor": "white",
            "ticks": ""
           }
          },
          "title": {
           "x": 0.05
          },
          "xaxis": {
           "automargin": true,
           "gridcolor": "white",
           "linecolor": "white",
           "ticks": "",
           "title": {
            "standoff": 15
           },
           "zerolinecolor": "white",
           "zerolinewidth": 2
          },
          "yaxis": {
           "automargin": true,
           "gridcolor": "white",
           "linecolor": "white",
           "ticks": "",
           "title": {
            "standoff": 15
           },
           "zerolinecolor": "white",
           "zerolinewidth": 2
          }
         }
        },
        "title": {
         "text": "Sankey Diagram"
        }
       }
      }
     },
     "metadata": {},
     "output_type": "display_data"
    }
   ],
   "source": [
    "fig.show()"
   ]
  },
  {
   "cell_type": "markdown",
   "metadata": {},
   "source": [
    "---\n",
    "\n",
    "## Save and Load Results\n",
    "\n",
    "To preserve the results and avoid re-running the optimization every time, we can save the results to a file and load them later.\n",
    "\n",
    "### Define Save Function\n",
    "Create a function to save the `Result` object using `pickle`.\n",
    "\n"
   ]
  },
  {
   "cell_type": "code",
   "execution_count": 10,
   "metadata": {
    "ExecuteTime": {
     "end_time": "2024-10-01T08:35:32.988502Z",
     "start_time": "2024-10-01T08:35:32.984752Z"
    }
   },
   "outputs": [],
   "source": [
    "def save_result_to_pickle(data, filename):\n",
    "    \"\"\"\n",
    "    Save the Result object to a pickle file.\n",
    "\n",
    "    Parameters:\n",
    "        data: The Result object to save.\n",
    "        filename (str): The file path to save the object to.\n",
    "    \"\"\"\n",
    "    with open(filename, 'wb') as fp:\n",
    "        pickle.dump(data, fp, protocol=pickle.HIGHEST_PROTOCOL)"
   ]
  },
  {
   "cell_type": "markdown",
   "metadata": {},
   "source": [
    "### Define Load Function\n",
    "Create a function to load the `Result` object from a pickle file.\n",
    "\n",
    "\n",
    "   > **Note**: These utility functions could be integrated into the EnergyScope library for convenience.\n",
    "\n"
   ]
  },
  {
   "cell_type": "code",
   "execution_count": 11,
   "metadata": {
    "ExecuteTime": {
     "end_time": "2024-10-01T08:35:35.589635Z",
     "start_time": "2024-10-01T08:35:35.586141Z"
    }
   },
   "outputs": [],
   "source": [
    "def load_result_from_pickle(filename):\n",
    "    \"\"\"\n",
    "    Load the Result object from a pickle file.\n",
    "\n",
    "    Parameters:\n",
    "        filename (str): The file path to load the object from.\n",
    "\n",
    "    Returns:\n",
    "        The loaded Result object.\n",
    "    \"\"\"\n",
    "    with open(filename, 'rb') as handle:\n",
    "        result = pickle.load(handle)\n",
    "    return result"
   ]
  },
  {
   "cell_type": "markdown",
   "metadata": {},
   "source": [
    "### Save the Results\n",
    "Use the `save_result_to_pickle` function to save the results to a file.\n",
    "\n"
   ]
  },
  {
   "cell_type": "code",
   "execution_count": 12,
   "metadata": {
    "ExecuteTime": {
     "end_time": "2024-10-01T08:35:37.985904Z",
     "start_time": "2024-10-01T08:35:37.974950Z"
    }
   },
   "outputs": [],
   "source": [
    "save_result_to_pickle(results_ch, \"tutorial_input/infrastructure_ch_2050.pickle\")"
   ]
  },
  {
   "cell_type": "markdown",
   "metadata": {},
   "source": [
    "### Clear the Results Variable\n",
    "Empty the `results_ch` variable to simulate a fresh environment.\n"
   ]
  },
  {
   "cell_type": "code",
   "execution_count": 13,
   "metadata": {
    "ExecuteTime": {
     "end_time": "2024-10-01T08:35:39.877940Z",
     "start_time": "2024-10-01T08:35:39.873887Z"
    }
   },
   "outputs": [],
   "source": [
    "results_ch = None"
   ]
  },
  {
   "cell_type": "markdown",
   "metadata": {},
   "source": [
    "### Load the Results\n",
    "Load the previously saved results using the `load_result_from_pickle` function.\n",
    "\n"
   ]
  },
  {
   "cell_type": "code",
   "execution_count": 14,
   "metadata": {
    "ExecuteTime": {
     "end_time": "2024-10-01T08:35:41.115556Z",
     "start_time": "2024-10-01T08:35:41.100774Z"
    }
   },
   "outputs": [],
   "source": [
    "results_ch = load_result_from_pickle(\"tutorial_input/infrastructure_ch_2050.pickle\")"
   ]
  },
  {
   "cell_type": "markdown",
   "metadata": {},
   "source": [
    "### Display Total Cost\n",
    "Access and display the total cost from the loaded results to verify that the data was correctly saved and loaded.\n",
    "\n",
    " "
   ]
  },
  {
   "cell_type": "code",
   "execution_count": 15,
   "metadata": {
    "ExecuteTime": {
     "end_time": "2024-10-01T08:35:43.481003Z",
     "start_time": "2024-10-01T08:35:43.472351Z"
    }
   },
   "outputs": [
    {
     "data": {
      "text/html": [
       "<div>\n",
       "<style scoped>\n",
       "    .dataframe tbody tr th:only-of-type {\n",
       "        vertical-align: middle;\n",
       "    }\n",
       "\n",
       "    .dataframe tbody tr th {\n",
       "        vertical-align: top;\n",
       "    }\n",
       "\n",
       "    .dataframe thead th {\n",
       "        text-align: right;\n",
       "    }\n",
       "</style>\n",
       "<table border=\"1\" class=\"dataframe\">\n",
       "  <thead>\n",
       "    <tr style=\"text-align: right;\">\n",
       "      <th></th>\n",
       "      <th>TotalCost</th>\n",
       "      <th>Run</th>\n",
       "    </tr>\n",
       "  </thead>\n",
       "  <tbody>\n",
       "    <tr>\n",
       "      <th>0</th>\n",
       "      <td>8151.373244</td>\n",
       "      <td>0</td>\n",
       "    </tr>\n",
       "  </tbody>\n",
       "</table>\n",
       "</div>"
      ],
      "text/plain": [
       "     TotalCost  Run\n",
       "0  8151.373244    0"
      ]
     },
     "execution_count": 15,
     "metadata": {},
     "output_type": "execute_result"
    }
   ],
   "source": [
    "results_ch.variables['TotalCost']"
   ]
  },
  {
   "cell_type": "markdown",
   "metadata": {},
   "source": [
    "  This should output a table showing the total cost of the optimized energy system configuration.\n",
    "\n",
    "---\n",
    "\n",
    "By following these steps, you can perform a basic run of the EnergyScope model, visualize the results, and save/load the data for future use. This tutorial serves as a foundation for more complex analyses and customizations."
   ]
  }
 ],
 "metadata": {
  "kernelspec": {
   "display_name": ".venv",
   "language": "python",
   "name": "python3"
  },
  "language_info": {
   "codemirror_mode": {
    "name": "ipython",
    "version": 3
   },
   "file_extension": ".py",
   "mimetype": "text/x-python",
   "name": "python",
   "nbconvert_exporter": "python",
   "pygments_lexer": "ipython3",
   "version": "3.12.4"
  }
 },
 "nbformat": 4,
 "nbformat_minor": 2
}
