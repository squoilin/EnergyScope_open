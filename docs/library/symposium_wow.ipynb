{
 "cells": [
  {
   "cell_type": "markdown",
   "metadata": {},
   "source": [
    "# EnergyScope Symposium Library Demo"
   ]
  },
  {
   "cell_type": "markdown",
   "metadata": {},
   "source": [
    "Demonstration of the EnergyScope library  \n",
    "1st EnergyScope Symposium  \n",
    "3rd October 2024, ETH Zürich  "
   ]
  },
  {
   "cell_type": "markdown",
   "metadata": {},
   "source": [
    "## Install EnergyScope"
   ]
  },
  {
   "cell_type": "code",
   "execution_count": 1,
   "metadata": {},
   "outputs": [],
   "source": [
    "#%pip install energyscope"
   ]
  },
  {
   "cell_type": "markdown",
   "metadata": {},
   "source": [
    "## Load libraries (initialisation)"
   ]
  },
  {
   "cell_type": "code",
   "execution_count": 2,
   "metadata": {
    "ExecuteTime": {
     "end_time": "2024-10-01T13:07:31.504521Z",
     "start_time": "2024-10-01T13:07:31.263216Z"
    }
   },
   "outputs": [],
   "source": [
    "import pandas as pd\n",
    "\n",
    "from energyscope.energyscope import Energyscope\n",
    "from energyscope.models import infrastructure_ch_2050, infrastructure_qc_2020\n",
    "from energyscope.plots import plot_sankey, plot_parametrisation, plot_comparison\n",
    "from energyscope.result import postprocessing\n"
   ]
  },
  {
   "cell_type": "markdown",
   "metadata": {},
   "source": [
    "## Select and Load Model"
   ]
  },
  {
   "cell_type": "code",
   "execution_count": 3,
   "metadata": {
    "ExecuteTime": {
     "end_time": "2024-10-01T13:07:33.439354Z",
     "start_time": "2024-10-01T13:07:33.435823Z"
    }
   },
   "outputs": [],
   "source": [
    "es_model_ch = Energyscope(model=infrastructure_ch_2050)\n",
    "es_model_qc = Energyscope(model=infrastructure_qc_2020)"
   ]
  },
  {
   "cell_type": "markdown",
   "metadata": {},
   "source": [
    "## Single optimization"
   ]
  },
  {
   "cell_type": "code",
   "execution_count": 4,
   "metadata": {
    "ExecuteTime": {
     "end_time": "2024-10-01T13:07:48.510339Z",
     "start_time": "2024-10-01T13:07:35.476099Z"
    }
   },
   "outputs": [
    {
     "name": "stdout",
     "output_type": "stream",
     "text": [
      "Gurobi 11.0.0:Gurobi 11.0.0: optimal solution; objective 8151.373244\n",
      "6079 simplex iteration(s)\n",
      "1 branching node(s)\n",
      "absmipgap=0.102405, relmipgap=1.25629e-05\n",
      "Gurobi 11.0.0:Gurobi 11.0.0: optimal solution; objective 23154.07143\n",
      "27950 simplex iteration(s)\n",
      "1 branching node(s)\n"
     ]
    }
   ],
   "source": [
    "# Solve the models\n",
    "results_ch = es_model_ch.calc()\n",
    "results_qc = es_model_qc.calc()\n",
    "# Postcompute KPIs\n",
    "KPI_ch = postprocessing(results_ch)\n",
    "KPI_qc = postprocessing(results_qc)"
   ]
  },
  {
   "cell_type": "markdown",
   "metadata": {},
   "source": [
    "### Sankey diagram"
   ]
  },
  {
   "cell_type": "code",
   "execution_count": 5,
   "metadata": {
    "ExecuteTime": {
     "end_time": "2024-10-01T13:07:51.329440Z",
     "start_time": "2024-10-01T13:07:51.064106Z"
    }
   },
   "outputs": [
    {
     "data": {
      "application/vnd.plotly.v1+json": {
       "config": {
        "plotlyServerURL": "https://plot.ly"
       },
       "data": [
        {
         "link": {
          "color": [
           "rgba(181, 31, 31, 0.50)",
           "rgba(181, 31, 31, 0.50)",
           "rgba(181, 31, 31, 0.50)",
           "rgba(181, 31, 31, 0.50)",
           "rgba(181, 31, 31, 0.50)",
           "rgba(181, 31, 31, 0.50)",
           "rgba(255, 225, 0, 0.50)",
           "rgba(179, 123, 68, 0.50)",
           "rgba(181, 31, 31, 0.50)",
           "rgba(181, 31, 31, 0.50)",
           "rgba(181, 31, 31, 0.50)",
           "rgba(181, 31, 31, 0.50)",
           "rgba(0, 0, 0, 0.50)",
           "rgba(0, 206, 209, 0.50)",
           "rgba(0, 206, 209, 0.50)",
           "rgba(0, 0, 255, 0.50)",
           "rgba(250, 128, 114, 0.50)",
           "rgba(250, 128, 114, 0.50)",
           "rgba(250, 128, 114, 0.50)",
           "rgba(0, 206, 209, 0.50)",
           "rgba(0, 0, 0, 0.50)",
           "rgba(0, 0, 0, 0.50)",
           "rgba(0, 0, 0, 0.50)",
           "rgba(0, 0, 0, 0.50)",
           "rgba(0, 0, 0, 0.50)",
           "rgba(0, 0, 0, 0.50)",
           "rgba(0, 191, 255, 0.50)",
           "rgba(0, 191, 255, 0.50)",
           "rgba(0, 191, 255, 0.50)",
           "rgba(0, 191, 255, 0.50)",
           "rgba(0, 191, 255, 0.50)",
           "rgba(0, 191, 255, 0.50)",
           "rgba(0, 191, 255, 0.50)",
           "rgba(0, 191, 255, 0.50)",
           "rgba(0, 191, 255, 0.50)",
           "rgba(0, 191, 255, 0.50)",
           "rgba(0, 191, 255, 0.50)",
           "rgba(0, 191, 255, 0.50)",
           "rgba(0, 191, 255, 0.50)",
           "rgba(0, 191, 255, 0.50)",
           "rgba(0, 191, 255, 0.50)",
           "rgba(0, 191, 255, 0.50)",
           "rgba(0, 191, 255, 0.50)",
           "rgba(0, 191, 255, 0.50)",
           "rgba(0, 191, 255, 0.50)",
           "rgba(0, 191, 255, 0.50)",
           "rgba(255, 215, 0, 0.50)",
           "rgba(255, 215, 0, 0.50)",
           "rgba(255, 215, 0, 0.50)",
           "rgba(255, 215, 0, 0.50)",
           "rgba(255, 215, 0, 0.50)",
           "rgba(255, 225, 0, 0.50)",
           "rgba(255, 215, 0, 0.50)",
           "rgba(255, 215, 0, 0.50)"
          ],
          "label": [
           38550.932459353906,
           6424.286644080812,
           18011.504057888727,
           0.00042603046098640886,
           434.2008719999995,
           434.2008719999995,
           5284.745762711872,
           12471.999999999998,
           5179.015334041355,
           1692.2930872000004,
           3083.9927009988296,
           6967.629749759814,
           6424.286644080812,
           16122.6096,
           16580.16,
           33538.45568341781,
           6853.248580159599,
           2063.7514198404006,
           8917,
           12472.000000000016,
           520.5841569600001,
           4239.54083000002,
           1151.9683202999995,
           1463.2592,
           2762.8508495,
           612.1908000001551,
           0.041055974713321175,
           6967.629749759814,
           12849.025788702656,
           1.1841405109068164e-9,
           4502.876014472182,
           16580.16,
           211.3898305084749,
           16122.6096,
           1370.52635632388,
           5268.860515296454,
           9910.8,
           33538.45568341781,
           8895.76,
           25871.84,
           7403.6,
           520.5841569600001,
           4239.54083000002,
           1151.9683202999995,
           4226.1100495,
           612.1908000001551,
           310.1798059168183,
           0.07851585660150255,
           5284.667246855799,
           310.1798059168182,
           310.1798059168183,
           5284.745762711872,
           5284.745762711872,
           310.1798059168182
          ],
          "source": [
           15,
           7,
           15,
           27,
           13,
           16,
           18,
           20,
           0,
           0,
           4,
           8,
           28,
           29,
           29,
           30,
           36,
           36,
           37,
           38,
           1,
           2,
           5,
           34,
           34,
           35,
           3,
           9,
           9,
           9,
           9,
           17,
           18,
           19,
           4,
           26,
           26,
           39,
           9,
           9,
           9,
           9,
           9,
           9,
           9,
           9,
           23,
           23,
           23,
           24,
           25,
           31,
           32,
           33
          ],
          "target": [
           14,
           14,
           14,
           14,
           16,
           14,
           31,
           38,
           13,
           13,
           13,
           13,
           7,
           19,
           17,
           39,
           4,
           0,
           36,
           18,
           22,
           22,
           22,
           21,
           22,
           21,
           9,
           8,
           15,
           6,
           15,
           9,
           9,
           9,
           9,
           9,
           9,
           9,
           10,
           11,
           12,
           1,
           2,
           5,
           34,
           35,
           25,
           3,
           0,
           33,
           24,
           32,
           23,
           23
          ],
          "value": [
           38550.932459353906,
           6424.286644080812,
           18011.504057888727,
           0.00042603046098640886,
           434.2008719999995,
           434.2008719999995,
           5284.745762711872,
           12471.999999999998,
           5179.015334041355,
           1692.2930872000004,
           3083.9927009988296,
           6967.629749759814,
           6424.286644080812,
           16122.6096,
           16580.16,
           33538.45568341781,
           6853.248580159599,
           2063.7514198404006,
           8917,
           12472.000000000016,
           520.5841569600001,
           4239.54083000002,
           1151.9683202999995,
           1463.2592,
           2762.8508495,
           612.1908000001551,
           0.041055974713321175,
           6967.629749759814,
           12849.025788702656,
           1.1841405109068164e-9,
           4502.876014472182,
           16580.16,
           211.3898305084749,
           16122.6096,
           1370.52635632388,
           5268.860515296454,
           9910.8,
           33538.45568341781,
           8895.76,
           25871.84,
           7403.6,
           520.5841569600001,
           4239.54083000002,
           1151.9683202999995,
           4226.1100495,
           612.1908000001551,
           310.1798059168183,
           0.07851585660150255,
           5284.667246855799,
           310.1798059168182,
           310.1798059168183,
           5284.745762711872,
           5284.745762711872,
           310.1798059168182
          ]
         },
         "node": {
          "color": "#DCDCDC",
          "label": [
           "BOILER",
           "BUS",
           "CAR",
           "CCGT_CC",
           "COGEN",
           "COMMUTER",
           "DEEP_SALINE",
           "DHN_DEEP_GEO",
           "DIRECT_ELEC",
           "ELECTRICITY",
           "EUD_ELECTRICITY_HV",
           "EUD_ELECTRICITY_LV",
           "EUD_ELECTRICITY_MV",
           "HEAT_HIGH_T",
           "HEAT_LOW_T",
           "HP",
           "HT_LT",
           "HYDRO_DAM",
           "HYDRO_GAS",
           "HYDRO_RIVER",
           "IMP_WET_BIOMASS",
           "MOBILITY",
           "MOBILITY_PASSENGER",
           "NG",
           "NG_S",
           "NG_STO",
           "PV",
           "RENOVATION",
           "RES_GEO",
           "RES_HYDRO",
           "RES_WIND",
           "SNG",
           "SNG_NG",
           "STO_NG",
           "TRAIN",
           "TRUCK",
           "WASTE",
           "WASTE_BIO",
           "WET_BIOMASS",
           "WIND"
          ],
          "line": {
           "color": "black",
           "width": 0.5
          },
          "pad": 15,
          "thickness": 15
         },
         "type": "sankey",
         "valueformat": ".0f",
         "valuesuffix": ""
        }
       ],
       "layout": {
        "font": {
         "color": "black",
         "size": 10
        },
        "template": {
         "data": {
          "bar": [
           {
            "error_x": {
             "color": "#2a3f5f"
            },
            "error_y": {
             "color": "#2a3f5f"
            },
            "marker": {
             "line": {
              "color": "#E5ECF6",
              "width": 0.5
             },
             "pattern": {
              "fillmode": "overlay",
              "size": 10,
              "solidity": 0.2
             }
            },
            "type": "bar"
           }
          ],
          "barpolar": [
           {
            "marker": {
             "line": {
              "color": "#E5ECF6",
              "width": 0.5
             },
             "pattern": {
              "fillmode": "overlay",
              "size": 10,
              "solidity": 0.2
             }
            },
            "type": "barpolar"
           }
          ],
          "carpet": [
           {
            "aaxis": {
             "endlinecolor": "#2a3f5f",
             "gridcolor": "white",
             "linecolor": "white",
             "minorgridcolor": "white",
             "startlinecolor": "#2a3f5f"
            },
            "baxis": {
             "endlinecolor": "#2a3f5f",
             "gridcolor": "white",
             "linecolor": "white",
             "minorgridcolor": "white",
             "startlinecolor": "#2a3f5f"
            },
            "type": "carpet"
           }
          ],
          "choropleth": [
           {
            "colorbar": {
             "outlinewidth": 0,
             "ticks": ""
            },
            "type": "choropleth"
           }
          ],
          "contour": [
           {
            "colorbar": {
             "outlinewidth": 0,
             "ticks": ""
            },
            "colorscale": [
             [
              0,
              "#0d0887"
             ],
             [
              0.1111111111111111,
              "#46039f"
             ],
             [
              0.2222222222222222,
              "#7201a8"
             ],
             [
              0.3333333333333333,
              "#9c179e"
             ],
             [
              0.4444444444444444,
              "#bd3786"
             ],
             [
              0.5555555555555556,
              "#d8576b"
             ],
             [
              0.6666666666666666,
              "#ed7953"
             ],
             [
              0.7777777777777778,
              "#fb9f3a"
             ],
             [
              0.8888888888888888,
              "#fdca26"
             ],
             [
              1,
              "#f0f921"
             ]
            ],
            "type": "contour"
           }
          ],
          "contourcarpet": [
           {
            "colorbar": {
             "outlinewidth": 0,
             "ticks": ""
            },
            "type": "contourcarpet"
           }
          ],
          "heatmap": [
           {
            "colorbar": {
             "outlinewidth": 0,
             "ticks": ""
            },
            "colorscale": [
             [
              0,
              "#0d0887"
             ],
             [
              0.1111111111111111,
              "#46039f"
             ],
             [
              0.2222222222222222,
              "#7201a8"
             ],
             [
              0.3333333333333333,
              "#9c179e"
             ],
             [
              0.4444444444444444,
              "#bd3786"
             ],
             [
              0.5555555555555556,
              "#d8576b"
             ],
             [
              0.6666666666666666,
              "#ed7953"
             ],
             [
              0.7777777777777778,
              "#fb9f3a"
             ],
             [
              0.8888888888888888,
              "#fdca26"
             ],
             [
              1,
              "#f0f921"
             ]
            ],
            "type": "heatmap"
           }
          ],
          "heatmapgl": [
           {
            "colorbar": {
             "outlinewidth": 0,
             "ticks": ""
            },
            "colorscale": [
             [
              0,
              "#0d0887"
             ],
             [
              0.1111111111111111,
              "#46039f"
             ],
             [
              0.2222222222222222,
              "#7201a8"
             ],
             [
              0.3333333333333333,
              "#9c179e"
             ],
             [
              0.4444444444444444,
              "#bd3786"
             ],
             [
              0.5555555555555556,
              "#d8576b"
             ],
             [
              0.6666666666666666,
              "#ed7953"
             ],
             [
              0.7777777777777778,
              "#fb9f3a"
             ],
             [
              0.8888888888888888,
              "#fdca26"
             ],
             [
              1,
              "#f0f921"
             ]
            ],
            "type": "heatmapgl"
           }
          ],
          "histogram": [
           {
            "marker": {
             "pattern": {
              "fillmode": "overlay",
              "size": 10,
              "solidity": 0.2
             }
            },
            "type": "histogram"
           }
          ],
          "histogram2d": [
           {
            "colorbar": {
             "outlinewidth": 0,
             "ticks": ""
            },
            "colorscale": [
             [
              0,
              "#0d0887"
             ],
             [
              0.1111111111111111,
              "#46039f"
             ],
             [
              0.2222222222222222,
              "#7201a8"
             ],
             [
              0.3333333333333333,
              "#9c179e"
             ],
             [
              0.4444444444444444,
              "#bd3786"
             ],
             [
              0.5555555555555556,
              "#d8576b"
             ],
             [
              0.6666666666666666,
              "#ed7953"
             ],
             [
              0.7777777777777778,
              "#fb9f3a"
             ],
             [
              0.8888888888888888,
              "#fdca26"
             ],
             [
              1,
              "#f0f921"
             ]
            ],
            "type": "histogram2d"
           }
          ],
          "histogram2dcontour": [
           {
            "colorbar": {
             "outlinewidth": 0,
             "ticks": ""
            },
            "colorscale": [
             [
              0,
              "#0d0887"
             ],
             [
              0.1111111111111111,
              "#46039f"
             ],
             [
              0.2222222222222222,
              "#7201a8"
             ],
             [
              0.3333333333333333,
              "#9c179e"
             ],
             [
              0.4444444444444444,
              "#bd3786"
             ],
             [
              0.5555555555555556,
              "#d8576b"
             ],
             [
              0.6666666666666666,
              "#ed7953"
             ],
             [
              0.7777777777777778,
              "#fb9f3a"
             ],
             [
              0.8888888888888888,
              "#fdca26"
             ],
             [
              1,
              "#f0f921"
             ]
            ],
            "type": "histogram2dcontour"
           }
          ],
          "mesh3d": [
           {
            "colorbar": {
             "outlinewidth": 0,
             "ticks": ""
            },
            "type": "mesh3d"
           }
          ],
          "parcoords": [
           {
            "line": {
             "colorbar": {
              "outlinewidth": 0,
              "ticks": ""
             }
            },
            "type": "parcoords"
           }
          ],
          "pie": [
           {
            "automargin": true,
            "type": "pie"
           }
          ],
          "scatter": [
           {
            "fillpattern": {
             "fillmode": "overlay",
             "size": 10,
             "solidity": 0.2
            },
            "type": "scatter"
           }
          ],
          "scatter3d": [
           {
            "line": {
             "colorbar": {
              "outlinewidth": 0,
              "ticks": ""
             }
            },
            "marker": {
             "colorbar": {
              "outlinewidth": 0,
              "ticks": ""
             }
            },
            "type": "scatter3d"
           }
          ],
          "scattercarpet": [
           {
            "marker": {
             "colorbar": {
              "outlinewidth": 0,
              "ticks": ""
             }
            },
            "type": "scattercarpet"
           }
          ],
          "scattergeo": [
           {
            "marker": {
             "colorbar": {
              "outlinewidth": 0,
              "ticks": ""
             }
            },
            "type": "scattergeo"
           }
          ],
          "scattergl": [
           {
            "marker": {
             "colorbar": {
              "outlinewidth": 0,
              "ticks": ""
             }
            },
            "type": "scattergl"
           }
          ],
          "scattermapbox": [
           {
            "marker": {
             "colorbar": {
              "outlinewidth": 0,
              "ticks": ""
             }
            },
            "type": "scattermapbox"
           }
          ],
          "scatterpolar": [
           {
            "marker": {
             "colorbar": {
              "outlinewidth": 0,
              "ticks": ""
             }
            },
            "type": "scatterpolar"
           }
          ],
          "scatterpolargl": [
           {
            "marker": {
             "colorbar": {
              "outlinewidth": 0,
              "ticks": ""
             }
            },
            "type": "scatterpolargl"
           }
          ],
          "scatterternary": [
           {
            "marker": {
             "colorbar": {
              "outlinewidth": 0,
              "ticks": ""
             }
            },
            "type": "scatterternary"
           }
          ],
          "surface": [
           {
            "colorbar": {
             "outlinewidth": 0,
             "ticks": ""
            },
            "colorscale": [
             [
              0,
              "#0d0887"
             ],
             [
              0.1111111111111111,
              "#46039f"
             ],
             [
              0.2222222222222222,
              "#7201a8"
             ],
             [
              0.3333333333333333,
              "#9c179e"
             ],
             [
              0.4444444444444444,
              "#bd3786"
             ],
             [
              0.5555555555555556,
              "#d8576b"
             ],
             [
              0.6666666666666666,
              "#ed7953"
             ],
             [
              0.7777777777777778,
              "#fb9f3a"
             ],
             [
              0.8888888888888888,
              "#fdca26"
             ],
             [
              1,
              "#f0f921"
             ]
            ],
            "type": "surface"
           }
          ],
          "table": [
           {
            "cells": {
             "fill": {
              "color": "#EBF0F8"
             },
             "line": {
              "color": "white"
             }
            },
            "header": {
             "fill": {
              "color": "#C8D4E3"
             },
             "line": {
              "color": "white"
             }
            },
            "type": "table"
           }
          ]
         },
         "layout": {
          "annotationdefaults": {
           "arrowcolor": "#2a3f5f",
           "arrowhead": 0,
           "arrowwidth": 1
          },
          "autotypenumbers": "strict",
          "coloraxis": {
           "colorbar": {
            "outlinewidth": 0,
            "ticks": ""
           }
          },
          "colorscale": {
           "diverging": [
            [
             0,
             "#8e0152"
            ],
            [
             0.1,
             "#c51b7d"
            ],
            [
             0.2,
             "#de77ae"
            ],
            [
             0.3,
             "#f1b6da"
            ],
            [
             0.4,
             "#fde0ef"
            ],
            [
             0.5,
             "#f7f7f7"
            ],
            [
             0.6,
             "#e6f5d0"
            ],
            [
             0.7,
             "#b8e186"
            ],
            [
             0.8,
             "#7fbc41"
            ],
            [
             0.9,
             "#4d9221"
            ],
            [
             1,
             "#276419"
            ]
           ],
           "sequential": [
            [
             0,
             "#0d0887"
            ],
            [
             0.1111111111111111,
             "#46039f"
            ],
            [
             0.2222222222222222,
             "#7201a8"
            ],
            [
             0.3333333333333333,
             "#9c179e"
            ],
            [
             0.4444444444444444,
             "#bd3786"
            ],
            [
             0.5555555555555556,
             "#d8576b"
            ],
            [
             0.6666666666666666,
             "#ed7953"
            ],
            [
             0.7777777777777778,
             "#fb9f3a"
            ],
            [
             0.8888888888888888,
             "#fdca26"
            ],
            [
             1,
             "#f0f921"
            ]
           ],
           "sequentialminus": [
            [
             0,
             "#0d0887"
            ],
            [
             0.1111111111111111,
             "#46039f"
            ],
            [
             0.2222222222222222,
             "#7201a8"
            ],
            [
             0.3333333333333333,
             "#9c179e"
            ],
            [
             0.4444444444444444,
             "#bd3786"
            ],
            [
             0.5555555555555556,
             "#d8576b"
            ],
            [
             0.6666666666666666,
             "#ed7953"
            ],
            [
             0.7777777777777778,
             "#fb9f3a"
            ],
            [
             0.8888888888888888,
             "#fdca26"
            ],
            [
             1,
             "#f0f921"
            ]
           ]
          },
          "colorway": [
           "#636efa",
           "#EF553B",
           "#00cc96",
           "#ab63fa",
           "#FFA15A",
           "#19d3f3",
           "#FF6692",
           "#B6E880",
           "#FF97FF",
           "#FECB52"
          ],
          "font": {
           "color": "#2a3f5f"
          },
          "geo": {
           "bgcolor": "white",
           "lakecolor": "white",
           "landcolor": "#E5ECF6",
           "showlakes": true,
           "showland": true,
           "subunitcolor": "white"
          },
          "hoverlabel": {
           "align": "left"
          },
          "hovermode": "closest",
          "mapbox": {
           "style": "light"
          },
          "paper_bgcolor": "white",
          "plot_bgcolor": "#E5ECF6",
          "polar": {
           "angularaxis": {
            "gridcolor": "white",
            "linecolor": "white",
            "ticks": ""
           },
           "bgcolor": "#E5ECF6",
           "radialaxis": {
            "gridcolor": "white",
            "linecolor": "white",
            "ticks": ""
           }
          },
          "scene": {
           "xaxis": {
            "backgroundcolor": "#E5ECF6",
            "gridcolor": "white",
            "gridwidth": 2,
            "linecolor": "white",
            "showbackground": true,
            "ticks": "",
            "zerolinecolor": "white"
           },
           "yaxis": {
            "backgroundcolor": "#E5ECF6",
            "gridcolor": "white",
            "gridwidth": 2,
            "linecolor": "white",
            "showbackground": true,
            "ticks": "",
            "zerolinecolor": "white"
           },
           "zaxis": {
            "backgroundcolor": "#E5ECF6",
            "gridcolor": "white",
            "gridwidth": 2,
            "linecolor": "white",
            "showbackground": true,
            "ticks": "",
            "zerolinecolor": "white"
           }
          },
          "shapedefaults": {
           "line": {
            "color": "#2a3f5f"
           }
          },
          "ternary": {
           "aaxis": {
            "gridcolor": "white",
            "linecolor": "white",
            "ticks": ""
           },
           "baxis": {
            "gridcolor": "white",
            "linecolor": "white",
            "ticks": ""
           },
           "bgcolor": "#E5ECF6",
           "caxis": {
            "gridcolor": "white",
            "linecolor": "white",
            "ticks": ""
           }
          },
          "title": {
           "x": 0.05
          },
          "xaxis": {
           "automargin": true,
           "gridcolor": "white",
           "linecolor": "white",
           "ticks": "",
           "title": {
            "standoff": 15
           },
           "zerolinecolor": "white",
           "zerolinewidth": 2
          },
          "yaxis": {
           "automargin": true,
           "gridcolor": "white",
           "linecolor": "white",
           "ticks": "",
           "title": {
            "standoff": 15
           },
           "zerolinecolor": "white",
           "zerolinewidth": 2
          }
         }
        },
        "title": {
         "text": "Sankey Diagram"
        }
       }
      }
     },
     "metadata": {},
     "output_type": "display_data"
    },
    {
     "data": {
      "application/vnd.plotly.v1+json": {
       "config": {
        "plotlyServerURL": "https://plot.ly"
       },
       "data": [
        {
         "link": {
          "color": [
           "rgba(181, 31, 31, 0.50)",
           "rgba(181, 31, 31, 0.50)",
           "rgba(181, 31, 31, 0.50)",
           "rgba(181, 31, 31, 0.50)",
           "rgba(181, 31, 31, 0.50)",
           "rgba(181, 31, 31, 0.50)",
           "rgba(181, 31, 31, 0.50)",
           "rgba(255, 225, 0, 0.50)",
           "rgba(0, 0, 0, 0.50)",
           "rgba(0, 0, 0, 0.50)",
           "rgba(250, 128, 114, 0.50)",
           "rgba(179, 123, 68, 0.50)",
           "rgba(181, 31, 31, 0.50)",
           "rgba(181, 31, 31, 0.50)",
           "rgba(181, 31, 31, 0.50)",
           "rgba(181, 31, 31, 0.50)",
           "rgba(181, 31, 31, 0.50)",
           "rgba(181, 31, 31, 0.50)",
           "rgba(0, 0, 0, 0.50)",
           "rgba(0, 206, 209, 0.50)",
           "rgba(0, 206, 209, 0.50)",
           "rgba(0, 0, 0, 0.50)",
           "rgba(0, 0, 255, 0.50)",
           "rgba(250, 128, 114, 0.50)",
           "rgba(250, 128, 114, 0.50)",
           "rgba(250, 128, 114, 0.50)",
           "rgba(250, 128, 114, 0.50)",
           "rgba(0, 206, 209, 0.50)",
           "rgba(0, 191, 255, 0.50)",
           "rgba(0, 0, 0, 0.50)",
           "rgba(0, 0, 0, 0.50)",
           "rgba(0, 0, 0, 0.50)",
           "rgba(0, 0, 0, 0.50)",
           "rgba(0, 0, 0, 0.50)",
           "rgba(0, 0, 0, 0.50)",
           "rgba(0, 0, 0, 0.50)",
           "rgba(0, 0, 0, 0.50)",
           "rgba(0, 0, 0, 0.50)",
           "rgba(0, 0, 0, 0.50)",
           "rgba(0, 0, 0, 0.50)",
           "rgba(0, 0, 0, 0.50)",
           "rgba(0, 0, 0, 0.50)",
           "rgba(0, 0, 0, 0.50)",
           "rgba(0, 0, 0, 0.50)",
           "rgba(0, 0, 0, 0.50)",
           "rgba(0, 0, 0, 0.50)",
           "rgba(0, 191, 255, 0.50)",
           "rgba(0, 191, 255, 0.50)",
           "rgba(0, 191, 255, 0.50)",
           "rgba(0, 191, 255, 0.50)",
           "rgba(0, 191, 255, 0.50)",
           "rgba(0, 191, 255, 0.50)",
           "rgba(0, 191, 255, 0.50)",
           "rgba(0, 191, 255, 0.50)",
           "rgba(0, 191, 255, 0.50)",
           "rgba(0, 191, 255, 0.50)",
           "rgba(0, 191, 255, 0.50)",
           "rgba(0, 191, 255, 0.50)",
           "rgba(0, 191, 255, 0.50)",
           "rgba(0, 191, 255, 0.50)",
           "rgba(0, 191, 255, 0.50)",
           "rgba(255, 215, 0, 0.50)",
           "rgba(255, 215, 0, 0.50)",
           "rgba(255, 215, 0, 0.50)",
           "rgba(255, 215, 0, 0.50)",
           "rgba(255, 215, 0, 0.50)",
           "rgba(255, 225, 0, 0.50)",
           "rgba(255, 215, 0, 0.50)",
           "rgba(255, 215, 0, 0.50)",
           "rgba(255, 215, 0, 0.50)",
           "rgba(255, 0, 255, 0.50)",
           "rgba(255, 0, 255, 0.50)",
           "rgba(255, 0, 255, 0.50)",
           "rgba(255, 0, 255, 0.50)",
           "rgba(255, 0, 255, 0.50)",
           "rgba(255, 0, 255, 0.50)",
           "rgba(255, 0, 255, 0.50)"
          ],
          "label": [
           413.4245487658662,
           505.49000278419675,
           9999.999999999998,
           1445.5966505992274,
           92549.140752915,
           6609.326299999998,
           92549.140752915,
           8474.576271187014,
           5545.31930764405,
           131479.6226900081,
           3079.9999999999995,
           19999.999999999996,
           5926.130148524267,
           4396.209516193521,
           604.8780487804878,
           68191.32401036426,
           70161.72567965169,
           6609.326299999998,
           71020.14288,
           112279.797624,
           66424.97376000001,
           505.49000278419675,
           586.0013133275775,
           796.6243902439024,
           5363.375609756096,
           1400,
           1679.9999999999998,
           20000.000000001353,
           25145,
           916.7037781291202,
           56693.616175014,
           61.554340459679864,
           0.7344698265600001,
           1073.222732999991,
           4472.096574643201,
           485.5422553649999,
           24390.681761500007,
           650.2062960000044,
           391.6707526611001,
           48993.078720000005,
           916.7037781291202,
           56693.616175014,
           5545.319307643193,
           485.5422553649999,
           24390.681761500007,
           48993.078720000005,
           1205.1325596524998,
           26.560799999999997,
           68191.32401036426,
           14032.345135930338,
           112279.797624,
           796.6101694915793,
           66424.97376000001,
           71020.14288,
           586.0013133275775,
           5981.25,
           63468.56,
           27660.949999999997,
           16182.84,
           0.7344698265600001,
           391.6707526611001,
           2939.004465043847,
           2368.369179231734,
           6044.652751494752,
           2939.004465043847,
           2939.004465043847,
           8474.576271187014,
           8474.576271187014,
           2939.004465043847,
           61.554340459679864,
           2028.110908960354,
           1759.1214549987606,
           2028.1109089603542,
           2028.110908960354,
           2409.327750998712,
           2028.1109089603542,
           650.2062960000044
          ],
          "source": [
           0,
           6,
           41,
           18,
           18,
           20,
           23,
           25,
           27,
           28,
           29,
           30,
           1,
           1,
           1,
           7,
           22,
           32,
           42,
           42,
           42,
           43,
           44,
           55,
           55,
           56,
           57,
           58,
           9,
           2,
           3,
           4,
           5,
           39,
           39,
           45,
           46,
           52,
           53,
           54,
           40,
           40,
           31,
           40,
           40,
           40,
           0,
           9,
           9,
           9,
           24,
           25,
           26,
           35,
           59,
           9,
           9,
           9,
           9,
           9,
           9,
           36,
           36,
           36,
           37,
           38,
           48,
           49,
           51,
           36,
           15,
           15,
           16,
           17,
           47,
           50,
           15
          ],
          "target": [
           19,
           19,
           19,
           47,
           23,
           32,
           19,
           48,
           31,
           40,
           55,
           58,
           18,
           18,
           18,
           18,
           18,
           21,
           35,
           24,
           26,
           6,
           59,
           1,
           1,
           55,
           55,
           25,
           11,
           34,
           34,
           34,
           34,
           33,
           34,
           34,
           33,
           33,
           34,
           33,
           2,
           3,
           39,
           45,
           46,
           54,
           9,
           8,
           7,
           22,
           9,
           9,
           9,
           9,
           9,
           10,
           12,
           13,
           14,
           5,
           53,
           38,
           47,
           1,
           51,
           37,
           49,
           36,
           36,
           4,
           17,
           0,
           50,
           16,
           15,
           15,
           52
          ],
          "value": [
           413.4245487658662,
           505.49000278419675,
           9999.999999999998,
           1445.5966505992274,
           92549.140752915,
           6609.326299999998,
           92549.140752915,
           8474.576271187014,
           5545.31930764405,
           131479.6226900081,
           3079.9999999999995,
           19999.999999999996,
           5926.130148524267,
           4396.209516193521,
           604.8780487804878,
           68191.32401036426,
           70161.72567965169,
           6609.326299999998,
           71020.14288,
           112279.797624,
           66424.97376000001,
           505.49000278419675,
           586.0013133275775,
           796.6243902439024,
           5363.375609756096,
           1400,
           1679.9999999999998,
           20000.000000001353,
           25145,
           916.7037781291202,
           56693.616175014,
           61.554340459679864,
           0.7344698265600001,
           1073.222732999991,
           4472.096574643201,
           485.5422553649999,
           24390.681761500007,
           650.2062960000044,
           391.6707526611001,
           48993.078720000005,
           916.7037781291202,
           56693.616175014,
           5545.319307643193,
           485.5422553649999,
           24390.681761500007,
           48993.078720000005,
           1205.1325596524998,
           26.560799999999997,
           68191.32401036426,
           14032.345135930338,
           112279.797624,
           796.6101694915793,
           66424.97376000001,
           71020.14288,
           586.0013133275775,
           5981.25,
           63468.56,
           27660.949999999997,
           16182.84,
           0.7344698265600001,
           391.6707526611001,
           2939.004465043847,
           2368.369179231734,
           6044.652751494752,
           2939.004465043847,
           2939.004465043847,
           8474.576271187014,
           8474.576271187014,
           2939.004465043847,
           61.554340459679864,
           2028.110908960354,
           1759.1214549987606,
           2028.1109089603542,
           2028.110908960354,
           2409.327750998712,
           2028.1109089603542,
           650.2062960000044
          ]
         },
         "node": {
          "color": "#DCDCDC",
          "label": [
           "AFC",
           "BOILER",
           "BUS",
           "CAR",
           "COACH",
           "COMMUTER",
           "DEC_SOLAR",
           "DIRECT_ELEC",
           "DIRECT_USAGE",
           "ELECTRICITY",
           "EUD_ELECTRICITY_EHV",
           "EUD_ELECTRICITY_EHV_EXPORT",
           "EUD_ELECTRICITY_HV",
           "EUD_ELECTRICITY_LV",
           "EUD_ELECTRICITY_MV",
           "H2",
           "H2_S",
           "H2_STO",
           "HEAT_HIGH_T",
           "HEAT_LOW_T",
           "HEAT_LOW_T_DHN",
           "HEAT_WASTE",
           "HP",
           "HT_LT_DEC",
           "HYDRO_DAM",
           "HYDRO_GAS",
           "HYDRO_RIVER",
           "IMP_JETFUEL",
           "IMP_PROPANE",
           "IMP_WASTE",
           "IMP_WET_BIOMASS",
           "JETFUEL",
           "LT_DHN_WH",
           "MOBILITY_FREIGHT",
           "MOBILITY_PASSENGER",
           "NEW_HYDRO_DAM",
           "NG",
           "NG_S",
           "NG_STO",
           "PLANE",
           "PROPANE",
           "RENOVATION",
           "RES_HYDRO",
           "RES_SOLAR",
           "RES_WIND_ONSHORE",
           "SCHOOLBUS",
           "SEMI",
           "SMR",
           "SNG",
           "SNG_NG",
           "STO_H2",
           "STO_NG",
           "TRAIN",
           "TRAMWAY",
           "TRUCK",
           "WASTE",
           "WASTE_BIO",
           "WASTE_FOS",
           "WET_BIOMASS",
           "WIND_ONSHORE"
          ],
          "line": {
           "color": "black",
           "width": 0.5
          },
          "pad": 15,
          "thickness": 15
         },
         "type": "sankey",
         "valueformat": ".0f",
         "valuesuffix": ""
        }
       ],
       "layout": {
        "font": {
         "color": "black",
         "size": 10
        },
        "template": {
         "data": {
          "bar": [
           {
            "error_x": {
             "color": "#2a3f5f"
            },
            "error_y": {
             "color": "#2a3f5f"
            },
            "marker": {
             "line": {
              "color": "#E5ECF6",
              "width": 0.5
             },
             "pattern": {
              "fillmode": "overlay",
              "size": 10,
              "solidity": 0.2
             }
            },
            "type": "bar"
           }
          ],
          "barpolar": [
           {
            "marker": {
             "line": {
              "color": "#E5ECF6",
              "width": 0.5
             },
             "pattern": {
              "fillmode": "overlay",
              "size": 10,
              "solidity": 0.2
             }
            },
            "type": "barpolar"
           }
          ],
          "carpet": [
           {
            "aaxis": {
             "endlinecolor": "#2a3f5f",
             "gridcolor": "white",
             "linecolor": "white",
             "minorgridcolor": "white",
             "startlinecolor": "#2a3f5f"
            },
            "baxis": {
             "endlinecolor": "#2a3f5f",
             "gridcolor": "white",
             "linecolor": "white",
             "minorgridcolor": "white",
             "startlinecolor": "#2a3f5f"
            },
            "type": "carpet"
           }
          ],
          "choropleth": [
           {
            "colorbar": {
             "outlinewidth": 0,
             "ticks": ""
            },
            "type": "choropleth"
           }
          ],
          "contour": [
           {
            "colorbar": {
             "outlinewidth": 0,
             "ticks": ""
            },
            "colorscale": [
             [
              0,
              "#0d0887"
             ],
             [
              0.1111111111111111,
              "#46039f"
             ],
             [
              0.2222222222222222,
              "#7201a8"
             ],
             [
              0.3333333333333333,
              "#9c179e"
             ],
             [
              0.4444444444444444,
              "#bd3786"
             ],
             [
              0.5555555555555556,
              "#d8576b"
             ],
             [
              0.6666666666666666,
              "#ed7953"
             ],
             [
              0.7777777777777778,
              "#fb9f3a"
             ],
             [
              0.8888888888888888,
              "#fdca26"
             ],
             [
              1,
              "#f0f921"
             ]
            ],
            "type": "contour"
           }
          ],
          "contourcarpet": [
           {
            "colorbar": {
             "outlinewidth": 0,
             "ticks": ""
            },
            "type": "contourcarpet"
           }
          ],
          "heatmap": [
           {
            "colorbar": {
             "outlinewidth": 0,
             "ticks": ""
            },
            "colorscale": [
             [
              0,
              "#0d0887"
             ],
             [
              0.1111111111111111,
              "#46039f"
             ],
             [
              0.2222222222222222,
              "#7201a8"
             ],
             [
              0.3333333333333333,
              "#9c179e"
             ],
             [
              0.4444444444444444,
              "#bd3786"
             ],
             [
              0.5555555555555556,
              "#d8576b"
             ],
             [
              0.6666666666666666,
              "#ed7953"
             ],
             [
              0.7777777777777778,
              "#fb9f3a"
             ],
             [
              0.8888888888888888,
              "#fdca26"
             ],
             [
              1,
              "#f0f921"
             ]
            ],
            "type": "heatmap"
           }
          ],
          "heatmapgl": [
           {
            "colorbar": {
             "outlinewidth": 0,
             "ticks": ""
            },
            "colorscale": [
             [
              0,
              "#0d0887"
             ],
             [
              0.1111111111111111,
              "#46039f"
             ],
             [
              0.2222222222222222,
              "#7201a8"
             ],
             [
              0.3333333333333333,
              "#9c179e"
             ],
             [
              0.4444444444444444,
              "#bd3786"
             ],
             [
              0.5555555555555556,
              "#d8576b"
             ],
             [
              0.6666666666666666,
              "#ed7953"
             ],
             [
              0.7777777777777778,
              "#fb9f3a"
             ],
             [
              0.8888888888888888,
              "#fdca26"
             ],
             [
              1,
              "#f0f921"
             ]
            ],
            "type": "heatmapgl"
           }
          ],
          "histogram": [
           {
            "marker": {
             "pattern": {
              "fillmode": "overlay",
              "size": 10,
              "solidity": 0.2
             }
            },
            "type": "histogram"
           }
          ],
          "histogram2d": [
           {
            "colorbar": {
             "outlinewidth": 0,
             "ticks": ""
            },
            "colorscale": [
             [
              0,
              "#0d0887"
             ],
             [
              0.1111111111111111,
              "#46039f"
             ],
             [
              0.2222222222222222,
              "#7201a8"
             ],
             [
              0.3333333333333333,
              "#9c179e"
             ],
             [
              0.4444444444444444,
              "#bd3786"
             ],
             [
              0.5555555555555556,
              "#d8576b"
             ],
             [
              0.6666666666666666,
              "#ed7953"
             ],
             [
              0.7777777777777778,
              "#fb9f3a"
             ],
             [
              0.8888888888888888,
              "#fdca26"
             ],
             [
              1,
              "#f0f921"
             ]
            ],
            "type": "histogram2d"
           }
          ],
          "histogram2dcontour": [
           {
            "colorbar": {
             "outlinewidth": 0,
             "ticks": ""
            },
            "colorscale": [
             [
              0,
              "#0d0887"
             ],
             [
              0.1111111111111111,
              "#46039f"
             ],
             [
              0.2222222222222222,
              "#7201a8"
             ],
             [
              0.3333333333333333,
              "#9c179e"
             ],
             [
              0.4444444444444444,
              "#bd3786"
             ],
             [
              0.5555555555555556,
              "#d8576b"
             ],
             [
              0.6666666666666666,
              "#ed7953"
             ],
             [
              0.7777777777777778,
              "#fb9f3a"
             ],
             [
              0.8888888888888888,
              "#fdca26"
             ],
             [
              1,
              "#f0f921"
             ]
            ],
            "type": "histogram2dcontour"
           }
          ],
          "mesh3d": [
           {
            "colorbar": {
             "outlinewidth": 0,
             "ticks": ""
            },
            "type": "mesh3d"
           }
          ],
          "parcoords": [
           {
            "line": {
             "colorbar": {
              "outlinewidth": 0,
              "ticks": ""
             }
            },
            "type": "parcoords"
           }
          ],
          "pie": [
           {
            "automargin": true,
            "type": "pie"
           }
          ],
          "scatter": [
           {
            "fillpattern": {
             "fillmode": "overlay",
             "size": 10,
             "solidity": 0.2
            },
            "type": "scatter"
           }
          ],
          "scatter3d": [
           {
            "line": {
             "colorbar": {
              "outlinewidth": 0,
              "ticks": ""
             }
            },
            "marker": {
             "colorbar": {
              "outlinewidth": 0,
              "ticks": ""
             }
            },
            "type": "scatter3d"
           }
          ],
          "scattercarpet": [
           {
            "marker": {
             "colorbar": {
              "outlinewidth": 0,
              "ticks": ""
             }
            },
            "type": "scattercarpet"
           }
          ],
          "scattergeo": [
           {
            "marker": {
             "colorbar": {
              "outlinewidth": 0,
              "ticks": ""
             }
            },
            "type": "scattergeo"
           }
          ],
          "scattergl": [
           {
            "marker": {
             "colorbar": {
              "outlinewidth": 0,
              "ticks": ""
             }
            },
            "type": "scattergl"
           }
          ],
          "scattermapbox": [
           {
            "marker": {
             "colorbar": {
              "outlinewidth": 0,
              "ticks": ""
             }
            },
            "type": "scattermapbox"
           }
          ],
          "scatterpolar": [
           {
            "marker": {
             "colorbar": {
              "outlinewidth": 0,
              "ticks": ""
             }
            },
            "type": "scatterpolar"
           }
          ],
          "scatterpolargl": [
           {
            "marker": {
             "colorbar": {
              "outlinewidth": 0,
              "ticks": ""
             }
            },
            "type": "scatterpolargl"
           }
          ],
          "scatterternary": [
           {
            "marker": {
             "colorbar": {
              "outlinewidth": 0,
              "ticks": ""
             }
            },
            "type": "scatterternary"
           }
          ],
          "surface": [
           {
            "colorbar": {
             "outlinewidth": 0,
             "ticks": ""
            },
            "colorscale": [
             [
              0,
              "#0d0887"
             ],
             [
              0.1111111111111111,
              "#46039f"
             ],
             [
              0.2222222222222222,
              "#7201a8"
             ],
             [
              0.3333333333333333,
              "#9c179e"
             ],
             [
              0.4444444444444444,
              "#bd3786"
             ],
             [
              0.5555555555555556,
              "#d8576b"
             ],
             [
              0.6666666666666666,
              "#ed7953"
             ],
             [
              0.7777777777777778,
              "#fb9f3a"
             ],
             [
              0.8888888888888888,
              "#fdca26"
             ],
             [
              1,
              "#f0f921"
             ]
            ],
            "type": "surface"
           }
          ],
          "table": [
           {
            "cells": {
             "fill": {
              "color": "#EBF0F8"
             },
             "line": {
              "color": "white"
             }
            },
            "header": {
             "fill": {
              "color": "#C8D4E3"
             },
             "line": {
              "color": "white"
             }
            },
            "type": "table"
           }
          ]
         },
         "layout": {
          "annotationdefaults": {
           "arrowcolor": "#2a3f5f",
           "arrowhead": 0,
           "arrowwidth": 1
          },
          "autotypenumbers": "strict",
          "coloraxis": {
           "colorbar": {
            "outlinewidth": 0,
            "ticks": ""
           }
          },
          "colorscale": {
           "diverging": [
            [
             0,
             "#8e0152"
            ],
            [
             0.1,
             "#c51b7d"
            ],
            [
             0.2,
             "#de77ae"
            ],
            [
             0.3,
             "#f1b6da"
            ],
            [
             0.4,
             "#fde0ef"
            ],
            [
             0.5,
             "#f7f7f7"
            ],
            [
             0.6,
             "#e6f5d0"
            ],
            [
             0.7,
             "#b8e186"
            ],
            [
             0.8,
             "#7fbc41"
            ],
            [
             0.9,
             "#4d9221"
            ],
            [
             1,
             "#276419"
            ]
           ],
           "sequential": [
            [
             0,
             "#0d0887"
            ],
            [
             0.1111111111111111,
             "#46039f"
            ],
            [
             0.2222222222222222,
             "#7201a8"
            ],
            [
             0.3333333333333333,
             "#9c179e"
            ],
            [
             0.4444444444444444,
             "#bd3786"
            ],
            [
             0.5555555555555556,
             "#d8576b"
            ],
            [
             0.6666666666666666,
             "#ed7953"
            ],
            [
             0.7777777777777778,
             "#fb9f3a"
            ],
            [
             0.8888888888888888,
             "#fdca26"
            ],
            [
             1,
             "#f0f921"
            ]
           ],
           "sequentialminus": [
            [
             0,
             "#0d0887"
            ],
            [
             0.1111111111111111,
             "#46039f"
            ],
            [
             0.2222222222222222,
             "#7201a8"
            ],
            [
             0.3333333333333333,
             "#9c179e"
            ],
            [
             0.4444444444444444,
             "#bd3786"
            ],
            [
             0.5555555555555556,
             "#d8576b"
            ],
            [
             0.6666666666666666,
             "#ed7953"
            ],
            [
             0.7777777777777778,
             "#fb9f3a"
            ],
            [
             0.8888888888888888,
             "#fdca26"
            ],
            [
             1,
             "#f0f921"
            ]
           ]
          },
          "colorway": [
           "#636efa",
           "#EF553B",
           "#00cc96",
           "#ab63fa",
           "#FFA15A",
           "#19d3f3",
           "#FF6692",
           "#B6E880",
           "#FF97FF",
           "#FECB52"
          ],
          "font": {
           "color": "#2a3f5f"
          },
          "geo": {
           "bgcolor": "white",
           "lakecolor": "white",
           "landcolor": "#E5ECF6",
           "showlakes": true,
           "showland": true,
           "subunitcolor": "white"
          },
          "hoverlabel": {
           "align": "left"
          },
          "hovermode": "closest",
          "mapbox": {
           "style": "light"
          },
          "paper_bgcolor": "white",
          "plot_bgcolor": "#E5ECF6",
          "polar": {
           "angularaxis": {
            "gridcolor": "white",
            "linecolor": "white",
            "ticks": ""
           },
           "bgcolor": "#E5ECF6",
           "radialaxis": {
            "gridcolor": "white",
            "linecolor": "white",
            "ticks": ""
           }
          },
          "scene": {
           "xaxis": {
            "backgroundcolor": "#E5ECF6",
            "gridcolor": "white",
            "gridwidth": 2,
            "linecolor": "white",
            "showbackground": true,
            "ticks": "",
            "zerolinecolor": "white"
           },
           "yaxis": {
            "backgroundcolor": "#E5ECF6",
            "gridcolor": "white",
            "gridwidth": 2,
            "linecolor": "white",
            "showbackground": true,
            "ticks": "",
            "zerolinecolor": "white"
           },
           "zaxis": {
            "backgroundcolor": "#E5ECF6",
            "gridcolor": "white",
            "gridwidth": 2,
            "linecolor": "white",
            "showbackground": true,
            "ticks": "",
            "zerolinecolor": "white"
           }
          },
          "shapedefaults": {
           "line": {
            "color": "#2a3f5f"
           }
          },
          "ternary": {
           "aaxis": {
            "gridcolor": "white",
            "linecolor": "white",
            "ticks": ""
           },
           "baxis": {
            "gridcolor": "white",
            "linecolor": "white",
            "ticks": ""
           },
           "bgcolor": "#E5ECF6",
           "caxis": {
            "gridcolor": "white",
            "linecolor": "white",
            "ticks": ""
           }
          },
          "title": {
           "x": 0.05
          },
          "xaxis": {
           "automargin": true,
           "gridcolor": "white",
           "linecolor": "white",
           "ticks": "",
           "title": {
            "standoff": 15
           },
           "zerolinecolor": "white",
           "zerolinewidth": 2
          },
          "yaxis": {
           "automargin": true,
           "gridcolor": "white",
           "linecolor": "white",
           "ticks": "",
           "title": {
            "standoff": 15
           },
           "zerolinecolor": "white",
           "zerolinewidth": 2
          }
         }
        },
        "title": {
         "text": "Sankey Diagram"
        }
       }
      }
     },
     "metadata": {},
     "output_type": "display_data"
    }
   ],
   "source": [
    " # Generate the Sankey diagram using the processed results\n",
    "fig_ch = plot_sankey(KPI_ch)\n",
    "fig_qc = plot_sankey(KPI_qc)\n",
    "\n",
    "# Display the generated Sankey diagram in the output\n",
    "fig_ch.show()\n",
    "fig_qc.show()\n"
   ]
  },
  {
   "cell_type": "markdown",
   "metadata": {},
   "source": [
    "## Multirun"
   ]
  },
  {
   "cell_type": "code",
   "execution_count": 6,
   "metadata": {
    "ExecuteTime": {
     "end_time": "2024-10-01T13:07:56.717309Z",
     "start_time": "2024-10-01T13:07:56.705509Z"
    }
   },
   "outputs": [
    {
     "data": {
      "text/html": [
       "<div>\n",
       "<style scoped>\n",
       "    .dataframe tbody tr th:only-of-type {\n",
       "        vertical-align: middle;\n",
       "    }\n",
       "\n",
       "    .dataframe tbody tr th {\n",
       "        vertical-align: top;\n",
       "    }\n",
       "\n",
       "    .dataframe thead th {\n",
       "        text-align: right;\n",
       "    }\n",
       "</style>\n",
       "<table border=\"1\" class=\"dataframe\">\n",
       "  <thead>\n",
       "    <tr style=\"text-align: right;\">\n",
       "      <th></th>\n",
       "      <th>param</th>\n",
       "      <th>index0</th>\n",
       "      <th>index1</th>\n",
       "      <th>index2</th>\n",
       "      <th>index3</th>\n",
       "      <th>value1</th>\n",
       "      <th>value2</th>\n",
       "      <th>value3</th>\n",
       "      <th>value4</th>\n",
       "      <th>value5</th>\n",
       "      <th>value6</th>\n",
       "    </tr>\n",
       "  </thead>\n",
       "  <tbody>\n",
       "    <tr>\n",
       "      <th>0</th>\n",
       "      <td>f_min</td>\n",
       "      <td>PV_LV</td>\n",
       "      <td>None</td>\n",
       "      <td>None</td>\n",
       "      <td>None</td>\n",
       "      <td>0.0</td>\n",
       "      <td>10.0</td>\n",
       "      <td>20.0</td>\n",
       "      <td>30.0</td>\n",
       "      <td>40.0</td>\n",
       "      <td>50.0</td>\n",
       "    </tr>\n",
       "    <tr>\n",
       "      <th>1</th>\n",
       "      <td>f_max</td>\n",
       "      <td>PV_LV</td>\n",
       "      <td>None</td>\n",
       "      <td>None</td>\n",
       "      <td>None</td>\n",
       "      <td>0.0</td>\n",
       "      <td>10.0</td>\n",
       "      <td>20.0</td>\n",
       "      <td>30.0</td>\n",
       "      <td>40.0</td>\n",
       "      <td>50.0</td>\n",
       "    </tr>\n",
       "  </tbody>\n",
       "</table>\n",
       "</div>"
      ],
      "text/plain": [
       "   param index0 index1 index2 index3  value1  value2  value3  value4  value5  \\\n",
       "0  f_min  PV_LV   None   None   None     0.0    10.0    20.0    30.0    40.0   \n",
       "1  f_max  PV_LV   None   None   None     0.0    10.0    20.0    30.0    40.0   \n",
       "\n",
       "   value6  \n",
       "0    50.0  \n",
       "1    50.0  "
      ]
     },
     "metadata": {},
     "output_type": "display_data"
    }
   ],
   "source": [
    "from energyscope.datasets import parametrize_params\n",
    "\n",
    "params = [\n",
    "    {'param': 'f_min', 'min_val': 0, 'max_val': 50, 'index0': 'PV_LV'},\n",
    "    {'param': 'f_max', 'min_val': 0, 'max_val': 50, 'index0': 'PV_LV'}\n",
    "]\n",
    "\n",
    "seq_data = parametrize_params(params=params, n_steps=6)\n",
    "display(seq_data)"
   ]
  },
  {
   "cell_type": "code",
   "execution_count": 7,
   "metadata": {
    "ExecuteTime": {
     "end_time": "2024-10-01T13:08:11.185673Z",
     "start_time": "2024-10-01T13:07:58.945745Z"
    }
   },
   "outputs": [
    {
     "name": "stdout",
     "output_type": "stream",
     "text": [
      "Gurobi 11.0.0:Gurobi 11.0.0: optimal solution; objective 8151.373244\n",
      "6079 simplex iteration(s)\n",
      "1 branching node(s)\n",
      "absmipgap=0.102405, relmipgap=1.25629e-05\n",
      "Gurobi 11.0.0:Gurobi 11.0.0: optimal solution; objective 8151.373244\n",
      "9276 simplex iteration(s)\n",
      "1 branching node(s)\n",
      "absmipgap=0.102405, relmipgap=1.25629e-05\n",
      "1\n",
      "Gurobi 11.0.0:Gurobi 11.0.0: optimal solution; objective 8288.992921\n",
      "5751 simplex iteration(s)\n",
      "1 branching node(s)\n",
      "absmipgap=0.0912245, relmipgap=1.10055e-05\n",
      "2\n",
      "Gurobi 11.0.0:Gurobi 11.0.0: optimal solution; objective 8475.459734\n",
      "7912 simplex iteration(s)\n",
      "1 branching node(s)\n",
      "absmipgap=0.182905, relmipgap=2.15806e-05\n",
      "3\n",
      "Gurobi 11.0.0:Gurobi 11.0.0: optimal solution; objective 8708.840712\n",
      "5571 simplex iteration(s)\n",
      "1 branching node(s)\n",
      "absmipgap=0.122101, relmipgap=1.40204e-05\n",
      "4\n",
      "Gurobi 11.0.0:Gurobi 11.0.0: optimal solution; objective 9007.6033\n",
      "6492 simplex iteration(s)\n",
      "1 branching node(s)\n",
      "absmipgap=0.14857, relmipgap=1.64939e-05\n",
      "5\n",
      "Gurobi 11.0.0:Gurobi 11.0.0: optimal solution; objective 9375.162633\n",
      "4556 simplex iteration(s)\n",
      "1 branching node(s)\n",
      "absmipgap=0.183873, relmipgap=1.96128e-05\n",
      "6\n"
     ]
    }
   ],
   "source": [
    "\n",
    "\n",
    "# Run n optimizations based on parameter changed in seq_data\n",
    "results_ch_n = es_model_ch.calc_sequence(seq_data)\n",
    "# Postcompute KPIs\n",
    "KPI_ch_n = postprocessing(results_ch_n)"
   ]
  },
  {
   "cell_type": "code",
   "execution_count": 8,
   "metadata": {
    "ExecuteTime": {
     "end_time": "2024-10-01T13:08:27.182269Z",
     "start_time": "2024-10-01T13:08:27.069859Z"
    }
   },
   "outputs": [
    {
     "data": {
      "application/vnd.plotly.v1+json": {
       "config": {
        "plotlyServerURL": "https://plot.ly"
       },
       "data": [
        {
         "link": {
          "color": [
           "rgba(181, 31, 31, 0.50)",
           "rgba(181, 31, 31, 0.50)",
           "rgba(181, 31, 31, 0.50)",
           "rgba(181, 31, 31, 0.50)",
           "rgba(181, 31, 31, 0.50)",
           "rgba(181, 31, 31, 0.50)",
           "rgba(255, 225, 0, 0.50)",
           "rgba(179, 123, 68, 0.50)",
           "rgba(181, 31, 31, 0.50)",
           "rgba(181, 31, 31, 0.50)",
           "rgba(181, 31, 31, 0.50)",
           "rgba(181, 31, 31, 0.50)",
           "rgba(0, 0, 0, 0.50)",
           "rgba(0, 206, 209, 0.50)",
           "rgba(0, 206, 209, 0.50)",
           "rgba(0, 0, 255, 0.50)",
           "rgba(250, 128, 114, 0.50)",
           "rgba(250, 128, 114, 0.50)",
           "rgba(250, 128, 114, 0.50)",
           "rgba(0, 206, 209, 0.50)",
           "rgba(0, 0, 0, 0.50)",
           "rgba(0, 0, 0, 0.50)",
           "rgba(0, 0, 0, 0.50)",
           "rgba(0, 0, 0, 0.50)",
           "rgba(0, 0, 0, 0.50)",
           "rgba(0, 0, 0, 0.50)",
           "rgba(0, 191, 255, 0.50)",
           "rgba(0, 191, 255, 0.50)",
           "rgba(0, 191, 255, 0.50)",
           "rgba(0, 191, 255, 0.50)",
           "rgba(0, 191, 255, 0.50)",
           "rgba(0, 191, 255, 0.50)",
           "rgba(0, 191, 255, 0.50)",
           "rgba(0, 191, 255, 0.50)",
           "rgba(0, 191, 255, 0.50)",
           "rgba(0, 191, 255, 0.50)",
           "rgba(0, 191, 255, 0.50)",
           "rgba(0, 191, 255, 0.50)",
           "rgba(0, 191, 255, 0.50)",
           "rgba(0, 191, 255, 0.50)",
           "rgba(0, 191, 255, 0.50)",
           "rgba(0, 191, 255, 0.50)",
           "rgba(0, 191, 255, 0.50)",
           "rgba(0, 191, 255, 0.50)",
           "rgba(0, 191, 255, 0.50)",
           "rgba(0, 191, 255, 0.50)",
           "rgba(255, 215, 0, 0.50)",
           "rgba(255, 215, 0, 0.50)",
           "rgba(255, 215, 0, 0.50)",
           "rgba(255, 215, 0, 0.50)",
           "rgba(255, 215, 0, 0.50)",
           "rgba(255, 225, 0, 0.50)",
           "rgba(255, 215, 0, 0.50)",
           "rgba(255, 215, 0, 0.50)"
          ],
          "label": [
           38550.932459353906,
           6424.286644080812,
           18011.504057888727,
           0.00042603046098640886,
           434.2008719999995,
           434.2008719999995,
           5284.745762711872,
           12471.999999999998,
           5179.015334041355,
           1692.2930872000004,
           3083.9927009988296,
           6967.629749759814,
           6424.286644080812,
           16122.6096,
           16580.16,
           33538.45568341781,
           6853.248580159599,
           2063.7514198404006,
           8917,
           12472.000000000016,
           520.5841569600001,
           4239.54083000002,
           1151.9683202999995,
           1463.2592,
           2762.8508495,
           612.1908000001551,
           0.041055974713321175,
           6967.629749759814,
           12849.025788702656,
           1.1841405109068164e-9,
           4502.876014472182,
           16580.16,
           211.3898305084749,
           16122.6096,
           1370.52635632388,
           5268.860515296454,
           9910.8,
           33538.45568341781,
           8895.76,
           25871.84,
           7403.6,
           520.5841569600001,
           4239.54083000002,
           1151.9683202999995,
           4226.1100495,
           612.1908000001551,
           310.1798059168183,
           0.07851585660150255,
           5284.667246855799,
           310.1798059168182,
           310.1798059168183,
           5284.745762711872,
           5284.745762711872,
           310.1798059168182
          ],
          "source": [
           15,
           7,
           15,
           27,
           13,
           16,
           18,
           20,
           0,
           0,
           4,
           8,
           28,
           29,
           29,
           30,
           36,
           36,
           37,
           38,
           1,
           2,
           5,
           34,
           34,
           35,
           3,
           9,
           9,
           9,
           9,
           17,
           18,
           19,
           4,
           26,
           26,
           39,
           9,
           9,
           9,
           9,
           9,
           9,
           9,
           9,
           23,
           23,
           23,
           24,
           25,
           31,
           32,
           33
          ],
          "target": [
           14,
           14,
           14,
           14,
           16,
           14,
           31,
           38,
           13,
           13,
           13,
           13,
           7,
           19,
           17,
           39,
           4,
           0,
           36,
           18,
           22,
           22,
           22,
           21,
           22,
           21,
           9,
           8,
           15,
           6,
           15,
           9,
           9,
           9,
           9,
           9,
           9,
           9,
           10,
           11,
           12,
           1,
           2,
           5,
           34,
           35,
           25,
           3,
           0,
           33,
           24,
           32,
           23,
           23
          ],
          "value": [
           38550.932459353906,
           6424.286644080812,
           18011.504057888727,
           0.00042603046098640886,
           434.2008719999995,
           434.2008719999995,
           5284.745762711872,
           12471.999999999998,
           5179.015334041355,
           1692.2930872000004,
           3083.9927009988296,
           6967.629749759814,
           6424.286644080812,
           16122.6096,
           16580.16,
           33538.45568341781,
           6853.248580159599,
           2063.7514198404006,
           8917,
           12472.000000000016,
           520.5841569600001,
           4239.54083000002,
           1151.9683202999995,
           1463.2592,
           2762.8508495,
           612.1908000001551,
           0.041055974713321175,
           6967.629749759814,
           12849.025788702656,
           1.1841405109068164e-9,
           4502.876014472182,
           16580.16,
           211.3898305084749,
           16122.6096,
           1370.52635632388,
           5268.860515296454,
           9910.8,
           33538.45568341781,
           8895.76,
           25871.84,
           7403.6,
           520.5841569600001,
           4239.54083000002,
           1151.9683202999995,
           4226.1100495,
           612.1908000001551,
           310.1798059168183,
           0.07851585660150255,
           5284.667246855799,
           310.1798059168182,
           310.1798059168183,
           5284.745762711872,
           5284.745762711872,
           310.1798059168182
          ]
         },
         "node": {
          "color": "#DCDCDC",
          "label": [
           "BOILER",
           "BUS",
           "CAR",
           "CCGT_CC",
           "COGEN",
           "COMMUTER",
           "DEEP_SALINE",
           "DHN_DEEP_GEO",
           "DIRECT_ELEC",
           "ELECTRICITY",
           "EUD_ELECTRICITY_HV",
           "EUD_ELECTRICITY_LV",
           "EUD_ELECTRICITY_MV",
           "HEAT_HIGH_T",
           "HEAT_LOW_T",
           "HP",
           "HT_LT",
           "HYDRO_DAM",
           "HYDRO_GAS",
           "HYDRO_RIVER",
           "IMP_WET_BIOMASS",
           "MOBILITY",
           "MOBILITY_PASSENGER",
           "NG",
           "NG_S",
           "NG_STO",
           "PV",
           "RENOVATION",
           "RES_GEO",
           "RES_HYDRO",
           "RES_WIND",
           "SNG",
           "SNG_NG",
           "STO_NG",
           "TRAIN",
           "TRUCK",
           "WASTE",
           "WASTE_BIO",
           "WET_BIOMASS",
           "WIND"
          ],
          "line": {
           "color": "black",
           "width": 0.5
          },
          "pad": 15,
          "thickness": 15
         },
         "type": "sankey",
         "valueformat": ".0f",
         "valuesuffix": ""
        }
       ],
       "layout": {
        "font": {
         "color": "black",
         "size": 10
        },
        "template": {
         "data": {
          "bar": [
           {
            "error_x": {
             "color": "#2a3f5f"
            },
            "error_y": {
             "color": "#2a3f5f"
            },
            "marker": {
             "line": {
              "color": "#E5ECF6",
              "width": 0.5
             },
             "pattern": {
              "fillmode": "overlay",
              "size": 10,
              "solidity": 0.2
             }
            },
            "type": "bar"
           }
          ],
          "barpolar": [
           {
            "marker": {
             "line": {
              "color": "#E5ECF6",
              "width": 0.5
             },
             "pattern": {
              "fillmode": "overlay",
              "size": 10,
              "solidity": 0.2
             }
            },
            "type": "barpolar"
           }
          ],
          "carpet": [
           {
            "aaxis": {
             "endlinecolor": "#2a3f5f",
             "gridcolor": "white",
             "linecolor": "white",
             "minorgridcolor": "white",
             "startlinecolor": "#2a3f5f"
            },
            "baxis": {
             "endlinecolor": "#2a3f5f",
             "gridcolor": "white",
             "linecolor": "white",
             "minorgridcolor": "white",
             "startlinecolor": "#2a3f5f"
            },
            "type": "carpet"
           }
          ],
          "choropleth": [
           {
            "colorbar": {
             "outlinewidth": 0,
             "ticks": ""
            },
            "type": "choropleth"
           }
          ],
          "contour": [
           {
            "colorbar": {
             "outlinewidth": 0,
             "ticks": ""
            },
            "colorscale": [
             [
              0,
              "#0d0887"
             ],
             [
              0.1111111111111111,
              "#46039f"
             ],
             [
              0.2222222222222222,
              "#7201a8"
             ],
             [
              0.3333333333333333,
              "#9c179e"
             ],
             [
              0.4444444444444444,
              "#bd3786"
             ],
             [
              0.5555555555555556,
              "#d8576b"
             ],
             [
              0.6666666666666666,
              "#ed7953"
             ],
             [
              0.7777777777777778,
              "#fb9f3a"
             ],
             [
              0.8888888888888888,
              "#fdca26"
             ],
             [
              1,
              "#f0f921"
             ]
            ],
            "type": "contour"
           }
          ],
          "contourcarpet": [
           {
            "colorbar": {
             "outlinewidth": 0,
             "ticks": ""
            },
            "type": "contourcarpet"
           }
          ],
          "heatmap": [
           {
            "colorbar": {
             "outlinewidth": 0,
             "ticks": ""
            },
            "colorscale": [
             [
              0,
              "#0d0887"
             ],
             [
              0.1111111111111111,
              "#46039f"
             ],
             [
              0.2222222222222222,
              "#7201a8"
             ],
             [
              0.3333333333333333,
              "#9c179e"
             ],
             [
              0.4444444444444444,
              "#bd3786"
             ],
             [
              0.5555555555555556,
              "#d8576b"
             ],
             [
              0.6666666666666666,
              "#ed7953"
             ],
             [
              0.7777777777777778,
              "#fb9f3a"
             ],
             [
              0.8888888888888888,
              "#fdca26"
             ],
             [
              1,
              "#f0f921"
             ]
            ],
            "type": "heatmap"
           }
          ],
          "heatmapgl": [
           {
            "colorbar": {
             "outlinewidth": 0,
             "ticks": ""
            },
            "colorscale": [
             [
              0,
              "#0d0887"
             ],
             [
              0.1111111111111111,
              "#46039f"
             ],
             [
              0.2222222222222222,
              "#7201a8"
             ],
             [
              0.3333333333333333,
              "#9c179e"
             ],
             [
              0.4444444444444444,
              "#bd3786"
             ],
             [
              0.5555555555555556,
              "#d8576b"
             ],
             [
              0.6666666666666666,
              "#ed7953"
             ],
             [
              0.7777777777777778,
              "#fb9f3a"
             ],
             [
              0.8888888888888888,
              "#fdca26"
             ],
             [
              1,
              "#f0f921"
             ]
            ],
            "type": "heatmapgl"
           }
          ],
          "histogram": [
           {
            "marker": {
             "pattern": {
              "fillmode": "overlay",
              "size": 10,
              "solidity": 0.2
             }
            },
            "type": "histogram"
           }
          ],
          "histogram2d": [
           {
            "colorbar": {
             "outlinewidth": 0,
             "ticks": ""
            },
            "colorscale": [
             [
              0,
              "#0d0887"
             ],
             [
              0.1111111111111111,
              "#46039f"
             ],
             [
              0.2222222222222222,
              "#7201a8"
             ],
             [
              0.3333333333333333,
              "#9c179e"
             ],
             [
              0.4444444444444444,
              "#bd3786"
             ],
             [
              0.5555555555555556,
              "#d8576b"
             ],
             [
              0.6666666666666666,
              "#ed7953"
             ],
             [
              0.7777777777777778,
              "#fb9f3a"
             ],
             [
              0.8888888888888888,
              "#fdca26"
             ],
             [
              1,
              "#f0f921"
             ]
            ],
            "type": "histogram2d"
           }
          ],
          "histogram2dcontour": [
           {
            "colorbar": {
             "outlinewidth": 0,
             "ticks": ""
            },
            "colorscale": [
             [
              0,
              "#0d0887"
             ],
             [
              0.1111111111111111,
              "#46039f"
             ],
             [
              0.2222222222222222,
              "#7201a8"
             ],
             [
              0.3333333333333333,
              "#9c179e"
             ],
             [
              0.4444444444444444,
              "#bd3786"
             ],
             [
              0.5555555555555556,
              "#d8576b"
             ],
             [
              0.6666666666666666,
              "#ed7953"
             ],
             [
              0.7777777777777778,
              "#fb9f3a"
             ],
             [
              0.8888888888888888,
              "#fdca26"
             ],
             [
              1,
              "#f0f921"
             ]
            ],
            "type": "histogram2dcontour"
           }
          ],
          "mesh3d": [
           {
            "colorbar": {
             "outlinewidth": 0,
             "ticks": ""
            },
            "type": "mesh3d"
           }
          ],
          "parcoords": [
           {
            "line": {
             "colorbar": {
              "outlinewidth": 0,
              "ticks": ""
             }
            },
            "type": "parcoords"
           }
          ],
          "pie": [
           {
            "automargin": true,
            "type": "pie"
           }
          ],
          "scatter": [
           {
            "fillpattern": {
             "fillmode": "overlay",
             "size": 10,
             "solidity": 0.2
            },
            "type": "scatter"
           }
          ],
          "scatter3d": [
           {
            "line": {
             "colorbar": {
              "outlinewidth": 0,
              "ticks": ""
             }
            },
            "marker": {
             "colorbar": {
              "outlinewidth": 0,
              "ticks": ""
             }
            },
            "type": "scatter3d"
           }
          ],
          "scattercarpet": [
           {
            "marker": {
             "colorbar": {
              "outlinewidth": 0,
              "ticks": ""
             }
            },
            "type": "scattercarpet"
           }
          ],
          "scattergeo": [
           {
            "marker": {
             "colorbar": {
              "outlinewidth": 0,
              "ticks": ""
             }
            },
            "type": "scattergeo"
           }
          ],
          "scattergl": [
           {
            "marker": {
             "colorbar": {
              "outlinewidth": 0,
              "ticks": ""
             }
            },
            "type": "scattergl"
           }
          ],
          "scattermapbox": [
           {
            "marker": {
             "colorbar": {
              "outlinewidth": 0,
              "ticks": ""
             }
            },
            "type": "scattermapbox"
           }
          ],
          "scatterpolar": [
           {
            "marker": {
             "colorbar": {
              "outlinewidth": 0,
              "ticks": ""
             }
            },
            "type": "scatterpolar"
           }
          ],
          "scatterpolargl": [
           {
            "marker": {
             "colorbar": {
              "outlinewidth": 0,
              "ticks": ""
             }
            },
            "type": "scatterpolargl"
           }
          ],
          "scatterternary": [
           {
            "marker": {
             "colorbar": {
              "outlinewidth": 0,
              "ticks": ""
             }
            },
            "type": "scatterternary"
           }
          ],
          "surface": [
           {
            "colorbar": {
             "outlinewidth": 0,
             "ticks": ""
            },
            "colorscale": [
             [
              0,
              "#0d0887"
             ],
             [
              0.1111111111111111,
              "#46039f"
             ],
             [
              0.2222222222222222,
              "#7201a8"
             ],
             [
              0.3333333333333333,
              "#9c179e"
             ],
             [
              0.4444444444444444,
              "#bd3786"
             ],
             [
              0.5555555555555556,
              "#d8576b"
             ],
             [
              0.6666666666666666,
              "#ed7953"
             ],
             [
              0.7777777777777778,
              "#fb9f3a"
             ],
             [
              0.8888888888888888,
              "#fdca26"
             ],
             [
              1,
              "#f0f921"
             ]
            ],
            "type": "surface"
           }
          ],
          "table": [
           {
            "cells": {
             "fill": {
              "color": "#EBF0F8"
             },
             "line": {
              "color": "white"
             }
            },
            "header": {
             "fill": {
              "color": "#C8D4E3"
             },
             "line": {
              "color": "white"
             }
            },
            "type": "table"
           }
          ]
         },
         "layout": {
          "annotationdefaults": {
           "arrowcolor": "#2a3f5f",
           "arrowhead": 0,
           "arrowwidth": 1
          },
          "autotypenumbers": "strict",
          "coloraxis": {
           "colorbar": {
            "outlinewidth": 0,
            "ticks": ""
           }
          },
          "colorscale": {
           "diverging": [
            [
             0,
             "#8e0152"
            ],
            [
             0.1,
             "#c51b7d"
            ],
            [
             0.2,
             "#de77ae"
            ],
            [
             0.3,
             "#f1b6da"
            ],
            [
             0.4,
             "#fde0ef"
            ],
            [
             0.5,
             "#f7f7f7"
            ],
            [
             0.6,
             "#e6f5d0"
            ],
            [
             0.7,
             "#b8e186"
            ],
            [
             0.8,
             "#7fbc41"
            ],
            [
             0.9,
             "#4d9221"
            ],
            [
             1,
             "#276419"
            ]
           ],
           "sequential": [
            [
             0,
             "#0d0887"
            ],
            [
             0.1111111111111111,
             "#46039f"
            ],
            [
             0.2222222222222222,
             "#7201a8"
            ],
            [
             0.3333333333333333,
             "#9c179e"
            ],
            [
             0.4444444444444444,
             "#bd3786"
            ],
            [
             0.5555555555555556,
             "#d8576b"
            ],
            [
             0.6666666666666666,
             "#ed7953"
            ],
            [
             0.7777777777777778,
             "#fb9f3a"
            ],
            [
             0.8888888888888888,
             "#fdca26"
            ],
            [
             1,
             "#f0f921"
            ]
           ],
           "sequentialminus": [
            [
             0,
             "#0d0887"
            ],
            [
             0.1111111111111111,
             "#46039f"
            ],
            [
             0.2222222222222222,
             "#7201a8"
            ],
            [
             0.3333333333333333,
             "#9c179e"
            ],
            [
             0.4444444444444444,
             "#bd3786"
            ],
            [
             0.5555555555555556,
             "#d8576b"
            ],
            [
             0.6666666666666666,
             "#ed7953"
            ],
            [
             0.7777777777777778,
             "#fb9f3a"
            ],
            [
             0.8888888888888888,
             "#fdca26"
            ],
            [
             1,
             "#f0f921"
            ]
           ]
          },
          "colorway": [
           "#636efa",
           "#EF553B",
           "#00cc96",
           "#ab63fa",
           "#FFA15A",
           "#19d3f3",
           "#FF6692",
           "#B6E880",
           "#FF97FF",
           "#FECB52"
          ],
          "font": {
           "color": "#2a3f5f"
          },
          "geo": {
           "bgcolor": "white",
           "lakecolor": "white",
           "landcolor": "#E5ECF6",
           "showlakes": true,
           "showland": true,
           "subunitcolor": "white"
          },
          "hoverlabel": {
           "align": "left"
          },
          "hovermode": "closest",
          "mapbox": {
           "style": "light"
          },
          "paper_bgcolor": "white",
          "plot_bgcolor": "#E5ECF6",
          "polar": {
           "angularaxis": {
            "gridcolor": "white",
            "linecolor": "white",
            "ticks": ""
           },
           "bgcolor": "#E5ECF6",
           "radialaxis": {
            "gridcolor": "white",
            "linecolor": "white",
            "ticks": ""
           }
          },
          "scene": {
           "xaxis": {
            "backgroundcolor": "#E5ECF6",
            "gridcolor": "white",
            "gridwidth": 2,
            "linecolor": "white",
            "showbackground": true,
            "ticks": "",
            "zerolinecolor": "white"
           },
           "yaxis": {
            "backgroundcolor": "#E5ECF6",
            "gridcolor": "white",
            "gridwidth": 2,
            "linecolor": "white",
            "showbackground": true,
            "ticks": "",
            "zerolinecolor": "white"
           },
           "zaxis": {
            "backgroundcolor": "#E5ECF6",
            "gridcolor": "white",
            "gridwidth": 2,
            "linecolor": "white",
            "showbackground": true,
            "ticks": "",
            "zerolinecolor": "white"
           }
          },
          "shapedefaults": {
           "line": {
            "color": "#2a3f5f"
           }
          },
          "ternary": {
           "aaxis": {
            "gridcolor": "white",
            "linecolor": "white",
            "ticks": ""
           },
           "baxis": {
            "gridcolor": "white",
            "linecolor": "white",
            "ticks": ""
           },
           "bgcolor": "#E5ECF6",
           "caxis": {
            "gridcolor": "white",
            "linecolor": "white",
            "ticks": ""
           }
          },
          "title": {
           "x": 0.05
          },
          "xaxis": {
           "automargin": true,
           "gridcolor": "white",
           "linecolor": "white",
           "ticks": "",
           "title": {
            "standoff": 15
           },
           "zerolinecolor": "white",
           "zerolinewidth": 2
          },
          "yaxis": {
           "automargin": true,
           "gridcolor": "white",
           "linecolor": "white",
           "ticks": "",
           "title": {
            "standoff": 15
           },
           "zerolinecolor": "white",
           "zerolinewidth": 2
          }
         }
        },
        "title": {
         "text": "Sankey Diagram"
        }
       }
      }
     },
     "metadata": {},
     "output_type": "display_data"
    },
    {
     "data": {
      "application/vnd.plotly.v1+json": {
       "config": {
        "plotlyServerURL": "https://plot.ly"
       },
       "data": [
        {
         "link": {
          "color": [
           "rgba(181, 31, 31, 0.50)",
           "rgba(181, 31, 31, 0.50)",
           "rgba(181, 31, 31, 0.50)",
           "rgba(181, 31, 31, 0.50)",
           "rgba(181, 31, 31, 0.50)",
           "rgba(181, 31, 31, 0.50)",
           "rgba(181, 31, 31, 0.50)",
           "rgba(255, 225, 0, 0.50)",
           "rgba(179, 123, 68, 0.50)",
           "rgba(181, 31, 31, 0.50)",
           "rgba(181, 31, 31, 0.50)",
           "rgba(181, 31, 31, 0.50)",
           "rgba(181, 31, 31, 0.50)",
           "rgba(0, 0, 0, 0.50)",
           "rgba(0, 206, 209, 0.50)",
           "rgba(0, 206, 209, 0.50)",
           "rgba(0, 0, 0, 0.50)",
           "rgba(0, 0, 255, 0.50)",
           "rgba(250, 128, 114, 0.50)",
           "rgba(250, 128, 114, 0.50)",
           "rgba(250, 128, 114, 0.50)",
           "rgba(0, 206, 209, 0.50)",
           "rgba(0, 0, 0, 0.50)",
           "rgba(0, 0, 0, 0.50)",
           "rgba(0, 0, 0, 0.50)",
           "rgba(0, 0, 0, 0.50)",
           "rgba(0, 0, 0, 0.50)",
           "rgba(0, 0, 0, 0.50)",
           "rgba(0, 191, 255, 0.50)",
           "rgba(0, 191, 255, 0.50)",
           "rgba(0, 191, 255, 0.50)",
           "rgba(0, 191, 255, 0.50)",
           "rgba(0, 191, 255, 0.50)",
           "rgba(0, 191, 255, 0.50)",
           "rgba(0, 191, 255, 0.50)",
           "rgba(0, 191, 255, 0.50)",
           "rgba(0, 191, 255, 0.50)",
           "rgba(0, 191, 255, 0.50)",
           "rgba(0, 191, 255, 0.50)",
           "rgba(0, 191, 255, 0.50)",
           "rgba(0, 191, 255, 0.50)",
           "rgba(0, 191, 255, 0.50)",
           "rgba(0, 191, 255, 0.50)",
           "rgba(0, 191, 255, 0.50)",
           "rgba(0, 191, 255, 0.50)",
           "rgba(0, 191, 255, 0.50)",
           "rgba(0, 191, 255, 0.50)",
           "rgba(0, 191, 255, 0.50)",
           "rgba(0, 191, 255, 0.50)",
           "rgba(255, 215, 0, 0.50)",
           "rgba(255, 215, 0, 0.50)",
           "rgba(255, 215, 0, 0.50)",
           "rgba(255, 215, 0, 0.50)",
           "rgba(255, 215, 0, 0.50)",
           "rgba(255, 215, 0, 0.50)",
           "rgba(255, 225, 0, 0.50)",
           "rgba(255, 215, 0, 0.50)",
           "rgba(255, 215, 0, 0.50)"
          ],
          "label": [
           38398.82063497445,
           156.24292179808378,
           5835.111321003181,
           18427.93459815061,
           0.0005107775309452592,
           606.9455700686765,
           606.9455700686765,
           5284.745762711865,
           12472.000000000002,
           5076.9301498069835,
           1709.567557006868,
           3074.5128090316452,
           7234.665054223178,
           5835.111321003181,
           15867.307767204944,
           16580.16,
           436.09707193810317,
           14454.356109200657,
           6832.182364230122,
           2084.817635769876,
           8916.999999999998,
           12472,
           4239.54083,
           520.5841569599947,
           1463.2592,
           1994.871969300007,
           3460.929904499985,
           612.1907999999947,
           0.04135195174485532,
           7234.665054223178,
           12798.326917636983,
           4606.983649537652,
           1.1926771274202914e-9,
           16580.16,
           211.38983050847457,
           15867.307767204944,
           1366.3134923336634,
           436.09707193810317,
           594.0873019795964,
           37798.59291780652,
           14454.356109200657,
           8895.76,
           25871.84,
           7403.6,
           4239.54083,
           520.5841569599947,
           3458.131169300007,
           3460.929904499985,
           612.1907999999947,
           2361.230659814206,
           0.07908188603637877,
           104.16715596278245,
           5180.499524863046,
           2361.230659814207,
           2361.230659814206,
           5284.745762711865,
           5284.745762711865,
           2361.230659814207
          ],
          "source": [
           14,
           14,
           6,
           14,
           27,
           12,
           15,
           17,
           19,
           0,
           0,
           4,
           7,
           28,
           29,
           29,
           29,
           30,
           37,
           37,
           38,
           39,
           1,
           3,
           34,
           34,
           35,
           36,
           2,
           8,
           8,
           8,
           8,
           16,
           17,
           18,
           4,
           22,
           26,
           26,
           40,
           8,
           8,
           8,
           8,
           8,
           8,
           8,
           8,
           23,
           23,
           23,
           23,
           24,
           25,
           31,
           32,
           33
          ],
          "target": [
           13,
           13,
           13,
           13,
           13,
           15,
           13,
           31,
           39,
           12,
           12,
           12,
           12,
           6,
           18,
           16,
           22,
           40,
           4,
           0,
           37,
           17,
           21,
           21,
           20,
           21,
           21,
           20,
           8,
           7,
           14,
           14,
           5,
           8,
           8,
           8,
           8,
           8,
           8,
           8,
           8,
           9,
           10,
           11,
           1,
           3,
           34,
           35,
           36,
           25,
           2,
           14,
           0,
           33,
           24,
           32,
           23,
           23
          ],
          "value": [
           38398.82063497445,
           156.24292179808378,
           5835.111321003181,
           18427.93459815061,
           0.0005107775309452592,
           606.9455700686765,
           606.9455700686765,
           5284.745762711865,
           12472.000000000002,
           5076.9301498069835,
           1709.567557006868,
           3074.5128090316452,
           7234.665054223178,
           5835.111321003181,
           15867.307767204944,
           16580.16,
           436.09707193810317,
           14454.356109200657,
           6832.182364230122,
           2084.817635769876,
           8916.999999999998,
           12472,
           4239.54083,
           520.5841569599947,
           1463.2592,
           1994.871969300007,
           3460.929904499985,
           612.1907999999947,
           0.04135195174485532,
           7234.665054223178,
           12798.326917636983,
           4606.983649537652,
           1.1926771274202914e-9,
           16580.16,
           211.38983050847457,
           15867.307767204944,
           1366.3134923336634,
           436.09707193810317,
           594.0873019795964,
           37798.59291780652,
           14454.356109200657,
           8895.76,
           25871.84,
           7403.6,
           4239.54083,
           520.5841569599947,
           3458.131169300007,
           3460.929904499985,
           612.1907999999947,
           2361.230659814206,
           0.07908188603637877,
           104.16715596278245,
           5180.499524863046,
           2361.230659814207,
           2361.230659814206,
           5284.745762711865,
           5284.745762711865,
           2361.230659814207
          ]
         },
         "node": {
          "color": "#DCDCDC",
          "label": [
           "BOILER",
           "CAR",
           "CCGT_CC",
           "COACH",
           "COGEN",
           "DEEP_SALINE",
           "DHN_DEEP_GEO",
           "DIRECT_ELEC",
           "ELECTRICITY",
           "EUD_ELECTRICITY_HV",
           "EUD_ELECTRICITY_LV",
           "EUD_ELECTRICITY_MV",
           "HEAT_HIGH_T",
           "HEAT_LOW_T",
           "HP",
           "HT_LT",
           "HYDRO_DAM",
           "HYDRO_GAS",
           "HYDRO_RIVER",
           "IMP_WET_BIOMASS",
           "MOBILITY",
           "MOBILITY_PASSENGER",
           "NEW_HYDRO_DAM",
           "NG",
           "NG_S",
           "NG_STO",
           "PV",
           "RENOVATION",
           "RES_GEO",
           "RES_HYDRO",
           "RES_WIND",
           "SNG",
           "SNG_NG",
           "STO_NG",
           "TRAIN",
           "TRAMWAY",
           "TRUCK",
           "WASTE",
           "WASTE_BIO",
           "WET_BIOMASS",
           "WIND"
          ],
          "line": {
           "color": "black",
           "width": 0.5
          },
          "pad": 15,
          "thickness": 15
         },
         "type": "sankey",
         "valueformat": ".0f",
         "valuesuffix": ""
        }
       ],
       "layout": {
        "font": {
         "color": "black",
         "size": 10
        },
        "template": {
         "data": {
          "bar": [
           {
            "error_x": {
             "color": "#2a3f5f"
            },
            "error_y": {
             "color": "#2a3f5f"
            },
            "marker": {
             "line": {
              "color": "#E5ECF6",
              "width": 0.5
             },
             "pattern": {
              "fillmode": "overlay",
              "size": 10,
              "solidity": 0.2
             }
            },
            "type": "bar"
           }
          ],
          "barpolar": [
           {
            "marker": {
             "line": {
              "color": "#E5ECF6",
              "width": 0.5
             },
             "pattern": {
              "fillmode": "overlay",
              "size": 10,
              "solidity": 0.2
             }
            },
            "type": "barpolar"
           }
          ],
          "carpet": [
           {
            "aaxis": {
             "endlinecolor": "#2a3f5f",
             "gridcolor": "white",
             "linecolor": "white",
             "minorgridcolor": "white",
             "startlinecolor": "#2a3f5f"
            },
            "baxis": {
             "endlinecolor": "#2a3f5f",
             "gridcolor": "white",
             "linecolor": "white",
             "minorgridcolor": "white",
             "startlinecolor": "#2a3f5f"
            },
            "type": "carpet"
           }
          ],
          "choropleth": [
           {
            "colorbar": {
             "outlinewidth": 0,
             "ticks": ""
            },
            "type": "choropleth"
           }
          ],
          "contour": [
           {
            "colorbar": {
             "outlinewidth": 0,
             "ticks": ""
            },
            "colorscale": [
             [
              0,
              "#0d0887"
             ],
             [
              0.1111111111111111,
              "#46039f"
             ],
             [
              0.2222222222222222,
              "#7201a8"
             ],
             [
              0.3333333333333333,
              "#9c179e"
             ],
             [
              0.4444444444444444,
              "#bd3786"
             ],
             [
              0.5555555555555556,
              "#d8576b"
             ],
             [
              0.6666666666666666,
              "#ed7953"
             ],
             [
              0.7777777777777778,
              "#fb9f3a"
             ],
             [
              0.8888888888888888,
              "#fdca26"
             ],
             [
              1,
              "#f0f921"
             ]
            ],
            "type": "contour"
           }
          ],
          "contourcarpet": [
           {
            "colorbar": {
             "outlinewidth": 0,
             "ticks": ""
            },
            "type": "contourcarpet"
           }
          ],
          "heatmap": [
           {
            "colorbar": {
             "outlinewidth": 0,
             "ticks": ""
            },
            "colorscale": [
             [
              0,
              "#0d0887"
             ],
             [
              0.1111111111111111,
              "#46039f"
             ],
             [
              0.2222222222222222,
              "#7201a8"
             ],
             [
              0.3333333333333333,
              "#9c179e"
             ],
             [
              0.4444444444444444,
              "#bd3786"
             ],
             [
              0.5555555555555556,
              "#d8576b"
             ],
             [
              0.6666666666666666,
              "#ed7953"
             ],
             [
              0.7777777777777778,
              "#fb9f3a"
             ],
             [
              0.8888888888888888,
              "#fdca26"
             ],
             [
              1,
              "#f0f921"
             ]
            ],
            "type": "heatmap"
           }
          ],
          "heatmapgl": [
           {
            "colorbar": {
             "outlinewidth": 0,
             "ticks": ""
            },
            "colorscale": [
             [
              0,
              "#0d0887"
             ],
             [
              0.1111111111111111,
              "#46039f"
             ],
             [
              0.2222222222222222,
              "#7201a8"
             ],
             [
              0.3333333333333333,
              "#9c179e"
             ],
             [
              0.4444444444444444,
              "#bd3786"
             ],
             [
              0.5555555555555556,
              "#d8576b"
             ],
             [
              0.6666666666666666,
              "#ed7953"
             ],
             [
              0.7777777777777778,
              "#fb9f3a"
             ],
             [
              0.8888888888888888,
              "#fdca26"
             ],
             [
              1,
              "#f0f921"
             ]
            ],
            "type": "heatmapgl"
           }
          ],
          "histogram": [
           {
            "marker": {
             "pattern": {
              "fillmode": "overlay",
              "size": 10,
              "solidity": 0.2
             }
            },
            "type": "histogram"
           }
          ],
          "histogram2d": [
           {
            "colorbar": {
             "outlinewidth": 0,
             "ticks": ""
            },
            "colorscale": [
             [
              0,
              "#0d0887"
             ],
             [
              0.1111111111111111,
              "#46039f"
             ],
             [
              0.2222222222222222,
              "#7201a8"
             ],
             [
              0.3333333333333333,
              "#9c179e"
             ],
             [
              0.4444444444444444,
              "#bd3786"
             ],
             [
              0.5555555555555556,
              "#d8576b"
             ],
             [
              0.6666666666666666,
              "#ed7953"
             ],
             [
              0.7777777777777778,
              "#fb9f3a"
             ],
             [
              0.8888888888888888,
              "#fdca26"
             ],
             [
              1,
              "#f0f921"
             ]
            ],
            "type": "histogram2d"
           }
          ],
          "histogram2dcontour": [
           {
            "colorbar": {
             "outlinewidth": 0,
             "ticks": ""
            },
            "colorscale": [
             [
              0,
              "#0d0887"
             ],
             [
              0.1111111111111111,
              "#46039f"
             ],
             [
              0.2222222222222222,
              "#7201a8"
             ],
             [
              0.3333333333333333,
              "#9c179e"
             ],
             [
              0.4444444444444444,
              "#bd3786"
             ],
             [
              0.5555555555555556,
              "#d8576b"
             ],
             [
              0.6666666666666666,
              "#ed7953"
             ],
             [
              0.7777777777777778,
              "#fb9f3a"
             ],
             [
              0.8888888888888888,
              "#fdca26"
             ],
             [
              1,
              "#f0f921"
             ]
            ],
            "type": "histogram2dcontour"
           }
          ],
          "mesh3d": [
           {
            "colorbar": {
             "outlinewidth": 0,
             "ticks": ""
            },
            "type": "mesh3d"
           }
          ],
          "parcoords": [
           {
            "line": {
             "colorbar": {
              "outlinewidth": 0,
              "ticks": ""
             }
            },
            "type": "parcoords"
           }
          ],
          "pie": [
           {
            "automargin": true,
            "type": "pie"
           }
          ],
          "scatter": [
           {
            "fillpattern": {
             "fillmode": "overlay",
             "size": 10,
             "solidity": 0.2
            },
            "type": "scatter"
           }
          ],
          "scatter3d": [
           {
            "line": {
             "colorbar": {
              "outlinewidth": 0,
              "ticks": ""
             }
            },
            "marker": {
             "colorbar": {
              "outlinewidth": 0,
              "ticks": ""
             }
            },
            "type": "scatter3d"
           }
          ],
          "scattercarpet": [
           {
            "marker": {
             "colorbar": {
              "outlinewidth": 0,
              "ticks": ""
             }
            },
            "type": "scattercarpet"
           }
          ],
          "scattergeo": [
           {
            "marker": {
             "colorbar": {
              "outlinewidth": 0,
              "ticks": ""
             }
            },
            "type": "scattergeo"
           }
          ],
          "scattergl": [
           {
            "marker": {
             "colorbar": {
              "outlinewidth": 0,
              "ticks": ""
             }
            },
            "type": "scattergl"
           }
          ],
          "scattermapbox": [
           {
            "marker": {
             "colorbar": {
              "outlinewidth": 0,
              "ticks": ""
             }
            },
            "type": "scattermapbox"
           }
          ],
          "scatterpolar": [
           {
            "marker": {
             "colorbar": {
              "outlinewidth": 0,
              "ticks": ""
             }
            },
            "type": "scatterpolar"
           }
          ],
          "scatterpolargl": [
           {
            "marker": {
             "colorbar": {
              "outlinewidth": 0,
              "ticks": ""
             }
            },
            "type": "scatterpolargl"
           }
          ],
          "scatterternary": [
           {
            "marker": {
             "colorbar": {
              "outlinewidth": 0,
              "ticks": ""
             }
            },
            "type": "scatterternary"
           }
          ],
          "surface": [
           {
            "colorbar": {
             "outlinewidth": 0,
             "ticks": ""
            },
            "colorscale": [
             [
              0,
              "#0d0887"
             ],
             [
              0.1111111111111111,
              "#46039f"
             ],
             [
              0.2222222222222222,
              "#7201a8"
             ],
             [
              0.3333333333333333,
              "#9c179e"
             ],
             [
              0.4444444444444444,
              "#bd3786"
             ],
             [
              0.5555555555555556,
              "#d8576b"
             ],
             [
              0.6666666666666666,
              "#ed7953"
             ],
             [
              0.7777777777777778,
              "#fb9f3a"
             ],
             [
              0.8888888888888888,
              "#fdca26"
             ],
             [
              1,
              "#f0f921"
             ]
            ],
            "type": "surface"
           }
          ],
          "table": [
           {
            "cells": {
             "fill": {
              "color": "#EBF0F8"
             },
             "line": {
              "color": "white"
             }
            },
            "header": {
             "fill": {
              "color": "#C8D4E3"
             },
             "line": {
              "color": "white"
             }
            },
            "type": "table"
           }
          ]
         },
         "layout": {
          "annotationdefaults": {
           "arrowcolor": "#2a3f5f",
           "arrowhead": 0,
           "arrowwidth": 1
          },
          "autotypenumbers": "strict",
          "coloraxis": {
           "colorbar": {
            "outlinewidth": 0,
            "ticks": ""
           }
          },
          "colorscale": {
           "diverging": [
            [
             0,
             "#8e0152"
            ],
            [
             0.1,
             "#c51b7d"
            ],
            [
             0.2,
             "#de77ae"
            ],
            [
             0.3,
             "#f1b6da"
            ],
            [
             0.4,
             "#fde0ef"
            ],
            [
             0.5,
             "#f7f7f7"
            ],
            [
             0.6,
             "#e6f5d0"
            ],
            [
             0.7,
             "#b8e186"
            ],
            [
             0.8,
             "#7fbc41"
            ],
            [
             0.9,
             "#4d9221"
            ],
            [
             1,
             "#276419"
            ]
           ],
           "sequential": [
            [
             0,
             "#0d0887"
            ],
            [
             0.1111111111111111,
             "#46039f"
            ],
            [
             0.2222222222222222,
             "#7201a8"
            ],
            [
             0.3333333333333333,
             "#9c179e"
            ],
            [
             0.4444444444444444,
             "#bd3786"
            ],
            [
             0.5555555555555556,
             "#d8576b"
            ],
            [
             0.6666666666666666,
             "#ed7953"
            ],
            [
             0.7777777777777778,
             "#fb9f3a"
            ],
            [
             0.8888888888888888,
             "#fdca26"
            ],
            [
             1,
             "#f0f921"
            ]
           ],
           "sequentialminus": [
            [
             0,
             "#0d0887"
            ],
            [
             0.1111111111111111,
             "#46039f"
            ],
            [
             0.2222222222222222,
             "#7201a8"
            ],
            [
             0.3333333333333333,
             "#9c179e"
            ],
            [
             0.4444444444444444,
             "#bd3786"
            ],
            [
             0.5555555555555556,
             "#d8576b"
            ],
            [
             0.6666666666666666,
             "#ed7953"
            ],
            [
             0.7777777777777778,
             "#fb9f3a"
            ],
            [
             0.8888888888888888,
             "#fdca26"
            ],
            [
             1,
             "#f0f921"
            ]
           ]
          },
          "colorway": [
           "#636efa",
           "#EF553B",
           "#00cc96",
           "#ab63fa",
           "#FFA15A",
           "#19d3f3",
           "#FF6692",
           "#B6E880",
           "#FF97FF",
           "#FECB52"
          ],
          "font": {
           "color": "#2a3f5f"
          },
          "geo": {
           "bgcolor": "white",
           "lakecolor": "white",
           "landcolor": "#E5ECF6",
           "showlakes": true,
           "showland": true,
           "subunitcolor": "white"
          },
          "hoverlabel": {
           "align": "left"
          },
          "hovermode": "closest",
          "mapbox": {
           "style": "light"
          },
          "paper_bgcolor": "white",
          "plot_bgcolor": "#E5ECF6",
          "polar": {
           "angularaxis": {
            "gridcolor": "white",
            "linecolor": "white",
            "ticks": ""
           },
           "bgcolor": "#E5ECF6",
           "radialaxis": {
            "gridcolor": "white",
            "linecolor": "white",
            "ticks": ""
           }
          },
          "scene": {
           "xaxis": {
            "backgroundcolor": "#E5ECF6",
            "gridcolor": "white",
            "gridwidth": 2,
            "linecolor": "white",
            "showbackground": true,
            "ticks": "",
            "zerolinecolor": "white"
           },
           "yaxis": {
            "backgroundcolor": "#E5ECF6",
            "gridcolor": "white",
            "gridwidth": 2,
            "linecolor": "white",
            "showbackground": true,
            "ticks": "",
            "zerolinecolor": "white"
           },
           "zaxis": {
            "backgroundcolor": "#E5ECF6",
            "gridcolor": "white",
            "gridwidth": 2,
            "linecolor": "white",
            "showbackground": true,
            "ticks": "",
            "zerolinecolor": "white"
           }
          },
          "shapedefaults": {
           "line": {
            "color": "#2a3f5f"
           }
          },
          "ternary": {
           "aaxis": {
            "gridcolor": "white",
            "linecolor": "white",
            "ticks": ""
           },
           "baxis": {
            "gridcolor": "white",
            "linecolor": "white",
            "ticks": ""
           },
           "bgcolor": "#E5ECF6",
           "caxis": {
            "gridcolor": "white",
            "linecolor": "white",
            "ticks": ""
           }
          },
          "title": {
           "x": 0.05
          },
          "xaxis": {
           "automargin": true,
           "gridcolor": "white",
           "linecolor": "white",
           "ticks": "",
           "title": {
            "standoff": 15
           },
           "zerolinecolor": "white",
           "zerolinewidth": 2
          },
          "yaxis": {
           "automargin": true,
           "gridcolor": "white",
           "linecolor": "white",
           "ticks": "",
           "title": {
            "standoff": 15
           },
           "zerolinecolor": "white",
           "zerolinewidth": 2
          }
         }
        },
        "title": {
         "text": "Sankey Diagram"
        }
       }
      }
     },
     "metadata": {},
     "output_type": "display_data"
    }
   ],
   "source": [
    "# Generate the Sankey diagram using the processed results\n",
    "fig1 = plot_sankey(KPI_ch_n, run_id=1)\n",
    "fig2 = plot_sankey(KPI_ch_n, run_id=5)\n",
    "\n",
    "# Display the generated Sankey diagram in the output\n",
    "fig1.show()\n",
    "fig2.show()\n",
    "\n",
    "# Save the generated Sankey diagram as an HTML file\n",
    "fig1.write_html(\"Sankey_results_ch_1.html\")\n"
   ]
  },
  {
   "cell_type": "code",
   "execution_count": 9,
   "metadata": {
    "ExecuteTime": {
     "end_time": "2024-10-01T13:08:36.728861Z",
     "start_time": "2024-10-01T13:08:36.220284Z"
    }
   },
   "outputs": [
    {
     "data": {
      "application/vnd.plotly.v1+json": {
       "config": {
        "plotlyServerURL": "https://plot.ly"
       },
       "data": [
        {
         "fillpattern": {
          "shape": ""
         },
         "hovertemplate": "Sector=Domestic Heat<br>Run=%{x}<br>Annual_Prod=%{y}<extra></extra>",
         "legendgroup": "Domestic Heat",
         "line": {
          "color": "#1F77B4"
         },
         "marker": {
          "symbol": "circle"
         },
         "mode": "lines",
         "name": "Domestic Heat",
         "orientation": "v",
         "showlegend": true,
         "stackgroup": "1",
         "type": "scatter",
         "x": [
          1,
          2,
          3,
          4,
          5,
          6
         ],
         "xaxis": "x",
         "y": [
          62986.72358735392,
          62985.786200576345,
          62988.9681832308,
          62989.56481687423,
          62818.10998670385,
          62361.22395733601
         ],
         "yaxis": "y"
        },
        {
         "fillpattern": {
          "shape": ""
         },
         "hovertemplate": "Sector=Electricity<br>Run=%{x}<br>Annual_Prod=%{y}<extra></extra>",
         "legendgroup": "Electricity",
         "line": {
          "color": "#FF7F0E"
         },
         "marker": {
          "symbol": "circle"
         },
         "mode": "lines",
         "name": "Electricity",
         "orientation": "v",
         "showlegend": true,
         "stackgroup": "1",
         "type": "scatter",
         "x": [
          1,
          2,
          3,
          4,
          5,
          6
         ],
         "xaxis": "x",
         "y": [
          146406.69945313825,
          137462.51475413586,
          122878.52318755964,
          121206.20184118253,
          128355.1394159696,
          136203.6526835212
         ],
         "yaxis": "y"
        },
        {
         "fillpattern": {
          "shape": ""
         },
         "hovertemplate": "Sector=Industrial Heat<br>Run=%{x}<br>Annual_Prod=%{y}<extra></extra>",
         "legendgroup": "Industrial Heat",
         "line": {
          "color": "#2CA02C"
         },
         "marker": {
          "symbol": "circle"
         },
         "mode": "lines",
         "name": "Industrial Heat",
         "orientation": "v",
         "showlegend": true,
         "stackgroup": "1",
         "type": "scatter",
         "x": [
          1,
          2,
          3,
          4,
          5,
          6
         ],
         "xaxis": "x",
         "y": [
          16922.930871999997,
          16922.930872,
          16922.930872,
          16922.930872,
          17095.675570068677,
          17554.73744697143
         ],
         "yaxis": "y"
        },
        {
         "fillpattern": {
          "shape": ""
         },
         "hovertemplate": "Sector=Mobility<br>Run=%{x}<br>Annual_Prod=%{y}<extra></extra>",
         "legendgroup": "Mobility",
         "line": {
          "color": "#D62728"
         },
         "marker": {
          "symbol": "circle"
         },
         "mode": "lines",
         "name": "Mobility",
         "orientation": "v",
         "showlegend": true,
         "stackgroup": "1",
         "type": "scatter",
         "x": [
          1,
          2,
          3,
          4,
          5,
          6
         ],
         "xaxis": "x",
         "y": [
          128913.00000000022,
          128912.99999999971,
          128912.99999999997,
          128912.99999999996,
          128912.9999999999,
          128913.00000000047
         ],
         "yaxis": "y"
        },
        {
         "fillpattern": {
          "shape": ""
         },
         "hovertemplate": "Sector=Others<br>Run=%{x}<br>Annual_Prod=%{y}<extra></extra>",
         "legendgroup": "Others",
         "line": {
          "color": "#9467BD"
         },
         "marker": {
          "symbol": "circle"
         },
         "mode": "lines",
         "name": "Others",
         "orientation": "v",
         "showlegend": true,
         "stackgroup": "1",
         "type": "scatter",
         "x": [
          1,
          2,
          3,
          4,
          5,
          6
         ],
         "xaxis": "x",
         "y": [
          221287.31648568198,
          214745.41024167943,
          217031.11576237853,
          210240.93091883676,
          229517.35463694323,
          235497.60407089093
         ],
         "yaxis": "y"
        }
       ],
       "layout": {
        "legend": {
         "title": {
          "text": "Sector"
         },
         "tracegroupgap": 0
        },
        "margin": {
         "t": 60
        },
        "template": {
         "data": {
          "bar": [
           {
            "error_x": {
             "color": "rgb(36,36,36)"
            },
            "error_y": {
             "color": "rgb(36,36,36)"
            },
            "marker": {
             "line": {
              "color": "white",
              "width": 0.5
             },
             "pattern": {
              "fillmode": "overlay",
              "size": 10,
              "solidity": 0.2
             }
            },
            "type": "bar"
           }
          ],
          "barpolar": [
           {
            "marker": {
             "line": {
              "color": "white",
              "width": 0.5
             },
             "pattern": {
              "fillmode": "overlay",
              "size": 10,
              "solidity": 0.2
             }
            },
            "type": "barpolar"
           }
          ],
          "carpet": [
           {
            "aaxis": {
             "endlinecolor": "rgb(36,36,36)",
             "gridcolor": "white",
             "linecolor": "white",
             "minorgridcolor": "white",
             "startlinecolor": "rgb(36,36,36)"
            },
            "baxis": {
             "endlinecolor": "rgb(36,36,36)",
             "gridcolor": "white",
             "linecolor": "white",
             "minorgridcolor": "white",
             "startlinecolor": "rgb(36,36,36)"
            },
            "type": "carpet"
           }
          ],
          "choropleth": [
           {
            "colorbar": {
             "outlinewidth": 1,
             "tickcolor": "rgb(36,36,36)",
             "ticks": "outside"
            },
            "type": "choropleth"
           }
          ],
          "contour": [
           {
            "colorbar": {
             "outlinewidth": 1,
             "tickcolor": "rgb(36,36,36)",
             "ticks": "outside"
            },
            "colorscale": [
             [
              0,
              "#440154"
             ],
             [
              0.1111111111111111,
              "#482878"
             ],
             [
              0.2222222222222222,
              "#3e4989"
             ],
             [
              0.3333333333333333,
              "#31688e"
             ],
             [
              0.4444444444444444,
              "#26828e"
             ],
             [
              0.5555555555555556,
              "#1f9e89"
             ],
             [
              0.6666666666666666,
              "#35b779"
             ],
             [
              0.7777777777777778,
              "#6ece58"
             ],
             [
              0.8888888888888888,
              "#b5de2b"
             ],
             [
              1,
              "#fde725"
             ]
            ],
            "type": "contour"
           }
          ],
          "contourcarpet": [
           {
            "colorbar": {
             "outlinewidth": 1,
             "tickcolor": "rgb(36,36,36)",
             "ticks": "outside"
            },
            "type": "contourcarpet"
           }
          ],
          "heatmap": [
           {
            "colorbar": {
             "outlinewidth": 1,
             "tickcolor": "rgb(36,36,36)",
             "ticks": "outside"
            },
            "colorscale": [
             [
              0,
              "#440154"
             ],
             [
              0.1111111111111111,
              "#482878"
             ],
             [
              0.2222222222222222,
              "#3e4989"
             ],
             [
              0.3333333333333333,
              "#31688e"
             ],
             [
              0.4444444444444444,
              "#26828e"
             ],
             [
              0.5555555555555556,
              "#1f9e89"
             ],
             [
              0.6666666666666666,
              "#35b779"
             ],
             [
              0.7777777777777778,
              "#6ece58"
             ],
             [
              0.8888888888888888,
              "#b5de2b"
             ],
             [
              1,
              "#fde725"
             ]
            ],
            "type": "heatmap"
           }
          ],
          "heatmapgl": [
           {
            "colorbar": {
             "outlinewidth": 1,
             "tickcolor": "rgb(36,36,36)",
             "ticks": "outside"
            },
            "colorscale": [
             [
              0,
              "#440154"
             ],
             [
              0.1111111111111111,
              "#482878"
             ],
             [
              0.2222222222222222,
              "#3e4989"
             ],
             [
              0.3333333333333333,
              "#31688e"
             ],
             [
              0.4444444444444444,
              "#26828e"
             ],
             [
              0.5555555555555556,
              "#1f9e89"
             ],
             [
              0.6666666666666666,
              "#35b779"
             ],
             [
              0.7777777777777778,
              "#6ece58"
             ],
             [
              0.8888888888888888,
              "#b5de2b"
             ],
             [
              1,
              "#fde725"
             ]
            ],
            "type": "heatmapgl"
           }
          ],
          "histogram": [
           {
            "marker": {
             "line": {
              "color": "white",
              "width": 0.6
             }
            },
            "type": "histogram"
           }
          ],
          "histogram2d": [
           {
            "colorbar": {
             "outlinewidth": 1,
             "tickcolor": "rgb(36,36,36)",
             "ticks": "outside"
            },
            "colorscale": [
             [
              0,
              "#440154"
             ],
             [
              0.1111111111111111,
              "#482878"
             ],
             [
              0.2222222222222222,
              "#3e4989"
             ],
             [
              0.3333333333333333,
              "#31688e"
             ],
             [
              0.4444444444444444,
              "#26828e"
             ],
             [
              0.5555555555555556,
              "#1f9e89"
             ],
             [
              0.6666666666666666,
              "#35b779"
             ],
             [
              0.7777777777777778,
              "#6ece58"
             ],
             [
              0.8888888888888888,
              "#b5de2b"
             ],
             [
              1,
              "#fde725"
             ]
            ],
            "type": "histogram2d"
           }
          ],
          "histogram2dcontour": [
           {
            "colorbar": {
             "outlinewidth": 1,
             "tickcolor": "rgb(36,36,36)",
             "ticks": "outside"
            },
            "colorscale": [
             [
              0,
              "#440154"
             ],
             [
              0.1111111111111111,
              "#482878"
             ],
             [
              0.2222222222222222,
              "#3e4989"
             ],
             [
              0.3333333333333333,
              "#31688e"
             ],
             [
              0.4444444444444444,
              "#26828e"
             ],
             [
              0.5555555555555556,
              "#1f9e89"
             ],
             [
              0.6666666666666666,
              "#35b779"
             ],
             [
              0.7777777777777778,
              "#6ece58"
             ],
             [
              0.8888888888888888,
              "#b5de2b"
             ],
             [
              1,
              "#fde725"
             ]
            ],
            "type": "histogram2dcontour"
           }
          ],
          "mesh3d": [
           {
            "colorbar": {
             "outlinewidth": 1,
             "tickcolor": "rgb(36,36,36)",
             "ticks": "outside"
            },
            "type": "mesh3d"
           }
          ],
          "parcoords": [
           {
            "line": {
             "colorbar": {
              "outlinewidth": 1,
              "tickcolor": "rgb(36,36,36)",
              "ticks": "outside"
             }
            },
            "type": "parcoords"
           }
          ],
          "pie": [
           {
            "automargin": true,
            "type": "pie"
           }
          ],
          "scatter": [
           {
            "fillpattern": {
             "fillmode": "overlay",
             "size": 10,
             "solidity": 0.2
            },
            "type": "scatter"
           }
          ],
          "scatter3d": [
           {
            "line": {
             "colorbar": {
              "outlinewidth": 1,
              "tickcolor": "rgb(36,36,36)",
              "ticks": "outside"
             }
            },
            "marker": {
             "colorbar": {
              "outlinewidth": 1,
              "tickcolor": "rgb(36,36,36)",
              "ticks": "outside"
             }
            },
            "type": "scatter3d"
           }
          ],
          "scattercarpet": [
           {
            "marker": {
             "colorbar": {
              "outlinewidth": 1,
              "tickcolor": "rgb(36,36,36)",
              "ticks": "outside"
             }
            },
            "type": "scattercarpet"
           }
          ],
          "scattergeo": [
           {
            "marker": {
             "colorbar": {
              "outlinewidth": 1,
              "tickcolor": "rgb(36,36,36)",
              "ticks": "outside"
             }
            },
            "type": "scattergeo"
           }
          ],
          "scattergl": [
           {
            "marker": {
             "colorbar": {
              "outlinewidth": 1,
              "tickcolor": "rgb(36,36,36)",
              "ticks": "outside"
             }
            },
            "type": "scattergl"
           }
          ],
          "scattermapbox": [
           {
            "marker": {
             "colorbar": {
              "outlinewidth": 1,
              "tickcolor": "rgb(36,36,36)",
              "ticks": "outside"
             }
            },
            "type": "scattermapbox"
           }
          ],
          "scatterpolar": [
           {
            "marker": {
             "colorbar": {
              "outlinewidth": 1,
              "tickcolor": "rgb(36,36,36)",
              "ticks": "outside"
             }
            },
            "type": "scatterpolar"
           }
          ],
          "scatterpolargl": [
           {
            "marker": {
             "colorbar": {
              "outlinewidth": 1,
              "tickcolor": "rgb(36,36,36)",
              "ticks": "outside"
             }
            },
            "type": "scatterpolargl"
           }
          ],
          "scatterternary": [
           {
            "marker": {
             "colorbar": {
              "outlinewidth": 1,
              "tickcolor": "rgb(36,36,36)",
              "ticks": "outside"
             }
            },
            "type": "scatterternary"
           }
          ],
          "surface": [
           {
            "colorbar": {
             "outlinewidth": 1,
             "tickcolor": "rgb(36,36,36)",
             "ticks": "outside"
            },
            "colorscale": [
             [
              0,
              "#440154"
             ],
             [
              0.1111111111111111,
              "#482878"
             ],
             [
              0.2222222222222222,
              "#3e4989"
             ],
             [
              0.3333333333333333,
              "#31688e"
             ],
             [
              0.4444444444444444,
              "#26828e"
             ],
             [
              0.5555555555555556,
              "#1f9e89"
             ],
             [
              0.6666666666666666,
              "#35b779"
             ],
             [
              0.7777777777777778,
              "#6ece58"
             ],
             [
              0.8888888888888888,
              "#b5de2b"
             ],
             [
              1,
              "#fde725"
             ]
            ],
            "type": "surface"
           }
          ],
          "table": [
           {
            "cells": {
             "fill": {
              "color": "rgb(237,237,237)"
             },
             "line": {
              "color": "white"
             }
            },
            "header": {
             "fill": {
              "color": "rgb(217,217,217)"
             },
             "line": {
              "color": "white"
             }
            },
            "type": "table"
           }
          ]
         },
         "layout": {
          "annotationdefaults": {
           "arrowhead": 0,
           "arrowwidth": 1
          },
          "autotypenumbers": "strict",
          "coloraxis": {
           "colorbar": {
            "outlinewidth": 1,
            "tickcolor": "rgb(36,36,36)",
            "ticks": "outside"
           }
          },
          "colorscale": {
           "diverging": [
            [
             0,
             "rgb(103,0,31)"
            ],
            [
             0.1,
             "rgb(178,24,43)"
            ],
            [
             0.2,
             "rgb(214,96,77)"
            ],
            [
             0.3,
             "rgb(244,165,130)"
            ],
            [
             0.4,
             "rgb(253,219,199)"
            ],
            [
             0.5,
             "rgb(247,247,247)"
            ],
            [
             0.6,
             "rgb(209,229,240)"
            ],
            [
             0.7,
             "rgb(146,197,222)"
            ],
            [
             0.8,
             "rgb(67,147,195)"
            ],
            [
             0.9,
             "rgb(33,102,172)"
            ],
            [
             1,
             "rgb(5,48,97)"
            ]
           ],
           "sequential": [
            [
             0,
             "#440154"
            ],
            [
             0.1111111111111111,
             "#482878"
            ],
            [
             0.2222222222222222,
             "#3e4989"
            ],
            [
             0.3333333333333333,
             "#31688e"
            ],
            [
             0.4444444444444444,
             "#26828e"
            ],
            [
             0.5555555555555556,
             "#1f9e89"
            ],
            [
             0.6666666666666666,
             "#35b779"
            ],
            [
             0.7777777777777778,
             "#6ece58"
            ],
            [
             0.8888888888888888,
             "#b5de2b"
            ],
            [
             1,
             "#fde725"
            ]
           ],
           "sequentialminus": [
            [
             0,
             "#440154"
            ],
            [
             0.1111111111111111,
             "#482878"
            ],
            [
             0.2222222222222222,
             "#3e4989"
            ],
            [
             0.3333333333333333,
             "#31688e"
            ],
            [
             0.4444444444444444,
             "#26828e"
            ],
            [
             0.5555555555555556,
             "#1f9e89"
            ],
            [
             0.6666666666666666,
             "#35b779"
            ],
            [
             0.7777777777777778,
             "#6ece58"
            ],
            [
             0.8888888888888888,
             "#b5de2b"
            ],
            [
             1,
             "#fde725"
            ]
           ]
          },
          "colorway": [
           "#1F77B4",
           "#FF7F0E",
           "#2CA02C",
           "#D62728",
           "#9467BD",
           "#8C564B",
           "#E377C2",
           "#7F7F7F",
           "#BCBD22",
           "#17BECF"
          ],
          "font": {
           "color": "rgb(36,36,36)"
          },
          "geo": {
           "bgcolor": "white",
           "lakecolor": "white",
           "landcolor": "white",
           "showlakes": true,
           "showland": true,
           "subunitcolor": "white"
          },
          "hoverlabel": {
           "align": "left"
          },
          "hovermode": "closest",
          "mapbox": {
           "style": "light"
          },
          "paper_bgcolor": "white",
          "plot_bgcolor": "white",
          "polar": {
           "angularaxis": {
            "gridcolor": "rgb(232,232,232)",
            "linecolor": "rgb(36,36,36)",
            "showgrid": false,
            "showline": true,
            "ticks": "outside"
           },
           "bgcolor": "white",
           "radialaxis": {
            "gridcolor": "rgb(232,232,232)",
            "linecolor": "rgb(36,36,36)",
            "showgrid": false,
            "showline": true,
            "ticks": "outside"
           }
          },
          "scene": {
           "xaxis": {
            "backgroundcolor": "white",
            "gridcolor": "rgb(232,232,232)",
            "gridwidth": 2,
            "linecolor": "rgb(36,36,36)",
            "showbackground": true,
            "showgrid": false,
            "showline": true,
            "ticks": "outside",
            "zeroline": false,
            "zerolinecolor": "rgb(36,36,36)"
           },
           "yaxis": {
            "backgroundcolor": "white",
            "gridcolor": "rgb(232,232,232)",
            "gridwidth": 2,
            "linecolor": "rgb(36,36,36)",
            "showbackground": true,
            "showgrid": false,
            "showline": true,
            "ticks": "outside",
            "zeroline": false,
            "zerolinecolor": "rgb(36,36,36)"
           },
           "zaxis": {
            "backgroundcolor": "white",
            "gridcolor": "rgb(232,232,232)",
            "gridwidth": 2,
            "linecolor": "rgb(36,36,36)",
            "showbackground": true,
            "showgrid": false,
            "showline": true,
            "ticks": "outside",
            "zeroline": false,
            "zerolinecolor": "rgb(36,36,36)"
           }
          },
          "shapedefaults": {
           "fillcolor": "black",
           "line": {
            "width": 0
           },
           "opacity": 0.3
          },
          "ternary": {
           "aaxis": {
            "gridcolor": "rgb(232,232,232)",
            "linecolor": "rgb(36,36,36)",
            "showgrid": false,
            "showline": true,
            "ticks": "outside"
           },
           "baxis": {
            "gridcolor": "rgb(232,232,232)",
            "linecolor": "rgb(36,36,36)",
            "showgrid": false,
            "showline": true,
            "ticks": "outside"
           },
           "bgcolor": "white",
           "caxis": {
            "gridcolor": "rgb(232,232,232)",
            "linecolor": "rgb(36,36,36)",
            "showgrid": false,
            "showline": true,
            "ticks": "outside"
           }
          },
          "title": {
           "x": 0.05
          },
          "xaxis": {
           "automargin": true,
           "gridcolor": "rgb(232,232,232)",
           "linecolor": "rgb(36,36,36)",
           "showgrid": false,
           "showline": true,
           "ticks": "outside",
           "title": {
            "standoff": 15
           },
           "zeroline": false,
           "zerolinecolor": "rgb(36,36,36)"
          },
          "yaxis": {
           "automargin": true,
           "gridcolor": "rgb(232,232,232)",
           "linecolor": "rgb(36,36,36)",
           "showgrid": false,
           "showline": true,
           "ticks": "outside",
           "title": {
            "standoff": 15
           },
           "zeroline": false,
           "zerolinecolor": "rgb(36,36,36)"
          }
         }
        },
        "xaxis": {
         "anchor": "y",
         "domain": [
          0,
          1
         ],
         "title": {
          "text": "Run"
         }
        },
        "yaxis": {
         "anchor": "x",
         "domain": [
          0,
          1
         ],
         "title": {
          "text": "Annual_Prod"
         }
        }
       }
      }
     },
     "metadata": {},
     "output_type": "display_data"
    }
   ],
   "source": [
    "# Select which results you want to display from the postprocessing dataframe df_annual and which aggregation you want (Category,Category_n, Sector)\n",
    "plot_parametrisation(results=KPI_ch_n, variable=\"Annual_Prod\", category=\"Sector\").show()\n"
   ]
  },
  {
   "cell_type": "code",
   "execution_count": 10,
   "metadata": {
    "ExecuteTime": {
     "end_time": "2024-10-01T13:08:43.663972Z",
     "start_time": "2024-10-01T13:08:43.444723Z"
    }
   },
   "outputs": [
    {
     "data": {
      "application/vnd.plotly.v1+json": {
       "config": {
        "plotlyServerURL": "https://plot.ly"
       },
       "data": [
        {
         "marker": {
          "color": [
           "#FFA500",
           "#808080",
           "#006400",
           "#8B0000",
           "#FFA15A"
          ]
         },
         "opacity": 0.5,
         "orientation": "h",
         "showlegend": false,
         "type": "bar",
         "x": [
          -713.9455677322926,
          -4260.150130775448,
          -97.87592647951344,
          -142.14447600134687,
          -1198.4504876393387
         ],
         "y": [
          "Domestic Heat",
          "Electricity",
          "Industrial Heat",
          "Mobility",
          "Others"
         ]
        },
        {
         "marker": {
          "color": [
           "#FFA500",
           "#808080",
           "#006400",
           "#8B0000",
           "#FFA15A"
          ]
         },
         "orientation": "h",
         "showlegend": false,
         "type": "bar",
         "x": [
          -1.0024149631501587,
          0,
          0,
          -79.6565377994506,
          -34.44289116648065
         ],
         "y": [
          "Domestic Heat",
          "Electricity",
          "Industrial Heat",
          "Mobility",
          "Others"
         ]
        },
        {
         "marker": {
          "color": [
           "#FFA500",
           "#808080",
           "#006400",
           "#8B0000",
           "#FFA15A"
          ]
         },
         "opacity": 0.5,
         "orientation": "h",
         "showlegend": false,
         "type": "bar",
         "x": [
          713.9455677322926,
          4260.150130775448,
          97.87592647951344,
          142.14447600134687,
          1198.4504876393387
         ],
         "y": [
          "Domestic Heat",
          "Electricity",
          "Industrial Heat",
          "Mobility",
          "Others"
         ]
        },
        {
         "marker": {
          "color": [
           "#FFA500",
           "#808080",
           "#006400",
           "#8B0000",
           "#FFA15A"
          ]
         },
         "orientation": "h",
         "showlegend": false,
         "type": "bar",
         "x": [
          0,
          79.66560349943484,
          52.75692731971772,
          0,
          0
         ],
         "y": [
          "Domestic Heat",
          "Electricity",
          "Industrial Heat",
          "Mobility",
          "Others"
         ]
        }
       ],
       "layout": {
        "annotations": [
         {
          "font": {
           "size": 12
          },
          "showarrow": false,
          "text": "715",
          "x": -714.9479826954428,
          "xanchor": "right",
          "xshift": -5,
          "y": "Domestic Heat"
         },
         {
          "font": {
           "size": 12
          },
          "showarrow": false,
          "text": "714",
          "x": 713.9455677322926,
          "xanchor": "left",
          "xshift": 5,
          "y": "Domestic Heat"
         },
         {
          "bgcolor": "rgba(255, 255, 255, 0.6)",
          "font": {
           "size": 8
          },
          "showarrow": false,
          "text": "1",
          "x": -714.4467752138677,
          "y": "Domestic Heat"
         },
         {
          "font": {
           "size": 12
          },
          "showarrow": false,
          "text": "4260",
          "x": -4260.150130775448,
          "xanchor": "right",
          "xshift": -5,
          "y": "Electricity"
         },
         {
          "font": {
           "size": 12
          },
          "showarrow": false,
          "text": "4340",
          "x": 4339.815734274883,
          "xanchor": "left",
          "xshift": 5,
          "y": "Electricity"
         },
         {
          "bgcolor": "rgba(255, 255, 255, 0.6)",
          "font": {
           "size": 8
          },
          "showarrow": false,
          "text": "80",
          "x": 4299.982932525165,
          "y": "Electricity"
         },
         {
          "font": {
           "size": 12
          },
          "showarrow": false,
          "text": "98",
          "x": -97.87592647951344,
          "xanchor": "right",
          "xshift": -5,
          "y": "Industrial Heat"
         },
         {
          "font": {
           "size": 12
          },
          "showarrow": false,
          "text": "151",
          "x": 150.63285379923116,
          "xanchor": "left",
          "xshift": 5,
          "y": "Industrial Heat"
         },
         {
          "bgcolor": "rgba(255, 255, 255, 0.6)",
          "font": {
           "size": 8
          },
          "showarrow": false,
          "text": "53",
          "x": 124.2543901393723,
          "y": "Industrial Heat"
         },
         {
          "font": {
           "size": 12
          },
          "showarrow": false,
          "text": "222",
          "x": -221.80101380079748,
          "xanchor": "right",
          "xshift": -5,
          "y": "Mobility"
         },
         {
          "font": {
           "size": 12
          },
          "showarrow": false,
          "text": "142",
          "x": 142.14447600134687,
          "xanchor": "left",
          "xshift": 5,
          "y": "Mobility"
         },
         {
          "bgcolor": "rgba(255, 255, 255, 0.6)",
          "font": {
           "size": 8
          },
          "showarrow": false,
          "text": "80",
          "x": -181.9727449010722,
          "y": "Mobility"
         },
         {
          "font": {
           "size": 12
          },
          "showarrow": false,
          "text": "1233",
          "x": -1232.8933788058193,
          "xanchor": "right",
          "xshift": -5,
          "y": "Others"
         },
         {
          "font": {
           "size": 12
          },
          "showarrow": false,
          "text": "1198",
          "x": 1198.4504876393387,
          "xanchor": "left",
          "xshift": 5,
          "y": "Others"
         },
         {
          "bgcolor": "rgba(255, 255, 255, 0.6)",
          "font": {
           "size": 8
          },
          "showarrow": false,
          "text": "34",
          "x": -1215.671933222579,
          "y": "Others"
         }
        ],
        "bargap": 0.38195302843016077,
        "barmode": "relative",
        "template": {
         "data": {
          "bar": [
           {
            "error_x": {
             "color": "#2a3f5f"
            },
            "error_y": {
             "color": "#2a3f5f"
            },
            "marker": {
             "line": {
              "color": "white",
              "width": 0.5
             },
             "pattern": {
              "fillmode": "overlay",
              "size": 10,
              "solidity": 0.2
             }
            },
            "type": "bar"
           }
          ],
          "barpolar": [
           {
            "marker": {
             "line": {
              "color": "white",
              "width": 0.5
             },
             "pattern": {
              "fillmode": "overlay",
              "size": 10,
              "solidity": 0.2
             }
            },
            "type": "barpolar"
           }
          ],
          "carpet": [
           {
            "aaxis": {
             "endlinecolor": "#2a3f5f",
             "gridcolor": "#C8D4E3",
             "linecolor": "#C8D4E3",
             "minorgridcolor": "#C8D4E3",
             "startlinecolor": "#2a3f5f"
            },
            "baxis": {
             "endlinecolor": "#2a3f5f",
             "gridcolor": "#C8D4E3",
             "linecolor": "#C8D4E3",
             "minorgridcolor": "#C8D4E3",
             "startlinecolor": "#2a3f5f"
            },
            "type": "carpet"
           }
          ],
          "choropleth": [
           {
            "colorbar": {
             "outlinewidth": 0,
             "ticks": ""
            },
            "type": "choropleth"
           }
          ],
          "contour": [
           {
            "colorbar": {
             "outlinewidth": 0,
             "ticks": ""
            },
            "colorscale": [
             [
              0,
              "#0d0887"
             ],
             [
              0.1111111111111111,
              "#46039f"
             ],
             [
              0.2222222222222222,
              "#7201a8"
             ],
             [
              0.3333333333333333,
              "#9c179e"
             ],
             [
              0.4444444444444444,
              "#bd3786"
             ],
             [
              0.5555555555555556,
              "#d8576b"
             ],
             [
              0.6666666666666666,
              "#ed7953"
             ],
             [
              0.7777777777777778,
              "#fb9f3a"
             ],
             [
              0.8888888888888888,
              "#fdca26"
             ],
             [
              1,
              "#f0f921"
             ]
            ],
            "type": "contour"
           }
          ],
          "contourcarpet": [
           {
            "colorbar": {
             "outlinewidth": 0,
             "ticks": ""
            },
            "type": "contourcarpet"
           }
          ],
          "heatmap": [
           {
            "colorbar": {
             "outlinewidth": 0,
             "ticks": ""
            },
            "colorscale": [
             [
              0,
              "#0d0887"
             ],
             [
              0.1111111111111111,
              "#46039f"
             ],
             [
              0.2222222222222222,
              "#7201a8"
             ],
             [
              0.3333333333333333,
              "#9c179e"
             ],
             [
              0.4444444444444444,
              "#bd3786"
             ],
             [
              0.5555555555555556,
              "#d8576b"
             ],
             [
              0.6666666666666666,
              "#ed7953"
             ],
             [
              0.7777777777777778,
              "#fb9f3a"
             ],
             [
              0.8888888888888888,
              "#fdca26"
             ],
             [
              1,
              "#f0f921"
             ]
            ],
            "type": "heatmap"
           }
          ],
          "heatmapgl": [
           {
            "colorbar": {
             "outlinewidth": 0,
             "ticks": ""
            },
            "colorscale": [
             [
              0,
              "#0d0887"
             ],
             [
              0.1111111111111111,
              "#46039f"
             ],
             [
              0.2222222222222222,
              "#7201a8"
             ],
             [
              0.3333333333333333,
              "#9c179e"
             ],
             [
              0.4444444444444444,
              "#bd3786"
             ],
             [
              0.5555555555555556,
              "#d8576b"
             ],
             [
              0.6666666666666666,
              "#ed7953"
             ],
             [
              0.7777777777777778,
              "#fb9f3a"
             ],
             [
              0.8888888888888888,
              "#fdca26"
             ],
             [
              1,
              "#f0f921"
             ]
            ],
            "type": "heatmapgl"
           }
          ],
          "histogram": [
           {
            "marker": {
             "pattern": {
              "fillmode": "overlay",
              "size": 10,
              "solidity": 0.2
             }
            },
            "type": "histogram"
           }
          ],
          "histogram2d": [
           {
            "colorbar": {
             "outlinewidth": 0,
             "ticks": ""
            },
            "colorscale": [
             [
              0,
              "#0d0887"
             ],
             [
              0.1111111111111111,
              "#46039f"
             ],
             [
              0.2222222222222222,
              "#7201a8"
             ],
             [
              0.3333333333333333,
              "#9c179e"
             ],
             [
              0.4444444444444444,
              "#bd3786"
             ],
             [
              0.5555555555555556,
              "#d8576b"
             ],
             [
              0.6666666666666666,
              "#ed7953"
             ],
             [
              0.7777777777777778,
              "#fb9f3a"
             ],
             [
              0.8888888888888888,
              "#fdca26"
             ],
             [
              1,
              "#f0f921"
             ]
            ],
            "type": "histogram2d"
           }
          ],
          "histogram2dcontour": [
           {
            "colorbar": {
             "outlinewidth": 0,
             "ticks": ""
            },
            "colorscale": [
             [
              0,
              "#0d0887"
             ],
             [
              0.1111111111111111,
              "#46039f"
             ],
             [
              0.2222222222222222,
              "#7201a8"
             ],
             [
              0.3333333333333333,
              "#9c179e"
             ],
             [
              0.4444444444444444,
              "#bd3786"
             ],
             [
              0.5555555555555556,
              "#d8576b"
             ],
             [
              0.6666666666666666,
              "#ed7953"
             ],
             [
              0.7777777777777778,
              "#fb9f3a"
             ],
             [
              0.8888888888888888,
              "#fdca26"
             ],
             [
              1,
              "#f0f921"
             ]
            ],
            "type": "histogram2dcontour"
           }
          ],
          "mesh3d": [
           {
            "colorbar": {
             "outlinewidth": 0,
             "ticks": ""
            },
            "type": "mesh3d"
           }
          ],
          "parcoords": [
           {
            "line": {
             "colorbar": {
              "outlinewidth": 0,
              "ticks": ""
             }
            },
            "type": "parcoords"
           }
          ],
          "pie": [
           {
            "automargin": true,
            "type": "pie"
           }
          ],
          "scatter": [
           {
            "fillpattern": {
             "fillmode": "overlay",
             "size": 10,
             "solidity": 0.2
            },
            "type": "scatter"
           }
          ],
          "scatter3d": [
           {
            "line": {
             "colorbar": {
              "outlinewidth": 0,
              "ticks": ""
             }
            },
            "marker": {
             "colorbar": {
              "outlinewidth": 0,
              "ticks": ""
             }
            },
            "type": "scatter3d"
           }
          ],
          "scattercarpet": [
           {
            "marker": {
             "colorbar": {
              "outlinewidth": 0,
              "ticks": ""
             }
            },
            "type": "scattercarpet"
           }
          ],
          "scattergeo": [
           {
            "marker": {
             "colorbar": {
              "outlinewidth": 0,
              "ticks": ""
             }
            },
            "type": "scattergeo"
           }
          ],
          "scattergl": [
           {
            "marker": {
             "colorbar": {
              "outlinewidth": 0,
              "ticks": ""
             }
            },
            "type": "scattergl"
           }
          ],
          "scattermapbox": [
           {
            "marker": {
             "colorbar": {
              "outlinewidth": 0,
              "ticks": ""
             }
            },
            "type": "scattermapbox"
           }
          ],
          "scatterpolar": [
           {
            "marker": {
             "colorbar": {
              "outlinewidth": 0,
              "ticks": ""
             }
            },
            "type": "scatterpolar"
           }
          ],
          "scatterpolargl": [
           {
            "marker": {
             "colorbar": {
              "outlinewidth": 0,
              "ticks": ""
             }
            },
            "type": "scatterpolargl"
           }
          ],
          "scatterternary": [
           {
            "marker": {
             "colorbar": {
              "outlinewidth": 0,
              "ticks": ""
             }
            },
            "type": "scatterternary"
           }
          ],
          "surface": [
           {
            "colorbar": {
             "outlinewidth": 0,
             "ticks": ""
            },
            "colorscale": [
             [
              0,
              "#0d0887"
             ],
             [
              0.1111111111111111,
              "#46039f"
             ],
             [
              0.2222222222222222,
              "#7201a8"
             ],
             [
              0.3333333333333333,
              "#9c179e"
             ],
             [
              0.4444444444444444,
              "#bd3786"
             ],
             [
              0.5555555555555556,
              "#d8576b"
             ],
             [
              0.6666666666666666,
              "#ed7953"
             ],
             [
              0.7777777777777778,
              "#fb9f3a"
             ],
             [
              0.8888888888888888,
              "#fdca26"
             ],
             [
              1,
              "#f0f921"
             ]
            ],
            "type": "surface"
           }
          ],
          "table": [
           {
            "cells": {
             "fill": {
              "color": "#EBF0F8"
             },
             "line": {
              "color": "white"
             }
            },
            "header": {
             "fill": {
              "color": "#C8D4E3"
             },
             "line": {
              "color": "white"
             }
            },
            "type": "table"
           }
          ]
         },
         "layout": {
          "annotationdefaults": {
           "arrowcolor": "#2a3f5f",
           "arrowhead": 0,
           "arrowwidth": 1
          },
          "autotypenumbers": "strict",
          "coloraxis": {
           "colorbar": {
            "outlinewidth": 0,
            "ticks": ""
           }
          },
          "colorscale": {
           "diverging": [
            [
             0,
             "#8e0152"
            ],
            [
             0.1,
             "#c51b7d"
            ],
            [
             0.2,
             "#de77ae"
            ],
            [
             0.3,
             "#f1b6da"
            ],
            [
             0.4,
             "#fde0ef"
            ],
            [
             0.5,
             "#f7f7f7"
            ],
            [
             0.6,
             "#e6f5d0"
            ],
            [
             0.7,
             "#b8e186"
            ],
            [
             0.8,
             "#7fbc41"
            ],
            [
             0.9,
             "#4d9221"
            ],
            [
             1,
             "#276419"
            ]
           ],
           "sequential": [
            [
             0,
             "#0d0887"
            ],
            [
             0.1111111111111111,
             "#46039f"
            ],
            [
             0.2222222222222222,
             "#7201a8"
            ],
            [
             0.3333333333333333,
             "#9c179e"
            ],
            [
             0.4444444444444444,
             "#bd3786"
            ],
            [
             0.5555555555555556,
             "#d8576b"
            ],
            [
             0.6666666666666666,
             "#ed7953"
            ],
            [
             0.7777777777777778,
             "#fb9f3a"
            ],
            [
             0.8888888888888888,
             "#fdca26"
            ],
            [
             1,
             "#f0f921"
            ]
           ],
           "sequentialminus": [
            [
             0,
             "#0d0887"
            ],
            [
             0.1111111111111111,
             "#46039f"
            ],
            [
             0.2222222222222222,
             "#7201a8"
            ],
            [
             0.3333333333333333,
             "#9c179e"
            ],
            [
             0.4444444444444444,
             "#bd3786"
            ],
            [
             0.5555555555555556,
             "#d8576b"
            ],
            [
             0.6666666666666666,
             "#ed7953"
            ],
            [
             0.7777777777777778,
             "#fb9f3a"
            ],
            [
             0.8888888888888888,
             "#fdca26"
            ],
            [
             1,
             "#f0f921"
            ]
           ]
          },
          "colorway": [
           "#636efa",
           "#EF553B",
           "#00cc96",
           "#ab63fa",
           "#FFA15A",
           "#19d3f3",
           "#FF6692",
           "#B6E880",
           "#FF97FF",
           "#FECB52"
          ],
          "font": {
           "color": "#2a3f5f"
          },
          "geo": {
           "bgcolor": "white",
           "lakecolor": "white",
           "landcolor": "white",
           "showlakes": true,
           "showland": true,
           "subunitcolor": "#C8D4E3"
          },
          "hoverlabel": {
           "align": "left"
          },
          "hovermode": "closest",
          "mapbox": {
           "style": "light"
          },
          "paper_bgcolor": "white",
          "plot_bgcolor": "white",
          "polar": {
           "angularaxis": {
            "gridcolor": "#EBF0F8",
            "linecolor": "#EBF0F8",
            "ticks": ""
           },
           "bgcolor": "white",
           "radialaxis": {
            "gridcolor": "#EBF0F8",
            "linecolor": "#EBF0F8",
            "ticks": ""
           }
          },
          "scene": {
           "xaxis": {
            "backgroundcolor": "white",
            "gridcolor": "#DFE8F3",
            "gridwidth": 2,
            "linecolor": "#EBF0F8",
            "showbackground": true,
            "ticks": "",
            "zerolinecolor": "#EBF0F8"
           },
           "yaxis": {
            "backgroundcolor": "white",
            "gridcolor": "#DFE8F3",
            "gridwidth": 2,
            "linecolor": "#EBF0F8",
            "showbackground": true,
            "ticks": "",
            "zerolinecolor": "#EBF0F8"
           },
           "zaxis": {
            "backgroundcolor": "white",
            "gridcolor": "#DFE8F3",
            "gridwidth": 2,
            "linecolor": "#EBF0F8",
            "showbackground": true,
            "ticks": "",
            "zerolinecolor": "#EBF0F8"
           }
          },
          "shapedefaults": {
           "line": {
            "color": "#2a3f5f"
           }
          },
          "ternary": {
           "aaxis": {
            "gridcolor": "#DFE8F3",
            "linecolor": "#A2B1C6",
            "ticks": ""
           },
           "baxis": {
            "gridcolor": "#DFE8F3",
            "linecolor": "#A2B1C6",
            "ticks": ""
           },
           "bgcolor": "white",
           "caxis": {
            "gridcolor": "#DFE8F3",
            "linecolor": "#A2B1C6",
            "ticks": ""
           }
          },
          "title": {
           "x": 0.05
          },
          "xaxis": {
           "automargin": true,
           "gridcolor": "#EBF0F8",
           "linecolor": "#EBF0F8",
           "ticks": "",
           "title": {
            "standoff": 15
           },
           "zerolinecolor": "#EBF0F8",
           "zerolinewidth": 2
          },
          "yaxis": {
           "automargin": true,
           "gridcolor": "#EBF0F8",
           "linecolor": "#EBF0F8",
           "ticks": "",
           "title": {
            "standoff": 15
           },
           "zerolinecolor": "#EBF0F8",
           "zerolinewidth": 2
          }
         }
        },
        "title": {
         "text": "Comparison Annual Investment Costs between Run 1 and Run 5"
        },
        "xaxis": {
         "range": [
          -5000,
          5000
         ],
         "ticktext": [
          5000,
          4000,
          3000,
          2000,
          1000,
          0,
          1000,
          2000,
          3000,
          4000,
          5000
         ],
         "tickvals": [
          -5000,
          -4000,
          -3000,
          -2000,
          -1000,
          0,
          1000,
          2000,
          3000,
          4000,
          5000
         ],
         "title": {
          "text": "Annual Investment Costs"
         },
         "zeroline": true
        },
        "yaxis": {
         "automargin": true,
         "tickcolor": "rgba(0,0,0,0)",
         "ticklabelposition": "outside",
         "ticklen": 20,
         "ticks": "outside",
         "title": {}
        }
       }
      }
     },
     "metadata": {},
     "output_type": "display_data"
    },
    {
     "data": {
      "application/vnd.plotly.v1+json": {
       "config": {
        "plotlyServerURL": "https://plot.ly"
       },
       "data": [
        {
         "marker": {
          "color": [
           "#A52A2A",
           "#000000",
           "#808080",
           "#66CDAA",
           "#B22222",
           "#D3B9DA",
           "#FF6692",
           "#008080",
           "#006400",
           "#FECB52",
           "#8B0000",
           "#EF553B",
           "#FFD700",
           "#ADD8E6",
           "#0000FF"
          ]
         },
         "opacity": 0.5,
         "orientation": "h",
         "showlegend": false,
         "type": "bar",
         "x": [
          0,
          -178286.3745485915,
          -0.04105597471332117,
          0,
          -8115.507708257771,
          -5835.111321003181,
          -16922.930871999997,
          -32702.7696,
          -10569.503366828849,
          -56996.64212980222,
          -179979.4999999999,
          0,
          -15179.660515296453,
          -620.3596118336366,
          -14454.35610920065
         ],
         "y": [
          "Carbon Capture",
          "Electric Infrastructure",
          "Electricity",
          "Electrolysis",
          "Gas Infrastructure",
          "Geothermal",
          "High Temperature Heat",
          "Hydro River & Dam",
          "Industry",
          "Low Temperature Heat",
          "Mobility",
          "Others",
          "PV",
          "Storage",
          "Wind"
         ]
        },
        {
         "marker": {
          "color": [
           "#A52A2A",
           "#000000",
           "#808080",
           "#66CDAA",
           "#B22222",
           "#D3B9DA",
           "#FF6692",
           "#008080",
           "#006400",
           "#FECB52",
           "#8B0000",
           "#EF553B",
           "#FFD700",
           "#ADD8E6",
           "#0000FF"
          ]
         },
         "orientation": "h",
         "showlegend": false,
         "type": "bar",
         "x": [
          0,
          -37180.63866209041,
          0,
          0,
          0,
          -589.1753230776303,
          0,
          0,
          0,
          0,
          -3.2014213502407074e-10,
          0,
          0,
          0,
          -19084.09957421715
         ],
         "y": [
          "Carbon Capture",
          "Electric Infrastructure",
          "Electricity",
          "Electrolysis",
          "Gas Infrastructure",
          "Geothermal",
          "High Temperature Heat",
          "Hydro River & Dam",
          "Industry",
          "Low Temperature Heat",
          "Mobility",
          "Others",
          "PV",
          "Storage",
          "Wind"
         ]
        },
        {
         "marker": {
          "color": [
           "#A52A2A",
           "#000000",
           "#808080",
           "#66CDAA",
           "#B22222",
           "#D3B9DA",
           "#FF6692",
           "#008080",
           "#006400",
           "#FECB52",
           "#8B0000",
           "#EF553B",
           "#FFD700",
           "#ADD8E6",
           "#0000FF"
          ]
         },
         "opacity": 0.5,
         "orientation": "h",
         "showlegend": false,
         "type": "bar",
         "x": [
          0,
          178286.3745485915,
          0.04105597471332117,
          0,
          8115.507708257771,
          5835.111321003181,
          16922.930871999997,
          32702.7696,
          10569.503366828849,
          56996.64212980222,
          179979.4999999999,
          0,
          15179.660515296453,
          620.3596118336366,
          14454.35610920065
         ],
         "y": [
          "Carbon Capture",
          "Electric Infrastructure",
          "Electricity",
          "Electrolysis",
          "Gas Infrastructure",
          "Geothermal",
          "High Temperature Heat",
          "Hydro River & Dam",
          "Industry",
          "Low Temperature Heat",
          "Mobility",
          "Others",
          "PV",
          "Storage",
          "Wind"
         ]
        },
        {
         "marker": {
          "color": [
           "#A52A2A",
           "#000000",
           "#808080",
           "#66CDAA",
           "#B22222",
           "#D3B9DA",
           "#FF6692",
           "#008080",
           "#006400",
           "#FECB52",
           "#8B0000",
           "#EF553B",
           "#FFD700",
           "#ADD8E6",
           "#0000FF"
          ]
         },
         "orientation": "h",
         "showlegend": false,
         "type": "bar",
         "x": [
          0,
          0,
          0.0002959770315341531,
          0,
          18774.554562115554,
          0,
          172.74469806868,
          180.79523914304445,
          0.00008536615678167436,
          593.306477941529,
          0,
          0,
          23213.019704489663,
          4102.101707794775,
          0
         ],
         "y": [
          "Carbon Capture",
          "Electric Infrastructure",
          "Electricity",
          "Electrolysis",
          "Gas Infrastructure",
          "Geothermal",
          "High Temperature Heat",
          "Hydro River & Dam",
          "Industry",
          "Low Temperature Heat",
          "Mobility",
          "Others",
          "PV",
          "Storage",
          "Wind"
         ]
        }
       ],
       "layout": {
        "annotations": [
         {
          "font": {
           "size": 12
          },
          "showarrow": false,
          "text": "215467",
          "x": -215467.0132106819,
          "xanchor": "right",
          "xshift": -5,
          "y": "Electric Infrastructure"
         },
         {
          "font": {
           "size": 12
          },
          "showarrow": false,
          "text": "178286",
          "x": 178286.3745485915,
          "xanchor": "left",
          "xshift": 5,
          "y": "Electric Infrastructure"
         },
         {
          "bgcolor": "rgba(255, 255, 255, 0.6)",
          "font": {
           "size": 8
          },
          "showarrow": false,
          "text": "37181",
          "x": -196876.6938796367,
          "y": "Electric Infrastructure"
         },
         {
          "font": {
           "size": 12
          },
          "showarrow": false,
          "text": "0",
          "x": -0.04105597471332117,
          "xanchor": "right",
          "xshift": -5,
          "y": "Electricity"
         },
         {
          "font": {
           "size": 12
          },
          "showarrow": false,
          "text": "0",
          "x": 0.04135195174485532,
          "xanchor": "left",
          "xshift": 5,
          "y": "Electricity"
         },
         {
          "bgcolor": "rgba(255, 255, 255, 0.6)",
          "font": {
           "size": 8
          },
          "showarrow": false,
          "text": "0",
          "x": 0.041203963229088245,
          "y": "Electricity"
         },
         {
          "font": {
           "size": 12
          },
          "showarrow": false,
          "text": "8116",
          "x": -8115.507708257771,
          "xanchor": "right",
          "xshift": -5,
          "y": "Gas Infrastructure"
         },
         {
          "font": {
           "size": 12
          },
          "showarrow": false,
          "text": "26890",
          "x": 26890.062270373324,
          "xanchor": "left",
          "xshift": 5,
          "y": "Gas Infrastructure"
         },
         {
          "bgcolor": "rgba(255, 255, 255, 0.6)",
          "font": {
           "size": 8
          },
          "showarrow": false,
          "text": "18775",
          "x": 17502.784989315547,
          "y": "Gas Infrastructure"
         },
         {
          "font": {
           "size": 12
          },
          "showarrow": false,
          "text": "6424",
          "x": -6424.286644080811,
          "xanchor": "right",
          "xshift": -5,
          "y": "Geothermal"
         },
         {
          "font": {
           "size": 12
          },
          "showarrow": false,
          "text": "5835",
          "x": 5835.111321003181,
          "xanchor": "left",
          "xshift": 5,
          "y": "Geothermal"
         },
         {
          "bgcolor": "rgba(255, 255, 255, 0.6)",
          "font": {
           "size": 8
          },
          "showarrow": false,
          "text": "589",
          "x": -6129.698982541996,
          "y": "Geothermal"
         },
         {
          "font": {
           "size": 12
          },
          "showarrow": false,
          "text": "16923",
          "x": -16922.930871999997,
          "xanchor": "right",
          "xshift": -5,
          "y": "High Temperature Heat"
         },
         {
          "font": {
           "size": 12
          },
          "showarrow": false,
          "text": "17096",
          "x": 17095.675570068677,
          "xanchor": "left",
          "xshift": 5,
          "y": "High Temperature Heat"
         },
         {
          "bgcolor": "rgba(255, 255, 255, 0.6)",
          "font": {
           "size": 8
          },
          "showarrow": false,
          "text": "173",
          "x": 17009.303221034337,
          "y": "High Temperature Heat"
         },
         {
          "font": {
           "size": 12
          },
          "showarrow": false,
          "text": "32703",
          "x": -32702.7696,
          "xanchor": "right",
          "xshift": -5,
          "y": "Hydro River & Dam"
         },
         {
          "font": {
           "size": 12
          },
          "showarrow": false,
          "text": "32884",
          "x": 32883.564839143044,
          "xanchor": "left",
          "xshift": 5,
          "y": "Hydro River & Dam"
         },
         {
          "bgcolor": "rgba(255, 255, 255, 0.6)",
          "font": {
           "size": 8
          },
          "showarrow": false,
          "text": "181",
          "x": 32793.16721957152,
          "y": "Hydro River & Dam"
         },
         {
          "font": {
           "size": 12
          },
          "showarrow": false,
          "text": "10570",
          "x": -10569.503366828849,
          "xanchor": "right",
          "xshift": -5,
          "y": "Industry"
         },
         {
          "font": {
           "size": 12
          },
          "showarrow": false,
          "text": "10570",
          "x": 10569.503452195006,
          "xanchor": "left",
          "xshift": 5,
          "y": "Industry"
         },
         {
          "bgcolor": "rgba(255, 255, 255, 0.6)",
          "font": {
           "size": 8
          },
          "showarrow": false,
          "text": "0",
          "x": 10569.503409511926,
          "y": "Industry"
         },
         {
          "font": {
           "size": 12
          },
          "showarrow": false,
          "text": "56997",
          "x": -56996.64212980222,
          "xanchor": "right",
          "xshift": -5,
          "y": "Low Temperature Heat"
         },
         {
          "font": {
           "size": 12
          },
          "showarrow": false,
          "text": "57590",
          "x": 57589.94860774375,
          "xanchor": "left",
          "xshift": 5,
          "y": "Low Temperature Heat"
         },
         {
          "bgcolor": "rgba(255, 255, 255, 0.6)",
          "font": {
           "size": 8
          },
          "showarrow": false,
          "text": "593",
          "x": 57293.29536877298,
          "y": "Low Temperature Heat"
         },
         {
          "font": {
           "size": 12
          },
          "showarrow": false,
          "text": "179980",
          "x": -179979.50000000023,
          "xanchor": "right",
          "xshift": -5,
          "y": "Mobility"
         },
         {
          "font": {
           "size": 12
          },
          "showarrow": false,
          "text": "179979",
          "x": 179979.4999999999,
          "xanchor": "left",
          "xshift": 5,
          "y": "Mobility"
         },
         {
          "bgcolor": "rgba(255, 255, 255, 0.6)",
          "font": {
           "size": 8
          },
          "showarrow": false,
          "text": "0",
          "x": -179979.50000000006,
          "y": "Mobility"
         },
         {
          "font": {
           "size": 12
          },
          "showarrow": false,
          "text": "15180",
          "x": -15179.660515296453,
          "xanchor": "right",
          "xshift": -5,
          "y": "PV"
         },
         {
          "font": {
           "size": 12
          },
          "showarrow": false,
          "text": "38393",
          "x": 38392.68021978612,
          "xanchor": "left",
          "xshift": 5,
          "y": "PV"
         },
         {
          "bgcolor": "rgba(255, 255, 255, 0.6)",
          "font": {
           "size": 8
          },
          "showarrow": false,
          "text": "23213",
          "x": 26786.170367541286,
          "y": "PV"
         },
         {
          "font": {
           "size": 12
          },
          "showarrow": false,
          "text": "620",
          "x": -620.3596118336366,
          "xanchor": "right",
          "xshift": -5,
          "y": "Storage"
         },
         {
          "font": {
           "size": 12
          },
          "showarrow": false,
          "text": "4722",
          "x": 4722.461319628412,
          "xanchor": "left",
          "xshift": 5,
          "y": "Storage"
         },
         {
          "bgcolor": "rgba(255, 255, 255, 0.6)",
          "font": {
           "size": 8
          },
          "showarrow": false,
          "text": "4102",
          "x": 2671.4104657310245,
          "y": "Storage"
         },
         {
          "font": {
           "size": 12
          },
          "showarrow": false,
          "text": "33538",
          "x": -33538.4556834178,
          "xanchor": "right",
          "xshift": -5,
          "y": "Wind"
         },
         {
          "font": {
           "size": 12
          },
          "showarrow": false,
          "text": "14454",
          "x": 14454.35610920065,
          "xanchor": "left",
          "xshift": 5,
          "y": "Wind"
         },
         {
          "bgcolor": "rgba(255, 255, 255, 0.6)",
          "font": {
           "size": 8
          },
          "showarrow": false,
          "text": "19084",
          "x": -23996.405896309225,
          "y": "Wind"
         }
        ],
        "bargap": 0.38195302843016077,
        "barmode": "relative",
        "template": {
         "data": {
          "bar": [
           {
            "error_x": {
             "color": "#2a3f5f"
            },
            "error_y": {
             "color": "#2a3f5f"
            },
            "marker": {
             "line": {
              "color": "white",
              "width": 0.5
             },
             "pattern": {
              "fillmode": "overlay",
              "size": 10,
              "solidity": 0.2
             }
            },
            "type": "bar"
           }
          ],
          "barpolar": [
           {
            "marker": {
             "line": {
              "color": "white",
              "width": 0.5
             },
             "pattern": {
              "fillmode": "overlay",
              "size": 10,
              "solidity": 0.2
             }
            },
            "type": "barpolar"
           }
          ],
          "carpet": [
           {
            "aaxis": {
             "endlinecolor": "#2a3f5f",
             "gridcolor": "#C8D4E3",
             "linecolor": "#C8D4E3",
             "minorgridcolor": "#C8D4E3",
             "startlinecolor": "#2a3f5f"
            },
            "baxis": {
             "endlinecolor": "#2a3f5f",
             "gridcolor": "#C8D4E3",
             "linecolor": "#C8D4E3",
             "minorgridcolor": "#C8D4E3",
             "startlinecolor": "#2a3f5f"
            },
            "type": "carpet"
           }
          ],
          "choropleth": [
           {
            "colorbar": {
             "outlinewidth": 0,
             "ticks": ""
            },
            "type": "choropleth"
           }
          ],
          "contour": [
           {
            "colorbar": {
             "outlinewidth": 0,
             "ticks": ""
            },
            "colorscale": [
             [
              0,
              "#0d0887"
             ],
             [
              0.1111111111111111,
              "#46039f"
             ],
             [
              0.2222222222222222,
              "#7201a8"
             ],
             [
              0.3333333333333333,
              "#9c179e"
             ],
             [
              0.4444444444444444,
              "#bd3786"
             ],
             [
              0.5555555555555556,
              "#d8576b"
             ],
             [
              0.6666666666666666,
              "#ed7953"
             ],
             [
              0.7777777777777778,
              "#fb9f3a"
             ],
             [
              0.8888888888888888,
              "#fdca26"
             ],
             [
              1,
              "#f0f921"
             ]
            ],
            "type": "contour"
           }
          ],
          "contourcarpet": [
           {
            "colorbar": {
             "outlinewidth": 0,
             "ticks": ""
            },
            "type": "contourcarpet"
           }
          ],
          "heatmap": [
           {
            "colorbar": {
             "outlinewidth": 0,
             "ticks": ""
            },
            "colorscale": [
             [
              0,
              "#0d0887"
             ],
             [
              0.1111111111111111,
              "#46039f"
             ],
             [
              0.2222222222222222,
              "#7201a8"
             ],
             [
              0.3333333333333333,
              "#9c179e"
             ],
             [
              0.4444444444444444,
              "#bd3786"
             ],
             [
              0.5555555555555556,
              "#d8576b"
             ],
             [
              0.6666666666666666,
              "#ed7953"
             ],
             [
              0.7777777777777778,
              "#fb9f3a"
             ],
             [
              0.8888888888888888,
              "#fdca26"
             ],
             [
              1,
              "#f0f921"
             ]
            ],
            "type": "heatmap"
           }
          ],
          "heatmapgl": [
           {
            "colorbar": {
             "outlinewidth": 0,
             "ticks": ""
            },
            "colorscale": [
             [
              0,
              "#0d0887"
             ],
             [
              0.1111111111111111,
              "#46039f"
             ],
             [
              0.2222222222222222,
              "#7201a8"
             ],
             [
              0.3333333333333333,
              "#9c179e"
             ],
             [
              0.4444444444444444,
              "#bd3786"
             ],
             [
              0.5555555555555556,
              "#d8576b"
             ],
             [
              0.6666666666666666,
              "#ed7953"
             ],
             [
              0.7777777777777778,
              "#fb9f3a"
             ],
             [
              0.8888888888888888,
              "#fdca26"
             ],
             [
              1,
              "#f0f921"
             ]
            ],
            "type": "heatmapgl"
           }
          ],
          "histogram": [
           {
            "marker": {
             "pattern": {
              "fillmode": "overlay",
              "size": 10,
              "solidity": 0.2
             }
            },
            "type": "histogram"
           }
          ],
          "histogram2d": [
           {
            "colorbar": {
             "outlinewidth": 0,
             "ticks": ""
            },
            "colorscale": [
             [
              0,
              "#0d0887"
             ],
             [
              0.1111111111111111,
              "#46039f"
             ],
             [
              0.2222222222222222,
              "#7201a8"
             ],
             [
              0.3333333333333333,
              "#9c179e"
             ],
             [
              0.4444444444444444,
              "#bd3786"
             ],
             [
              0.5555555555555556,
              "#d8576b"
             ],
             [
              0.6666666666666666,
              "#ed7953"
             ],
             [
              0.7777777777777778,
              "#fb9f3a"
             ],
             [
              0.8888888888888888,
              "#fdca26"
             ],
             [
              1,
              "#f0f921"
             ]
            ],
            "type": "histogram2d"
           }
          ],
          "histogram2dcontour": [
           {
            "colorbar": {
             "outlinewidth": 0,
             "ticks": ""
            },
            "colorscale": [
             [
              0,
              "#0d0887"
             ],
             [
              0.1111111111111111,
              "#46039f"
             ],
             [
              0.2222222222222222,
              "#7201a8"
             ],
             [
              0.3333333333333333,
              "#9c179e"
             ],
             [
              0.4444444444444444,
              "#bd3786"
             ],
             [
              0.5555555555555556,
              "#d8576b"
             ],
             [
              0.6666666666666666,
              "#ed7953"
             ],
             [
              0.7777777777777778,
              "#fb9f3a"
             ],
             [
              0.8888888888888888,
              "#fdca26"
             ],
             [
              1,
              "#f0f921"
             ]
            ],
            "type": "histogram2dcontour"
           }
          ],
          "mesh3d": [
           {
            "colorbar": {
             "outlinewidth": 0,
             "ticks": ""
            },
            "type": "mesh3d"
           }
          ],
          "parcoords": [
           {
            "line": {
             "colorbar": {
              "outlinewidth": 0,
              "ticks": ""
             }
            },
            "type": "parcoords"
           }
          ],
          "pie": [
           {
            "automargin": true,
            "type": "pie"
           }
          ],
          "scatter": [
           {
            "fillpattern": {
             "fillmode": "overlay",
             "size": 10,
             "solidity": 0.2
            },
            "type": "scatter"
           }
          ],
          "scatter3d": [
           {
            "line": {
             "colorbar": {
              "outlinewidth": 0,
              "ticks": ""
             }
            },
            "marker": {
             "colorbar": {
              "outlinewidth": 0,
              "ticks": ""
             }
            },
            "type": "scatter3d"
           }
          ],
          "scattercarpet": [
           {
            "marker": {
             "colorbar": {
              "outlinewidth": 0,
              "ticks": ""
             }
            },
            "type": "scattercarpet"
           }
          ],
          "scattergeo": [
           {
            "marker": {
             "colorbar": {
              "outlinewidth": 0,
              "ticks": ""
             }
            },
            "type": "scattergeo"
           }
          ],
          "scattergl": [
           {
            "marker": {
             "colorbar": {
              "outlinewidth": 0,
              "ticks": ""
             }
            },
            "type": "scattergl"
           }
          ],
          "scattermapbox": [
           {
            "marker": {
             "colorbar": {
              "outlinewidth": 0,
              "ticks": ""
             }
            },
            "type": "scattermapbox"
           }
          ],
          "scatterpolar": [
           {
            "marker": {
             "colorbar": {
              "outlinewidth": 0,
              "ticks": ""
             }
            },
            "type": "scatterpolar"
           }
          ],
          "scatterpolargl": [
           {
            "marker": {
             "colorbar": {
              "outlinewidth": 0,
              "ticks": ""
             }
            },
            "type": "scatterpolargl"
           }
          ],
          "scatterternary": [
           {
            "marker": {
             "colorbar": {
              "outlinewidth": 0,
              "ticks": ""
             }
            },
            "type": "scatterternary"
           }
          ],
          "surface": [
           {
            "colorbar": {
             "outlinewidth": 0,
             "ticks": ""
            },
            "colorscale": [
             [
              0,
              "#0d0887"
             ],
             [
              0.1111111111111111,
              "#46039f"
             ],
             [
              0.2222222222222222,
              "#7201a8"
             ],
             [
              0.3333333333333333,
              "#9c179e"
             ],
             [
              0.4444444444444444,
              "#bd3786"
             ],
             [
              0.5555555555555556,
              "#d8576b"
             ],
             [
              0.6666666666666666,
              "#ed7953"
             ],
             [
              0.7777777777777778,
              "#fb9f3a"
             ],
             [
              0.8888888888888888,
              "#fdca26"
             ],
             [
              1,
              "#f0f921"
             ]
            ],
            "type": "surface"
           }
          ],
          "table": [
           {
            "cells": {
             "fill": {
              "color": "#EBF0F8"
             },
             "line": {
              "color": "white"
             }
            },
            "header": {
             "fill": {
              "color": "#C8D4E3"
             },
             "line": {
              "color": "white"
             }
            },
            "type": "table"
           }
          ]
         },
         "layout": {
          "annotationdefaults": {
           "arrowcolor": "#2a3f5f",
           "arrowhead": 0,
           "arrowwidth": 1
          },
          "autotypenumbers": "strict",
          "coloraxis": {
           "colorbar": {
            "outlinewidth": 0,
            "ticks": ""
           }
          },
          "colorscale": {
           "diverging": [
            [
             0,
             "#8e0152"
            ],
            [
             0.1,
             "#c51b7d"
            ],
            [
             0.2,
             "#de77ae"
            ],
            [
             0.3,
             "#f1b6da"
            ],
            [
             0.4,
             "#fde0ef"
            ],
            [
             0.5,
             "#f7f7f7"
            ],
            [
             0.6,
             "#e6f5d0"
            ],
            [
             0.7,
             "#b8e186"
            ],
            [
             0.8,
             "#7fbc41"
            ],
            [
             0.9,
             "#4d9221"
            ],
            [
             1,
             "#276419"
            ]
           ],
           "sequential": [
            [
             0,
             "#0d0887"
            ],
            [
             0.1111111111111111,
             "#46039f"
            ],
            [
             0.2222222222222222,
             "#7201a8"
            ],
            [
             0.3333333333333333,
             "#9c179e"
            ],
            [
             0.4444444444444444,
             "#bd3786"
            ],
            [
             0.5555555555555556,
             "#d8576b"
            ],
            [
             0.6666666666666666,
             "#ed7953"
            ],
            [
             0.7777777777777778,
             "#fb9f3a"
            ],
            [
             0.8888888888888888,
             "#fdca26"
            ],
            [
             1,
             "#f0f921"
            ]
           ],
           "sequentialminus": [
            [
             0,
             "#0d0887"
            ],
            [
             0.1111111111111111,
             "#46039f"
            ],
            [
             0.2222222222222222,
             "#7201a8"
            ],
            [
             0.3333333333333333,
             "#9c179e"
            ],
            [
             0.4444444444444444,
             "#bd3786"
            ],
            [
             0.5555555555555556,
             "#d8576b"
            ],
            [
             0.6666666666666666,
             "#ed7953"
            ],
            [
             0.7777777777777778,
             "#fb9f3a"
            ],
            [
             0.8888888888888888,
             "#fdca26"
            ],
            [
             1,
             "#f0f921"
            ]
           ]
          },
          "colorway": [
           "#636efa",
           "#EF553B",
           "#00cc96",
           "#ab63fa",
           "#FFA15A",
           "#19d3f3",
           "#FF6692",
           "#B6E880",
           "#FF97FF",
           "#FECB52"
          ],
          "font": {
           "color": "#2a3f5f"
          },
          "geo": {
           "bgcolor": "white",
           "lakecolor": "white",
           "landcolor": "white",
           "showlakes": true,
           "showland": true,
           "subunitcolor": "#C8D4E3"
          },
          "hoverlabel": {
           "align": "left"
          },
          "hovermode": "closest",
          "mapbox": {
           "style": "light"
          },
          "paper_bgcolor": "white",
          "plot_bgcolor": "white",
          "polar": {
           "angularaxis": {
            "gridcolor": "#EBF0F8",
            "linecolor": "#EBF0F8",
            "ticks": ""
           },
           "bgcolor": "white",
           "radialaxis": {
            "gridcolor": "#EBF0F8",
            "linecolor": "#EBF0F8",
            "ticks": ""
           }
          },
          "scene": {
           "xaxis": {
            "backgroundcolor": "white",
            "gridcolor": "#DFE8F3",
            "gridwidth": 2,
            "linecolor": "#EBF0F8",
            "showbackground": true,
            "ticks": "",
            "zerolinecolor": "#EBF0F8"
           },
           "yaxis": {
            "backgroundcolor": "white",
            "gridcolor": "#DFE8F3",
            "gridwidth": 2,
            "linecolor": "#EBF0F8",
            "showbackground": true,
            "ticks": "",
            "zerolinecolor": "#EBF0F8"
           },
           "zaxis": {
            "backgroundcolor": "white",
            "gridcolor": "#DFE8F3",
            "gridwidth": 2,
            "linecolor": "#EBF0F8",
            "showbackground": true,
            "ticks": "",
            "zerolinecolor": "#EBF0F8"
           }
          },
          "shapedefaults": {
           "line": {
            "color": "#2a3f5f"
           }
          },
          "ternary": {
           "aaxis": {
            "gridcolor": "#DFE8F3",
            "linecolor": "#A2B1C6",
            "ticks": ""
           },
           "baxis": {
            "gridcolor": "#DFE8F3",
            "linecolor": "#A2B1C6",
            "ticks": ""
           },
           "bgcolor": "white",
           "caxis": {
            "gridcolor": "#DFE8F3",
            "linecolor": "#A2B1C6",
            "ticks": ""
           }
          },
          "title": {
           "x": 0.05
          },
          "xaxis": {
           "automargin": true,
           "gridcolor": "#EBF0F8",
           "linecolor": "#EBF0F8",
           "ticks": "",
           "title": {
            "standoff": 15
           },
           "zerolinecolor": "#EBF0F8",
           "zerolinewidth": 2
          },
          "yaxis": {
           "automargin": true,
           "gridcolor": "#EBF0F8",
           "linecolor": "#EBF0F8",
           "ticks": "",
           "title": {
            "standoff": 15
           },
           "zerolinecolor": "#EBF0F8",
           "zerolinewidth": 2
          }
         }
        },
        "title": {
         "text": "Comparison Annual Production [GWh] between Run 1 and Run 5"
        },
        "xaxis": {
         "range": [
          -300000,
          300000
         ],
         "ticktext": [
          300000,
          240000,
          180000,
          120000,
          60000,
          0,
          60000,
          120000,
          180000,
          240000,
          300000
         ],
         "tickvals": [
          -300000,
          -240000,
          -180000,
          -120000,
          -60000,
          0,
          60000,
          120000,
          180000,
          240000,
          300000
         ],
         "title": {
          "text": "Annual Production [GWh]"
         },
         "zeroline": true
        },
        "yaxis": {
         "automargin": true,
         "tickcolor": "rgba(0,0,0,0)",
         "ticklabelposition": "outside",
         "ticklen": 20,
         "ticks": "outside",
         "title": {}
        }
       }
      }
     },
     "metadata": {},
     "output_type": "display_data"
    }
   ],
   "source": [
    "plot_comparison(results=results_ch_n, variable='C_inv_an', category='Sector', run1=1, run2=5,\n",
    "                labels={'C_inv_an': 'Annual Investment Costs'}).show()\n",
    "\n",
    "plot_comparison(results=results_ch_n, variable='Annual_Prod', category='Category_2', run1=1, run2=5,\n",
    "                labels={'Annual_Prod': 'Annual Production [GWh]'}).show()\n"
   ]
  },
  {
   "cell_type": "markdown",
   "metadata": {},
   "source": [
    "## Uncertainty calculation"
   ]
  },
  {
   "cell_type": "markdown",
   "metadata": {},
   "source": [
    "### Parameter definition "
   ]
  },
  {
   "cell_type": "code",
   "execution_count": 11,
   "metadata": {
    "ExecuteTime": {
     "end_time": "2024-10-01T13:08:47.131165Z",
     "start_time": "2024-10-01T13:08:47.117196Z"
    }
   },
   "outputs": [
    {
     "data": {
      "text/html": [
       "<div>\n",
       "<style scoped>\n",
       "    .dataframe tbody tr th:only-of-type {\n",
       "        vertical-align: middle;\n",
       "    }\n",
       "\n",
       "    .dataframe tbody tr th {\n",
       "        vertical-align: top;\n",
       "    }\n",
       "\n",
       "    .dataframe thead th {\n",
       "        text-align: right;\n",
       "    }\n",
       "</style>\n",
       "<table border=\"1\" class=\"dataframe\">\n",
       "  <thead>\n",
       "    <tr style=\"text-align: right;\">\n",
       "      <th></th>\n",
       "      <th>index0</th>\n",
       "      <th>value0</th>\n",
       "      <th>value1</th>\n",
       "      <th>value2</th>\n",
       "      <th>value3</th>\n",
       "      <th>value4</th>\n",
       "      <th>value5</th>\n",
       "      <th>value6</th>\n",
       "      <th>value7</th>\n",
       "      <th>param</th>\n",
       "      <th>index1</th>\n",
       "      <th>index2</th>\n",
       "      <th>index3</th>\n",
       "    </tr>\n",
       "  </thead>\n",
       "  <tbody>\n",
       "    <tr>\n",
       "      <th>0</th>\n",
       "      <td>NEW_HYDRO_DAM</td>\n",
       "      <td>0.041250</td>\n",
       "      <td>0.206250</td>\n",
       "      <td>0.041250</td>\n",
       "      <td>0.206250</td>\n",
       "      <td>0.261250</td>\n",
       "      <td>0.426250</td>\n",
       "      <td>0.261250</td>\n",
       "      <td>0.426250</td>\n",
       "      <td>c_inv</td>\n",
       "      <td>NaN</td>\n",
       "      <td>NaN</td>\n",
       "      <td>NaN</td>\n",
       "    </tr>\n",
       "    <tr>\n",
       "      <th>1</th>\n",
       "      <td>NEW_HYDRO_RIVER</td>\n",
       "      <td>0.398438</td>\n",
       "      <td>0.398438</td>\n",
       "      <td>0.557812</td>\n",
       "      <td>0.557812</td>\n",
       "      <td>0.823437</td>\n",
       "      <td>0.823437</td>\n",
       "      <td>0.132812</td>\n",
       "      <td>0.132812</td>\n",
       "      <td>c_inv</td>\n",
       "      <td>NaN</td>\n",
       "      <td>NaN</td>\n",
       "      <td>NaN</td>\n",
       "    </tr>\n",
       "  </tbody>\n",
       "</table>\n",
       "</div>"
      ],
      "text/plain": [
       "            index0    value0    value1    value2    value3    value4  \\\n",
       "0    NEW_HYDRO_DAM  0.041250  0.206250  0.041250  0.206250  0.261250   \n",
       "1  NEW_HYDRO_RIVER  0.398438  0.398438  0.557812  0.557812  0.823437   \n",
       "\n",
       "     value5    value6    value7  param  index1  index2  index3  \n",
       "0  0.426250  0.261250  0.426250  c_inv     NaN     NaN     NaN  \n",
       "1  0.823437  0.132812  0.132812  c_inv     NaN     NaN     NaN  "
      ]
     },
     "execution_count": 11,
     "metadata": {},
     "output_type": "execute_result"
    }
   ],
   "source": [
    "from energyscope.datasets import gen_sobol_sequence\n",
    "import numpy as np\n",
    "\n",
    "# Manual setting of the parameters\n",
    "parameters = [\n",
    "    {'name': 'NEW_HYDRO_DAM', 'lower_bound': 0, 'upper_bound': 0.44},\n",
    "    {'name': 'NEW_HYDRO_RIVER', 'lower_bound': 0, 'upper_bound': 0.85}\n",
    "]\n",
    "\n",
    "seq, prob = gen_sobol_sequence(parameters=parameters, trajectories=2)\n",
    "\n",
    "df = pd.DataFrame(seq, columns=prob['names']).T\n",
    "df.columns = ['value' + str(x) for x in list(df.columns) if not str(x) == \"nan\"]\n",
    "df = df.reset_index(names=['index0'])\n",
    "df['param'] = 'c_inv'\n",
    "\n",
    "df['index1'] = np.nan\n",
    "df['index2'] = np.nan\n",
    "df['index3'] = np.nan\n",
    "df"
   ]
  },
  {
   "cell_type": "markdown",
   "metadata": {},
   "source": [
    "### Setup runs"
   ]
  },
  {
   "cell_type": "code",
   "execution_count": 12,
   "metadata": {
    "ExecuteTime": {
     "end_time": "2024-10-01T13:09:24.055840Z",
     "start_time": "2024-10-01T13:09:07.784450Z"
    }
   },
   "outputs": [
    {
     "name": "stdout",
     "output_type": "stream",
     "text": [
      "Gurobi 11.0.0:Gurobi 11.0.0: optimal solution; objective 8151.373244\n",
      "6079 simplex iteration(s)\n",
      "1 branching node(s)\n",
      "absmipgap=0.102405, relmipgap=1.25629e-05\n",
      "Gurobi 11.0.0:Gurobi 11.0.0: optimal solution; objective 7965.253665\n",
      "5982 simplex iteration(s)\n",
      "1 branching node(s)\n",
      "absmipgap=0.297329, relmipgap=3.73283e-05\n",
      "1\n",
      "Gurobi 11.0.0:Gurobi 11.0.0: optimal solution; objective 7965.256419\n",
      "6165 simplex iteration(s)\n",
      "1 branching node(s)\n",
      "absmipgap=0.297481, relmipgap=3.73473e-05\n",
      "2\n",
      "Gurobi 11.0.0:Gurobi 11.0.0: optimal solution; objective 7965.258805\n",
      "6383 simplex iteration(s)\n",
      "1 branching node(s)\n",
      "absmipgap=0.297329, relmipgap=3.73282e-05\n",
      "3\n",
      "Gurobi 11.0.0:Gurobi 11.0.0: optimal solution; objective 7965.26156\n",
      "6812 simplex iteration(s)\n",
      "1 branching node(s)\n",
      "absmipgap=0.297329, relmipgap=3.73282e-05\n",
      "4\n",
      "Gurobi 11.0.0:Gurobi 11.0.0: optimal solution; objective 7965.271046\n",
      "5369 simplex iteration(s)\n",
      "1 branching node(s)\n",
      "absmipgap=0.297329, relmipgap=3.73281e-05\n",
      "5\n",
      "Gurobi 11.0.0:Gurobi 11.0.0: optimal solution; objective 7965.273801\n",
      "5304 simplex iteration(s)\n",
      "1 branching node(s)\n",
      "absmipgap=0.297329, relmipgap=3.73281e-05\n",
      "6\n",
      "Gurobi 11.0.0:Gurobi 11.0.0: optimal solution; objective 7965.24877\n",
      "5667 simplex iteration(s)\n",
      "1 branching node(s)\n",
      "absmipgap=0.297329, relmipgap=3.73282e-05\n",
      "7\n",
      "Gurobi 11.0.0:Gurobi 11.0.0: optimal solution; objective 7965.251525\n",
      "6027 simplex iteration(s)\n",
      "1 branching node(s)\n",
      "absmipgap=0.297329, relmipgap=3.73282e-05\n",
      "8\n"
     ]
    }
   ],
   "source": [
    "\n",
    "results_ch_n = es_model_ch.calc_sequence(df)"
   ]
  },
  {
   "cell_type": "markdown",
   "metadata": {},
   "source": [
    "### Calculate KPIs"
   ]
  },
  {
   "cell_type": "code",
   "execution_count": 13,
   "metadata": {
    "ExecuteTime": {
     "end_time": "2024-10-01T13:09:27.423913Z",
     "start_time": "2024-10-01T13:09:27.354203Z"
    }
   },
   "outputs": [],
   "source": [
    "# Postcompute KPIs\n",
    "KPI_ch_n = postprocessing(results_ch_n, df_monthly=True)"
   ]
  },
  {
   "cell_type": "markdown",
   "metadata": {},
   "source": [
    "### Plot Parity"
   ]
  },
  {
   "cell_type": "code",
   "execution_count": 14,
   "metadata": {
    "ExecuteTime": {
     "end_time": "2024-10-01T13:09:31.686135Z",
     "start_time": "2024-10-01T13:09:29.591336Z"
    }
   },
   "outputs": [
    {
     "data": {
      "text/plain": [
       "<seaborn.axisgrid.PairGrid at 0x137cdffe0>"
      ]
     },
     "execution_count": 14,
     "metadata": {},
     "output_type": "execute_result"
    },
    {
     "data": {
      "image/png": "[encoded data removed]",
      "text/plain": [
       "<Figure size 1000x1000 with 20 Axes>"
      ]
     },
     "metadata": {},
     "output_type": "display_data"
    }
   ],
   "source": [
    "import seaborn as sns\n",
    "\n",
    "df_annual = KPI_ch_n.postprocessing['df_annual']\n",
    "df_annual = df_annual.loc[:, ['F_Mult']]\n",
    "df_annual = df_annual.reset_index()\n",
    "\n",
    "df_annual = pd.pivot_table(df_annual, values='F_Mult', index=['Run'], columns='level_0')\n",
    "df_annual.sample(5)\n",
    "cols = ['PV_LV', 'WIND', 'NEW_HYDRO_DAM', 'NEW_HYDRO_RIVER']\n",
    "sns.pairplot(df_annual[cols].fillna(0)[cols], diag_kind=\"kde\")"
   ]
  }
 ],
 "metadata": {
  "kernelspec": {
   "display_name": ".es",
   "language": "python",
   "name": "python3"
  },
  "language_info": {
   "codemirror_mode": {
    "name": "ipython",
    "version": 3
   },
   "file_extension": ".py",
   "mimetype": "text/x-python",
   "name": "python",
   "nbconvert_exporter": "python",
   "pygments_lexer": "ipython3",
   "version": "3.12.4"
  }
 },
 "nbformat": 4,
 "nbformat_minor": 2
}
