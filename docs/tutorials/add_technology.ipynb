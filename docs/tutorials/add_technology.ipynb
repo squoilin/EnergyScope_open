{
 "cells": [
  {
   "cell_type": "markdown",
   "id": "7132b353",
   "metadata": {},
   "source": [
    "# Add a New Technology\n",
    "\n",
    "In this tutorial, we will learn how to add a new technology to the EnergyScope model using the `add_technology` function. This allows you to define the characteristics of a new technology and integrate it into an existing energy system model, such as `infrastructure`. We will go through each step required to successfully add the technology, solve the model, and visualize the results.\n",
    "\n",
    "## Step-by-Step Instructions\n",
    "\n",
    "To add a new technology, follow these steps:\n",
    "\n",
    "### 1. Set Up Your Project Environment\n",
    "\n",
    "Ensure that your project directory is properly structured and contains the necessary files and folders. Your project should look like this:\n",
    "\n",
    "```\n",
    "your_project/\n",
    "├── output/          # This folder will contain the .dat file for the new technology\n",
    "├── your_script.py   # The script where you will add the new technology\n",
    "```\n",
    "\n",
    "- **`output/`**: Directory where the generated `.dat` file for the new technology will be saved.\n",
    "- **`your_script.py`**: Python script where you will write the code to add the new technology.\n",
    "\n",
    "### 2. Import Necessary Libraries and Initialize the Model\n",
    "\n",
    "First, import the required classes and functions from the `energyscope` package and initialize the existing model (e.g., `infrastructure`)."
   ]
  },
  {
   "cell_type": "code",
   "execution_count": 1,
   "id": "11ec8b99",
   "metadata": {},
   "outputs": [],
   "source": [
    "from energyscope.energyscope import Energyscope\n",
    "from energyscope.result import postprocessing\n",
    "from energyscope.plots import plot_sankey\n",
    "from energyscope.models import infrastructure_ch_2050\n",
    "\n",
    "# Initialize the EnergyScope model with the 'infrastructure' dataset\n",
    "es_infra_ch = Energyscope(model=infrastructure_ch_2050)"
   ]
  },
  {
   "cell_type": "markdown",
   "id": "349fbf5f",
   "metadata": {},
   "source": [
    "\n",
    "\n",
    "- **`Energyscope`**: Main class to interact with the EnergyScope model.\n",
    "- **`postprocessing`**: Function to process results after the model run.\n",
    "- **`plot_sankey`**: Function to generate a Sankey diagram for visualization.\n",
    "- **`infrastructure`**: Predefined model configuration focusing on energy infrastructure.\n",
    "\n",
    "### 3. Define the New Technology Parameters\n",
    "\n",
    "Next, define a dictionary containing all the necessary parameters for your new technology. These parameters include technical, economic, and environmental attributes."
   ]
  },
  {
   "cell_type": "code",
   "execution_count": 2,
   "id": "e3efa2aa",
   "metadata": {},
   "outputs": [],
   "source": [
    "# Define the parameters for the new technology\n",
    "name = 'Newtech'\n",
    "new_tech_params = {\n",
    "    'name': name,\n",
    "    'c_inv': 0.01,              # Investment cost (MCHF/GW)\n",
    "    'c_maint': 40,              # Maintenance cost (MCHF/GW)\n",
    "    'gwp_constr': 3900,         # Greenhouse gas emissions (ktCO2eq/GW)\n",
    "    'lifetime': 30,             # Lifetime of the technology (years)\n",
    "    'c_p': 1,                   # Capacity factor (%)\n",
    "    'fmin_perc': 0,             # Minimum % of production for its sector (%)\n",
    "    'fmax_perc': 1,             # Maximum % of production for its sector (%)\n",
    "    'f_min': 0,                 # Minimum installed capacity (GW)\n",
    "    'f_max': 20,                # Maximum installed capacity (GW)\n",
    "    'c_p_t': {                  # Variable capacity factor (%) per time step\n",
    "        1: 0.0848,\n",
    "        2: 0.1504,\n",
    "        3: 0.1920,\n",
    "        4: 0.2448,\n",
    "        5: 0.2496,\n",
    "        6: 0.2512,\n",
    "        7: 0.2624,\n",
    "        8: 0.2496,\n",
    "        9: 0.2048,\n",
    "        10: 0.1408,\n",
    "        11: 0.0832,\n",
    "        12: 0.0576\n",
    "    },\n",
    "    'layers_in_out': {          # Input and output layers with their coefficients\n",
    "        'ELECTRICITY_MV': 0.5,\n",
    "        'HEAT_LOW_T_DHN': 1,\n",
    "        'WOOD': -1\n",
    "    },\n",
    "    'tech_sets': {              # Sets to which the technology belongs\n",
    "        'TECHNOLOGIES_OF_END_USES_TYPE': ['HEAT_LOW_T_DHN', 'ELECTRICITY_MV']\n",
    "    }\n",
    "}"
   ]
  },
  {
   "cell_type": "markdown",
   "id": "819fe1be",
   "metadata": {},
   "source": [
    "\n",
    "\n",
    "- **Key Parameters**:\n",
    "  - **`name`**: Unique identifier for the technology.\n",
    "  - **`c_inv`**: Investment cost per GW.\n",
    "  - **`c_maint`**: Annual maintenance cost per GW.\n",
    "  - **`gwp_constr`**: Greenhouse gas emissions associated per GW installed.\n",
    "  - **`lifetime`**: Expected operational lifetime.\n",
    "  - **`c_p`**: Capacity factor.\n",
    "  - **`fmin_perc`**, **`fmax_perc`**: Minimum and maximum % of production for its sector.\n",
    "  - **`f_min`**, **`f_max`**: Minimum and maximum installed capacity in GW.\n",
    "  - **`c_p_t`**: Variable capacity factor (%) per time step (e.g., months).\n",
    "  - **`layers_in_out`**: Defines the input and output flows between layers, with positive values for outputs and negative for inputs.\n",
    "  - **`tech_sets`**: Specifies the sets or categories the technology belongs to, which affects how it interacts with other model components.\n",
    "\n",
    "### 4. Add the New Technology to the Model\n",
    "\n",
    "Use the `add_technology` method of the `Energyscope` class to integrate the new technology into the model. This method generates the necessary `.dat` file in the specified output directory."
   ]
  },
  {
   "cell_type": "code",
   "execution_count": 3,
   "id": "ffb43c3c",
   "metadata": {},
   "outputs": [
    {
     "name": "stdout",
     "output_type": "stream",
     "text": [
      "trl is not defined, default value: 9 will be used.\n",
      "Technology 'Newtech' successfully added and saved in ./tutorial_output/Newtech.dat\n"
     ]
    }
   ],
   "source": [
    "# Add the new technology and save the .dat file in the output folder\n",
    "es_infra_ch.add_technology(tech_parameters=new_tech_params, output_dir=\"./tutorial_output\")"
   ]
  },
  {
   "cell_type": "markdown",
   "id": "c9ed8d04",
   "metadata": {},
   "source": [
    "\n",
    "\n",
    "- **`tech_parameters`**: The dictionary containing your new technology's parameters.\n",
    "- **`output_dir`**: Directory where the generated `.dat` file will be saved.\n",
    "\n",
    "> **Note**: Ensure that the `output/` directory exists in your project folder. The `.dat` file is essential as it contains the data that the EnergyScope model uses during the optimization process.\n",
    "\n",
    "### 5. Solve the Model with the New Technology\n",
    "\n",
    "Now that the new technology is added, solve the model to see how the inclusion of the new technology affects the energy system configuration."
   ]
  },
  {
   "cell_type": "code",
   "execution_count": 4,
   "id": "7815b6e6",
   "metadata": {},
   "outputs": [
    {
     "name": "stdout",
     "output_type": "stream",
     "text": [
      "Gurobi 11.0.0:Gurobi 11.0.0: optimal solution; objective 8151.37247\n",
      "4940 simplex iteration(s)\n",
      "1 branching node(s)\n",
      "absmipgap=0.102407, relmipgap=1.25632e-05\n"
     ]
    }
   ],
   "source": [
    "# Solve the model\n",
    "results_ch = es_infra_ch.calc()"
   ]
  },
  {
   "cell_type": "markdown",
   "id": "0deda899",
   "metadata": {},
   "source": [
    "\n",
    "\n",
    "- **`results_ch`**: This variable stores the results of the model run, including variables, parameters, and other outputs.\n",
    "\n",
    "> **Note**: The computation time may vary depending on the complexity of the model and the capabilities of your system.\n",
    "\n",
    "### 6. Post-Process and Visualize the Results\n",
    "\n",
    "After solving the model, you can analyze the results by post-processing and visualizing them.\n",
    "\n",
    "#### Post-Process the Results"
   ]
  },
  {
   "cell_type": "code",
   "execution_count": 5,
   "id": "552dc6cb",
   "metadata": {},
   "outputs": [],
   "source": [
    "# Post-process the results to compute KPIs and prepare for visualization\n",
    "results_ch = postprocessing(results_ch)"
   ]
  },
  {
   "cell_type": "markdown",
   "id": "9c56d84b",
   "metadata": {},
   "source": [
    "\n",
    "\n",
    "- The `postprocessing` function enriches the results with additional analysis, making them ready for interpretation and plotting.\n",
    "\n",
    "#### Generate and Display a Sankey Diagram\n",
    "\n",
    "A Sankey diagram visually represents the energy flows within the system, showing how the new technology interacts with other components."
   ]
  },
  {
   "cell_type": "code",
   "execution_count": 6,
   "id": "ac22015b",
   "metadata": {},
   "outputs": [
    {
     "data": {
      "application/vnd.plotly.v1+json": {
       "config": {
        "plotlyServerURL": "https://plot.ly"
       },
       "data": [
        {
         "link": {
          "color": [
           "rgba(181, 31, 31, 0.50)",
           "rgba(181, 31, 31, 0.50)",
           "rgba(181, 31, 31, 0.50)",
           "rgba(181, 31, 31, 0.50)",
           "rgba(128, 128, 128, 0.50)",
           "rgba(128, 128, 128, 0.50)",
           "rgba(128, 128, 128, 0.50)",
           "rgba(181, 31, 31, 0.50)",
           "rgba(181, 31, 31, 0.50)",
           "rgba(255, 225, 0, 0.50)",
           "rgba(165, 218, 0, 0.50)",
           "rgba(179, 123, 68, 0.50)",
           "rgba(205, 133, 63, 0.50)",
           "rgba(181, 31, 31, 0.50)",
           "rgba(181, 31, 31, 0.50)",
           "rgba(181, 31, 31, 0.50)",
           "rgba(181, 31, 31, 0.50)",
           "rgba(181, 31, 31, 0.50)",
           "rgba(0, 0, 0, 0.50)",
           "rgba(0, 206, 209, 0.50)",
           "rgba(0, 206, 209, 0.50)",
           "rgba(0, 0, 255, 0.50)",
           "rgba(128, 128, 128, 0.50)",
           "rgba(250, 128, 114, 0.50)",
           "rgba(250, 128, 114, 0.50)",
           "rgba(250, 128, 114, 0.50)",
           "rgba(0, 206, 209, 0.50)",
           "rgba(205, 133, 63, 0.50)",
           "rgba(0, 0, 0, 0.50)",
           "rgba(0, 0, 0, 0.50)",
           "rgba(0, 0, 0, 0.50)",
           "rgba(0, 0, 0, 0.50)",
           "rgba(0, 0, 0, 0.50)",
           "rgba(0, 0, 0, 0.50)",
           "rgba(128, 128, 128, 0.50)",
           "rgba(165, 218, 0, 0.50)",
           "rgba(0, 191, 255, 0.50)",
           "rgba(0, 191, 255, 0.50)",
           "rgba(0, 191, 255, 0.50)",
           "rgba(0, 191, 255, 0.50)",
           "rgba(0, 191, 255, 0.50)",
           "rgba(0, 191, 255, 0.50)",
           "rgba(0, 191, 255, 0.50)",
           "rgba(0, 191, 255, 0.50)",
           "rgba(0, 191, 255, 0.50)",
           "rgba(0, 191, 255, 0.50)",
           "rgba(0, 191, 255, 0.50)",
           "rgba(0, 191, 255, 0.50)",
           "rgba(0, 191, 255, 0.50)",
           "rgba(0, 191, 255, 0.50)",
           "rgba(0, 191, 255, 0.50)",
           "rgba(0, 191, 255, 0.50)",
           "rgba(0, 191, 255, 0.50)",
           "rgba(0, 191, 255, 0.50)",
           "rgba(0, 191, 255, 0.50)",
           "rgba(255, 215, 0, 0.50)",
           "rgba(255, 215, 0, 0.50)",
           "rgba(255, 215, 0, 0.50)",
           "rgba(255, 215, 0, 0.50)",
           "rgba(255, 225, 0, 0.50)",
           "rgba(255, 215, 0, 0.50)",
           "rgba(255, 215, 0, 0.50)",
           "rgba(255, 215, 0, 0.50)"
          ],
          "label": [
           38550.93251739014,
           6424.224554282476,
           18011.536802343522,
           0.0004260315921408574,
           2.873070088070895e-12,
           2.873070088070895e-12,
           2.873070088070895e-12,
           434.2012417813455,
           434.2012417813455,
           5284.745762711865,
           5.071764491361283e-13,
           12472.000000000002,
           0.0289755610652217,
           5179.092280195872,
           1692.2931241781357,
           3083.992680705951,
           6967.553156701387,
           0.0289755610652217,
           6424.224554282476,
           16122.6096,
           16580.16,
           33538.41164798836,
           2.873070088070895e-12,
           6853.248535064764,
           2063.7514649352365,
           8917.000000000002,
           12472,
           0.0289755610652217,
           520.5841569600001,
           4239.540830000005,
           1151.9683202999995,
           1463.2592,
           2762.8508494999996,
           612.1907999999996,
           4.4302352177314504e-12,
           5.071764491361284e-13,
           6967.553156701387,
           12849.025808046132,
           4502.8842005858805,
           16580.16,
           211.38983050847457,
           16122.6096,
           1370.5263473057248,
           0.01448778053261085,
           5268.860515296454,
           9910.8,
           33538.41164798836,
           8895.76,
           25871.84,
           7403.6,
           520.5841569600001,
           4239.54083,
           1151.9683202999995,
           4226.110049499999,
           612.1907999999996,
           310.1871689806296,
           5284.745762711867,
           310.18716898062956,
           310.1871689806296,
           5284.745762711865,
           5284.745762711865,
           310.18716898062956,
           2.0058497425065303e-13
          ],
          "source": [
           16,
           5,
           16,
           32,
           11,
           12,
           13,
           14,
           17,
           19,
           21,
           22,
           23,
           0,
           0,
           3,
           6,
           30,
           33,
           34,
           34,
           35,
           38,
           42,
           42,
           43,
           44,
           46,
           1,
           2,
           4,
           40,
           40,
           41,
           11,
           24,
           7,
           7,
           7,
           18,
           19,
           20,
           3,
           30,
           31,
           31,
           45,
           7,
           7,
           7,
           7,
           7,
           7,
           7,
           7,
           27,
           27,
           28,
           29,
           36,
           37,
           39,
           27
          ],
          "target": [
           15,
           15,
           15,
           15,
           13,
           38,
           12,
           17,
           15,
           36,
           24,
           44,
           46,
           14,
           14,
           14,
           14,
           15,
           5,
           20,
           18,
           45,
           11,
           3,
           0,
           42,
           19,
           30,
           26,
           26,
           26,
           25,
           26,
           25,
           2,
           2,
           6,
           16,
           16,
           7,
           7,
           7,
           7,
           7,
           7,
           7,
           7,
           8,
           9,
           10,
           1,
           2,
           4,
           40,
           41,
           29,
           0,
           39,
           28,
           37,
           27,
           27,
           2
          ],
          "value": [
           38550.93251739014,
           6424.224554282476,
           18011.536802343522,
           0.0004260315921408574,
           2.873070088070895e-12,
           2.873070088070895e-12,
           2.873070088070895e-12,
           434.2012417813455,
           434.2012417813455,
           5284.745762711865,
           5.071764491361283e-13,
           12472.000000000002,
           0.0289755610652217,
           5179.092280195872,
           1692.2931241781357,
           3083.992680705951,
           6967.553156701387,
           0.0289755610652217,
           6424.224554282476,
           16122.6096,
           16580.16,
           33538.41164798836,
           2.873070088070895e-12,
           6853.248535064764,
           2063.7514649352365,
           8917.000000000002,
           12472,
           0.0289755610652217,
           520.5841569600001,
           4239.540830000005,
           1151.9683202999995,
           1463.2592,
           2762.8508494999996,
           612.1907999999996,
           4.4302352177314504e-12,
           5.071764491361284e-13,
           6967.553156701387,
           12849.025808046132,
           4502.8842005858805,
           16580.16,
           211.38983050847457,
           16122.6096,
           1370.5263473057248,
           0.01448778053261085,
           5268.860515296454,
           9910.8,
           33538.41164798836,
           8895.76,
           25871.84,
           7403.6,
           520.5841569600001,
           4239.54083,
           1151.9683202999995,
           4226.110049499999,
           612.1907999999996,
           310.1871689806296,
           5284.745762711867,
           310.18716898062956,
           310.1871689806296,
           5284.745762711865,
           5284.745762711865,
           310.18716898062956,
           2.0058497425065303e-13
          ]
         },
         "node": {
          "color": "#DCDCDC",
          "label": [
           "BOILER",
           "BUS",
           "CAR",
           "COGEN",
           "COMMUTER",
           "DHN_DEEP_GEO",
           "DIRECT_ELEC",
           "ELECTRICITY",
           "EUD_ELECTRICITY_HV",
           "EUD_ELECTRICITY_LV",
           "EUD_ELECTRICITY_MV",
           "GASOLINE",
           "GASOLINE_S",
           "GASO_STO",
           "HEAT_HIGH_T",
           "HEAT_LOW_T",
           "HP",
           "HT_LT",
           "HYDRO_DAM",
           "HYDRO_GAS",
           "HYDRO_RIVER",
           "IMP_METHANOL",
           "IMP_WET_BIOMASS",
           "IMP_WOOD",
           "METHANOL",
           "MOBILITY",
           "MOBILITY_PASSENGER",
           "NG",
           "NG_S",
           "NG_STO",
           "Newtech",
           "PV",
           "RENOVATION",
           "RES_GEO",
           "RES_HYDRO",
           "RES_WIND",
           "SNG",
           "SNG_NG",
           "STO_GASO",
           "STO_NG",
           "TRAIN",
           "TRUCK",
           "WASTE",
           "WASTE_BIO",
           "WET_BIOMASS",
           "WIND",
           "WOOD"
          ],
          "line": {
           "color": "black",
           "width": 0.5
          },
          "pad": 15,
          "thickness": 15
         },
         "type": "sankey",
         "valueformat": ".0f",
         "valuesuffix": ""
        }
       ],
       "layout": {
        "font": {
         "color": "black",
         "size": 10
        },
        "template": {
         "data": {
          "bar": [
           {
            "error_x": {
             "color": "#2a3f5f"
            },
            "error_y": {
             "color": "#2a3f5f"
            },
            "marker": {
             "line": {
              "color": "#E5ECF6",
              "width": 0.5
             },
             "pattern": {
              "fillmode": "overlay",
              "size": 10,
              "solidity": 0.2
             }
            },
            "type": "bar"
           }
          ],
          "barpolar": [
           {
            "marker": {
             "line": {
              "color": "#E5ECF6",
              "width": 0.5
             },
             "pattern": {
              "fillmode": "overlay",
              "size": 10,
              "solidity": 0.2
             }
            },
            "type": "barpolar"
           }
          ],
          "carpet": [
           {
            "aaxis": {
             "endlinecolor": "#2a3f5f",
             "gridcolor": "white",
             "linecolor": "white",
             "minorgridcolor": "white",
             "startlinecolor": "#2a3f5f"
            },
            "baxis": {
             "endlinecolor": "#2a3f5f",
             "gridcolor": "white",
             "linecolor": "white",
             "minorgridcolor": "white",
             "startlinecolor": "#2a3f5f"
            },
            "type": "carpet"
           }
          ],
          "choropleth": [
           {
            "colorbar": {
             "outlinewidth": 0,
             "ticks": ""
            },
            "type": "choropleth"
           }
          ],
          "contour": [
           {
            "colorbar": {
             "outlinewidth": 0,
             "ticks": ""
            },
            "colorscale": [
             [
              0,
              "#0d0887"
             ],
             [
              0.1111111111111111,
              "#46039f"
             ],
             [
              0.2222222222222222,
              "#7201a8"
             ],
             [
              0.3333333333333333,
              "#9c179e"
             ],
             [
              0.4444444444444444,
              "#bd3786"
             ],
             [
              0.5555555555555556,
              "#d8576b"
             ],
             [
              0.6666666666666666,
              "#ed7953"
             ],
             [
              0.7777777777777778,
              "#fb9f3a"
             ],
             [
              0.8888888888888888,
              "#fdca26"
             ],
             [
              1,
              "#f0f921"
             ]
            ],
            "type": "contour"
           }
          ],
          "contourcarpet": [
           {
            "colorbar": {
             "outlinewidth": 0,
             "ticks": ""
            },
            "type": "contourcarpet"
           }
          ],
          "heatmap": [
           {
            "colorbar": {
             "outlinewidth": 0,
             "ticks": ""
            },
            "colorscale": [
             [
              0,
              "#0d0887"
             ],
             [
              0.1111111111111111,
              "#46039f"
             ],
             [
              0.2222222222222222,
              "#7201a8"
             ],
             [
              0.3333333333333333,
              "#9c179e"
             ],
             [
              0.4444444444444444,
              "#bd3786"
             ],
             [
              0.5555555555555556,
              "#d8576b"
             ],
             [
              0.6666666666666666,
              "#ed7953"
             ],
             [
              0.7777777777777778,
              "#fb9f3a"
             ],
             [
              0.8888888888888888,
              "#fdca26"
             ],
             [
              1,
              "#f0f921"
             ]
            ],
            "type": "heatmap"
           }
          ],
          "heatmapgl": [
           {
            "colorbar": {
             "outlinewidth": 0,
             "ticks": ""
            },
            "colorscale": [
             [
              0,
              "#0d0887"
             ],
             [
              0.1111111111111111,
              "#46039f"
             ],
             [
              0.2222222222222222,
              "#7201a8"
             ],
             [
              0.3333333333333333,
              "#9c179e"
             ],
             [
              0.4444444444444444,
              "#bd3786"
             ],
             [
              0.5555555555555556,
              "#d8576b"
             ],
             [
              0.6666666666666666,
              "#ed7953"
             ],
             [
              0.7777777777777778,
              "#fb9f3a"
             ],
             [
              0.8888888888888888,
              "#fdca26"
             ],
             [
              1,
              "#f0f921"
             ]
            ],
            "type": "heatmapgl"
           }
          ],
          "histogram": [
           {
            "marker": {
             "pattern": {
              "fillmode": "overlay",
              "size": 10,
              "solidity": 0.2
             }
            },
            "type": "histogram"
           }
          ],
          "histogram2d": [
           {
            "colorbar": {
             "outlinewidth": 0,
             "ticks": ""
            },
            "colorscale": [
             [
              0,
              "#0d0887"
             ],
             [
              0.1111111111111111,
              "#46039f"
             ],
             [
              0.2222222222222222,
              "#7201a8"
             ],
             [
              0.3333333333333333,
              "#9c179e"
             ],
             [
              0.4444444444444444,
              "#bd3786"
             ],
             [
              0.5555555555555556,
              "#d8576b"
             ],
             [
              0.6666666666666666,
              "#ed7953"
             ],
             [
              0.7777777777777778,
              "#fb9f3a"
             ],
             [
              0.8888888888888888,
              "#fdca26"
             ],
             [
              1,
              "#f0f921"
             ]
            ],
            "type": "histogram2d"
           }
          ],
          "histogram2dcontour": [
           {
            "colorbar": {
             "outlinewidth": 0,
             "ticks": ""
            },
            "colorscale": [
             [
              0,
              "#0d0887"
             ],
             [
              0.1111111111111111,
              "#46039f"
             ],
             [
              0.2222222222222222,
              "#7201a8"
             ],
             [
              0.3333333333333333,
              "#9c179e"
             ],
             [
              0.4444444444444444,
              "#bd3786"
             ],
             [
              0.5555555555555556,
              "#d8576b"
             ],
             [
              0.6666666666666666,
              "#ed7953"
             ],
             [
              0.7777777777777778,
              "#fb9f3a"
             ],
             [
              0.8888888888888888,
              "#fdca26"
             ],
             [
              1,
              "#f0f921"
             ]
            ],
            "type": "histogram2dcontour"
           }
          ],
          "mesh3d": [
           {
            "colorbar": {
             "outlinewidth": 0,
             "ticks": ""
            },
            "type": "mesh3d"
           }
          ],
          "parcoords": [
           {
            "line": {
             "colorbar": {
              "outlinewidth": 0,
              "ticks": ""
             }
            },
            "type": "parcoords"
           }
          ],
          "pie": [
           {
            "automargin": true,
            "type": "pie"
           }
          ],
          "scatter": [
           {
            "fillpattern": {
             "fillmode": "overlay",
             "size": 10,
             "solidity": 0.2
            },
            "type": "scatter"
           }
          ],
          "scatter3d": [
           {
            "line": {
             "colorbar": {
              "outlinewidth": 0,
              "ticks": ""
             }
            },
            "marker": {
             "colorbar": {
              "outlinewidth": 0,
              "ticks": ""
             }
            },
            "type": "scatter3d"
           }
          ],
          "scattercarpet": [
           {
            "marker": {
             "colorbar": {
              "outlinewidth": 0,
              "ticks": ""
             }
            },
            "type": "scattercarpet"
           }
          ],
          "scattergeo": [
           {
            "marker": {
             "colorbar": {
              "outlinewidth": 0,
              "ticks": ""
             }
            },
            "type": "scattergeo"
           }
          ],
          "scattergl": [
           {
            "marker": {
             "colorbar": {
              "outlinewidth": 0,
              "ticks": ""
             }
            },
            "type": "scattergl"
           }
          ],
          "scattermapbox": [
           {
            "marker": {
             "colorbar": {
              "outlinewidth": 0,
              "ticks": ""
             }
            },
            "type": "scattermapbox"
           }
          ],
          "scatterpolar": [
           {
            "marker": {
             "colorbar": {
              "outlinewidth": 0,
              "ticks": ""
             }
            },
            "type": "scatterpolar"
           }
          ],
          "scatterpolargl": [
           {
            "marker": {
             "colorbar": {
              "outlinewidth": 0,
              "ticks": ""
             }
            },
            "type": "scatterpolargl"
           }
          ],
          "scatterternary": [
           {
            "marker": {
             "colorbar": {
              "outlinewidth": 0,
              "ticks": ""
             }
            },
            "type": "scatterternary"
           }
          ],
          "surface": [
           {
            "colorbar": {
             "outlinewidth": 0,
             "ticks": ""
            },
            "colorscale": [
             [
              0,
              "#0d0887"
             ],
             [
              0.1111111111111111,
              "#46039f"
             ],
             [
              0.2222222222222222,
              "#7201a8"
             ],
             [
              0.3333333333333333,
              "#9c179e"
             ],
             [
              0.4444444444444444,
              "#bd3786"
             ],
             [
              0.5555555555555556,
              "#d8576b"
             ],
             [
              0.6666666666666666,
              "#ed7953"
             ],
             [
              0.7777777777777778,
              "#fb9f3a"
             ],
             [
              0.8888888888888888,
              "#fdca26"
             ],
             [
              1,
              "#f0f921"
             ]
            ],
            "type": "surface"
           }
          ],
          "table": [
           {
            "cells": {
             "fill": {
              "color": "#EBF0F8"
             },
             "line": {
              "color": "white"
             }
            },
            "header": {
             "fill": {
              "color": "#C8D4E3"
             },
             "line": {
              "color": "white"
             }
            },
            "type": "table"
           }
          ]
         },
         "layout": {
          "annotationdefaults": {
           "arrowcolor": "#2a3f5f",
           "arrowhead": 0,
           "arrowwidth": 1
          },
          "autotypenumbers": "strict",
          "coloraxis": {
           "colorbar": {
            "outlinewidth": 0,
            "ticks": ""
           }
          },
          "colorscale": {
           "diverging": [
            [
             0,
             "#8e0152"
            ],
            [
             0.1,
             "#c51b7d"
            ],
            [
             0.2,
             "#de77ae"
            ],
            [
             0.3,
             "#f1b6da"
            ],
            [
             0.4,
             "#fde0ef"
            ],
            [
             0.5,
             "#f7f7f7"
            ],
            [
             0.6,
             "#e6f5d0"
            ],
            [
             0.7,
             "#b8e186"
            ],
            [
             0.8,
             "#7fbc41"
            ],
            [
             0.9,
             "#4d9221"
            ],
            [
             1,
             "#276419"
            ]
           ],
           "sequential": [
            [
             0,
             "#0d0887"
            ],
            [
             0.1111111111111111,
             "#46039f"
            ],
            [
             0.2222222222222222,
             "#7201a8"
            ],
            [
             0.3333333333333333,
             "#9c179e"
            ],
            [
             0.4444444444444444,
             "#bd3786"
            ],
            [
             0.5555555555555556,
             "#d8576b"
            ],
            [
             0.6666666666666666,
             "#ed7953"
            ],
            [
             0.7777777777777778,
             "#fb9f3a"
            ],
            [
             0.8888888888888888,
             "#fdca26"
            ],
            [
             1,
             "#f0f921"
            ]
           ],
           "sequentialminus": [
            [
             0,
             "#0d0887"
            ],
            [
             0.1111111111111111,
             "#46039f"
            ],
            [
             0.2222222222222222,
             "#7201a8"
            ],
            [
             0.3333333333333333,
             "#9c179e"
            ],
            [
             0.4444444444444444,
             "#bd3786"
            ],
            [
             0.5555555555555556,
             "#d8576b"
            ],
            [
             0.6666666666666666,
             "#ed7953"
            ],
            [
             0.7777777777777778,
             "#fb9f3a"
            ],
            [
             0.8888888888888888,
             "#fdca26"
            ],
            [
             1,
             "#f0f921"
            ]
           ]
          },
          "colorway": [
           "#636efa",
           "#EF553B",
           "#00cc96",
           "#ab63fa",
           "#FFA15A",
           "#19d3f3",
           "#FF6692",
           "#B6E880",
           "#FF97FF",
           "#FECB52"
          ],
          "font": {
           "color": "#2a3f5f"
          },
          "geo": {
           "bgcolor": "white",
           "lakecolor": "white",
           "landcolor": "#E5ECF6",
           "showlakes": true,
           "showland": true,
           "subunitcolor": "white"
          },
          "hoverlabel": {
           "align": "left"
          },
          "hovermode": "closest",
          "mapbox": {
           "style": "light"
          },
          "paper_bgcolor": "white",
          "plot_bgcolor": "#E5ECF6",
          "polar": {
           "angularaxis": {
            "gridcolor": "white",
            "linecolor": "white",
            "ticks": ""
           },
           "bgcolor": "#E5ECF6",
           "radialaxis": {
            "gridcolor": "white",
            "linecolor": "white",
            "ticks": ""
           }
          },
          "scene": {
           "xaxis": {
            "backgroundcolor": "#E5ECF6",
            "gridcolor": "white",
            "gridwidth": 2,
            "linecolor": "white",
            "showbackground": true,
            "ticks": "",
            "zerolinecolor": "white"
           },
           "yaxis": {
            "backgroundcolor": "#E5ECF6",
            "gridcolor": "white",
            "gridwidth": 2,
            "linecolor": "white",
            "showbackground": true,
            "ticks": "",
            "zerolinecolor": "white"
           },
           "zaxis": {
            "backgroundcolor": "#E5ECF6",
            "gridcolor": "white",
            "gridwidth": 2,
            "linecolor": "white",
            "showbackground": true,
            "ticks": "",
            "zerolinecolor": "white"
           }
          },
          "shapedefaults": {
           "line": {
            "color": "#2a3f5f"
           }
          },
          "ternary": {
           "aaxis": {
            "gridcolor": "white",
            "linecolor": "white",
            "ticks": ""
           },
           "baxis": {
            "gridcolor": "white",
            "linecolor": "white",
            "ticks": ""
           },
           "bgcolor": "#E5ECF6",
           "caxis": {
            "gridcolor": "white",
            "linecolor": "white",
            "ticks": ""
           }
          },
          "title": {
           "x": 0.05
          },
          "xaxis": {
           "automargin": true,
           "gridcolor": "white",
           "linecolor": "white",
           "ticks": "",
           "title": {
            "standoff": 15
           },
           "zerolinecolor": "white",
           "zerolinewidth": 2
          },
          "yaxis": {
           "automargin": true,
           "gridcolor": "white",
           "linecolor": "white",
           "ticks": "",
           "title": {
            "standoff": 15
           },
           "zerolinecolor": "white",
           "zerolinewidth": 2
          }
         }
        },
        "title": {
         "text": "Sankey Diagram"
        }
       }
      }
     },
     "metadata": {},
     "output_type": "display_data"
    }
   ],
   "source": [
    "# Generate the Sankey diagram based on the results\n",
    "fig = plot_sankey(results_ch)\n",
    "fig.show()"
   ]
  },
  {
   "cell_type": "markdown",
   "id": "e0257958",
   "metadata": {},
   "source": [
    "\n",
    "\n",
    "- **`fig`**: The figure object containing the Sankey diagram.\n",
    "- **`fig.show()`**: Displays the diagram within the notebook or interactive environment.\n",
    "\n",
    "> **Optional**: You can save the Sankey diagram as an image or HTML file for external use."
   ]
  },
  {
   "cell_type": "code",
   "execution_count": 7,
   "id": "11a68f25",
   "metadata": {},
   "outputs": [],
   "source": [
    "# Save the Sankey diagram as an image\n",
    "# fig.write_image('output/sankey_newtech.png')\n",
    "\n",
    "# Save the Sankey diagram as an HTML file\n",
    "# fig.write_html('output/sankey_newtech.html')"
   ]
  },
  {
   "cell_type": "markdown",
   "id": "f82d1528",
   "metadata": {},
   "source": [
    "\n",
    "\n",
    "### 7. Verify the Integration of the New Technology\n",
    "\n",
    "To ensure that the new technology has been successfully integrated into the model, you can check the results for the presence and performance of `Newtech`.\n",
    "\n",
    "#### Check Technology Capacities\n"
   ]
  },
  {
   "cell_type": "code",
   "execution_count": 8,
   "id": "29955601",
   "metadata": {},
   "outputs": [
    {
     "data": {
      "text/plain": [
       "F_Mult    0.000018\n",
       "Run       0.000000\n",
       "Name: Newtech, dtype: float64"
      ]
     },
     "execution_count": 8,
     "metadata": {},
     "output_type": "execute_result"
    }
   ],
   "source": [
    "# Access the capacities of technologies from the results\n",
    "tech_capacities = results_ch.variables['F_Mult']\n",
    "\n",
    "# Display the capacity of the new technology\n",
    "tech_capacities.loc['Newtech']"
   ]
  },
  {
   "cell_type": "markdown",
   "id": "bf4a6f69",
   "metadata": {},
   "source": [
    "\n",
    "\n",
    "- **`F_Mult`**: Represents the capacities or flow multipliers of technologies.\n",
    "- This step verifies whether `Newtech` appears in the results and provides its capacity value.\n",
    "\n",
    "#### Analyze Cost Contributions\n"
   ]
  },
  {
   "cell_type": "code",
   "execution_count": 9,
   "id": "10740cab",
   "metadata": {},
   "outputs": [
    {
     "data": {
      "text/html": [
       "<div>\n",
       "<style scoped>\n",
       "    .dataframe tbody tr th:only-of-type {\n",
       "        vertical-align: middle;\n",
       "    }\n",
       "\n",
       "    .dataframe tbody tr th {\n",
       "        vertical-align: top;\n",
       "    }\n",
       "\n",
       "    .dataframe thead th {\n",
       "        text-align: right;\n",
       "    }\n",
       "</style>\n",
       "<table border=\"1\" class=\"dataframe\">\n",
       "  <thead>\n",
       "    <tr style=\"text-align: right;\">\n",
       "      <th></th>\n",
       "      <th>C_inv</th>\n",
       "      <th>C_maint</th>\n",
       "      <th>Annual_Prod</th>\n",
       "      <th>F_Mult</th>\n",
       "      <th>tau</th>\n",
       "      <th>C_inv_an</th>\n",
       "      <th>Category</th>\n",
       "      <th>Category_2</th>\n",
       "      <th>Sector</th>\n",
       "    </tr>\n",
       "    <tr>\n",
       "      <th>Run</th>\n",
       "      <th></th>\n",
       "      <th></th>\n",
       "      <th></th>\n",
       "      <th></th>\n",
       "      <th></th>\n",
       "      <th></th>\n",
       "      <th></th>\n",
       "      <th></th>\n",
       "      <th></th>\n",
       "    </tr>\n",
       "  </thead>\n",
       "  <tbody>\n",
       "    <tr>\n",
       "      <th>0</th>\n",
       "      <td>1.827272e-07</td>\n",
       "      <td>0.000731</td>\n",
       "      <td>0.028976</td>\n",
       "      <td>0.000018</td>\n",
       "      <td>0.045981</td>\n",
       "      <td>8.401919e-09</td>\n",
       "      <td>Others</td>\n",
       "      <td>Others</td>\n",
       "      <td>Others</td>\n",
       "    </tr>\n",
       "  </tbody>\n",
       "</table>\n",
       "</div>"
      ],
      "text/plain": [
       "            C_inv   C_maint  Annual_Prod    F_Mult       tau      C_inv_an  \\\n",
       "Run                                                                          \n",
       "0    1.827272e-07  0.000731     0.028976  0.000018  0.045981  8.401919e-09   \n",
       "\n",
       "    Category Category_2  Sector  \n",
       "Run                              \n",
       "0     Others     Others  Others  "
      ]
     },
     "execution_count": 9,
     "metadata": {},
     "output_type": "execute_result"
    }
   ],
   "source": [
    "# Access the cost contributions from the results\n",
    "annual = results_ch.postprocessing['df_annual']\n",
    "\n",
    "# Filter costs related to the new technology\n",
    "annual.loc['Newtech']"
   ]
  },
  {
   "cell_type": "markdown",
   "id": "a1ae764e",
   "metadata": {},
   "source": [
    "\n",
    "\n",
    "- This allows you to see the investment, maintenance, and operational costs associated with `Newtech`.\n",
    "\n",
    "## Conclusion\n",
    "\n",
    "By following these steps, you have successfully added a new technology to the EnergyScope model, integrated it into the existing infrastructure, and solved the model to evaluate its performance. The generated `.dat` file contains all the necessary parameters for the new technology, and the model incorporates this data during the optimization process.\n",
    "\n",
    "This process enables you to:\n",
    "\n",
    "- **Expand the Model**: Include emerging or hypothetical technologies to explore their potential impact.\n",
    "- **Customize Analyses**: Tailor the energy system model to specific scenarios or research questions.\n",
    "- **Enhance Decision-Making**: Provide insights into how new technologies could be integrated into future energy systems.\n",
    "\n",
    "Remember to:\n",
    "\n",
    "- **Validate Parameters**: Ensure that the parameters for the new technology are realistic and consistent with the rest of the model.\n",
    "- **Check Model Compatibility**: Verify that the technology interacts appropriately with existing layers and sets in the model.\n",
    "- **Interpret Results Carefully**: Consider how the addition of the new technology affects the overall system, including costs, emissions, and energy flows.\n",
    "\n",
    "By mastering the addition of new technologies, you can make the EnergyScope model a powerful tool for exploring a wide range of energy system configurations and strategies.\n"
   ]
  }
 ],
 "metadata": {
  "kernelspec": {
   "display_name": ".venv",
   "language": "python",
   "name": "python3"
  },
  "language_info": {
   "codemirror_mode": {
    "name": "ipython",
    "version": 3
   },
   "file_extension": ".py",
   "mimetype": "text/x-python",
   "name": "python",
   "nbconvert_exporter": "python",
   "pygments_lexer": "ipython3",
   "version": "3.12.4"
  }
 },
 "nbformat": 4,
 "nbformat_minor": 5
}
