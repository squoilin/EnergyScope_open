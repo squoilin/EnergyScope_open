{
 "cells": [
  {
   "cell_type": "markdown",
   "metadata": {},
   "source": [
    "# Choose datasets"
   ]
  },
  {
   "cell_type": "markdown",
   "metadata": {},
   "source": [
    "---\n",
    "## Import Necessary Libraries and Modules\n",
    "\n",
    "First, we import the essential libraries and modules required for this tutorial:\n",
    "\n",
    "- **`pandas` as `pd`**: A powerful data manipulation library.\n",
    "- **`Energyscope` from `energyscope.energyscope`**: The main class to initialize and run the EnergyScope model.\n",
    "- **`infrastructure_qc_2020` from `energyscope.models`**: Predefined models for different regions or configurations.\n",
    "- **`postprocessing` from `energyscope.result`**: Functions and classes for handling and processing results.\n",
    "- **`plot_sankey` from `energyscope.plots`**: Functions to create Sankey diagrams for visualizing energy flows.\n",
    "\n"
   ]
  },
  {
   "cell_type": "code",
   "execution_count": 1,
   "metadata": {},
   "outputs": [],
   "source": [
    "import pandas as pd\n",
    "from energyscope.energyscope import Energyscope\n",
    "from energyscope.models import infrastructure_qc_2020\n",
    "from energyscope.result import postprocessing\n",
    "from energyscope.plots import  plot_sankey"
   ]
  },
  {
   "cell_type": "markdown",
   "metadata": {},
   "source": [
    "\n",
    "---\n",
    "## Define Solver Options\n",
    "\n",
    "The solver options determine how the optimization solver behaves during the calculation. In this section, we demonstrate two methods to specify these options:\n",
    "### Directly in the Code \n",
    "You can define the solver options directly within your script by creating a dictionary.\n"
   ]
  },
  {
   "cell_type": "code",
   "execution_count": 2,
   "metadata": {},
   "outputs": [],
   "source": [
    "solver_options = {\n",
    "    'solver': 'cplex',\n",
    "    'presolve_eps': 5e-9,\n",
    "    'presolve_fixeps': 7e-10,\n",
    "    'mipgap': 1e-10,\n",
    "    'display_eps': 1e-10,\n",
    "    'omit_zero_rows': 1,\n",
    "    'omit_zero_cols': 1,\n",
    "    'show_stats': 1,\n",
    "    'solver_msg': 0,\n",
    "    'cplex_options': 'integrality=5e-7'\n",
    "}"
   ]
  },
  {
   "cell_type": "markdown",
   "metadata": {},
   "source": [
    "\n",
    "   - **Note**: These options are specific to the CPLEX solver and control aspects like presolve tolerances, MIP gap, and output display.\n",
    "### Loading from a CSV File \n",
    "Alternatively, you can load the solver options from a CSV file, which can be convenient for managing configurations externally.\n",
    "\n"
   ]
  },
  {
   "cell_type": "code",
   "execution_count": 3,
   "metadata": {},
   "outputs": [],
   "source": [
    "solver_options = pd.read_csv('tutorial_input/solver_options_infrastructure_qc_2020.csv')\n",
    "solver_options = dict(zip(solver_options['Option'], solver_options['Value']))   # Reformat dict"
   ]
  },
  {
   "cell_type": "markdown",
   "metadata": {},
   "source": [
    "\n",
    "   - Here, we read the CSV file into a Pandas DataFrame and then convert it into a dictionary that can be used by the model.\n",
    "\n",
    "After loading the solver options, you can inspect them to ensure they have been set correctly:"
   ]
  },
  {
   "cell_type": "code",
   "execution_count": 4,
   "metadata": {},
   "outputs": [
    {
     "data": {
      "text/plain": [
       "{'solver': 'cplex',\n",
       " 'presolve_eps': '5.00E-09',\n",
       " 'presolve_fixeps': '7.00E-10',\n",
       " 'mipgap': '1.00E-10',\n",
       " 'display_eps': '1.00E-10',\n",
       " 'omit_zero_rows': '1',\n",
       " 'omit_zero_cols': '1',\n",
       " 'show_stats': '1',\n",
       " 'solver_msg': '0',\n",
       " 'cplex_options': 'integrality=5e-7'}"
      ]
     },
     "execution_count": 4,
     "metadata": {},
     "output_type": "execute_result"
    }
   ],
   "source": [
    "solver_options"
   ]
  },
  {
   "cell_type": "markdown",
   "metadata": {},
   "source": [
    "---\n",
    "## Initialize and Run the Model with Specific Dataset and Solver Options\n",
    "\n",
    "In this section, we initialize the EnergyScope model using the **`infrastructure_qc_2020`** dataset and apply the custom solver options defined earlier.\n",
    "### Initialize the Model \n",
    "Create an instance of the `Energyscope` class with the `infrastructure_qc_2020` model and the specified solver options."
   ]
  },
  {
   "cell_type": "code",
   "execution_count": 5,
   "metadata": {},
   "outputs": [],
   "source": [
    "es_infra_qc = Energyscope(model=infrastructure_qc_2020, solver_options=solver_options)"
   ]
  },
  {
   "cell_type": "markdown",
   "metadata": {},
   "source": [
    "\n",
    "\n",
    "   - **Model**: The `infrastructure_qc_2020` model represents the energy system of Quebec with monthly resolution.\n",
    "   - **Solver Options**: The `solver_options` dictionary configures the solver's behavior during optimization.\n",
    "### Run the Optimization \n",
    "Execute the calculation to solve the optimization problem."
   ]
  },
  {
   "cell_type": "code",
   "execution_count": 6,
   "metadata": {},
   "outputs": [
    {
     "name": "stdout",
     "output_type": "stream",
     "text": [
      "\n",
      "Presolve eliminates 18607 constraints and 13787 variables.\n",
      "Adjusted problem:\n",
      "12678 variables:\n",
      "\t814 binary variables\n",
      "\t11864 linear variables\n",
      "17405 constraints, all linear; 107580 nonzeros\n",
      "\t7892 equality constraints\n",
      "\t9513 inequality constraints\n",
      "1 linear objective; 1 nonzero.\n",
      "\n",
      "Setting $presolve_fixeps < 4.26e-10 or >= 5.26e-09\n",
      "could change presolve results.\n",
      "\n",
      "CPLEX 22.1.1.0: integrality=5e-7\n"
     ]
    }
   ],
   "source": [
    "results_qc = es_infra_qc.calc()"
   ]
  },
  {
   "cell_type": "markdown",
   "metadata": {},
   "source": [
    "\n",
    "\n",
    "   - This step runs the solver (e.g., CPLEX) with the specified options and computes the optimal energy system configuration.\n",
    "   - **Output**: You may see console outputs indicating the solver's progress and any warnings or errors.\n",
    "### Post-Process the Results \n",
    "After obtaining the raw results, we apply post-processing to compute Key Performance Indicators (KPIs) and prepare the data for visualization."
   ]
  },
  {
   "cell_type": "code",
   "execution_count": 7,
   "metadata": {},
   "outputs": [],
   "source": [
    "results_qc = postprocessing(results_qc)"
   ]
  },
  {
   "cell_type": "markdown",
   "metadata": {},
   "source": [
    "\n",
    "\n",
    "   - The `postprocessing` function enriches the results with additional analysis, making them ready for further interpretation and plotting.\n",
    "\n",
    "---\n",
    "## Visualize Results with a Sankey Diagram\n",
    "\n",
    "A Sankey diagram is an effective tool for visualizing energy flows within the system, showing how energy sources are converted and consumed.\n",
    "### Generate the Sankey Diagram \n",
    "Use the `plot_sankey` function with the processed results to create the diagram."
   ]
  },
  {
   "cell_type": "code",
   "execution_count": 8,
   "metadata": {},
   "outputs": [],
   "source": [
    "fig = plot_sankey(results_qc)"
   ]
  },
  {
   "cell_type": "markdown",
   "metadata": {},
   "source": [
    "\n",
    "\n",
    "   - This function processes the results and generates a Sankey diagram object.\n",
    "### Display the Diagram \n",
    "Render the Sankey diagram within the notebook for immediate visualization."
   ]
  },
  {
   "cell_type": "code",
   "execution_count": 9,
   "metadata": {},
   "outputs": [
    {
     "data": {
      "application/vnd.plotly.v1+json": {
       "config": {
        "plotlyServerURL": "https://plot.ly"
       },
       "data": [
        {
         "link": {
          "color": [
           "rgba(160, 82, 45, 0.50)",
           "rgba(181, 31, 31, 0.50)",
           "rgba(181, 31, 31, 0.50)",
           "rgba(181, 31, 31, 0.50)",
           "rgba(181, 31, 31, 0.50)",
           "rgba(181, 31, 31, 0.50)",
           "rgba(181, 31, 31, 0.50)",
           "rgba(255, 225, 0, 0.50)",
           "rgba(181, 31, 31, 0.50)",
           "rgba(181, 31, 31, 0.50)",
           "rgba(181, 31, 31, 0.50)",
           "rgba(181, 31, 31, 0.50)",
           "rgba(255, 225, 0, 0.50)",
           "rgba(160, 82, 45, 0.50)",
           "rgba(211, 211, 211, 0.50)",
           "rgba(128, 128, 128, 0.50)",
           "rgba(0, 0, 0, 0.50)",
           "rgba(139, 0, 139, 0.50)",
           "rgba(0, 0, 0, 0.50)",
           "rgba(179, 123, 68, 0.50)",
           "rgba(205, 133, 63, 0.50)",
           "rgba(181, 31, 31, 0.50)",
           "rgba(181, 31, 31, 0.50)",
           "rgba(181, 31, 31, 0.50)",
           "rgba(181, 31, 31, 0.50)",
           "rgba(181, 31, 31, 0.50)",
           "rgba(139, 0, 139, 0.50)",
           "rgba(139, 0, 139, 0.50)",
           "rgba(181, 31, 31, 0.50)",
           "rgba(0, 206, 209, 0.50)",
           "rgba(0, 206, 209, 0.50)",
           "rgba(255, 215, 0, 0.50)",
           "rgba(255, 165, 0, 0.50)",
           "rgba(250, 128, 114, 0.50)",
           "rgba(250, 128, 114, 0.50)",
           "rgba(0, 206, 209, 0.50)",
           "rgba(205, 133, 63, 0.50)",
           "rgba(205, 133, 63, 0.50)",
           "rgba(205, 133, 63, 0.50)",
           "rgba(0, 0, 0, 0.50)",
           "rgba(0, 0, 0, 0.50)",
           "rgba(0, 0, 0, 0.50)",
           "rgba(0, 0, 0, 0.50)",
           "rgba(0, 0, 0, 0.50)",
           "rgba(0, 0, 0, 0.50)",
           "rgba(0, 0, 0, 0.50)",
           "rgba(0, 0, 0, 0.50)",
           "rgba(0, 0, 0, 0.50)",
           "rgba(0, 0, 0, 0.50)",
           "rgba(0, 0, 0, 0.50)",
           "rgba(0, 0, 0, 0.50)",
           "rgba(0, 0, 0, 0.50)",
           "rgba(0, 0, 0, 0.50)",
           "rgba(0, 0, 0, 0.50)",
           "rgba(0, 0, 0, 0.50)",
           "rgba(0, 0, 0, 0.50)",
           "rgba(0, 0, 0, 0.50)",
           "rgba(211, 211, 211, 0.50)",
           "rgba(0, 0, 0, 0.50)",
           "rgba(211, 211, 211, 0.50)",
           "rgba(128, 128, 128, 0.50)",
           "rgba(211, 211, 211, 0.50)",
           "rgba(128, 128, 128, 0.50)",
           "rgba(0, 0, 0, 0.50)",
           "rgba(211, 211, 211, 0.50)",
           "rgba(211, 211, 211, 0.50)",
           "rgba(128, 128, 128, 0.50)",
           "rgba(0, 0, 0, 0.50)",
           "rgba(211, 211, 211, 0.50)",
           "rgba(128, 128, 128, 0.50)",
           "rgba(0, 0, 0, 0.50)",
           "rgba(211, 211, 211, 0.50)",
           "rgba(0, 0, 0, 0.50)",
           "rgba(211, 211, 211, 0.50)",
           "rgba(128, 128, 128, 0.50)",
           "rgba(211, 211, 211, 0.50)",
           "rgba(211, 211, 211, 0.50)",
           "rgba(0, 0, 0, 0.50)",
           "rgba(0, 0, 0, 0.50)",
           "rgba(0, 0, 0, 0.50)",
           "rgba(0, 206, 209, 0.50)",
           "rgba(0, 206, 209, 0.50)",
           "rgba(0, 206, 209, 0.50)",
           "rgba(0, 0, 0, 0.50)",
           "rgba(255, 215, 0, 0.50)",
           "rgba(0, 0, 0, 0.50)",
           "rgba(0, 0, 0, 0.50)",
           "rgba(0, 0, 0, 0.50)",
           "rgba(0, 0, 0, 0.50)",
           "rgba(0, 0, 0, 0.50)",
           "rgba(0, 0, 0, 0.50)",
           "rgba(0, 0, 0, 0.50)",
           "rgba(0, 0, 0, 0.50)",
           "rgba(0, 0, 0, 0.50)",
           "rgba(0, 0, 0, 0.50)",
           "rgba(255, 225, 0, 0.50)",
           "rgba(255, 225, 0, 0.50)",
           "rgba(0, 0, 0, 0.50)"
          ],
          "label": [
           1776.020543639923,
           23318.101180000005,
           6744.905300000006,
           7130.328460000002,
           53188.39608000007,
           5974.058979999934,
           10000.000000000002,
           38502.3993806964,
           12474.777399345634,
           5.557516023628406,
           9500,
           5.557516023628406,
           8474.57627118644,
           1776.020543639923,
           71691.56006801125,
           95968.41298155487,
           5545.3193076432,
           22482.965706539042,
           661.9330249102044,
           20000,
           69595.14624504517,
           1455.75454396715,
           20680.27778635575,
           12673.627794536682,
           85.63262023294327,
           7921.017371585417,
           14523.977452539035,
           7958.988254000005,
           9500,
           124583.83968,
           73573.19568,
           10.369079999999999,
           12481.1112,
           112.77816084678628,
           112.77816084678628,
           20000,
           8413.787582800003,
           52016.74156332084,
           9164.617098924327,
           5981.25,
           36000,
           63468.56,
           27660.949999999997,
           16182.84,
           825.6419466095995,
           27883.70638761584,
           116.42515277263792,
           2.1270884846592,
           56268.5977284,
           1073.2227329999994,
           4472.096574643199,
           422.08511953716345,
           17601.307852569997,
           40549.434045176684,
           1658.0260547999997,
           391.67075266110015,
           23603.039334400026,
           385.62413310762116,
           440.01781350197825,
           472.44680145844984,
           27291.849955019537,
           87.30095632435139,
           3.770399582137074,
           25.353796866149455,
           2.112399088128,
           27017.296380689997,
           29251.30134771,
           5545.319307643199,
           302.64172471737356,
           56.808443877705,
           62.63495094208491,
           17467.381388970003,
           133.92646359999182,
           695.6908944552977,
           39364.6828353655,
           1658.0260547999997,
           23603.039334400026,
           3.760213987048772,
           53188.39608000007,
           1971.4394633999782,
           124583.83968,
           796.6101694915254,
           73573.19568,
           28571.672087849955,
           10.369079999999999,
           12481.1112,
           119.40963113785006,
           0.014689396531199992,
           489.0603153558901,
           391.67075266110015,
           5557.516023644552,
           25883.092309800006,
           21093.883342082867,
           5557.516023644553,
           5557.516023644552,
           46976.97565188284,
           46976.97565188284,
           5557.516023644553
          ],
          "source": [
           4,
           0,
           0,
           0,
           7,
           17,
           43,
           11,
           11,
           13,
           15,
           18,
           20,
           22,
           23,
           25,
           26,
           27,
           28,
           29,
           30,
           0,
           0,
           0,
           0,
           0,
           33,
           33,
           34,
           44,
           44,
           45,
           46,
           56,
           57,
           58,
           60,
           60,
           60,
           9,
           9,
           9,
           9,
           9,
           1,
           2,
           3,
           5,
           32,
           40,
           40,
           47,
           48,
           52,
           53,
           54,
           55,
           6,
           41,
           6,
           12,
           6,
           12,
           41,
           6,
           6,
           12,
           31,
           6,
           12,
           41,
           6,
           41,
           6,
           12,
           6,
           6,
           9,
           9,
           9,
           19,
           20,
           21,
           24,
           42,
           59,
           9,
           9,
           9,
           9,
           37,
           37,
           37,
           38,
           39,
           49,
           50,
           51
          ],
          "target": [
           0,
           14,
           14,
           14,
           14,
           14,
           14,
           49,
           13,
           18,
           34,
           14,
           49,
           4,
           6,
           12,
           31,
           33,
           41,
           58,
           60,
           13,
           13,
           13,
           13,
           13,
           0,
           0,
           16,
           19,
           21,
           42,
           59,
           0,
           56,
           20,
           0,
           11,
           0,
           10,
           10,
           10,
           10,
           10,
           36,
           36,
           36,
           36,
           35,
           35,
           36,
           36,
           35,
           36,
           35,
           36,
           35,
           1,
           1,
           2,
           2,
           3,
           3,
           3,
           5,
           32,
           32,
           40,
           47,
           47,
           47,
           48,
           48,
           52,
           52,
           53,
           55,
           8,
           7,
           17,
           9,
           9,
           9,
           9,
           9,
           9,
           2,
           5,
           52,
           54,
           39,
           0,
           0,
           51,
           38,
           50,
           37,
           37
          ],
          "value": [
           1776.020543639923,
           23318.101180000005,
           6744.905300000006,
           7130.328460000002,
           53188.39608000007,
           5974.058979999934,
           10000.000000000002,
           38502.3993806964,
           12474.777399345634,
           5.557516023628406,
           9500,
           5.557516023628406,
           8474.57627118644,
           1776.020543639923,
           71691.56006801125,
           95968.41298155487,
           5545.3193076432,
           22482.965706539042,
           661.9330249102044,
           20000,
           69595.14624504517,
           1455.75454396715,
           20680.27778635575,
           12673.627794536682,
           85.63262023294327,
           7921.017371585417,
           14523.977452539035,
           7958.988254000005,
           9500,
           124583.83968,
           73573.19568,
           10.369079999999999,
           12481.1112,
           112.77816084678628,
           112.77816084678628,
           20000,
           8413.787582800003,
           52016.74156332084,
           9164.617098924327,
           5981.25,
           36000,
           63468.56,
           27660.949999999997,
           16182.84,
           825.6419466095995,
           27883.70638761584,
           116.42515277263792,
           2.1270884846592,
           56268.5977284,
           1073.2227329999994,
           4472.096574643199,
           422.08511953716345,
           17601.307852569997,
           40549.434045176684,
           1658.0260547999997,
           391.67075266110015,
           23603.039334400026,
           385.62413310762116,
           440.01781350197825,
           472.44680145844984,
           27291.849955019537,
           87.30095632435139,
           3.770399582137074,
           25.353796866149455,
           2.112399088128,
           27017.296380689997,
           29251.30134771,
           5545.319307643199,
           302.64172471737356,
           56.808443877705,
           62.63495094208491,
           17467.381388970003,
           133.92646359999182,
           695.6908944552977,
           39364.6828353655,
           1658.0260547999997,
           23603.039334400026,
           3.760213987048772,
           53188.39608000007,
           1971.4394633999782,
           124583.83968,
           796.6101694915254,
           73573.19568,
           28571.672087849955,
           10.369079999999999,
           12481.1112,
           119.40963113785006,
           0.014689396531199992,
           489.0603153558901,
           391.67075266110015,
           5557.516023644552,
           25883.092309800006,
           21093.883342082867,
           5557.516023644553,
           5557.516023644552,
           46976.97565188284,
           46976.97565188284,
           5557.516023644553
          ]
         },
         "node": {
          "color": "cornflowerblue",
          "label": [
           "BOILER",
           "BUS",
           "CAR",
           "COACH",
           "COAL",
           "COMMUTER",
           "DIESEL",
           "DIRECT_ELEC",
           "DIRECT_USAGE",
           "ELECTRICITY",
           "EUD_ELECTRICITY",
           "GASIFICATION_SNG",
           "GASOLINE",
           "HEAT_HIGH_T",
           "HEAT_LOW_T",
           "HEAT_LOW_T_DHN",
           "HEAT_WASTE",
           "HP",
           "HT_LT_DEC",
           "HYDRO_DAM",
           "HYDRO_GAS",
           "HYDRO_RIVER",
           "IMP_COAL",
           "IMP_DIESEL",
           "IMP_ELECTRICITY_EHV",
           "IMP_GASOLINE",
           "IMP_JETFUEL",
           "IMP_LFO",
           "IMP_PROPANE",
           "IMP_WET_BIOMASS",
           "IMP_WOOD",
           "JETFUEL",
           "LCV",
           "LFO",
           "LT_DHN_WH",
           "MOBILITY_FREIGHT",
           "MOBILITY_PASSENGER",
           "NG",
           "NG_S",
           "NG_STO",
           "PLANE",
           "PROPANE",
           "PV",
           "RENOVATION",
           "RES_HYDRO",
           "RES_SOLAR",
           "RES_WIND_ONSHORE",
           "SCHOOLBUS",
           "SEMI",
           "SNG",
           "SNG_NG",
           "STO_NG",
           "SUV",
           "TRAIN",
           "TRAMWAY",
           "TRUCK",
           "WASTE",
           "WASTE_BIO",
           "WET_BIOMASS",
           "WIND_ONSHORE",
           "WOOD"
          ],
          "line": {
           "color": "black",
           "width": 0.5
          },
          "pad": 15,
          "thickness": 15
         },
         "type": "sankey",
         "valueformat": ".0f",
         "valuesuffix": ""
        }
       ],
       "layout": {
        "font": {
         "color": "black",
         "size": 10
        },
        "paper_bgcolor": "white",
        "template": {
         "data": {
          "bar": [
           {
            "error_x": {
             "color": "#2a3f5f"
            },
            "error_y": {
             "color": "#2a3f5f"
            },
            "marker": {
             "line": {
              "color": "#E5ECF6",
              "width": 0.5
             },
             "pattern": {
              "fillmode": "overlay",
              "size": 10,
              "solidity": 0.2
             }
            },
            "type": "bar"
           }
          ],
          "barpolar": [
           {
            "marker": {
             "line": {
              "color": "#E5ECF6",
              "width": 0.5
             },
             "pattern": {
              "fillmode": "overlay",
              "size": 10,
              "solidity": 0.2
             }
            },
            "type": "barpolar"
           }
          ],
          "carpet": [
           {
            "aaxis": {
             "endlinecolor": "#2a3f5f",
             "gridcolor": "white",
             "linecolor": "white",
             "minorgridcolor": "white",
             "startlinecolor": "#2a3f5f"
            },
            "baxis": {
             "endlinecolor": "#2a3f5f",
             "gridcolor": "white",
             "linecolor": "white",
             "minorgridcolor": "white",
             "startlinecolor": "#2a3f5f"
            },
            "type": "carpet"
           }
          ],
          "choropleth": [
           {
            "colorbar": {
             "outlinewidth": 0,
             "ticks": ""
            },
            "type": "choropleth"
           }
          ],
          "contour": [
           {
            "colorbar": {
             "outlinewidth": 0,
             "ticks": ""
            },
            "colorscale": [
             [
              0,
              "#0d0887"
             ],
             [
              0.1111111111111111,
              "#46039f"
             ],
             [
              0.2222222222222222,
              "#7201a8"
             ],
             [
              0.3333333333333333,
              "#9c179e"
             ],
             [
              0.4444444444444444,
              "#bd3786"
             ],
             [
              0.5555555555555556,
              "#d8576b"
             ],
             [
              0.6666666666666666,
              "#ed7953"
             ],
             [
              0.7777777777777778,
              "#fb9f3a"
             ],
             [
              0.8888888888888888,
              "#fdca26"
             ],
             [
              1,
              "#f0f921"
             ]
            ],
            "type": "contour"
           }
          ],
          "contourcarpet": [
           {
            "colorbar": {
             "outlinewidth": 0,
             "ticks": ""
            },
            "type": "contourcarpet"
           }
          ],
          "heatmap": [
           {
            "colorbar": {
             "outlinewidth": 0,
             "ticks": ""
            },
            "colorscale": [
             [
              0,
              "#0d0887"
             ],
             [
              0.1111111111111111,
              "#46039f"
             ],
             [
              0.2222222222222222,
              "#7201a8"
             ],
             [
              0.3333333333333333,
              "#9c179e"
             ],
             [
              0.4444444444444444,
              "#bd3786"
             ],
             [
              0.5555555555555556,
              "#d8576b"
             ],
             [
              0.6666666666666666,
              "#ed7953"
             ],
             [
              0.7777777777777778,
              "#fb9f3a"
             ],
             [
              0.8888888888888888,
              "#fdca26"
             ],
             [
              1,
              "#f0f921"
             ]
            ],
            "type": "heatmap"
           }
          ],
          "heatmapgl": [
           {
            "colorbar": {
             "outlinewidth": 0,
             "ticks": ""
            },
            "colorscale": [
             [
              0,
              "#0d0887"
             ],
             [
              0.1111111111111111,
              "#46039f"
             ],
             [
              0.2222222222222222,
              "#7201a8"
             ],
             [
              0.3333333333333333,
              "#9c179e"
             ],
             [
              0.4444444444444444,
              "#bd3786"
             ],
             [
              0.5555555555555556,
              "#d8576b"
             ],
             [
              0.6666666666666666,
              "#ed7953"
             ],
             [
              0.7777777777777778,
              "#fb9f3a"
             ],
             [
              0.8888888888888888,
              "#fdca26"
             ],
             [
              1,
              "#f0f921"
             ]
            ],
            "type": "heatmapgl"
           }
          ],
          "histogram": [
           {
            "marker": {
             "pattern": {
              "fillmode": "overlay",
              "size": 10,
              "solidity": 0.2
             }
            },
            "type": "histogram"
           }
          ],
          "histogram2d": [
           {
            "colorbar": {
             "outlinewidth": 0,
             "ticks": ""
            },
            "colorscale": [
             [
              0,
              "#0d0887"
             ],
             [
              0.1111111111111111,
              "#46039f"
             ],
             [
              0.2222222222222222,
              "#7201a8"
             ],
             [
              0.3333333333333333,
              "#9c179e"
             ],
             [
              0.4444444444444444,
              "#bd3786"
             ],
             [
              0.5555555555555556,
              "#d8576b"
             ],
             [
              0.6666666666666666,
              "#ed7953"
             ],
             [
              0.7777777777777778,
              "#fb9f3a"
             ],
             [
              0.8888888888888888,
              "#fdca26"
             ],
             [
              1,
              "#f0f921"
             ]
            ],
            "type": "histogram2d"
           }
          ],
          "histogram2dcontour": [
           {
            "colorbar": {
             "outlinewidth": 0,
             "ticks": ""
            },
            "colorscale": [
             [
              0,
              "#0d0887"
             ],
             [
              0.1111111111111111,
              "#46039f"
             ],
             [
              0.2222222222222222,
              "#7201a8"
             ],
             [
              0.3333333333333333,
              "#9c179e"
             ],
             [
              0.4444444444444444,
              "#bd3786"
             ],
             [
              0.5555555555555556,
              "#d8576b"
             ],
             [
              0.6666666666666666,
              "#ed7953"
             ],
             [
              0.7777777777777778,
              "#fb9f3a"
             ],
             [
              0.8888888888888888,
              "#fdca26"
             ],
             [
              1,
              "#f0f921"
             ]
            ],
            "type": "histogram2dcontour"
           }
          ],
          "mesh3d": [
           {
            "colorbar": {
             "outlinewidth": 0,
             "ticks": ""
            },
            "type": "mesh3d"
           }
          ],
          "parcoords": [
           {
            "line": {
             "colorbar": {
              "outlinewidth": 0,
              "ticks": ""
             }
            },
            "type": "parcoords"
           }
          ],
          "pie": [
           {
            "automargin": true,
            "type": "pie"
           }
          ],
          "scatter": [
           {
            "fillpattern": {
             "fillmode": "overlay",
             "size": 10,
             "solidity": 0.2
            },
            "type": "scatter"
           }
          ],
          "scatter3d": [
           {
            "line": {
             "colorbar": {
              "outlinewidth": 0,
              "ticks": ""
             }
            },
            "marker": {
             "colorbar": {
              "outlinewidth": 0,
              "ticks": ""
             }
            },
            "type": "scatter3d"
           }
          ],
          "scattercarpet": [
           {
            "marker": {
             "colorbar": {
              "outlinewidth": 0,
              "ticks": ""
             }
            },
            "type": "scattercarpet"
           }
          ],
          "scattergeo": [
           {
            "marker": {
             "colorbar": {
              "outlinewidth": 0,
              "ticks": ""
             }
            },
            "type": "scattergeo"
           }
          ],
          "scattergl": [
           {
            "marker": {
             "colorbar": {
              "outlinewidth": 0,
              "ticks": ""
             }
            },
            "type": "scattergl"
           }
          ],
          "scattermapbox": [
           {
            "marker": {
             "colorbar": {
              "outlinewidth": 0,
              "ticks": ""
             }
            },
            "type": "scattermapbox"
           }
          ],
          "scatterpolar": [
           {
            "marker": {
             "colorbar": {
              "outlinewidth": 0,
              "ticks": ""
             }
            },
            "type": "scatterpolar"
           }
          ],
          "scatterpolargl": [
           {
            "marker": {
             "colorbar": {
              "outlinewidth": 0,
              "ticks": ""
             }
            },
            "type": "scatterpolargl"
           }
          ],
          "scatterternary": [
           {
            "marker": {
             "colorbar": {
              "outlinewidth": 0,
              "ticks": ""
             }
            },
            "type": "scatterternary"
           }
          ],
          "surface": [
           {
            "colorbar": {
             "outlinewidth": 0,
             "ticks": ""
            },
            "colorscale": [
             [
              0,
              "#0d0887"
             ],
             [
              0.1111111111111111,
              "#46039f"
             ],
             [
              0.2222222222222222,
              "#7201a8"
             ],
             [
              0.3333333333333333,
              "#9c179e"
             ],
             [
              0.4444444444444444,
              "#bd3786"
             ],
             [
              0.5555555555555556,
              "#d8576b"
             ],
             [
              0.6666666666666666,
              "#ed7953"
             ],
             [
              0.7777777777777778,
              "#fb9f3a"
             ],
             [
              0.8888888888888888,
              "#fdca26"
             ],
             [
              1,
              "#f0f921"
             ]
            ],
            "type": "surface"
           }
          ],
          "table": [
           {
            "cells": {
             "fill": {
              "color": "#EBF0F8"
             },
             "line": {
              "color": "white"
             }
            },
            "header": {
             "fill": {
              "color": "#C8D4E3"
             },
             "line": {
              "color": "white"
             }
            },
            "type": "table"
           }
          ]
         },
         "layout": {
          "annotationdefaults": {
           "arrowcolor": "#2a3f5f",
           "arrowhead": 0,
           "arrowwidth": 1
          },
          "autotypenumbers": "strict",
          "coloraxis": {
           "colorbar": {
            "outlinewidth": 0,
            "ticks": ""
           }
          },
          "colorscale": {
           "diverging": [
            [
             0,
             "#8e0152"
            ],
            [
             0.1,
             "#c51b7d"
            ],
            [
             0.2,
             "#de77ae"
            ],
            [
             0.3,
             "#f1b6da"
            ],
            [
             0.4,
             "#fde0ef"
            ],
            [
             0.5,
             "#f7f7f7"
            ],
            [
             0.6,
             "#e6f5d0"
            ],
            [
             0.7,
             "#b8e186"
            ],
            [
             0.8,
             "#7fbc41"
            ],
            [
             0.9,
             "#4d9221"
            ],
            [
             1,
             "#276419"
            ]
           ],
           "sequential": [
            [
             0,
             "#0d0887"
            ],
            [
             0.1111111111111111,
             "#46039f"
            ],
            [
             0.2222222222222222,
             "#7201a8"
            ],
            [
             0.3333333333333333,
             "#9c179e"
            ],
            [
             0.4444444444444444,
             "#bd3786"
            ],
            [
             0.5555555555555556,
             "#d8576b"
            ],
            [
             0.6666666666666666,
             "#ed7953"
            ],
            [
             0.7777777777777778,
             "#fb9f3a"
            ],
            [
             0.8888888888888888,
             "#fdca26"
            ],
            [
             1,
             "#f0f921"
            ]
           ],
           "sequentialminus": [
            [
             0,
             "#0d0887"
            ],
            [
             0.1111111111111111,
             "#46039f"
            ],
            [
             0.2222222222222222,
             "#7201a8"
            ],
            [
             0.3333333333333333,
             "#9c179e"
            ],
            [
             0.4444444444444444,
             "#bd3786"
            ],
            [
             0.5555555555555556,
             "#d8576b"
            ],
            [
             0.6666666666666666,
             "#ed7953"
            ],
            [
             0.7777777777777778,
             "#fb9f3a"
            ],
            [
             0.8888888888888888,
             "#fdca26"
            ],
            [
             1,
             "#f0f921"
            ]
           ]
          },
          "colorway": [
           "#636efa",
           "#EF553B",
           "#00cc96",
           "#ab63fa",
           "#FFA15A",
           "#19d3f3",
           "#FF6692",
           "#B6E880",
           "#FF97FF",
           "#FECB52"
          ],
          "font": {
           "color": "#2a3f5f"
          },
          "geo": {
           "bgcolor": "white",
           "lakecolor": "white",
           "landcolor": "#E5ECF6",
           "showlakes": true,
           "showland": true,
           "subunitcolor": "white"
          },
          "hoverlabel": {
           "align": "left"
          },
          "hovermode": "closest",
          "mapbox": {
           "style": "light"
          },
          "paper_bgcolor": "white",
          "plot_bgcolor": "#E5ECF6",
          "polar": {
           "angularaxis": {
            "gridcolor": "white",
            "linecolor": "white",
            "ticks": ""
           },
           "bgcolor": "#E5ECF6",
           "radialaxis": {
            "gridcolor": "white",
            "linecolor": "white",
            "ticks": ""
           }
          },
          "scene": {
           "xaxis": {
            "backgroundcolor": "#E5ECF6",
            "gridcolor": "white",
            "gridwidth": 2,
            "linecolor": "white",
            "showbackground": true,
            "ticks": "",
            "zerolinecolor": "white"
           },
           "yaxis": {
            "backgroundcolor": "#E5ECF6",
            "gridcolor": "white",
            "gridwidth": 2,
            "linecolor": "white",
            "showbackground": true,
            "ticks": "",
            "zerolinecolor": "white"
           },
           "zaxis": {
            "backgroundcolor": "#E5ECF6",
            "gridcolor": "white",
            "gridwidth": 2,
            "linecolor": "white",
            "showbackground": true,
            "ticks": "",
            "zerolinecolor": "white"
           }
          },
          "shapedefaults": {
           "line": {
            "color": "#2a3f5f"
           }
          },
          "ternary": {
           "aaxis": {
            "gridcolor": "white",
            "linecolor": "white",
            "ticks": ""
           },
           "baxis": {
            "gridcolor": "white",
            "linecolor": "white",
            "ticks": ""
           },
           "bgcolor": "#E5ECF6",
           "caxis": {
            "gridcolor": "white",
            "linecolor": "white",
            "ticks": ""
           }
          },
          "title": {
           "x": 0.05
          },
          "xaxis": {
           "automargin": true,
           "gridcolor": "white",
           "linecolor": "white",
           "ticks": "",
           "title": {
            "standoff": 15
           },
           "zerolinecolor": "white",
           "zerolinewidth": 2
          },
          "yaxis": {
           "automargin": true,
           "gridcolor": "white",
           "linecolor": "white",
           "ticks": "",
           "title": {
            "standoff": 15
           },
           "zerolinecolor": "white",
           "zerolinewidth": 2
          }
         }
        },
        "title": {
         "text": "Sankey Diagram"
        }
       }
      }
     },
     "metadata": {},
     "output_type": "display_data"
    }
   ],
   "source": [
    "fig.show()"
   ]
  },
  {
   "cell_type": "markdown",
   "metadata": {},
   "source": [
    "\n",
    "\n",
    "   - The diagram will display in the output cell, providing a visual representation of the energy flows in the optimized system.\n",
    "\n",
    "   - **Optional**: You can save the diagram as an HTML file or an image for external use by uncommenting the following lines:"
   ]
  },
  {
   "cell_type": "code",
   "execution_count": 10,
   "metadata": {},
   "outputs": [],
   "source": [
    "# fig.write_html(\"tutorial_output/sankey_infrastructure_qc_2020.html\")\n",
    "# fig.write_image('tutorial_output/sankey_infrastructure_qc_2020.png')"
   ]
  },
  {
   "cell_type": "markdown",
   "metadata": {},
   "source": [
    "\n",
    "\n",
    "---\n",
    "\n",
    "By following these steps, you have:\n",
    "\n",
    "- **Imported** the necessary libraries and modules.\n",
    "- **Defined** solver options either directly or by loading from a CSV file.\n",
    "- **Initialized** and **ran** the EnergyScope model using the `infrastructure_qc_2020` dataset with custom solver configurations.\n",
    "- **Post-processed** the results to compute KPIs and prepare for visualization.\n",
    "- **Visualized** the energy flows using a Sankey diagram.\n",
    "\n",
    "This tutorial demonstrates how to customize solver settings and work with different datasets, enabling you to perform more advanced analyses tailored to specific regions or scenarios."
   ]
  }
 ],
 "metadata": {
  "kernelspec": {
   "display_name": ".es",
   "language": "python",
   "name": "python3"
  },
  "language_info": {
   "codemirror_mode": {
    "name": "ipython",
    "version": 3
   },
   "file_extension": ".py",
   "mimetype": "text/x-python",
   "name": "python",
   "nbconvert_exporter": "python",
   "pygments_lexer": "ipython3",
   "version": "3.12.4"
  }
 },
 "nbformat": 4,
 "nbformat_minor": 2
}
