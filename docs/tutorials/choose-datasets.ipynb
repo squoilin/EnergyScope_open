{
 "cells": [
  {
   "cell_type": "markdown",
   "metadata": {},
   "source": [
    "# Choose datasets"
   ]
  },
  {
   "cell_type": "code",
   "execution_count": 1,
   "metadata": {
    "ExecuteTime": {
     "end_time": "2024-10-01T08:35:54.478649Z",
     "start_time": "2024-10-01T08:35:54.283033Z"
    }
   },
   "outputs": [],
   "source": [
    "import pandas as pd\n",
    "from energyscope.energyscope import Energyscope\n",
    "from energyscope.models import infrastructure_ch_2050, infrastructure_qc_2020\n",
    "from energyscope.result import postprocessing\n",
    "from energyscope.plots import plot_sankey"
   ]
  },
  {
   "cell_type": "markdown",
   "metadata": {},
   "source": [
    "## Single optimization"
   ]
  },
  {
   "cell_type": "code",
   "execution_count": 2,
   "metadata": {
    "ExecuteTime": {
     "end_time": "2024-10-01T08:35:58.964411Z",
     "start_time": "2024-10-01T08:35:58.953375Z"
    }
   },
   "outputs": [
    {
     "data": {
      "text/plain": [
       "{'solver': 'cplex',\n",
       " 'presolve_eps': '5.00E-09',\n",
       " 'presolve_fixeps': '7.00E-10',\n",
       " 'mipgap': '1.00E-10',\n",
       " 'display_eps': '1.00E-10',\n",
       " 'omit_zero_rows': '1',\n",
       " 'omit_zero_cols': '1',\n",
       " 'show_stats': '1',\n",
       " 'solver_msg': '0',\n",
       " 'cplex_options': 'integrality=5e-7'}"
      ]
     },
     "execution_count": 2,
     "metadata": {},
     "output_type": "execute_result"
    }
   ],
   "source": [
    "\n",
    "\n",
    "# You can either write directly your solver options in a dictionary format, see below:\n",
    "solver_options = {\n",
    "    'solver': 'cplex',\n",
    "    'presolve_eps': 5e-9,\n",
    "    'presolve_fixeps': 7e-10,\n",
    "    'mipgap': 1e-10,\n",
    "    'display_eps': 1e-10,\n",
    "    'omit_zero_rows': 1,\n",
    "    'omit_zero_cols': 1,\n",
    "    'show_stats': 1,\n",
    "    'solver_msg': 0,\n",
    "    'cplex_options': 'integrality=5e-7'\n",
    "}\n",
    "\n",
    "# Or load them from a csv file:\n",
    "solver_options = pd.read_csv('tutorial_input/solver_options_infrastructure_qc_2020.csv')\n",
    "solver_options = dict(zip(solver_options['Option'], solver_options['Value']))   # Reformat dict\n",
    "\n",
    "# Convert the reloaded DataFrame back to a dictionary\n",
    "solver_options"
   ]
  },
  {
   "cell_type": "code",
   "execution_count": 6,
   "metadata": {
    "ExecuteTime": {
     "end_time": "2024-10-01T08:36:17.484491Z",
     "start_time": "2024-10-01T08:36:03.062369Z"
    }
   },
   "outputs": [
    {
     "name": "stdout",
     "output_type": "stream",
     "text": [
      "\n",
      "Presolve eliminates 14467 constraints and 10653 variables.\n",
      "Adjusted problem:\n",
      "15812 variables:\n",
      "\t814 binary variables\n",
      "\t14998 linear variables\n",
      "21545 constraints, all linear; 108336 nonzeros\n",
      "\t9834 equality constraints\n",
      "\t11711 inequality constraints\n",
      "1 linear objective; 1 nonzero.\n",
      "\n",
      "Setting $presolve_fixeps < 4.26e-10 or >= 5.26e-09\n",
      "could change presolve results.\n",
      "\n",
      "CPLEX 22.1.1:   mip:inttol = 5e-07\n"
     ]
    }
   ],
   "source": [
    "# Load the infrastructure_ch_2050 model with specific solver options and the dataset from quebec\n",
    "es_infra_qc = Energyscope(model=infrastructure_qc_2020, solver_options=solver_options)\n",
    "\n",
    "results_qc = es_infra_qc.calc()\n",
    "results_qc = postprocessing(results_qc)"
   ]
  },
  {
   "cell_type": "code",
   "execution_count": 7,
   "metadata": {},
   "outputs": [
    {
     "name": "stdout",
     "output_type": "stream",
     "text": [
      "\n",
      "Presolve eliminates 8669 constraints and 7722 variables.\n",
      "Adjusted problem:\n",
      "6747 variables:\n",
      "\t451 binary variables\n",
      "\t6296 linear variables\n",
      "8858 constraints, all linear; 39796 nonzeros\n",
      "\t3858 equality constraints\n",
      "\t5000 inequality constraints\n",
      "1 linear objective; 1 nonzero.\n",
      "\n",
      "Setting $presolve_fixeps < 4.25e-10 or >= 4.37e-09\n",
      "could change presolve results.\n",
      "\n",
      "CPLEX 22.1.1:   mip:inttol = 5e-07\n"
     ]
    }
   ],
   "source": [
    "# Load the infrastructure_ch_2050 model with specific solver options and the dataset from quebec\n",
    "es_infra_ch = Energyscope(model=infrastructure_ch_2050, solver_options=solver_options)\n",
    "\n",
    "results_ch = es_infra_ch.calc()\n",
    "results_ch = postprocessing(results_ch)"
   ]
  },
  {
   "cell_type": "markdown",
   "metadata": {},
   "source": [
    "### Sankey diagram"
   ]
  },
  {
   "cell_type": "code",
   "execution_count": 8,
   "metadata": {
    "ExecuteTime": {
     "end_time": "2024-10-01T08:36:21.751049Z",
     "start_time": "2024-10-01T08:36:21.550389Z"
    }
   },
   "outputs": [
    {
     "data": {
      "application/vnd.plotly.v1+json": {
       "config": {
        "plotlyServerURL": "https://plot.ly"
       },
       "data": [
        {
         "link": {
          "color": [
           "rgba(181, 31, 31, 0.50)",
           "rgba(181, 31, 31, 0.50)",
           "rgba(181, 31, 31, 0.50)",
           "rgba(181, 31, 31, 0.50)",
           "rgba(181, 31, 31, 0.50)",
           "rgba(181, 31, 31, 0.50)",
           "rgba(181, 31, 31, 0.50)",
           "rgba(255, 225, 0, 0.50)",
           "rgba(0, 0, 0, 0.50)",
           "rgba(0, 0, 0, 0.50)",
           "rgba(250, 128, 114, 0.50)",
           "rgba(179, 123, 68, 0.50)",
           "rgba(181, 31, 31, 0.50)",
           "rgba(181, 31, 31, 0.50)",
           "rgba(181, 31, 31, 0.50)",
           "rgba(181, 31, 31, 0.50)",
           "rgba(181, 31, 31, 0.50)",
           "rgba(181, 31, 31, 0.50)",
           "rgba(0, 0, 0, 0.50)",
           "rgba(0, 206, 209, 0.50)",
           "rgba(0, 206, 209, 0.50)",
           "rgba(0, 0, 0, 0.50)",
           "rgba(0, 0, 255, 0.50)",
           "rgba(250, 128, 114, 0.50)",
           "rgba(250, 128, 114, 0.50)",
           "rgba(250, 128, 114, 0.50)",
           "rgba(250, 128, 114, 0.50)",
           "rgba(0, 206, 209, 0.50)",
           "rgba(0, 191, 255, 0.50)",
           "rgba(0, 191, 255, 0.50)",
           "rgba(0, 191, 255, 0.50)",
           "rgba(0, 191, 255, 0.50)",
           "rgba(0, 191, 255, 0.50)",
           "rgba(0, 0, 0, 0.50)",
           "rgba(0, 0, 0, 0.50)",
           "rgba(0, 0, 0, 0.50)",
           "rgba(0, 0, 0, 0.50)",
           "rgba(0, 0, 0, 0.50)",
           "rgba(0, 0, 0, 0.50)",
           "rgba(0, 0, 0, 0.50)",
           "rgba(0, 0, 0, 0.50)",
           "rgba(0, 0, 0, 0.50)",
           "rgba(0, 0, 0, 0.50)",
           "rgba(0, 0, 0, 0.50)",
           "rgba(0, 0, 0, 0.50)",
           "rgba(0, 0, 0, 0.50)",
           "rgba(0, 0, 0, 0.50)",
           "rgba(0, 0, 0, 0.50)",
           "rgba(0, 0, 0, 0.50)",
           "rgba(0, 0, 0, 0.50)",
           "rgba(0, 191, 255, 0.50)",
           "rgba(0, 191, 255, 0.50)",
           "rgba(0, 191, 255, 0.50)",
           "rgba(0, 191, 255, 0.50)",
           "rgba(0, 191, 255, 0.50)",
           "rgba(0, 191, 255, 0.50)",
           "rgba(0, 191, 255, 0.50)",
           "rgba(0, 191, 255, 0.50)",
           "rgba(0, 191, 255, 0.50)",
           "rgba(0, 191, 255, 0.50)",
           "rgba(0, 191, 255, 0.50)",
           "rgba(0, 0, 0, 0.50)",
           "rgba(0, 0, 0, 0.50)",
           "rgba(0, 0, 0, 0.50)",
           "rgba(0, 0, 0, 0.50)",
           "rgba(0, 0, 0, 0.50)",
           "rgba(255, 225, 0, 0.50)",
           "rgba(255, 225, 0, 0.50)",
           "rgba(0, 0, 0, 0.50)",
           "rgba(0, 0, 0, 0.50)",
           "rgba(0, 0, 0, 0.50)",
           "rgba(0, 0, 0, 0.50)",
           "rgba(255, 0, 255, 0.50)",
           "rgba(255, 0, 255, 0.50)",
           "rgba(0, 0, 0, 0.50)",
           "rgba(0, 0, 0, 0.50)",
           "rgba(0, 0, 0, 0.50)"
          ],
          "label": [
           413.4245487663617,
           505.49000278480275,
           9999.999999999998,
           1445.5966506005134,
           92549.14075291401,
           6609.326299999999,
           92549.14075291401,
           8474.576271186439,
           5545.319307643198,
           131479.62269000814,
           3080.0000000000005,
           19999.99999999999,
           5926.130148522454,
           4396.209516193522,
           604.8780487804879,
           68191.32401036621,
           70161.72567965185,
           6609.326299999999,
           70620.78153600001,
           112679.158968,
           66424.97376000001,
           505.49000278480275,
           586.001314543977,
           796.6243902439026,
           5363.375609756097,
           1400,
           1679.9999999999998,
           19999.999999999993,
           5981.25,
           25145,
           63468.56,
           27660.949999999997,
           16182.84,
           916.7037781291336,
           56693.616175014016,
           61.55434045968012,
           0.7344698265598969,
           1073.2227329999996,
           4472.0965746431975,
           485.5422553649999,
           24390.681761499996,
           650.2062960000003,
           391.67075266110004,
           48993.078720000005,
           916.7037781291336,
           56693.616175014016,
           5545.319307643197,
           485.5422553649999,
           24390.681761499996,
           48993.078720000005,
           1205.1325596539443,
           26.560799999999997,
           68191.32401036621,
           14032.345135930369,
           112679.158968,
           796.6101694915253,
           66424.97376000001,
           70620.78153600001,
           586.001314543977,
           0.7344698265598969,
           391.67075266110004,
           2939.004465157828,
           2368.369179233841,
           6044.652751492904,
           2939.004465157828,
           2939.004465157828,
           8474.576271186439,
           8474.576271186439,
           2939.004465157828,
           61.55434045968012,
           2028.1109089625156,
           1759.121455000869,
           2028.1109089625156,
           2028.1109089625156,
           2409.3277510008556,
           2028.1109089625156,
           650.2062960000003
          ],
          "source": [
           0,
           6,
           37,
           14,
           14,
           16,
           19,
           21,
           23,
           24,
           25,
           26,
           1,
           1,
           1,
           7,
           18,
           28,
           38,
           38,
           38,
           39,
           40,
           51,
           51,
           52,
           53,
           54,
           9,
           9,
           9,
           9,
           9,
           2,
           3,
           4,
           5,
           35,
           35,
           41,
           42,
           48,
           49,
           50,
           36,
           36,
           27,
           36,
           36,
           36,
           0,
           9,
           9,
           9,
           20,
           21,
           22,
           31,
           55,
           9,
           9,
           32,
           32,
           32,
           33,
           34,
           44,
           45,
           47,
           32,
           11,
           11,
           12,
           13,
           43,
           46,
           11
          ],
          "target": [
           15,
           15,
           15,
           43,
           19,
           28,
           15,
           44,
           27,
           36,
           51,
           54,
           14,
           14,
           14,
           14,
           14,
           17,
           31,
           20,
           22,
           6,
           55,
           1,
           1,
           51,
           51,
           21,
           10,
           10,
           10,
           10,
           10,
           30,
           30,
           30,
           30,
           29,
           30,
           30,
           29,
           29,
           30,
           29,
           2,
           3,
           35,
           41,
           42,
           50,
           9,
           8,
           7,
           18,
           9,
           9,
           9,
           9,
           9,
           5,
           49,
           34,
           43,
           1,
           47,
           33,
           45,
           32,
           32,
           4,
           13,
           0,
           46,
           12,
           11,
           11,
           48
          ],
          "value": [
           413.4245487663617,
           505.49000278480275,
           9999.999999999998,
           1445.5966506005134,
           92549.14075291401,
           6609.326299999999,
           92549.14075291401,
           8474.576271186439,
           5545.319307643198,
           131479.62269000814,
           3080.0000000000005,
           19999.99999999999,
           5926.130148522454,
           4396.209516193522,
           604.8780487804879,
           68191.32401036621,
           70161.72567965185,
           6609.326299999999,
           70620.78153600001,
           112679.158968,
           66424.97376000001,
           505.49000278480275,
           586.001314543977,
           796.6243902439026,
           5363.375609756097,
           1400,
           1679.9999999999998,
           19999.999999999993,
           5981.25,
           25145,
           63468.56,
           27660.949999999997,
           16182.84,
           916.7037781291336,
           56693.616175014016,
           61.55434045968012,
           0.7344698265598969,
           1073.2227329999996,
           4472.0965746431975,
           485.5422553649999,
           24390.681761499996,
           650.2062960000003,
           391.67075266110004,
           48993.078720000005,
           916.7037781291336,
           56693.616175014016,
           5545.319307643197,
           485.5422553649999,
           24390.681761499996,
           48993.078720000005,
           1205.1325596539443,
           26.560799999999997,
           68191.32401036621,
           14032.345135930369,
           112679.158968,
           796.6101694915253,
           66424.97376000001,
           70620.78153600001,
           586.001314543977,
           0.7344698265598969,
           391.67075266110004,
           2939.004465157828,
           2368.369179233841,
           6044.652751492904,
           2939.004465157828,
           2939.004465157828,
           8474.576271186439,
           8474.576271186439,
           2939.004465157828,
           61.55434045968012,
           2028.1109089625156,
           1759.121455000869,
           2028.1109089625156,
           2028.1109089625156,
           2409.3277510008556,
           2028.1109089625156,
           650.2062960000003
          ]
         },
         "node": {
          "color": "cornflowerblue",
          "label": [
           "AFC",
           "BOILER",
           "BUS",
           "CAR",
           "COACH",
           "COMMUTER",
           "DEC_SOLAR",
           "DIRECT_ELEC",
           "DIRECT_USAGE",
           "ELECTRICITY",
           "EUD_ELECTRICITY",
           "H2",
           "H2_S",
           "H2_STO",
           "HEAT_HIGH_T",
           "HEAT_LOW_T",
           "HEAT_LOW_T_DHN",
           "HEAT_WASTE",
           "HP",
           "HT_LT_DEC",
           "HYDRO_DAM",
           "HYDRO_GAS",
           "HYDRO_RIVER",
           "IMP_JETFUEL",
           "IMP_PROPANE",
           "IMP_WASTE",
           "IMP_WET_BIOMASS",
           "JETFUEL",
           "LT_DHN_WH",
           "MOBILITY_FREIGHT",
           "MOBILITY_PASSENGER",
           "NEW_HYDRO_DAM",
           "NG",
           "NG_S",
           "NG_STO",
           "PLANE",
           "PROPANE",
           "RENOVATION",
           "RES_HYDRO",
           "RES_SOLAR",
           "RES_WIND_ONSHORE",
           "SCHOOLBUS",
           "SEMI",
           "SMR",
           "SNG",
           "SNG_NG",
           "STO_H2",
           "STO_NG",
           "TRAIN",
           "TRAMWAY",
           "TRUCK",
           "WASTE",
           "WASTE_BIO",
           "WASTE_FOS",
           "WET_BIOMASS",
           "WIND_ONSHORE"
          ],
          "line": {
           "color": "black",
           "width": 0.5
          },
          "pad": 15,
          "thickness": 15
         },
         "type": "sankey",
         "valueformat": ".0f",
         "valuesuffix": ""
        }
       ],
       "layout": {
        "font": {
         "color": "black",
         "size": 10
        },
        "paper_bgcolor": "white",
        "template": {
         "data": {
          "bar": [
           {
            "error_x": {
             "color": "#2a3f5f"
            },
            "error_y": {
             "color": "#2a3f5f"
            },
            "marker": {
             "line": {
              "color": "#E5ECF6",
              "width": 0.5
             },
             "pattern": {
              "fillmode": "overlay",
              "size": 10,
              "solidity": 0.2
             }
            },
            "type": "bar"
           }
          ],
          "barpolar": [
           {
            "marker": {
             "line": {
              "color": "#E5ECF6",
              "width": 0.5
             },
             "pattern": {
              "fillmode": "overlay",
              "size": 10,
              "solidity": 0.2
             }
            },
            "type": "barpolar"
           }
          ],
          "carpet": [
           {
            "aaxis": {
             "endlinecolor": "#2a3f5f",
             "gridcolor": "white",
             "linecolor": "white",
             "minorgridcolor": "white",
             "startlinecolor": "#2a3f5f"
            },
            "baxis": {
             "endlinecolor": "#2a3f5f",
             "gridcolor": "white",
             "linecolor": "white",
             "minorgridcolor": "white",
             "startlinecolor": "#2a3f5f"
            },
            "type": "carpet"
           }
          ],
          "choropleth": [
           {
            "colorbar": {
             "outlinewidth": 0,
             "ticks": ""
            },
            "type": "choropleth"
           }
          ],
          "contour": [
           {
            "colorbar": {
             "outlinewidth": 0,
             "ticks": ""
            },
            "colorscale": [
             [
              0,
              "#0d0887"
             ],
             [
              0.1111111111111111,
              "#46039f"
             ],
             [
              0.2222222222222222,
              "#7201a8"
             ],
             [
              0.3333333333333333,
              "#9c179e"
             ],
             [
              0.4444444444444444,
              "#bd3786"
             ],
             [
              0.5555555555555556,
              "#d8576b"
             ],
             [
              0.6666666666666666,
              "#ed7953"
             ],
             [
              0.7777777777777778,
              "#fb9f3a"
             ],
             [
              0.8888888888888888,
              "#fdca26"
             ],
             [
              1,
              "#f0f921"
             ]
            ],
            "type": "contour"
           }
          ],
          "contourcarpet": [
           {
            "colorbar": {
             "outlinewidth": 0,
             "ticks": ""
            },
            "type": "contourcarpet"
           }
          ],
          "heatmap": [
           {
            "colorbar": {
             "outlinewidth": 0,
             "ticks": ""
            },
            "colorscale": [
             [
              0,
              "#0d0887"
             ],
             [
              0.1111111111111111,
              "#46039f"
             ],
             [
              0.2222222222222222,
              "#7201a8"
             ],
             [
              0.3333333333333333,
              "#9c179e"
             ],
             [
              0.4444444444444444,
              "#bd3786"
             ],
             [
              0.5555555555555556,
              "#d8576b"
             ],
             [
              0.6666666666666666,
              "#ed7953"
             ],
             [
              0.7777777777777778,
              "#fb9f3a"
             ],
             [
              0.8888888888888888,
              "#fdca26"
             ],
             [
              1,
              "#f0f921"
             ]
            ],
            "type": "heatmap"
           }
          ],
          "heatmapgl": [
           {
            "colorbar": {
             "outlinewidth": 0,
             "ticks": ""
            },
            "colorscale": [
             [
              0,
              "#0d0887"
             ],
             [
              0.1111111111111111,
              "#46039f"
             ],
             [
              0.2222222222222222,
              "#7201a8"
             ],
             [
              0.3333333333333333,
              "#9c179e"
             ],
             [
              0.4444444444444444,
              "#bd3786"
             ],
             [
              0.5555555555555556,
              "#d8576b"
             ],
             [
              0.6666666666666666,
              "#ed7953"
             ],
             [
              0.7777777777777778,
              "#fb9f3a"
             ],
             [
              0.8888888888888888,
              "#fdca26"
             ],
             [
              1,
              "#f0f921"
             ]
            ],
            "type": "heatmapgl"
           }
          ],
          "histogram": [
           {
            "marker": {
             "pattern": {
              "fillmode": "overlay",
              "size": 10,
              "solidity": 0.2
             }
            },
            "type": "histogram"
           }
          ],
          "histogram2d": [
           {
            "colorbar": {
             "outlinewidth": 0,
             "ticks": ""
            },
            "colorscale": [
             [
              0,
              "#0d0887"
             ],
             [
              0.1111111111111111,
              "#46039f"
             ],
             [
              0.2222222222222222,
              "#7201a8"
             ],
             [
              0.3333333333333333,
              "#9c179e"
             ],
             [
              0.4444444444444444,
              "#bd3786"
             ],
             [
              0.5555555555555556,
              "#d8576b"
             ],
             [
              0.6666666666666666,
              "#ed7953"
             ],
             [
              0.7777777777777778,
              "#fb9f3a"
             ],
             [
              0.8888888888888888,
              "#fdca26"
             ],
             [
              1,
              "#f0f921"
             ]
            ],
            "type": "histogram2d"
           }
          ],
          "histogram2dcontour": [
           {
            "colorbar": {
             "outlinewidth": 0,
             "ticks": ""
            },
            "colorscale": [
             [
              0,
              "#0d0887"
             ],
             [
              0.1111111111111111,
              "#46039f"
             ],
             [
              0.2222222222222222,
              "#7201a8"
             ],
             [
              0.3333333333333333,
              "#9c179e"
             ],
             [
              0.4444444444444444,
              "#bd3786"
             ],
             [
              0.5555555555555556,
              "#d8576b"
             ],
             [
              0.6666666666666666,
              "#ed7953"
             ],
             [
              0.7777777777777778,
              "#fb9f3a"
             ],
             [
              0.8888888888888888,
              "#fdca26"
             ],
             [
              1,
              "#f0f921"
             ]
            ],
            "type": "histogram2dcontour"
           }
          ],
          "mesh3d": [
           {
            "colorbar": {
             "outlinewidth": 0,
             "ticks": ""
            },
            "type": "mesh3d"
           }
          ],
          "parcoords": [
           {
            "line": {
             "colorbar": {
              "outlinewidth": 0,
              "ticks": ""
             }
            },
            "type": "parcoords"
           }
          ],
          "pie": [
           {
            "automargin": true,
            "type": "pie"
           }
          ],
          "scatter": [
           {
            "fillpattern": {
             "fillmode": "overlay",
             "size": 10,
             "solidity": 0.2
            },
            "type": "scatter"
           }
          ],
          "scatter3d": [
           {
            "line": {
             "colorbar": {
              "outlinewidth": 0,
              "ticks": ""
             }
            },
            "marker": {
             "colorbar": {
              "outlinewidth": 0,
              "ticks": ""
             }
            },
            "type": "scatter3d"
           }
          ],
          "scattercarpet": [
           {
            "marker": {
             "colorbar": {
              "outlinewidth": 0,
              "ticks": ""
             }
            },
            "type": "scattercarpet"
           }
          ],
          "scattergeo": [
           {
            "marker": {
             "colorbar": {
              "outlinewidth": 0,
              "ticks": ""
             }
            },
            "type": "scattergeo"
           }
          ],
          "scattergl": [
           {
            "marker": {
             "colorbar": {
              "outlinewidth": 0,
              "ticks": ""
             }
            },
            "type": "scattergl"
           }
          ],
          "scattermapbox": [
           {
            "marker": {
             "colorbar": {
              "outlinewidth": 0,
              "ticks": ""
             }
            },
            "type": "scattermapbox"
           }
          ],
          "scatterpolar": [
           {
            "marker": {
             "colorbar": {
              "outlinewidth": 0,
              "ticks": ""
             }
            },
            "type": "scatterpolar"
           }
          ],
          "scatterpolargl": [
           {
            "marker": {
             "colorbar": {
              "outlinewidth": 0,
              "ticks": ""
             }
            },
            "type": "scatterpolargl"
           }
          ],
          "scatterternary": [
           {
            "marker": {
             "colorbar": {
              "outlinewidth": 0,
              "ticks": ""
             }
            },
            "type": "scatterternary"
           }
          ],
          "surface": [
           {
            "colorbar": {
             "outlinewidth": 0,
             "ticks": ""
            },
            "colorscale": [
             [
              0,
              "#0d0887"
             ],
             [
              0.1111111111111111,
              "#46039f"
             ],
             [
              0.2222222222222222,
              "#7201a8"
             ],
             [
              0.3333333333333333,
              "#9c179e"
             ],
             [
              0.4444444444444444,
              "#bd3786"
             ],
             [
              0.5555555555555556,
              "#d8576b"
             ],
             [
              0.6666666666666666,
              "#ed7953"
             ],
             [
              0.7777777777777778,
              "#fb9f3a"
             ],
             [
              0.8888888888888888,
              "#fdca26"
             ],
             [
              1,
              "#f0f921"
             ]
            ],
            "type": "surface"
           }
          ],
          "table": [
           {
            "cells": {
             "fill": {
              "color": "#EBF0F8"
             },
             "line": {
              "color": "white"
             }
            },
            "header": {
             "fill": {
              "color": "#C8D4E3"
             },
             "line": {
              "color": "white"
             }
            },
            "type": "table"
           }
          ]
         },
         "layout": {
          "annotationdefaults": {
           "arrowcolor": "#2a3f5f",
           "arrowhead": 0,
           "arrowwidth": 1
          },
          "autotypenumbers": "strict",
          "coloraxis": {
           "colorbar": {
            "outlinewidth": 0,
            "ticks": ""
           }
          },
          "colorscale": {
           "diverging": [
            [
             0,
             "#8e0152"
            ],
            [
             0.1,
             "#c51b7d"
            ],
            [
             0.2,
             "#de77ae"
            ],
            [
             0.3,
             "#f1b6da"
            ],
            [
             0.4,
             "#fde0ef"
            ],
            [
             0.5,
             "#f7f7f7"
            ],
            [
             0.6,
             "#e6f5d0"
            ],
            [
             0.7,
             "#b8e186"
            ],
            [
             0.8,
             "#7fbc41"
            ],
            [
             0.9,
             "#4d9221"
            ],
            [
             1,
             "#276419"
            ]
           ],
           "sequential": [
            [
             0,
             "#0d0887"
            ],
            [
             0.1111111111111111,
             "#46039f"
            ],
            [
             0.2222222222222222,
             "#7201a8"
            ],
            [
             0.3333333333333333,
             "#9c179e"
            ],
            [
             0.4444444444444444,
             "#bd3786"
            ],
            [
             0.5555555555555556,
             "#d8576b"
            ],
            [
             0.6666666666666666,
             "#ed7953"
            ],
            [
             0.7777777777777778,
             "#fb9f3a"
            ],
            [
             0.8888888888888888,
             "#fdca26"
            ],
            [
             1,
             "#f0f921"
            ]
           ],
           "sequentialminus": [
            [
             0,
             "#0d0887"
            ],
            [
             0.1111111111111111,
             "#46039f"
            ],
            [
             0.2222222222222222,
             "#7201a8"
            ],
            [
             0.3333333333333333,
             "#9c179e"
            ],
            [
             0.4444444444444444,
             "#bd3786"
            ],
            [
             0.5555555555555556,
             "#d8576b"
            ],
            [
             0.6666666666666666,
             "#ed7953"
            ],
            [
             0.7777777777777778,
             "#fb9f3a"
            ],
            [
             0.8888888888888888,
             "#fdca26"
            ],
            [
             1,
             "#f0f921"
            ]
           ]
          },
          "colorway": [
           "#636efa",
           "#EF553B",
           "#00cc96",
           "#ab63fa",
           "#FFA15A",
           "#19d3f3",
           "#FF6692",
           "#B6E880",
           "#FF97FF",
           "#FECB52"
          ],
          "font": {
           "color": "#2a3f5f"
          },
          "geo": {
           "bgcolor": "white",
           "lakecolor": "white",
           "landcolor": "#E5ECF6",
           "showlakes": true,
           "showland": true,
           "subunitcolor": "white"
          },
          "hoverlabel": {
           "align": "left"
          },
          "hovermode": "closest",
          "mapbox": {
           "style": "light"
          },
          "paper_bgcolor": "white",
          "plot_bgcolor": "#E5ECF6",
          "polar": {
           "angularaxis": {
            "gridcolor": "white",
            "linecolor": "white",
            "ticks": ""
           },
           "bgcolor": "#E5ECF6",
           "radialaxis": {
            "gridcolor": "white",
            "linecolor": "white",
            "ticks": ""
           }
          },
          "scene": {
           "xaxis": {
            "backgroundcolor": "#E5ECF6",
            "gridcolor": "white",
            "gridwidth": 2,
            "linecolor": "white",
            "showbackground": true,
            "ticks": "",
            "zerolinecolor": "white"
           },
           "yaxis": {
            "backgroundcolor": "#E5ECF6",
            "gridcolor": "white",
            "gridwidth": 2,
            "linecolor": "white",
            "showbackground": true,
            "ticks": "",
            "zerolinecolor": "white"
           },
           "zaxis": {
            "backgroundcolor": "#E5ECF6",
            "gridcolor": "white",
            "gridwidth": 2,
            "linecolor": "white",
            "showbackground": true,
            "ticks": "",
            "zerolinecolor": "white"
           }
          },
          "shapedefaults": {
           "line": {
            "color": "#2a3f5f"
           }
          },
          "ternary": {
           "aaxis": {
            "gridcolor": "white",
            "linecolor": "white",
            "ticks": ""
           },
           "baxis": {
            "gridcolor": "white",
            "linecolor": "white",
            "ticks": ""
           },
           "bgcolor": "#E5ECF6",
           "caxis": {
            "gridcolor": "white",
            "linecolor": "white",
            "ticks": ""
           }
          },
          "title": {
           "x": 0.05
          },
          "xaxis": {
           "automargin": true,
           "gridcolor": "white",
           "linecolor": "white",
           "ticks": "",
           "title": {
            "standoff": 15
           },
           "zerolinecolor": "white",
           "zerolinewidth": 2
          },
          "yaxis": {
           "automargin": true,
           "gridcolor": "white",
           "linecolor": "white",
           "ticks": "",
           "title": {
            "standoff": 15
           },
           "zerolinecolor": "white",
           "zerolinewidth": 2
          }
         }
        },
        "title": {
         "text": "Sankey Diagram"
        }
       }
      }
     },
     "metadata": {},
     "output_type": "display_data"
    },
    {
     "data": {
      "application/vnd.plotly.v1+json": {
       "config": {
        "plotlyServerURL": "https://plot.ly"
       },
       "data": [
        {
         "link": {
          "color": [
           "rgba(181, 31, 31, 0.50)",
           "rgba(181, 31, 31, 0.50)",
           "rgba(181, 31, 31, 0.50)",
           "rgba(181, 31, 31, 0.50)",
           "rgba(181, 31, 31, 0.50)",
           "rgba(211, 211, 211, 0.50)",
           "rgba(211, 211, 211, 0.50)",
           "rgba(211, 211, 211, 0.50)",
           "rgba(211, 211, 211, 0.50)",
           "rgba(181, 31, 31, 0.50)",
           "rgba(181, 31, 31, 0.50)",
           "rgba(255, 225, 0, 0.50)",
           "rgba(179, 123, 68, 0.50)",
           "rgba(181, 31, 31, 0.50)",
           "rgba(181, 31, 31, 0.50)",
           "rgba(181, 31, 31, 0.50)",
           "rgba(181, 31, 31, 0.50)",
           "rgba(255, 105, 180, 0.50)",
           "rgba(255, 105, 180, 0.50)",
           "rgba(255, 105, 180, 0.50)",
           "rgba(0, 0, 0, 0.50)",
           "rgba(0, 206, 209, 0.50)",
           "rgba(0, 206, 209, 0.50)",
           "rgba(0, 0, 0, 0.50)",
           "rgba(0, 0, 255, 0.50)",
           "rgba(211, 211, 211, 0.50)",
           "rgba(211, 211, 211, 0.50)",
           "rgba(250, 128, 114, 0.50)",
           "rgba(250, 128, 114, 0.50)",
           "rgba(250, 128, 114, 0.50)",
           "rgba(0, 206, 209, 0.50)",
           "rgba(0, 191, 255, 0.50)",
           "rgba(0, 191, 255, 0.50)",
           "rgba(0, 191, 255, 0.50)",
           "rgba(0, 0, 0, 0.50)",
           "rgba(0, 0, 0, 0.50)",
           "rgba(0, 0, 0, 0.50)",
           "rgba(0, 0, 0, 0.50)",
           "rgba(0, 0, 0, 0.50)",
           "rgba(0, 0, 0, 0.50)",
           "rgba(0, 0, 0, 0.50)",
           "rgba(211, 211, 211, 0.50)",
           "rgba(0, 191, 255, 0.50)",
           "rgba(0, 191, 255, 0.50)",
           "rgba(0, 191, 255, 0.50)",
           "rgba(0, 191, 255, 0.50)",
           "rgba(0, 191, 255, 0.50)",
           "rgba(0, 191, 255, 0.50)",
           "rgba(0, 191, 255, 0.50)",
           "rgba(0, 191, 255, 0.50)",
           "rgba(0, 191, 255, 0.50)",
           "rgba(0, 191, 255, 0.50)",
           "rgba(0, 191, 255, 0.50)",
           "rgba(0, 191, 255, 0.50)",
           "rgba(0, 191, 255, 0.50)",
           "rgba(0, 191, 255, 0.50)",
           "rgba(0, 191, 255, 0.50)",
           "rgba(0, 191, 255, 0.50)",
           "rgba(0, 191, 255, 0.50)",
           "rgba(0, 191, 255, 0.50)",
           "rgba(0, 0, 0, 0.50)",
           "rgba(255, 105, 180, 0.50)",
           "rgba(0, 0, 0, 0.50)",
           "rgba(0, 0, 0, 0.50)",
           "rgba(0, 0, 0, 0.50)",
           "rgba(0, 0, 0, 0.50)",
           "rgba(0, 0, 0, 0.50)",
           "rgba(255, 225, 0, 0.50)",
           "rgba(255, 225, 0, 0.50)",
           "rgba(0, 0, 0, 0.50)",
           "rgba(0, 0, 0, 0.50)",
           "rgba(0, 0, 0, 0.50)",
           "rgba(0, 0, 0, 0.50)"
          ],
          "label": [
           38548.48760000001,
           0.4809647595768583,
           6424.286638774936,
           18011.504092678435,
           0.0004294941235618361,
           0.007666592030066412,
           0,
           0.007666592029395205,
           0.007666592030066412,
           434.2008390525046,
           434.2008390525046,
           5284.745762711861,
           12471.999999999993,
           5179.015334041369,
           1692.2930839052508,
           3083.9927028069233,
           6967.629718298964,
           5.802487955858292e-13,
           9.14555484345965e-13,
           0,
           6424.286638774936,
           16580.16,
           16122.6096,
           0.4809647595768583,
           33537.57786659604,
           0.007666592029395205,
           2.974355327133496e-13,
           2063.7514158224535,
           6853.248584177544,
           8916.999999999998,
           12471.99999999999,
           8895.76,
           25871.84,
           7403.6,
           520.5841569600004,
           4239.540829999998,
           1151.968320299999,
           1463.2592000000006,
           2762.8508494999996,
           1.0923102418483745e-13,
           612.1908,
           3.1013044493955405e-13,
           0.04105597442407028,
           6967.629718298964,
           12848.210917080001,
           4502.876023169609,
           1.1841405199446451e-9,
           16580.16,
           211.38983050847443,
           16122.6096,
           1370.5263571273968,
           5268.860515296454,
           9910.8,
           33537.57786659604,
           520.5841569600002,
           4239.540829999998,
           1151.968320299999,
           4226.1100495,
           1.0923102418483745e-13,
           612.1907999999983,
           2.117582368135751e-22,
           8.470329472543003e-22,
           310.1797753000518,
           0.07851585604833625,
           5284.667246855813,
           310.17977530005186,
           310.1797753000518,
           5284.745762711861,
           5284.745762711861,
           310.17977530005186,
           1.3343635767910266e-12,
           2.1766420527264562e-13,
           1.8025581021461294e-13
          ],
          "source": [
           20,
           8,
           10,
           20,
           34,
           11,
           11,
           12,
           13,
           18,
           21,
           23,
           25,
           0,
           0,
           6,
           14,
           28,
           28,
           29,
           35,
           36,
           36,
           37,
           38,
           41,
           45,
           47,
           47,
           48,
           49,
           15,
           15,
           15,
           1,
           4,
           7,
           43,
           43,
           44,
           45,
           11,
           5,
           15,
           15,
           15,
           15,
           22,
           23,
           24,
           6,
           33,
           33,
           50,
           15,
           15,
           15,
           15,
           15,
           15,
           2,
           29,
           30,
           30,
           30,
           31,
           32,
           39,
           40,
           42,
           30,
           46,
           17
          ],
          "target": [
           19,
           19,
           19,
           19,
           19,
           13,
           3,
           41,
           12,
           21,
           19,
           39,
           49,
           18,
           18,
           18,
           18,
           45,
           46,
           3,
           10,
           22,
           24,
           8,
           50,
           11,
           11,
           0,
           6,
           47,
           23,
           16,
           16,
           16,
           27,
           27,
           27,
           26,
           27,
           27,
           26,
           45,
           15,
           14,
           20,
           20,
           9,
           15,
           15,
           15,
           15,
           15,
           15,
           15,
           1,
           4,
           7,
           43,
           44,
           45,
           30,
           2,
           32,
           5,
           0,
           42,
           31,
           40,
           30,
           30,
           45,
           17,
           1
          ],
          "value": [
           38548.48760000001,
           0.4809647595768583,
           6424.286638774936,
           18011.504092678435,
           0.0004294941235618361,
           0.007666592030066412,
           0,
           0.007666592029395205,
           0.007666592030066412,
           434.2008390525046,
           434.2008390525046,
           5284.745762711861,
           12471.999999999993,
           5179.015334041369,
           1692.2930839052508,
           3083.9927028069233,
           6967.629718298964,
           5.802487955858292e-13,
           9.14555484345965e-13,
           0,
           6424.286638774936,
           16580.16,
           16122.6096,
           0.4809647595768583,
           33537.57786659604,
           0.007666592029395205,
           2.974355327133496e-13,
           2063.7514158224535,
           6853.248584177544,
           8916.999999999998,
           12471.99999999999,
           8895.76,
           25871.84,
           7403.6,
           520.5841569600004,
           4239.540829999998,
           1151.968320299999,
           1463.2592000000006,
           2762.8508494999996,
           1.0923102418483745e-13,
           612.1908,
           3.1013044493955405e-13,
           0.04105597442407028,
           6967.629718298964,
           12848.210917080001,
           4502.876023169609,
           1.1841405199446451e-9,
           16580.16,
           211.38983050847443,
           16122.6096,
           1370.5263571273968,
           5268.860515296454,
           9910.8,
           33537.57786659604,
           520.5841569600002,
           4239.540829999998,
           1151.968320299999,
           4226.1100495,
           1.0923102418483745e-13,
           612.1907999999983,
           2.117582368135751e-22,
           8.470329472543003e-22,
           310.1797753000518,
           0.07851585604833625,
           5284.667246855813,
           310.17977530005186,
           310.1797753000518,
           5284.745762711861,
           5284.745762711861,
           310.17977530005186,
           1.3343635767910266e-12,
           2.1766420527264562e-13,
           1.8025581021461294e-13
          ]
         },
         "node": {
          "color": "cornflowerblue",
          "label": [
           "BOILER",
           "BUS",
           "BUS_CNG_STOICH",
           "BUS_DIESEL",
           "CAR",
           "CCGT_CC",
           "COGEN",
           "COMMUTER",
           "DEC_SOLAR",
           "DEEP_SALINE",
           "DHN_DEEP_GEO",
           "DIESEL",
           "DIESEL_S",
           "DIE_STO",
           "DIRECT_ELEC",
           "ELECTRICITY",
           "EUD_ELECTRICITY",
           "H2",
           "HEAT_HIGH_T",
           "HEAT_LOW_T",
           "HP",
           "HT_LT",
           "HYDRO_DAM",
           "HYDRO_GAS",
           "HYDRO_RIVER",
           "IMP_WET_BIOMASS",
           "MOBILITY",
           "MOBILITY_PASSENGER",
           "MOB_FREIGHT_ROAD",
           "MOB_PUBLIC_LOCAL",
           "NG",
           "NG_S",
           "NG_STO",
           "PV",
           "RENOVATION",
           "RES_GEO",
           "RES_HYDRO",
           "RES_SOLAR",
           "RES_WIND",
           "SNG",
           "SNG_NG",
           "STO_DIE",
           "STO_NG",
           "TRAIN",
           "TRAMWAY",
           "TRUCK",
           "TRUCK_FC",
           "WASTE",
           "WASTE_BIO",
           "WET_BIOMASS",
           "WIND"
          ],
          "line": {
           "color": "black",
           "width": 0.5
          },
          "pad": 15,
          "thickness": 15
         },
         "type": "sankey",
         "valueformat": ".0f",
         "valuesuffix": ""
        }
       ],
       "layout": {
        "font": {
         "color": "black",
         "size": 10
        },
        "paper_bgcolor": "white",
        "template": {
         "data": {
          "bar": [
           {
            "error_x": {
             "color": "#2a3f5f"
            },
            "error_y": {
             "color": "#2a3f5f"
            },
            "marker": {
             "line": {
              "color": "#E5ECF6",
              "width": 0.5
             },
             "pattern": {
              "fillmode": "overlay",
              "size": 10,
              "solidity": 0.2
             }
            },
            "type": "bar"
           }
          ],
          "barpolar": [
           {
            "marker": {
             "line": {
              "color": "#E5ECF6",
              "width": 0.5
             },
             "pattern": {
              "fillmode": "overlay",
              "size": 10,
              "solidity": 0.2
             }
            },
            "type": "barpolar"
           }
          ],
          "carpet": [
           {
            "aaxis": {
             "endlinecolor": "#2a3f5f",
             "gridcolor": "white",
             "linecolor": "white",
             "minorgridcolor": "white",
             "startlinecolor": "#2a3f5f"
            },
            "baxis": {
             "endlinecolor": "#2a3f5f",
             "gridcolor": "white",
             "linecolor": "white",
             "minorgridcolor": "white",
             "startlinecolor": "#2a3f5f"
            },
            "type": "carpet"
           }
          ],
          "choropleth": [
           {
            "colorbar": {
             "outlinewidth": 0,
             "ticks": ""
            },
            "type": "choropleth"
           }
          ],
          "contour": [
           {
            "colorbar": {
             "outlinewidth": 0,
             "ticks": ""
            },
            "colorscale": [
             [
              0,
              "#0d0887"
             ],
             [
              0.1111111111111111,
              "#46039f"
             ],
             [
              0.2222222222222222,
              "#7201a8"
             ],
             [
              0.3333333333333333,
              "#9c179e"
             ],
             [
              0.4444444444444444,
              "#bd3786"
             ],
             [
              0.5555555555555556,
              "#d8576b"
             ],
             [
              0.6666666666666666,
              "#ed7953"
             ],
             [
              0.7777777777777778,
              "#fb9f3a"
             ],
             [
              0.8888888888888888,
              "#fdca26"
             ],
             [
              1,
              "#f0f921"
             ]
            ],
            "type": "contour"
           }
          ],
          "contourcarpet": [
           {
            "colorbar": {
             "outlinewidth": 0,
             "ticks": ""
            },
            "type": "contourcarpet"
           }
          ],
          "heatmap": [
           {
            "colorbar": {
             "outlinewidth": 0,
             "ticks": ""
            },
            "colorscale": [
             [
              0,
              "#0d0887"
             ],
             [
              0.1111111111111111,
              "#46039f"
             ],
             [
              0.2222222222222222,
              "#7201a8"
             ],
             [
              0.3333333333333333,
              "#9c179e"
             ],
             [
              0.4444444444444444,
              "#bd3786"
             ],
             [
              0.5555555555555556,
              "#d8576b"
             ],
             [
              0.6666666666666666,
              "#ed7953"
             ],
             [
              0.7777777777777778,
              "#fb9f3a"
             ],
             [
              0.8888888888888888,
              "#fdca26"
             ],
             [
              1,
              "#f0f921"
             ]
            ],
            "type": "heatmap"
           }
          ],
          "heatmapgl": [
           {
            "colorbar": {
             "outlinewidth": 0,
             "ticks": ""
            },
            "colorscale": [
             [
              0,
              "#0d0887"
             ],
             [
              0.1111111111111111,
              "#46039f"
             ],
             [
              0.2222222222222222,
              "#7201a8"
             ],
             [
              0.3333333333333333,
              "#9c179e"
             ],
             [
              0.4444444444444444,
              "#bd3786"
             ],
             [
              0.5555555555555556,
              "#d8576b"
             ],
             [
              0.6666666666666666,
              "#ed7953"
             ],
             [
              0.7777777777777778,
              "#fb9f3a"
             ],
             [
              0.8888888888888888,
              "#fdca26"
             ],
             [
              1,
              "#f0f921"
             ]
            ],
            "type": "heatmapgl"
           }
          ],
          "histogram": [
           {
            "marker": {
             "pattern": {
              "fillmode": "overlay",
              "size": 10,
              "solidity": 0.2
             }
            },
            "type": "histogram"
           }
          ],
          "histogram2d": [
           {
            "colorbar": {
             "outlinewidth": 0,
             "ticks": ""
            },
            "colorscale": [
             [
              0,
              "#0d0887"
             ],
             [
              0.1111111111111111,
              "#46039f"
             ],
             [
              0.2222222222222222,
              "#7201a8"
             ],
             [
              0.3333333333333333,
              "#9c179e"
             ],
             [
              0.4444444444444444,
              "#bd3786"
             ],
             [
              0.5555555555555556,
              "#d8576b"
             ],
             [
              0.6666666666666666,
              "#ed7953"
             ],
             [
              0.7777777777777778,
              "#fb9f3a"
             ],
             [
              0.8888888888888888,
              "#fdca26"
             ],
             [
              1,
              "#f0f921"
             ]
            ],
            "type": "histogram2d"
           }
          ],
          "histogram2dcontour": [
           {
            "colorbar": {
             "outlinewidth": 0,
             "ticks": ""
            },
            "colorscale": [
             [
              0,
              "#0d0887"
             ],
             [
              0.1111111111111111,
              "#46039f"
             ],
             [
              0.2222222222222222,
              "#7201a8"
             ],
             [
              0.3333333333333333,
              "#9c179e"
             ],
             [
              0.4444444444444444,
              "#bd3786"
             ],
             [
              0.5555555555555556,
              "#d8576b"
             ],
             [
              0.6666666666666666,
              "#ed7953"
             ],
             [
              0.7777777777777778,
              "#fb9f3a"
             ],
             [
              0.8888888888888888,
              "#fdca26"
             ],
             [
              1,
              "#f0f921"
             ]
            ],
            "type": "histogram2dcontour"
           }
          ],
          "mesh3d": [
           {
            "colorbar": {
             "outlinewidth": 0,
             "ticks": ""
            },
            "type": "mesh3d"
           }
          ],
          "parcoords": [
           {
            "line": {
             "colorbar": {
              "outlinewidth": 0,
              "ticks": ""
             }
            },
            "type": "parcoords"
           }
          ],
          "pie": [
           {
            "automargin": true,
            "type": "pie"
           }
          ],
          "scatter": [
           {
            "fillpattern": {
             "fillmode": "overlay",
             "size": 10,
             "solidity": 0.2
            },
            "type": "scatter"
           }
          ],
          "scatter3d": [
           {
            "line": {
             "colorbar": {
              "outlinewidth": 0,
              "ticks": ""
             }
            },
            "marker": {
             "colorbar": {
              "outlinewidth": 0,
              "ticks": ""
             }
            },
            "type": "scatter3d"
           }
          ],
          "scattercarpet": [
           {
            "marker": {
             "colorbar": {
              "outlinewidth": 0,
              "ticks": ""
             }
            },
            "type": "scattercarpet"
           }
          ],
          "scattergeo": [
           {
            "marker": {
             "colorbar": {
              "outlinewidth": 0,
              "ticks": ""
             }
            },
            "type": "scattergeo"
           }
          ],
          "scattergl": [
           {
            "marker": {
             "colorbar": {
              "outlinewidth": 0,
              "ticks": ""
             }
            },
            "type": "scattergl"
           }
          ],
          "scattermapbox": [
           {
            "marker": {
             "colorbar": {
              "outlinewidth": 0,
              "ticks": ""
             }
            },
            "type": "scattermapbox"
           }
          ],
          "scatterpolar": [
           {
            "marker": {
             "colorbar": {
              "outlinewidth": 0,
              "ticks": ""
             }
            },
            "type": "scatterpolar"
           }
          ],
          "scatterpolargl": [
           {
            "marker": {
             "colorbar": {
              "outlinewidth": 0,
              "ticks": ""
             }
            },
            "type": "scatterpolargl"
           }
          ],
          "scatterternary": [
           {
            "marker": {
             "colorbar": {
              "outlinewidth": 0,
              "ticks": ""
             }
            },
            "type": "scatterternary"
           }
          ],
          "surface": [
           {
            "colorbar": {
             "outlinewidth": 0,
             "ticks": ""
            },
            "colorscale": [
             [
              0,
              "#0d0887"
             ],
             [
              0.1111111111111111,
              "#46039f"
             ],
             [
              0.2222222222222222,
              "#7201a8"
             ],
             [
              0.3333333333333333,
              "#9c179e"
             ],
             [
              0.4444444444444444,
              "#bd3786"
             ],
             [
              0.5555555555555556,
              "#d8576b"
             ],
             [
              0.6666666666666666,
              "#ed7953"
             ],
             [
              0.7777777777777778,
              "#fb9f3a"
             ],
             [
              0.8888888888888888,
              "#fdca26"
             ],
             [
              1,
              "#f0f921"
             ]
            ],
            "type": "surface"
           }
          ],
          "table": [
           {
            "cells": {
             "fill": {
              "color": "#EBF0F8"
             },
             "line": {
              "color": "white"
             }
            },
            "header": {
             "fill": {
              "color": "#C8D4E3"
             },
             "line": {
              "color": "white"
             }
            },
            "type": "table"
           }
          ]
         },
         "layout": {
          "annotationdefaults": {
           "arrowcolor": "#2a3f5f",
           "arrowhead": 0,
           "arrowwidth": 1
          },
          "autotypenumbers": "strict",
          "coloraxis": {
           "colorbar": {
            "outlinewidth": 0,
            "ticks": ""
           }
          },
          "colorscale": {
           "diverging": [
            [
             0,
             "#8e0152"
            ],
            [
             0.1,
             "#c51b7d"
            ],
            [
             0.2,
             "#de77ae"
            ],
            [
             0.3,
             "#f1b6da"
            ],
            [
             0.4,
             "#fde0ef"
            ],
            [
             0.5,
             "#f7f7f7"
            ],
            [
             0.6,
             "#e6f5d0"
            ],
            [
             0.7,
             "#b8e186"
            ],
            [
             0.8,
             "#7fbc41"
            ],
            [
             0.9,
             "#4d9221"
            ],
            [
             1,
             "#276419"
            ]
           ],
           "sequential": [
            [
             0,
             "#0d0887"
            ],
            [
             0.1111111111111111,
             "#46039f"
            ],
            [
             0.2222222222222222,
             "#7201a8"
            ],
            [
             0.3333333333333333,
             "#9c179e"
            ],
            [
             0.4444444444444444,
             "#bd3786"
            ],
            [
             0.5555555555555556,
             "#d8576b"
            ],
            [
             0.6666666666666666,
             "#ed7953"
            ],
            [
             0.7777777777777778,
             "#fb9f3a"
            ],
            [
             0.8888888888888888,
             "#fdca26"
            ],
            [
             1,
             "#f0f921"
            ]
           ],
           "sequentialminus": [
            [
             0,
             "#0d0887"
            ],
            [
             0.1111111111111111,
             "#46039f"
            ],
            [
             0.2222222222222222,
             "#7201a8"
            ],
            [
             0.3333333333333333,
             "#9c179e"
            ],
            [
             0.4444444444444444,
             "#bd3786"
            ],
            [
             0.5555555555555556,
             "#d8576b"
            ],
            [
             0.6666666666666666,
             "#ed7953"
            ],
            [
             0.7777777777777778,
             "#fb9f3a"
            ],
            [
             0.8888888888888888,
             "#fdca26"
            ],
            [
             1,
             "#f0f921"
            ]
           ]
          },
          "colorway": [
           "#636efa",
           "#EF553B",
           "#00cc96",
           "#ab63fa",
           "#FFA15A",
           "#19d3f3",
           "#FF6692",
           "#B6E880",
           "#FF97FF",
           "#FECB52"
          ],
          "font": {
           "color": "#2a3f5f"
          },
          "geo": {
           "bgcolor": "white",
           "lakecolor": "white",
           "landcolor": "#E5ECF6",
           "showlakes": true,
           "showland": true,
           "subunitcolor": "white"
          },
          "hoverlabel": {
           "align": "left"
          },
          "hovermode": "closest",
          "mapbox": {
           "style": "light"
          },
          "paper_bgcolor": "white",
          "plot_bgcolor": "#E5ECF6",
          "polar": {
           "angularaxis": {
            "gridcolor": "white",
            "linecolor": "white",
            "ticks": ""
           },
           "bgcolor": "#E5ECF6",
           "radialaxis": {
            "gridcolor": "white",
            "linecolor": "white",
            "ticks": ""
           }
          },
          "scene": {
           "xaxis": {
            "backgroundcolor": "#E5ECF6",
            "gridcolor": "white",
            "gridwidth": 2,
            "linecolor": "white",
            "showbackground": true,
            "ticks": "",
            "zerolinecolor": "white"
           },
           "yaxis": {
            "backgroundcolor": "#E5ECF6",
            "gridcolor": "white",
            "gridwidth": 2,
            "linecolor": "white",
            "showbackground": true,
            "ticks": "",
            "zerolinecolor": "white"
           },
           "zaxis": {
            "backgroundcolor": "#E5ECF6",
            "gridcolor": "white",
            "gridwidth": 2,
            "linecolor": "white",
            "showbackground": true,
            "ticks": "",
            "zerolinecolor": "white"
           }
          },
          "shapedefaults": {
           "line": {
            "color": "#2a3f5f"
           }
          },
          "ternary": {
           "aaxis": {
            "gridcolor": "white",
            "linecolor": "white",
            "ticks": ""
           },
           "baxis": {
            "gridcolor": "white",
            "linecolor": "white",
            "ticks": ""
           },
           "bgcolor": "#E5ECF6",
           "caxis": {
            "gridcolor": "white",
            "linecolor": "white",
            "ticks": ""
           }
          },
          "title": {
           "x": 0.05
          },
          "xaxis": {
           "automargin": true,
           "gridcolor": "white",
           "linecolor": "white",
           "ticks": "",
           "title": {
            "standoff": 15
           },
           "zerolinecolor": "white",
           "zerolinewidth": 2
          },
          "yaxis": {
           "automargin": true,
           "gridcolor": "white",
           "linecolor": "white",
           "ticks": "",
           "title": {
            "standoff": 15
           },
           "zerolinecolor": "white",
           "zerolinewidth": 2
          }
         }
        },
        "title": {
         "text": "Sankey Diagram"
        }
       }
      }
     },
     "metadata": {},
     "output_type": "display_data"
    }
   ],
   "source": [
    " # Generate the Sankey diagram using the processed results\n",
    "fig_qc = plot_sankey(results_qc) \n",
    "fig_ch = plot_sankey(results_ch) \n",
    "\n",
    "# Display the generated Sankey diagram in the output\n",
    "fig_qc.show()\n",
    "fig_ch.show()"
   ]
  }
 ],
 "metadata": {
  "kernelspec": {
   "display_name": ".es",
   "language": "python",
   "name": "python3"
  },
  "language_info": {
   "codemirror_mode": {
    "name": "ipython",
    "version": 3
   },
   "file_extension": ".py",
   "mimetype": "text/x-python",
   "name": "python",
   "nbconvert_exporter": "python",
   "pygments_lexer": "ipython3",
   "version": "3.12.5"
  }
 },
 "nbformat": 4,
 "nbformat_minor": 2
}
